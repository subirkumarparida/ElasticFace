{
 "cells": [
  {
   "cell_type": "markdown",
   "id": "21e6ac9b",
   "metadata": {},
   "source": [
    "### Dummy code"
   ]
  },
  {
   "cell_type": "code",
   "execution_count": 1,
   "id": "5956d7b6",
   "metadata": {},
   "outputs": [],
   "source": [
    "import os\n",
    "import cv2\n",
    "import math\n",
    "import time\n",
    "import tarfile\n",
    "import numbers\n",
    "import threading\n",
    "import queue as Queue\n",
    "import numpy as np\n",
    "import pandas as pd\n",
    "import matplotlib\n",
    "import matplotlib.pyplot as plt\n",
    "\n",
    "import torch\n",
    "import torchvision\n",
    "import torch.nn as nn\n",
    "import torch.nn.functional as F\n",
    "from torchvision import transforms\n",
    "from torchvision.transforms import ToTensor\n",
    "from torchvision.datasets import ImageFolder\n",
    "from torchvision.datasets.utils import download_url\n",
    "#from torch.utils.data.dataloader import DataLoader\n",
    "from torch.utils.data import random_split, DataLoader, Dataset\n",
    "from torchsummary import summary"
   ]
  },
  {
   "cell_type": "code",
   "execution_count": null,
   "id": "26de8d05",
   "metadata": {},
   "outputs": [],
   "source": [
    "import mxnet as mx\n",
    "from mxnet import recordio"
   ]
  },
  {
   "cell_type": "markdown",
   "id": "3df20238",
   "metadata": {},
   "source": [
    "#### Loss Function checking"
   ]
  },
  {
   "cell_type": "code",
   "execution_count": null,
   "id": "b8b172c3",
   "metadata": {},
   "outputs": [],
   "source": [
    "k = nn.Parameter(torch.FloatTensor(3, 5))\n",
    "k"
   ]
  },
  {
   "cell_type": "code",
   "execution_count": null,
   "id": "02b1fec9",
   "metadata": {},
   "outputs": [],
   "source": []
  },
  {
   "cell_type": "code",
   "execution_count": null,
   "id": "3fc9ee2b",
   "metadata": {},
   "outputs": [],
   "source": [
    "a = torch.Tensor([[1, 2, 3], [3, -4, -2]])\n",
    "b = torch.Tensor([[1, 2, 3, 4], [3, 4, 1, 0], [5, 6, 1, 1]])"
   ]
  },
  {
   "cell_type": "code",
   "execution_count": null,
   "id": "17b9183d",
   "metadata": {},
   "outputs": [],
   "source": [
    "a.shape, b.shape"
   ]
  },
  {
   "cell_type": "code",
   "execution_count": null,
   "id": "ef5eb4bc",
   "metadata": {},
   "outputs": [],
   "source": [
    "#a = torch.FloatTensor([2, 3])\n",
    "#a.dtype"
   ]
  },
  {
   "cell_type": "code",
   "execution_count": null,
   "id": "3cefc92d",
   "metadata": {},
   "outputs": [],
   "source": []
  },
  {
   "cell_type": "code",
   "execution_count": null,
   "id": "6a2b0c57",
   "metadata": {},
   "outputs": [],
   "source": [
    "c = torch.mm(a, b)\n",
    "c.shape"
   ]
  },
  {
   "cell_type": "code",
   "execution_count": null,
   "id": "25c390f9",
   "metadata": {},
   "outputs": [],
   "source": [
    "c"
   ]
  },
  {
   "cell_type": "code",
   "execution_count": null,
   "id": "c711eb17",
   "metadata": {},
   "outputs": [],
   "source": [
    "c.size()"
   ]
  },
  {
   "cell_type": "code",
   "execution_count": null,
   "id": "9c3dfcb3",
   "metadata": {},
   "outputs": [],
   "source": [
    "e = c.clamp(-1, 1)"
   ]
  },
  {
   "cell_type": "code",
   "execution_count": null,
   "id": "e859d2c3",
   "metadata": {
    "scrolled": true
   },
   "outputs": [],
   "source": [
    "e"
   ]
  },
  {
   "cell_type": "code",
   "execution_count": null,
   "id": "829af735",
   "metadata": {
    "scrolled": true
   },
   "outputs": [],
   "source": [
    "dirty = e > 0\n",
    "dirty"
   ]
  },
  {
   "cell_type": "code",
   "execution_count": null,
   "id": "20002639",
   "metadata": {},
   "outputs": [],
   "source": [
    "dirty = dirty.float()\n",
    "dirty"
   ]
  },
  {
   "cell_type": "code",
   "execution_count": null,
   "id": "f07b0156",
   "metadata": {},
   "outputs": [],
   "source": []
  },
  {
   "cell_type": "code",
   "execution_count": null,
   "id": "17924308",
   "metadata": {},
   "outputs": [],
   "source": [
    "index = torch.where(c != -1)[0]\n",
    "index"
   ]
  },
  {
   "cell_type": "code",
   "execution_count": null,
   "id": "46f968b9",
   "metadata": {},
   "outputs": [],
   "source": [
    "index.size(0)"
   ]
  },
  {
   "cell_type": "code",
   "execution_count": null,
   "id": "6cf11fab",
   "metadata": {},
   "outputs": [],
   "source": [
    "index.size()[0]"
   ]
  },
  {
   "cell_type": "code",
   "execution_count": null,
   "id": "e039d2ae",
   "metadata": {},
   "outputs": [],
   "source": [
    "torch.zeros(index.size()[0], c.size()[1])"
   ]
  },
  {
   "cell_type": "code",
   "execution_count": null,
   "id": "5ff71b94",
   "metadata": {},
   "outputs": [],
   "source": [
    "def abc(a: int, logits: torch.IntTensor):\n",
    "    print(a)\n",
    "    print(logits)"
   ]
  },
  {
   "cell_type": "code",
   "execution_count": null,
   "id": "5dea79ec",
   "metadata": {},
   "outputs": [],
   "source": [
    "abc(5.2, c)"
   ]
  },
  {
   "cell_type": "code",
   "execution_count": null,
   "id": "a8d6a0a8",
   "metadata": {},
   "outputs": [],
   "source": [
    "k = [[1, 2, 3], [2, 3, 1]]\n",
    "abc(5, k)"
   ]
  },
  {
   "cell_type": "code",
   "execution_count": null,
   "id": "f28dccd7",
   "metadata": {},
   "outputs": [],
   "source": [
    "k = [[1, 2, 3], [2, 3, 1]]\n",
    "abc(5.2, 4)"
   ]
  },
  {
   "cell_type": "code",
   "execution_count": null,
   "id": "6c68b6d8",
   "metadata": {},
   "outputs": [],
   "source": [
    "c.view(-1)"
   ]
  },
  {
   "cell_type": "code",
   "execution_count": null,
   "id": "79bdaa17",
   "metadata": {},
   "outputs": [],
   "source": [
    "#----"
   ]
  },
  {
   "cell_type": "code",
   "execution_count": null,
   "id": "085677c5",
   "metadata": {},
   "outputs": [],
   "source": [
    "logits = torch.Tensor([[1, 0, 0, 0], [0, 1, 1, 0], [0, 0, 0, 1], [0, 0, 0, 1], [1, 0, 0, 0]]) #torch.Tensor([10, 2, 3, 5])\n",
    "labels = torch.Tensor([[1, 0, 0, 0], [0, 1, 1, 0], [0, 1, 0, 1], [0, 0, 0, 1]])\n",
    "\n",
    "index = torch.where(labels != -1)[0]\n",
    "index"
   ]
  },
  {
   "cell_type": "code",
   "execution_count": null,
   "id": "524a5cbe",
   "metadata": {},
   "outputs": [],
   "source": [
    "print(logits.dtype)\n",
    "print(labels.dtype)\n",
    "print(index.dtype)"
   ]
  },
  {
   "cell_type": "code",
   "execution_count": null,
   "id": "49ee7a21",
   "metadata": {},
   "outputs": [],
   "source": [
    "labels[index]"
   ]
  },
  {
   "cell_type": "code",
   "execution_count": null,
   "id": "02f34801",
   "metadata": {},
   "outputs": [],
   "source": [
    "l = labels[index].view(-1)\n",
    "l"
   ]
  },
  {
   "cell_type": "code",
   "execution_count": null,
   "id": "7f8d5991",
   "metadata": {},
   "outputs": [],
   "source": [
    "l = l.int()\n",
    "l"
   ]
  },
  {
   "cell_type": "code",
   "execution_count": null,
   "id": "c7f62e52",
   "metadata": {},
   "outputs": [],
   "source": [
    "t = logits[index, index]"
   ]
  },
  {
   "cell_type": "code",
   "execution_count": null,
   "id": "eec76b10",
   "metadata": {},
   "outputs": [],
   "source": [
    "t"
   ]
  },
  {
   "cell_type": "code",
   "execution_count": null,
   "id": "d8485dee",
   "metadata": {},
   "outputs": [],
   "source": []
  },
  {
   "cell_type": "markdown",
   "id": "7142307f",
   "metadata": {},
   "source": [
    "#### Loss Function 1"
   ]
  },
  {
   "cell_type": "code",
   "execution_count": null,
   "id": "b84d298a",
   "metadata": {},
   "outputs": [],
   "source": [
    "class CosFace(torch.nn.Module):\n",
    "    def __init__(self, s=64.0, m=0.40):\n",
    "        super(CosFace, self).__init__()\n",
    "        self.s = s\n",
    "        self.m = m\n",
    "\n",
    "    def forward(self, logits, labels):\n",
    "        index = torch.where(labels != -1)[0]\n",
    "        target_logit = logits[index, labels[index].view(-1)]\n",
    "        final_target_logit = target_logit - self.m\n",
    "        logits[index, labels[index].view(-1)] = final_target_logit\n",
    "        logits = logits * self.s\n",
    "        return logits"
   ]
  },
  {
   "cell_type": "code",
   "execution_count": null,
   "id": "2121da39",
   "metadata": {},
   "outputs": [],
   "source": [
    "loss = CosFace()"
   ]
  },
  {
   "cell_type": "code",
   "execution_count": null,
   "id": "837dbb2c",
   "metadata": {},
   "outputs": [],
   "source": [
    "logits = torch.randn(3, 5)\n",
    "labels = torch.empty(3, dtype=torch.long).random_(5)"
   ]
  },
  {
   "cell_type": "code",
   "execution_count": null,
   "id": "95d96908",
   "metadata": {},
   "outputs": [],
   "source": [
    "logits.dtype, labels.dtype"
   ]
  },
  {
   "cell_type": "code",
   "execution_count": null,
   "id": "038781b3",
   "metadata": {},
   "outputs": [],
   "source": [
    "output = loss(logits, labels) #input: logits, target: labels"
   ]
  },
  {
   "cell_type": "code",
   "execution_count": null,
   "id": "46890979",
   "metadata": {},
   "outputs": [],
   "source": [
    "print(logits.shape, labels.shape, output.shape)"
   ]
  },
  {
   "cell_type": "code",
   "execution_count": null,
   "id": "e644f812",
   "metadata": {},
   "outputs": [],
   "source": [
    "print('input: ', logits, '\\n target: ', labels, '\\n output: ', output)"
   ]
  },
  {
   "cell_type": "code",
   "execution_count": null,
   "id": "a1f6cc50",
   "metadata": {},
   "outputs": [],
   "source": [
    "index = torch.where(labels != -1)[0]\n",
    "index"
   ]
  },
  {
   "cell_type": "code",
   "execution_count": null,
   "id": "8e2815a9",
   "metadata": {},
   "outputs": [],
   "source": [
    "labels[index].view(-1)"
   ]
  },
  {
   "cell_type": "code",
   "execution_count": null,
   "id": "a8561f4a",
   "metadata": {},
   "outputs": [],
   "source": [
    "target_logit = logits[index, labels[index].view(-1)]\n",
    "target_logit"
   ]
  },
  {
   "cell_type": "code",
   "execution_count": null,
   "id": "ebed13b1",
   "metadata": {},
   "outputs": [],
   "source": [
    "final_target_logit = target_logit - 1\n",
    "final_target_logit"
   ]
  },
  {
   "cell_type": "code",
   "execution_count": null,
   "id": "9024ffc9",
   "metadata": {},
   "outputs": [],
   "source": [
    "logits[index, labels[index].view(-1)] = final_target_logit\n",
    "logits"
   ]
  },
  {
   "cell_type": "code",
   "execution_count": null,
   "id": "b8329f7e",
   "metadata": {},
   "outputs": [],
   "source": [
    "logits = logits * 100\n",
    "logits"
   ]
  },
  {
   "cell_type": "code",
   "execution_count": null,
   "id": "d551695b",
   "metadata": {},
   "outputs": [],
   "source": []
  },
  {
   "cell_type": "markdown",
   "id": "4603decb",
   "metadata": {},
   "source": [
    "#### Loss Function 2"
   ]
  },
  {
   "cell_type": "code",
   "execution_count": null,
   "id": "17d4e52a",
   "metadata": {},
   "outputs": [],
   "source": [
    "class CosFace(nn.Module):\n",
    "    def __init__(self, in_features, out_features, s=64.0, m=0.35):\n",
    "        super(CosFace, self).__init__()\n",
    "        self.in_features = in_features\n",
    "        self.out_features = out_features\n",
    "        self.s = s\n",
    "        self.m = m\n",
    "        \n",
    "        self.kernel = nn.Parameter(torch.FloatTensor(in_features, out_features))\n",
    "        nn.init.normal_(self.kernel, std=0.01)\n",
    "\n",
    "    def forward(self, logits, labels):\n",
    "        #logits = l2_norm(logits, axis=1)\n",
    "        #kernel_norm = l2_norm(self.kernel, axis=0)\n",
    "        cos_theta = torch.mm(logits, kernel)#_norm)\n",
    "        cos_theta = cos_theta.clamp(-1, 1)  # for numerical stability\n",
    "        index = torch.where(labels != -1)[0]\n",
    "        m_hot = torch.zeros(index.size()[0], cos_theta.size()[1])\n",
    "        m_hot.scatter_(1, labels[index, None], self.m)\n",
    "        cos_theta[index] -= m_hot\n",
    "        ret = cos_theta * self.s\n",
    "        return ret"
   ]
  },
  {
   "cell_type": "code",
   "execution_count": null,
   "id": "aae99401",
   "metadata": {},
   "outputs": [],
   "source": []
  },
  {
   "cell_type": "code",
   "execution_count": null,
   "id": "bbdbc0ff",
   "metadata": {},
   "outputs": [],
   "source": [
    "torch.linalg.norm(logits, dim=1, ord = 2, keepdim=True)"
   ]
  },
  {
   "cell_type": "code",
   "execution_count": null,
   "id": "464c412d",
   "metadata": {},
   "outputs": [],
   "source": [
    "F.normalize(logits, p=2.0, dim=0)"
   ]
  },
  {
   "cell_type": "code",
   "execution_count": 20,
   "id": "853fd90d",
   "metadata": {},
   "outputs": [],
   "source": [
    "logits = torch.randn(128, 100)\n",
    "labels = torch.empty(128, dtype=torch.long).random_(5)"
   ]
  },
  {
   "cell_type": "code",
   "execution_count": 21,
   "id": "61cee282",
   "metadata": {},
   "outputs": [
    {
     "data": {
      "text/plain": [
       "(torch.float32, torch.int64)"
      ]
     },
     "execution_count": 21,
     "metadata": {},
     "output_type": "execute_result"
    }
   ],
   "source": [
    "logits.dtype, labels.dtype"
   ]
  },
  {
   "cell_type": "code",
   "execution_count": 22,
   "id": "6c37facf",
   "metadata": {},
   "outputs": [
    {
     "name": "stdout",
     "output_type": "stream",
     "text": [
      "torch.Size([128, 100]) torch.Size([128])\n"
     ]
    }
   ],
   "source": [
    "print(logits.shape, labels.shape)#, output.shape)"
   ]
  },
  {
   "cell_type": "code",
   "execution_count": null,
   "id": "df48fafe",
   "metadata": {},
   "outputs": [],
   "source": [
    "print('logits: ', logits, '\\n labels: ', labels)#, '\\n output: ', output)"
   ]
  },
  {
   "cell_type": "code",
   "execution_count": 23,
   "id": "b0e54b81",
   "metadata": {},
   "outputs": [],
   "source": [
    "in_features = 100\n",
    "out_features = 500\n",
    "s = 10\n",
    "m = 5\n",
    "        \n",
    "kernel = nn.Parameter(torch.FloatTensor(in_features, out_features))"
   ]
  },
  {
   "cell_type": "code",
   "execution_count": 24,
   "id": "70794950",
   "metadata": {},
   "outputs": [
    {
     "data": {
      "text/plain": [
       "torch.Size([100, 500])"
      ]
     },
     "execution_count": 24,
     "metadata": {},
     "output_type": "execute_result"
    }
   ],
   "source": [
    "kernel.shape"
   ]
  },
  {
   "cell_type": "code",
   "execution_count": 25,
   "id": "b615864a",
   "metadata": {},
   "outputs": [
    {
     "data": {
      "text/plain": [
       "(tensor([[ 0.0000e+00,  0.0000e+00, -6.7965e-20,  ...,  0.0000e+00,\n",
       "          -6.3199e-43,  0.0000e+00],\n",
       "         [ 0.0000e+00,  0.0000e+00, -8.2432e-20,  ...,  0.0000e+00,\n",
       "           3.1809e-43,  0.0000e+00],\n",
       "         [ 0.0000e+00,  0.0000e+00, -1.5335e-19,  ...,  0.0000e+00,\n",
       "           8.5059e-43,  0.0000e+00],\n",
       "         ...,\n",
       "         [ 0.0000e+00,  0.0000e+00, -1.2393e-20,  ...,  0.0000e+00,\n",
       "          -6.0676e-43,  0.0000e+00],\n",
       "         [ 0.0000e+00,  0.0000e+00, -7.1846e-20,  ...,  0.0000e+00,\n",
       "          -3.0688e-43,  0.0000e+00],\n",
       "         [ 0.0000e+00,  0.0000e+00,  6.8737e-20,  ...,  0.0000e+00,\n",
       "           3.4332e-43,  0.0000e+00]], grad_fn=<MmBackward0>),\n",
       " torch.Size([128, 500]))"
      ]
     },
     "execution_count": 25,
     "metadata": {},
     "output_type": "execute_result"
    }
   ],
   "source": [
    "cos_theta = torch.mm(logits, kernel)\n",
    "cos_theta, cos_theta.shape"
   ]
  },
  {
   "cell_type": "code",
   "execution_count": 26,
   "id": "dbf4c550",
   "metadata": {},
   "outputs": [
    {
     "data": {
      "text/plain": [
       "(tensor([[ 0.0000e+00,  0.0000e+00, -6.7965e-20,  ...,  0.0000e+00,\n",
       "          -6.3199e-43,  0.0000e+00],\n",
       "         [ 0.0000e+00,  0.0000e+00, -8.2432e-20,  ...,  0.0000e+00,\n",
       "           3.1809e-43,  0.0000e+00],\n",
       "         [ 0.0000e+00,  0.0000e+00, -1.5335e-19,  ...,  0.0000e+00,\n",
       "           8.5059e-43,  0.0000e+00],\n",
       "         ...,\n",
       "         [ 0.0000e+00,  0.0000e+00, -1.2393e-20,  ...,  0.0000e+00,\n",
       "          -6.0676e-43,  0.0000e+00],\n",
       "         [ 0.0000e+00,  0.0000e+00, -7.1846e-20,  ...,  0.0000e+00,\n",
       "          -3.0688e-43,  0.0000e+00],\n",
       "         [ 0.0000e+00,  0.0000e+00,  6.8737e-20,  ...,  0.0000e+00,\n",
       "           3.4332e-43,  0.0000e+00]], grad_fn=<ClampBackward1>),\n",
       " torch.Size([128, 500]))"
      ]
     },
     "execution_count": 26,
     "metadata": {},
     "output_type": "execute_result"
    }
   ],
   "source": [
    "cos_theta = cos_theta.clamp(-1, 1)  # for numerical stability\n",
    "cos_theta, cos_theta.shape"
   ]
  },
  {
   "cell_type": "code",
   "execution_count": 27,
   "id": "b3202973",
   "metadata": {},
   "outputs": [
    {
     "data": {
      "text/plain": [
       "(tensor([  0,   1,   2,   3,   4,   5,   6,   7,   8,   9,  10,  11,  12,  13,\n",
       "          14,  15,  16,  17,  18,  19,  20,  21,  22,  23,  24,  25,  26,  27,\n",
       "          28,  29,  30,  31,  32,  33,  34,  35,  36,  37,  38,  39,  40,  41,\n",
       "          42,  43,  44,  45,  46,  47,  48,  49,  50,  51,  52,  53,  54,  55,\n",
       "          56,  57,  58,  59,  60,  61,  62,  63,  64,  65,  66,  67,  68,  69,\n",
       "          70,  71,  72,  73,  74,  75,  76,  77,  78,  79,  80,  81,  82,  83,\n",
       "          84,  85,  86,  87,  88,  89,  90,  91,  92,  93,  94,  95,  96,  97,\n",
       "          98,  99, 100, 101, 102, 103, 104, 105, 106, 107, 108, 109, 110, 111,\n",
       "         112, 113, 114, 115, 116, 117, 118, 119, 120, 121, 122, 123, 124, 125,\n",
       "         126, 127]),\n",
       " torch.Size([128]))"
      ]
     },
     "execution_count": 27,
     "metadata": {},
     "output_type": "execute_result"
    }
   ],
   "source": [
    "index = torch.where(labels != -1)[0]\n",
    "index, index.shape"
   ]
  },
  {
   "cell_type": "code",
   "execution_count": 28,
   "id": "bbd65cf2",
   "metadata": {},
   "outputs": [
    {
     "data": {
      "text/plain": [
       "(128, 500)"
      ]
     },
     "execution_count": 28,
     "metadata": {},
     "output_type": "execute_result"
    }
   ],
   "source": [
    "index.shape[0], cos_theta.size()[1]"
   ]
  },
  {
   "cell_type": "code",
   "execution_count": 29,
   "id": "2552f486",
   "metadata": {},
   "outputs": [
    {
     "data": {
      "text/plain": [
       "(torch.Size([128, 500]),\n",
       " tensor([[0., 0., 0.,  ..., 0., 0., 0.],\n",
       "         [0., 0., 0.,  ..., 0., 0., 0.],\n",
       "         [0., 0., 0.,  ..., 0., 0., 0.],\n",
       "         ...,\n",
       "         [0., 0., 0.,  ..., 0., 0., 0.],\n",
       "         [0., 0., 0.,  ..., 0., 0., 0.],\n",
       "         [0., 0., 0.,  ..., 0., 0., 0.]]))"
      ]
     },
     "execution_count": 29,
     "metadata": {},
     "output_type": "execute_result"
    }
   ],
   "source": [
    "m_hot = torch.zeros(index.size()[0], cos_theta.size()[1])\n",
    "m_hot.shape, m_hot"
   ]
  },
  {
   "cell_type": "code",
   "execution_count": 30,
   "id": "cb8c2c8c",
   "metadata": {},
   "outputs": [
    {
     "data": {
      "text/plain": [
       "tensor([[0],\n",
       "        [1],\n",
       "        [3],\n",
       "        [2],\n",
       "        [2],\n",
       "        [0],\n",
       "        [4],\n",
       "        [0],\n",
       "        [4],\n",
       "        [3],\n",
       "        [2],\n",
       "        [3],\n",
       "        [4],\n",
       "        [1],\n",
       "        [0],\n",
       "        [0],\n",
       "        [2],\n",
       "        [4],\n",
       "        [2],\n",
       "        [0],\n",
       "        [1],\n",
       "        [0],\n",
       "        [2],\n",
       "        [4],\n",
       "        [3],\n",
       "        [2],\n",
       "        [4],\n",
       "        [2],\n",
       "        [0],\n",
       "        [4],\n",
       "        [4],\n",
       "        [3],\n",
       "        [4],\n",
       "        [2],\n",
       "        [4],\n",
       "        [2],\n",
       "        [1],\n",
       "        [4],\n",
       "        [2],\n",
       "        [1],\n",
       "        [1],\n",
       "        [3],\n",
       "        [0],\n",
       "        [4],\n",
       "        [4],\n",
       "        [1],\n",
       "        [3],\n",
       "        [0],\n",
       "        [2],\n",
       "        [2],\n",
       "        [4],\n",
       "        [0],\n",
       "        [1],\n",
       "        [3],\n",
       "        [0],\n",
       "        [1],\n",
       "        [2],\n",
       "        [0],\n",
       "        [3],\n",
       "        [4],\n",
       "        [4],\n",
       "        [0],\n",
       "        [1],\n",
       "        [2],\n",
       "        [2],\n",
       "        [2],\n",
       "        [0],\n",
       "        [1],\n",
       "        [3],\n",
       "        [3],\n",
       "        [2],\n",
       "        [0],\n",
       "        [1],\n",
       "        [2],\n",
       "        [3],\n",
       "        [4],\n",
       "        [1],\n",
       "        [0],\n",
       "        [2],\n",
       "        [4],\n",
       "        [3],\n",
       "        [4],\n",
       "        [2],\n",
       "        [0],\n",
       "        [0],\n",
       "        [4],\n",
       "        [0],\n",
       "        [4],\n",
       "        [1],\n",
       "        [4],\n",
       "        [1],\n",
       "        [4],\n",
       "        [3],\n",
       "        [0],\n",
       "        [4],\n",
       "        [4],\n",
       "        [1],\n",
       "        [4],\n",
       "        [3],\n",
       "        [4],\n",
       "        [1],\n",
       "        [3],\n",
       "        [3],\n",
       "        [4],\n",
       "        [0],\n",
       "        [0],\n",
       "        [0],\n",
       "        [2],\n",
       "        [4],\n",
       "        [2],\n",
       "        [4],\n",
       "        [0],\n",
       "        [3],\n",
       "        [3],\n",
       "        [1],\n",
       "        [4],\n",
       "        [0],\n",
       "        [0],\n",
       "        [4],\n",
       "        [3],\n",
       "        [1],\n",
       "        [2],\n",
       "        [4],\n",
       "        [1],\n",
       "        [0],\n",
       "        [3],\n",
       "        [1],\n",
       "        [4]])"
      ]
     },
     "execution_count": 30,
     "metadata": {},
     "output_type": "execute_result"
    }
   ],
   "source": [
    "labels[index, None]"
   ]
  },
  {
   "cell_type": "code",
   "execution_count": 31,
   "id": "fb77707c",
   "metadata": {},
   "outputs": [
    {
     "data": {
      "text/plain": [
       "tensor([[5., 0., 0.,  ..., 0., 0., 0.],\n",
       "        [0., 5., 0.,  ..., 0., 0., 0.],\n",
       "        [0., 0., 0.,  ..., 0., 0., 0.],\n",
       "        ...,\n",
       "        [0., 0., 0.,  ..., 0., 0., 0.],\n",
       "        [0., 5., 0.,  ..., 0., 0., 0.],\n",
       "        [0., 0., 0.,  ..., 0., 0., 0.]])"
      ]
     },
     "execution_count": 31,
     "metadata": {},
     "output_type": "execute_result"
    }
   ],
   "source": [
    "m_hot.scatter_(1, labels[index, None], m)"
   ]
  },
  {
   "cell_type": "code",
   "execution_count": 37,
   "id": "d01a0c9d",
   "metadata": {},
   "outputs": [
    {
     "data": {
      "text/plain": [
       "tensor([[5., 0., 0.,  ..., 0., 0., 0.],\n",
       "        [0., 5., 0.,  ..., 0., 0., 0.],\n",
       "        [0., 0., 0.,  ..., 0., 0., 0.],\n",
       "        ...,\n",
       "        [0., 0., 0.,  ..., 0., 0., 0.],\n",
       "        [0., 5., 0.,  ..., 0., 0., 0.],\n",
       "        [0., 0., 0.,  ..., 0., 0., 0.]])"
      ]
     },
     "execution_count": 37,
     "metadata": {},
     "output_type": "execute_result"
    }
   ],
   "source": [
    "m_hot"
   ]
  },
  {
   "cell_type": "code",
   "execution_count": 38,
   "id": "ae4c0922",
   "metadata": {},
   "outputs": [
    {
     "data": {
      "text/plain": [
       "tensor([[-1.0000e+01,  0.0000e+00, -6.7965e-20,  ...,  0.0000e+00,\n",
       "         -6.3199e-43,  0.0000e+00],\n",
       "        [ 0.0000e+00, -1.0000e+01, -8.2432e-20,  ...,  0.0000e+00,\n",
       "          3.1809e-43,  0.0000e+00],\n",
       "        [ 0.0000e+00,  0.0000e+00, -1.5335e-19,  ...,  0.0000e+00,\n",
       "          8.5059e-43,  0.0000e+00],\n",
       "        ...,\n",
       "        [ 0.0000e+00,  0.0000e+00, -1.2393e-20,  ...,  0.0000e+00,\n",
       "         -6.0676e-43,  0.0000e+00],\n",
       "        [ 0.0000e+00, -1.0000e+01, -7.1846e-20,  ...,  0.0000e+00,\n",
       "         -3.0688e-43,  0.0000e+00],\n",
       "        [ 0.0000e+00,  0.0000e+00,  6.8737e-20,  ...,  0.0000e+00,\n",
       "          3.4332e-43,  0.0000e+00]], grad_fn=<IndexPutBackward0>)"
      ]
     },
     "execution_count": 38,
     "metadata": {},
     "output_type": "execute_result"
    }
   ],
   "source": [
    "cos_theta[index] -= m_hot\n",
    "cos_theta"
   ]
  },
  {
   "cell_type": "code",
   "execution_count": 35,
   "id": "68f967be",
   "metadata": {},
   "outputs": [],
   "source": [
    "a = cos_theta - m_hot"
   ]
  },
  {
   "cell_type": "code",
   "execution_count": 36,
   "id": "f07df012",
   "metadata": {},
   "outputs": [
    {
     "data": {
      "text/plain": [
       "(tensor([[-1.0000e+01,  0.0000e+00, -6.7965e-20,  ...,  0.0000e+00,\n",
       "          -6.3199e-43,  0.0000e+00],\n",
       "         [ 0.0000e+00, -1.0000e+01, -8.2432e-20,  ...,  0.0000e+00,\n",
       "           3.1809e-43,  0.0000e+00],\n",
       "         [ 0.0000e+00,  0.0000e+00, -1.5335e-19,  ...,  0.0000e+00,\n",
       "           8.5059e-43,  0.0000e+00],\n",
       "         ...,\n",
       "         [ 0.0000e+00,  0.0000e+00, -1.2393e-20,  ...,  0.0000e+00,\n",
       "          -6.0676e-43,  0.0000e+00],\n",
       "         [ 0.0000e+00, -1.0000e+01, -7.1846e-20,  ...,  0.0000e+00,\n",
       "          -3.0688e-43,  0.0000e+00],\n",
       "         [ 0.0000e+00,  0.0000e+00,  6.8737e-20,  ...,  0.0000e+00,\n",
       "           3.4332e-43,  0.0000e+00]], grad_fn=<SubBackward0>),\n",
       " torch.Size([128, 500]))"
      ]
     },
     "execution_count": 36,
     "metadata": {},
     "output_type": "execute_result"
    }
   ],
   "source": [
    "a, a.shape"
   ]
  },
  {
   "cell_type": "code",
   "execution_count": 33,
   "id": "f1c2a3d3",
   "metadata": {},
   "outputs": [
    {
     "data": {
      "text/plain": [
       "tensor([[-5.0000e+01,  0.0000e+00, -6.7965e-19,  ...,  0.0000e+00,\n",
       "         -6.3199e-42,  0.0000e+00],\n",
       "        [ 0.0000e+00, -5.0000e+01, -8.2432e-19,  ...,  0.0000e+00,\n",
       "          3.1809e-42,  0.0000e+00],\n",
       "        [ 0.0000e+00,  0.0000e+00, -1.5335e-18,  ...,  0.0000e+00,\n",
       "          8.5059e-42,  0.0000e+00],\n",
       "        ...,\n",
       "        [ 0.0000e+00,  0.0000e+00, -1.2393e-19,  ...,  0.0000e+00,\n",
       "         -6.0676e-42,  0.0000e+00],\n",
       "        [ 0.0000e+00, -5.0000e+01, -7.1846e-19,  ...,  0.0000e+00,\n",
       "         -3.0688e-42,  0.0000e+00],\n",
       "        [ 0.0000e+00,  0.0000e+00,  6.8737e-19,  ...,  0.0000e+00,\n",
       "          3.4332e-42,  0.0000e+00]], grad_fn=<MulBackward0>)"
      ]
     },
     "execution_count": 33,
     "metadata": {},
     "output_type": "execute_result"
    }
   ],
   "source": [
    "ret = cos_theta * s\n",
    "ret"
   ]
  },
  {
   "cell_type": "code",
   "execution_count": 34,
   "id": "e3f6777c",
   "metadata": {},
   "outputs": [
    {
     "data": {
      "text/plain": [
       "torch.Size([128, 500])"
      ]
     },
     "execution_count": 34,
     "metadata": {},
     "output_type": "execute_result"
    }
   ],
   "source": [
    "ret.shape"
   ]
  },
  {
   "cell_type": "code",
   "execution_count": null,
   "id": "cfe4b22e",
   "metadata": {},
   "outputs": [],
   "source": [
    "loss = CosFace(5, 5)"
   ]
  },
  {
   "cell_type": "code",
   "execution_count": null,
   "id": "a0ceab16",
   "metadata": {
    "scrolled": true
   },
   "outputs": [],
   "source": [
    "output = loss(logits, labels) #input: logits, target: labels\n",
    "output.shape, output"
   ]
  },
  {
   "cell_type": "markdown",
   "id": "31095289",
   "metadata": {},
   "source": [
    "#### Dataset preprocessing checking"
   ]
  },
  {
   "cell_type": "markdown",
   "id": "f909448e",
   "metadata": {},
   "source": [
    "##### For Windows system"
   ]
  },
  {
   "cell_type": "code",
   "execution_count": null,
   "id": "c0769542",
   "metadata": {},
   "outputs": [],
   "source": [
    "# path_imgidx = 'D:/Face/faces_emore/train.idx'\n",
    "# path_imgrec = 'D:/Face/faces_emore/train.rec'\n",
    "# imgrec = recordio.MXIndexedRecordIO(path_imgidx, path_imgrec, 'r')\n",
    "\n",
    "# len(imgrec.keys)"
   ]
  },
  {
   "cell_type": "markdown",
   "id": "7a2b7396",
   "metadata": {},
   "source": [
    "##### For Ubuntu system"
   ]
  },
  {
   "cell_type": "code",
   "execution_count": null,
   "id": "1b5bab4a",
   "metadata": {},
   "outputs": [],
   "source": [
    "path_imgidx = 'faces_emore/train.idx'\n",
    "path_imgrec = 'faces_emore/train.rec'\n",
    "imgrec = recordio.MXIndexedRecordIO(path_imgidx, path_imgrec, 'r')\n",
    "\n",
    "len(imgrec.keys)"
   ]
  },
  {
   "cell_type": "code",
   "execution_count": null,
   "id": "295fec2d",
   "metadata": {},
   "outputs": [],
   "source": [
    "imgrec.keys"
   ]
  },
  {
   "cell_type": "code",
   "execution_count": null,
   "id": "6a03c0ef",
   "metadata": {},
   "outputs": [],
   "source": [
    "list(imgrec.keys)"
   ]
  },
  {
   "cell_type": "code",
   "execution_count": null,
   "id": "c3f4bd81",
   "metadata": {},
   "outputs": [],
   "source": [
    "np.array(list(imgrec.keys))"
   ]
  },
  {
   "cell_type": "code",
   "execution_count": null,
   "id": "844bcdb8",
   "metadata": {},
   "outputs": [],
   "source": [
    "len(np.array(list(imgrec.keys)))"
   ]
  },
  {
   "cell_type": "code",
   "execution_count": null,
   "id": "7a2b3731",
   "metadata": {},
   "outputs": [],
   "source": []
  },
  {
   "cell_type": "code",
   "execution_count": null,
   "id": "663aabf2",
   "metadata": {},
   "outputs": [],
   "source": [
    "img_list = []\n",
    "\n",
    "#%% 1 ~ 5908396, or 0~5908395, #85742 identities\n",
    "\n",
    "for i in range(5908395):\n",
    "    header, s = recordio.unpack(imgrec.read_idx(i+1))\n",
    "#     img = mx.image.imdecode(s).asnumpy() \n",
    "#     plt.imshow(img)\n",
    "#     print(img.shape)\n",
    "#     plt.title('id=' + str(i) + ', label=' + str(header.label))\n",
    "#     plt.pause(0.1)\n",
    "    img_list.append(header.label)"
   ]
  },
  {
   "cell_type": "code",
   "execution_count": null,
   "id": "013281e1",
   "metadata": {},
   "outputs": [],
   "source": [
    "len(img_list)"
   ]
  },
  {
   "cell_type": "code",
   "execution_count": null,
   "id": "6cebbf96",
   "metadata": {},
   "outputs": [],
   "source": [
    "# img_list = np.array(img_list)\n",
    "# print(np.unique(img_list))"
   ]
  },
  {
   "cell_type": "code",
   "execution_count": null,
   "id": "1145d4b3",
   "metadata": {},
   "outputs": [],
   "source": [
    "_img_list = img_list[0:5822653]\n",
    "__img_list = np.array(_img_list)\n",
    "print(len(__img_list))\n",
    "print(len(np.unique(__img_list)))"
   ]
  },
  {
   "cell_type": "code",
   "execution_count": null,
   "id": "56802073",
   "metadata": {},
   "outputs": [],
   "source": [
    "# res_list = []\n",
    "\n",
    "# for item in _img_list:\n",
    "#     if item not in res_list:\n",
    "#         res_list.append(item)\n",
    "\n",
    "# print(\"Unique elements of the list using append():\")\n",
    "# print(len(res_list))\n",
    "\n",
    "# #for item in res_list: \n",
    "# #    print(item)"
   ]
  },
  {
   "cell_type": "code",
   "execution_count": null,
   "id": "6d6a95ad",
   "metadata": {},
   "outputs": [],
   "source": [
    "5908395 - 5822653"
   ]
  },
  {
   "cell_type": "code",
   "execution_count": null,
   "id": "54f2ce02",
   "metadata": {},
   "outputs": [],
   "source": [
    "img_list[5822653]"
   ]
  },
  {
   "cell_type": "code",
   "execution_count": null,
   "id": "14576980",
   "metadata": {
    "scrolled": true
   },
   "outputs": [],
   "source": [
    "img_list[5822654]"
   ]
  },
  {
   "cell_type": "code",
   "execution_count": null,
   "id": "a0575b4a",
   "metadata": {},
   "outputs": [],
   "source": [
    "idx1 = 1000 #5908395\n",
    "header1, s1 = recordio.unpack(imgrec.read_idx(idx1))\n",
    "\n",
    "img1 = mx.image.imdecode(s1).asnumpy()\n",
    "plt.imshow(img1)\n",
    "plt.title('id=' + str(idx1) + ', label=' + str(header1.label))"
   ]
  },
  {
   "cell_type": "code",
   "execution_count": null,
   "id": "e6b9479b",
   "metadata": {},
   "outputs": [],
   "source": [
    "idx = 5822656\n",
    "header, s = recordio.unpack(imgrec.read_idx(idx))\n",
    "\n",
    "#img = mx.image.imdecode(s).asnumpy()\n",
    "#plt.imshow(img)\n",
    "plt.title('id=' + str(idx) + ', label=' + str(header.label))"
   ]
  },
  {
   "cell_type": "code",
   "execution_count": null,
   "id": "0ed74576",
   "metadata": {},
   "outputs": [],
   "source": [
    "header.flag"
   ]
  },
  {
   "cell_type": "code",
   "execution_count": null,
   "id": "659565a6",
   "metadata": {},
   "outputs": [],
   "source": [
    "header.label"
   ]
  },
  {
   "cell_type": "code",
   "execution_count": null,
   "id": "c23e24f8",
   "metadata": {},
   "outputs": [],
   "source": [
    "header0 = (int(header.label[0]), int(header.label[1]))\n",
    "header0"
   ]
  },
  {
   "cell_type": "code",
   "execution_count": null,
   "id": "3efe578b",
   "metadata": {},
   "outputs": [],
   "source": [
    "np.array(range(1, int(header.label[0])))"
   ]
  },
  {
   "cell_type": "code",
   "execution_count": null,
   "id": "d2272d32",
   "metadata": {},
   "outputs": [],
   "source": [
    "len(np.array(range(1, int(header.label[0]))))"
   ]
  },
  {
   "cell_type": "code",
   "execution_count": null,
   "id": "55ca21f8",
   "metadata": {},
   "outputs": [],
   "source": [
    "len(np.array(range(1, int(header.label[1]))))"
   ]
  },
  {
   "cell_type": "code",
   "execution_count": null,
   "id": "ae8314e1",
   "metadata": {},
   "outputs": [],
   "source": []
  },
  {
   "cell_type": "code",
   "execution_count": null,
   "id": "7ca1a0ba",
   "metadata": {},
   "outputs": [],
   "source": [
    "class Sub:\n",
    "    def __init__(self, name):\n",
    "        super(Sub, self).__init__() #Another way to fix  this\n",
    "        self.name=name\n",
    "        \n",
    "\n",
    "a = Sub(\"Harry\")\n",
    "a.name"
   ]
  },
  {
   "cell_type": "code",
   "execution_count": null,
   "id": "866e6ac6",
   "metadata": {},
   "outputs": [],
   "source": [
    "isinstance([1, 2], numbers.Number)"
   ]
  },
  {
   "cell_type": "code",
   "execution_count": null,
   "id": "b79e26e0",
   "metadata": {},
   "outputs": [],
   "source": [
    "a = torch.tensor(65.5, dtype=torch.long)\n",
    "a"
   ]
  },
  {
   "cell_type": "code",
   "execution_count": null,
   "id": "3ddf21d1",
   "metadata": {},
   "outputs": [],
   "source": []
  },
  {
   "cell_type": "markdown",
   "id": "325a7bd6",
   "metadata": {},
   "source": [
    "#### Training checking"
   ]
  },
  {
   "cell_type": "code",
   "execution_count": null,
   "id": "aa89be6f",
   "metadata": {},
   "outputs": [],
   "source": [
    "temp = torch.zeros(85742)\n",
    "#temp[idx] = 1\n",
    "#temp"
   ]
  },
  {
   "cell_type": "code",
   "execution_count": null,
   "id": "6863cdef",
   "metadata": {},
   "outputs": [],
   "source": [
    "temp_labels = torch.Tensor([5, 5, 1, 0]) #batchsize=4\n",
    "print(temp_labels)\n",
    "print(temp_labels[0])\n",
    "\n",
    "temp = torch.zeros(4, 6) #no.of classes=6 : [0-5]\n",
    "#temp[int(temp_labels[0])] = 1\n",
    "print(temp.shape)"
   ]
  },
  {
   "cell_type": "code",
   "execution_count": null,
   "id": "5102e2b8",
   "metadata": {},
   "outputs": [],
   "source": [
    "c = 0\n",
    "for i in temp_labels:\n",
    "    #print(i)\n",
    "    #print(c)\n",
    "    temp[c][int(i)] = 1\n",
    "    c+=1"
   ]
  },
  {
   "cell_type": "code",
   "execution_count": null,
   "id": "6f75a4c1",
   "metadata": {},
   "outputs": [],
   "source": [
    "temp"
   ]
  },
  {
   "cell_type": "code",
   "execution_count": null,
   "id": "2377aafd",
   "metadata": {},
   "outputs": [],
   "source": []
  },
  {
   "cell_type": "code",
   "execution_count": null,
   "id": "8863df93",
   "metadata": {},
   "outputs": [],
   "source": [
    "a = torch.Tensor([[1, 0, 2], [1, 1, 2]]).to('cuda') #torch.ones(4)\n",
    "a[0].shape, a.shape, a"
   ]
  },
  {
   "cell_type": "code",
   "execution_count": null,
   "id": "2eb7f3da",
   "metadata": {},
   "outputs": [],
   "source": [
    "b.is_cpu"
   ]
  },
  {
   "cell_type": "code",
   "execution_count": null,
   "id": "9ee935ea",
   "metadata": {},
   "outputs": [],
   "source": [
    "b = torch.sum(a)\n",
    "b"
   ]
  },
  {
   "cell_type": "code",
   "execution_count": null,
   "id": "163907b0",
   "metadata": {},
   "outputs": [],
   "source": [
    "c = F.softmax(a, dim=0)\n",
    "c"
   ]
  },
  {
   "cell_type": "code",
   "execution_count": null,
   "id": "f75ef9e5",
   "metadata": {},
   "outputs": [],
   "source": [
    "# d = F.softmax(d, dim=0)\n",
    "# d"
   ]
  },
  {
   "cell_type": "code",
   "execution_count": null,
   "id": "bb47430b",
   "metadata": {},
   "outputs": [],
   "source": [
    "torch.sum(c, dim=0)"
   ]
  },
  {
   "cell_type": "code",
   "execution_count": null,
   "id": "a658d676",
   "metadata": {},
   "outputs": [],
   "source": []
  },
  {
   "cell_type": "code",
   "execution_count": null,
   "id": "a2179a81",
   "metadata": {},
   "outputs": [],
   "source": [
    "actual_labels = torch.zeros(256, 85742)\n",
    "\n",
    "c = 0\n",
    "for i in labels:\n",
    "    actual_labels[c][int(i)] = 1\n",
    "    c+=1"
   ]
  },
  {
   "cell_type": "code",
   "execution_count": null,
   "id": "636e0436",
   "metadata": {},
   "outputs": [],
   "source": [
    "actual_labels.shape"
   ]
  },
  {
   "cell_type": "code",
   "execution_count": null,
   "id": "c7baa89e",
   "metadata": {},
   "outputs": [],
   "source": [
    "actual_labels[5][4966]"
   ]
  },
  {
   "cell_type": "code",
   "execution_count": null,
   "id": "d82b948d",
   "metadata": {},
   "outputs": [],
   "source": [
    "actual_labels[5]"
   ]
  },
  {
   "cell_type": "markdown",
   "id": "307692ca",
   "metadata": {},
   "source": [
    "#### Check by using various loss functions of the library"
   ]
  },
  {
   "cell_type": "code",
   "execution_count": null,
   "id": "09e6661c",
   "metadata": {},
   "outputs": [],
   "source": [
    "# for xb, yb in val_dl:\n",
    "#     print(xb.shape, yb.shape)\n",
    "#     temp_preds = model(xb)\n",
    "#     print(temp_preds.shape)\n",
    "#     temp_loss = temp_loss_func(temp_preds, yb)\n",
    "#     print(temp_loss)\n",
    "#     break"
   ]
  },
  {
   "cell_type": "code",
   "execution_count": null,
   "id": "cb3b5149",
   "metadata": {},
   "outputs": [],
   "source": [
    "temp_loss_func = nn.CrossEntropyLoss() #F.cross_entropy #F.binary_cross_entropy #"
   ]
  },
  {
   "cell_type": "code",
   "execution_count": null,
   "id": "0ca83f66",
   "metadata": {},
   "outputs": [],
   "source": [
    "a = torch.Tensor([[0, 0, 0]]) #torch.zeros(256, 85742) #\n",
    "b = torch.Tensor([2]) #torch.zeros(256) #\n",
    "b = b.to(torch.long)\n",
    "print(a.shape, b.shape, a.dtype, b.dtype)"
   ]
  },
  {
   "cell_type": "code",
   "execution_count": null,
   "id": "cac39de3",
   "metadata": {},
   "outputs": [],
   "source": [
    "c = temp_loss_func(a, b)\n",
    "c.shape, c.item()"
   ]
  },
  {
   "cell_type": "code",
   "execution_count": null,
   "id": "478c5c41",
   "metadata": {},
   "outputs": [],
   "source": []
  },
  {
   "cell_type": "code",
   "execution_count": null,
   "id": "01df7559",
   "metadata": {},
   "outputs": [],
   "source": []
  },
  {
   "cell_type": "code",
   "execution_count": null,
   "id": "93bd0f39",
   "metadata": {},
   "outputs": [],
   "source": [
    "input = torch.randn(3, 5)\n",
    "target = torch.empty(3, dtype=torch.long).random_(2)\n",
    "output = temp_loss_func(input, target)"
   ]
  },
  {
   "cell_type": "code",
   "execution_count": null,
   "id": "1985b9d9",
   "metadata": {},
   "outputs": [],
   "source": [
    "input.shape, target.shape, output.shape"
   ]
  },
  {
   "cell_type": "code",
   "execution_count": null,
   "id": "fcf663e7",
   "metadata": {},
   "outputs": [],
   "source": [
    "input, target, output"
   ]
  },
  {
   "cell_type": "markdown",
   "id": "31fb1623",
   "metadata": {},
   "source": [
    "#### Training Accuracy checking"
   ]
  },
  {
   "cell_type": "code",
   "execution_count": null,
   "id": "a3e7be70",
   "metadata": {},
   "outputs": [],
   "source": [
    "a = torch.Tensor([[1, 2, 33, -4, -2, 1], [5, 55, 1, -4, 0, 56]])\n",
    "b = torch.Tensor([2, 5])\n",
    "\n",
    "c = accuracy(a, b)\n",
    "print(c)"
   ]
  },
  {
   "cell_type": "code",
   "execution_count": null,
   "id": "fa07f836",
   "metadata": {},
   "outputs": [],
   "source": [
    "_, preds = torch.max(a, dim=1)\n",
    "preds"
   ]
  },
  {
   "cell_type": "code",
   "execution_count": null,
   "id": "6ce61e1b",
   "metadata": {},
   "outputs": [],
   "source": [
    "d = torch.sum(preds == b)\n",
    "d.item()"
   ]
  },
  {
   "cell_type": "markdown",
   "id": "db5d7107",
   "metadata": {},
   "source": [
    "#### Printing results"
   ]
  },
  {
   "cell_type": "code",
   "execution_count": null,
   "id": "fb473822",
   "metadata": {},
   "outputs": [],
   "source": [
    "def fetch_pred_image(lst, idx):\n",
    "    idxs = np.where(lst==idx)[0]\n",
    "    \n",
    "    path_imgidx = os.path.join(root_dir1, 'train.idx')\n",
    "    path_imgrec = os.path.join(root_dir1, 'train.rec')\n",
    "    imgrec = recordio.MXIndexedRecordIO(path_imgidx, path_imgrec, 'r')\n",
    "    header, s = recordio.unpack(imgrec.read_idx(idxs[-1]))\n",
    "    img = mx.image.imdecode(s).asnumpy()\n",
    "    plt.imshow(img)\n",
    "    plt.title('label = ' + str(header.label))\n",
    "    plt.axis('off')\n",
    "    \n",
    "#     img, label = dataset[idxs[-1]]\n",
    "#     img = torch.reshape(img, (112, 112, 3))\n",
    "#     plt.imshow(img)\n",
    "#     plt.title('label = ' + str(label.item()))\n",
    "#     plt.show()"
   ]
  },
  {
   "cell_type": "code",
   "execution_count": null,
   "id": "69971f7e",
   "metadata": {},
   "outputs": [],
   "source": [
    "fetch_pred_image(lst, 59062)"
   ]
  },
  {
   "cell_type": "code",
   "execution_count": null,
   "id": "f59e0598",
   "metadata": {},
   "outputs": [],
   "source": [
    "def prepare_plot(image, origTarget, predTarget):\n",
    "    plt.grid(False)\n",
    "    \n",
    "    id1 = 11\n",
    "    id2 = 110\n",
    "    id3 = 123\n",
    "    \n",
    "    img_fetch1 = fetch_pred_image(imgrec, lst, origTarget[id1])\n",
    "    img_fetch2 = fetch_pred_image(imgrec, lst, origTarget[id2])\n",
    "    img_fetch3 = fetch_pred_image(imgrec, lst, origTarget[id3])\n",
    "    \n",
    "    \n",
    "    plt.subplot(3, 2, 1)\n",
    "    plt.imshow(image[id1])\n",
    "    plt.axis('off')\n",
    "    plt.title('Predicted id: ' + str(predTarget[id1]))\n",
    "    \n",
    "    plt.subplot(3, 2, 2)\n",
    "    plt.imshow(np.real(img_fetch1))\n",
    "    plt.axis('off')\n",
    "    plt.title('Actual id: ' + str(origTarget[id1]))\n",
    "    \n",
    "    \n",
    "    plt.subplot(3, 2, 3)\n",
    "    plt.imshow(image[id2])\n",
    "    plt.axis('off')\n",
    "    plt.title('Predicted id: ' + str(predTarget[id2]))\n",
    "    \n",
    "    plt.subplot(3, 2, 4)\n",
    "    plt.imshow(np.real(img_fetch2))\n",
    "    plt.axis('off')\n",
    "    plt.title('Actual id: ' + str(origTarget[id2]))\n",
    "    \n",
    "    \n",
    "    plt.subplot(3, 2, 5)\n",
    "    plt.imshow(image[id3])\n",
    "    plt.axis('off')\n",
    "    plt.title('Predicted id: ' + str(predTarget[id3]))\n",
    "    \n",
    "    plt.subplot(3, 2, 6)\n",
    "    plt.imshow(np.real(img_fetch3))\n",
    "    plt.axis('off')\n",
    "    plt.title('Actual id: ' + str(origTarget[id3]))\n",
    "    \n",
    "    plt.show()"
   ]
  },
  {
   "cell_type": "code",
   "execution_count": null,
   "id": "40f03783",
   "metadata": {},
   "outputs": [],
   "source": [
    "def prepare_plot(image, origTarget, predTarget, size=5):\n",
    "    plt.rcParams[\"figure.figsize\"] = (15*size/25, 15*size/5)\n",
    "    rand = np.random.randint(0, 250, size)\n",
    "    \n",
    "    for i in range(size):\n",
    "        img_fetch = fetch_pred_image(imgrec, lst, predTarget[rand[i]])\n",
    "        plt.subplot(size, 2, 2*i+1)\n",
    "        plt.imshow(image[rand[i]])\n",
    "        plt.axis('off')\n",
    "        plt.title('Actual id: ' + str(origTarget[rand[i]]))\n",
    "        \n",
    "        plt.subplot(size, 2, 2*i+2)\n",
    "        plt.imshow(np.real(img_fetch))\n",
    "        plt.axis('off')\n",
    "        plt.title('Predicted id: ' + str(predTarget[rand[i]]))\n",
    "    \n",
    "    plt.show()"
   ]
  }
 ],
 "metadata": {
  "kernelspec": {
   "display_name": "Python 3 (ipykernel)",
   "language": "python",
   "name": "python3"
  },
  "language_info": {
   "codemirror_mode": {
    "name": "ipython",
    "version": 3
   },
   "file_extension": ".py",
   "mimetype": "text/x-python",
   "name": "python",
   "nbconvert_exporter": "python",
   "pygments_lexer": "ipython3",
   "version": "3.9.7"
  },
  "vscode": {
   "interpreter": {
    "hash": "30e3098e232922ef8af6bcedc394d6daeb7d6c4c3c2a21ed9c9ad4ca5d735aae"
   }
  }
 },
 "nbformat": 4,
 "nbformat_minor": 5
}
