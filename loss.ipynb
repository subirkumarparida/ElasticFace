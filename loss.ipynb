{
 "cells": [
  {
   "cell_type": "code",
   "execution_count": 1,
   "id": "31f1d25b",
   "metadata": {},
   "outputs": [],
   "source": [
    "import os\n",
    "import cv2\n",
    "import math\n",
    "import time\n",
    "import tarfile\n",
    "import numbers\n",
    "import threading\n",
    "import queue as Queue\n",
    "import numpy as np\n",
    "import matplotlib\n",
    "import matplotlib.pyplot as plt\n",
    "\n",
    "import torch\n",
    "import torchvision\n",
    "import torch.nn as nn\n",
    "import torch.nn.functional as F\n",
    "from torchvision import transforms\n",
    "from torchvision.transforms import ToTensor\n",
    "from torchvision.datasets import ImageFolder\n",
    "from torchvision.datasets.utils import download_url\n",
    "#from torch.utils.data.dataloader import DataLoader\n",
    "from torch.utils.data import random_split, DataLoader, Dataset\n",
    "from torchsummary import summary"
   ]
  },
  {
   "cell_type": "code",
   "execution_count": 2,
   "id": "29fee44a",
   "metadata": {},
   "outputs": [],
   "source": [
    "class CosFace(torch.nn.Module):\n",
    "    def __init__(self, s=64.0, m=0.40):\n",
    "        super(CosFace, self).__init__()\n",
    "        self.s = s\n",
    "        self.m = m\n",
    "\n",
    "    def forward(self, logits, labels):\n",
    "        index = torch.where(labels != -1)[0]\n",
    "        target_logit = logits[index, labels[index].view(-1)]\n",
    "        final_target_logit = target_logit - self.m\n",
    "        logits[index, labels[index].view(-1)] = final_target_logit\n",
    "        logits = logits * self.s\n",
    "        return logits"
   ]
  },
  {
   "cell_type": "code",
   "execution_count": 3,
   "id": "e5ae45fc",
   "metadata": {},
   "outputs": [],
   "source": [
    "loss = CosFace()"
   ]
  },
  {
   "cell_type": "code",
   "execution_count": 39,
   "id": "b928de57",
   "metadata": {},
   "outputs": [],
   "source": [
    "logits = torch.randn(3, 5)\n",
    "labels = torch.empty(3, dtype=torch.long).random_(5)"
   ]
  },
  {
   "cell_type": "code",
   "execution_count": 40,
   "id": "4ae6c200",
   "metadata": {},
   "outputs": [
    {
     "data": {
      "text/plain": [
       "(torch.float32, torch.int64)"
      ]
     },
     "execution_count": 40,
     "metadata": {},
     "output_type": "execute_result"
    }
   ],
   "source": [
    "logits.dtype, labels.dtype"
   ]
  },
  {
   "cell_type": "code",
   "execution_count": 41,
   "id": "83004623",
   "metadata": {},
   "outputs": [],
   "source": [
    "output = loss(logits, labels) #input: logits, target: labels"
   ]
  },
  {
   "cell_type": "code",
   "execution_count": 42,
   "id": "b5fb84e9",
   "metadata": {},
   "outputs": [
    {
     "name": "stdout",
     "output_type": "stream",
     "text": [
      "torch.Size([3, 5]) torch.Size([3]) torch.Size([3, 5])\n"
     ]
    }
   ],
   "source": [
    "print(logits.shape, labels.shape, output.shape)"
   ]
  },
  {
   "cell_type": "code",
   "execution_count": 43,
   "id": "3d51d5b0",
   "metadata": {},
   "outputs": [
    {
     "name": "stdout",
     "output_type": "stream",
     "text": [
      "input:  tensor([[ 1.0348, -0.0898,  0.1454, -0.3221,  1.9344],\n",
      "        [-0.2144,  0.1993,  0.0426,  1.5271,  0.1213],\n",
      "        [-1.3730,  0.6963, -2.3733,  0.1223, -0.5391]]) \n",
      " target:  tensor([2, 0, 3]) \n",
      " output:  tensor([[  66.2279,   -5.7441,    9.3073,  -20.6170,  123.7996],\n",
      "        [ -13.7212,   12.7547,    2.7239,   97.7355,    7.7600],\n",
      "        [ -87.8722,   44.5626, -151.8880,    7.8291,  -34.5045]])\n"
     ]
    }
   ],
   "source": [
    "print('input: ', logits, '\\n target: ', labels, '\\n output: ', output)"
   ]
  },
  {
   "cell_type": "code",
   "execution_count": 59,
   "id": "f5d52171",
   "metadata": {},
   "outputs": [
    {
     "data": {
      "text/plain": [
       "tensor([0, 1, 2])"
      ]
     },
     "execution_count": 59,
     "metadata": {},
     "output_type": "execute_result"
    }
   ],
   "source": [
    "index = torch.where(labels != -1)[0]\n",
    "index"
   ]
  },
  {
   "cell_type": "code",
   "execution_count": 45,
   "id": "8d11ebd5",
   "metadata": {},
   "outputs": [
    {
     "data": {
      "text/plain": [
       "tensor([2, 0, 3])"
      ]
     },
     "execution_count": 45,
     "metadata": {},
     "output_type": "execute_result"
    }
   ],
   "source": [
    "labels[index].view(-1)"
   ]
  },
  {
   "cell_type": "code",
   "execution_count": 46,
   "id": "dc84d3cb",
   "metadata": {},
   "outputs": [
    {
     "data": {
      "text/plain": [
       "tensor([ 0.1454, -0.2144,  0.1223])"
      ]
     },
     "execution_count": 46,
     "metadata": {},
     "output_type": "execute_result"
    }
   ],
   "source": [
    "target_logit = logits[index, labels[index].view(-1)]\n",
    "target_logit"
   ]
  },
  {
   "cell_type": "code",
   "execution_count": 47,
   "id": "edeff1fd",
   "metadata": {},
   "outputs": [
    {
     "data": {
      "text/plain": [
       "tensor([-0.8546, -1.2144, -0.8777])"
      ]
     },
     "execution_count": 47,
     "metadata": {},
     "output_type": "execute_result"
    }
   ],
   "source": [
    "final_target_logit = target_logit - 1\n",
    "final_target_logit"
   ]
  },
  {
   "cell_type": "code",
   "execution_count": 48,
   "id": "354040b6",
   "metadata": {},
   "outputs": [
    {
     "data": {
      "text/plain": [
       "tensor([[ 1.0348, -0.0898, -0.8546, -0.3221,  1.9344],\n",
       "        [-1.2144,  0.1993,  0.0426,  1.5271,  0.1213],\n",
       "        [-1.3730,  0.6963, -2.3733, -0.8777, -0.5391]])"
      ]
     },
     "execution_count": 48,
     "metadata": {},
     "output_type": "execute_result"
    }
   ],
   "source": [
    "logits[index, labels[index].view(-1)] = final_target_logit\n",
    "logits"
   ]
  },
  {
   "cell_type": "code",
   "execution_count": 49,
   "id": "0539747a",
   "metadata": {},
   "outputs": [
    {
     "data": {
      "text/plain": [
       "tensor([[ 103.4811,   -8.9752,  -85.4573,  -32.2141,  193.4370],\n",
       "        [-121.4394,   19.9293,    4.2560,  152.7117,   12.1250],\n",
       "        [-137.3002,   69.6291, -237.3250,  -87.7671,  -53.9132]])"
      ]
     },
     "execution_count": 49,
     "metadata": {},
     "output_type": "execute_result"
    }
   ],
   "source": [
    "logits = logits * 100\n",
    "logits"
   ]
  },
  {
   "cell_type": "code",
   "execution_count": null,
   "id": "645efe56",
   "metadata": {},
   "outputs": [],
   "source": []
  },
  {
   "cell_type": "code",
   "execution_count": null,
   "id": "5a12a11d",
   "metadata": {},
   "outputs": [],
   "source": []
  },
  {
   "cell_type": "code",
   "execution_count": 139,
   "id": "304d62db",
   "metadata": {},
   "outputs": [],
   "source": [
    "class CosFace(nn.Module):\n",
    "    def __init__(self, in_features, out_features, s=64.0, m=0.35):\n",
    "        super(CosFace, self).__init__()\n",
    "        self.in_features = in_features\n",
    "        self.out_features = out_features\n",
    "        self.s = s\n",
    "        self.m = m\n",
    "        \n",
    "        self.kernel = nn.Parameter(torch.FloatTensor(in_features, out_features))\n",
    "        nn.init.normal_(self.kernel, std=0.01)\n",
    "\n",
    "    def forward(self, logits, labels):\n",
    "        logits = F.normalize(logits, p=2.0, dim=1)\n",
    "        kernel_norm = F.normalize(self.kernel, p=2.0, dim=0)\n",
    "        cos_theta = torch.mm(logits, kernel_norm)\n",
    "        cos_theta = cos_theta.clamp(-1, 1)  # for numerical stability\n",
    "        index = torch.where(labels != -1)[0]\n",
    "        m_hot = torch.zeros(index.size()[0], cos_theta.size()[1])\n",
    "        m_hot.scatter_(1, labels[index, None], self.m)\n",
    "        cos_theta[index] -= m_hot\n",
    "        ret = cos_theta * self.s\n",
    "        return ret"
   ]
  },
  {
   "cell_type": "code",
   "execution_count": null,
   "id": "ab59604d",
   "metadata": {},
   "outputs": [],
   "source": []
  },
  {
   "cell_type": "code",
   "execution_count": 119,
   "id": "cd44f1b0",
   "metadata": {},
   "outputs": [
    {
     "data": {
      "text/plain": [
       "tensor([[2.7295],\n",
       "        [2.4312],\n",
       "        [1.2166],\n",
       "        [2.8466]])"
      ]
     },
     "execution_count": 119,
     "metadata": {},
     "output_type": "execute_result"
    }
   ],
   "source": [
    "torch.linalg.norm(logits, dim=1, ord = 2, keepdim=True)"
   ]
  },
  {
   "cell_type": "code",
   "execution_count": 143,
   "id": "34b4a37f",
   "metadata": {},
   "outputs": [
    {
     "data": {
      "text/plain": [
       "tensor([[-0.3729, -0.4269,  0.0690,  0.0250,  0.6966],\n",
       "        [-0.8660, -0.5873,  0.3917, -0.8840, -0.3064],\n",
       "        [ 0.1669,  0.4848, -0.5942, -0.3404, -0.6479],\n",
       "        [ 0.2885, -0.4877, -0.6991, -0.3194, -0.0343]])"
      ]
     },
     "execution_count": 143,
     "metadata": {},
     "output_type": "execute_result"
    }
   ],
   "source": [
    "F.normalize(logits, p=2.0, dim=0)"
   ]
  },
  {
   "cell_type": "code",
   "execution_count": null,
   "id": "aaaef72f",
   "metadata": {},
   "outputs": [],
   "source": []
  },
  {
   "cell_type": "code",
   "execution_count": 144,
   "id": "fbaa9870",
   "metadata": {},
   "outputs": [],
   "source": [
    "logits = torch.randn(4, 5)\n",
    "labels = torch.empty(4, dtype=torch.long).random_(5)"
   ]
  },
  {
   "cell_type": "code",
   "execution_count": 133,
   "id": "d62d99ce",
   "metadata": {},
   "outputs": [
    {
     "data": {
      "text/plain": [
       "(torch.float32, torch.float32)"
      ]
     },
     "execution_count": 133,
     "metadata": {},
     "output_type": "execute_result"
    }
   ],
   "source": [
    "logits.dtype, labels.dtype"
   ]
  },
  {
   "cell_type": "code",
   "execution_count": 71,
   "id": "d3388c22",
   "metadata": {},
   "outputs": [
    {
     "name": "stdout",
     "output_type": "stream",
     "text": [
      "torch.Size([4, 5]) torch.Size([4])\n"
     ]
    }
   ],
   "source": [
    "print(logits.shape, labels.shape)#, output.shape)"
   ]
  },
  {
   "cell_type": "code",
   "execution_count": 72,
   "id": "a24870fa",
   "metadata": {},
   "outputs": [
    {
     "name": "stdout",
     "output_type": "stream",
     "text": [
      "input:  tensor([[ 1.1558,  1.0874, -0.1887, -1.0192,  1.0584],\n",
      "        [ 0.7359, -0.2864,  0.6532,  1.9240,  0.0953],\n",
      "        [ 1.7354, -1.7874,  0.2236,  1.4018,  0.8048],\n",
      "        [ 0.5327, -0.6309, -1.7325,  0.9621, -0.9335]]) \n",
      " target:  tensor([2, 0, 4, 4])\n"
     ]
    }
   ],
   "source": [
    "print('logits: ', logits, '\\n labels: ', labels)#, '\\n output: ', output)"
   ]
  },
  {
   "cell_type": "code",
   "execution_count": 103,
   "id": "1518d298",
   "metadata": {},
   "outputs": [],
   "source": [
    "in_features = 5\n",
    "out_features = 5\n",
    "s = 10\n",
    "m = 5\n",
    "        \n",
    "kernel = nn.Parameter(torch.FloatTensor(in_features, out_features))"
   ]
  },
  {
   "cell_type": "code",
   "execution_count": 77,
   "id": "1c3bba70",
   "metadata": {},
   "outputs": [
    {
     "data": {
      "text/plain": [
       "torch.Size([5, 5])"
      ]
     },
     "execution_count": 77,
     "metadata": {},
     "output_type": "execute_result"
    }
   ],
   "source": [
    "kernel.shape"
   ]
  },
  {
   "cell_type": "code",
   "execution_count": 83,
   "id": "e46816e6",
   "metadata": {},
   "outputs": [
    {
     "data": {
      "text/plain": [
       "(tensor([[-2.1417e+28, -3.4295e+30, -1.3719e+31, -9.5810e+30,  1.3345e+23],\n",
       "         [ 4.5702e+28,  1.1872e+31,  4.7493e+31,  3.3168e+31, -1.5254e+22],\n",
       "         [ 2.8820e+28,  4.0639e+30,  1.6257e+31,  1.1353e+31, -8.4016e+22],\n",
       "         [-1.3693e+28, -3.1489e+31, -1.2597e+32, -8.7972e+31, -9.4421e+22]],\n",
       "        grad_fn=<MmBackward0>),\n",
       " torch.Size([4, 5]))"
      ]
     },
     "execution_count": 83,
     "metadata": {},
     "output_type": "execute_result"
    }
   ],
   "source": [
    "cos_theta = torch.mm(logits, kernel)\n",
    "cos_theta, cos_theta.shape"
   ]
  },
  {
   "cell_type": "code",
   "execution_count": 84,
   "id": "18ab0bf6",
   "metadata": {},
   "outputs": [
    {
     "data": {
      "text/plain": [
       "(tensor([[-1., -1., -1., -1.,  1.],\n",
       "         [ 1.,  1.,  1.,  1., -1.],\n",
       "         [ 1.,  1.,  1.,  1., -1.],\n",
       "         [-1., -1., -1., -1., -1.]], grad_fn=<ClampBackward1>),\n",
       " torch.Size([4, 5]))"
      ]
     },
     "execution_count": 84,
     "metadata": {},
     "output_type": "execute_result"
    }
   ],
   "source": [
    "cos_theta = cos_theta.clamp(-1, 1)  # for numerical stability\n",
    "cos_theta, cos_theta.shape"
   ]
  },
  {
   "cell_type": "code",
   "execution_count": 86,
   "id": "27c4c911",
   "metadata": {},
   "outputs": [
    {
     "data": {
      "text/plain": [
       "(tensor([0, 1, 2, 3]), torch.Size([4]))"
      ]
     },
     "execution_count": 86,
     "metadata": {},
     "output_type": "execute_result"
    }
   ],
   "source": [
    "index = torch.where(labels != -1)[0]\n",
    "index, index.shape"
   ]
  },
  {
   "cell_type": "code",
   "execution_count": 92,
   "id": "26e746b4",
   "metadata": {},
   "outputs": [
    {
     "data": {
      "text/plain": [
       "(4, 5)"
      ]
     },
     "execution_count": 92,
     "metadata": {},
     "output_type": "execute_result"
    }
   ],
   "source": [
    "index.shape[0], cos_theta.size()[1]"
   ]
  },
  {
   "cell_type": "code",
   "execution_count": 107,
   "id": "8dcb4857",
   "metadata": {},
   "outputs": [
    {
     "data": {
      "text/plain": [
       "(torch.Size([4, 5]),\n",
       " tensor([[0., 0., 0., 0., 0.],\n",
       "         [0., 0., 0., 0., 0.],\n",
       "         [0., 0., 0., 0., 0.],\n",
       "         [0., 0., 0., 0., 0.]]))"
      ]
     },
     "execution_count": 107,
     "metadata": {},
     "output_type": "execute_result"
    }
   ],
   "source": [
    "m_hot = torch.zeros(index.size()[0], cos_theta.size()[1])\n",
    "m_hot.shape, m_hot"
   ]
  },
  {
   "cell_type": "code",
   "execution_count": 108,
   "id": "eaad7089",
   "metadata": {},
   "outputs": [
    {
     "data": {
      "text/plain": [
       "tensor([[2],\n",
       "        [0],\n",
       "        [4],\n",
       "        [4]])"
      ]
     },
     "execution_count": 108,
     "metadata": {},
     "output_type": "execute_result"
    }
   ],
   "source": [
    "labels[index, None]"
   ]
  },
  {
   "cell_type": "code",
   "execution_count": 109,
   "id": "b8ac0a3a",
   "metadata": {},
   "outputs": [
    {
     "data": {
      "text/plain": [
       "tensor([[0., 0., 5., 0., 0.],\n",
       "        [5., 0., 0., 0., 0.],\n",
       "        [0., 0., 0., 0., 5.],\n",
       "        [0., 0., 0., 0., 5.]])"
      ]
     },
     "execution_count": 109,
     "metadata": {},
     "output_type": "execute_result"
    }
   ],
   "source": [
    "m_hot.scatter_(1, labels[index, None], m)"
   ]
  },
  {
   "cell_type": "code",
   "execution_count": 110,
   "id": "f595feb7",
   "metadata": {},
   "outputs": [
    {
     "data": {
      "text/plain": [
       "tensor([[-1., -1., -6., -1.,  1.],\n",
       "        [-4.,  1.,  1.,  1., -1.],\n",
       "        [ 1.,  1.,  1.,  1., -6.],\n",
       "        [-1., -1., -1., -1., -6.]], grad_fn=<IndexPutBackward0>)"
      ]
     },
     "execution_count": 110,
     "metadata": {},
     "output_type": "execute_result"
    }
   ],
   "source": [
    "cos_theta[index] -= m_hot\n",
    "cos_theta"
   ]
  },
  {
   "cell_type": "code",
   "execution_count": 112,
   "id": "c2d10745",
   "metadata": {},
   "outputs": [
    {
     "data": {
      "text/plain": [
       "tensor([[-10., -10., -60., -10.,  10.],\n",
       "        [-40.,  10.,  10.,  10., -10.],\n",
       "        [ 10.,  10.,  10.,  10., -60.],\n",
       "        [-10., -10., -10., -10., -60.]], grad_fn=<MulBackward0>)"
      ]
     },
     "execution_count": 112,
     "metadata": {},
     "output_type": "execute_result"
    }
   ],
   "source": [
    "ret = cos_theta * s\n",
    "ret"
   ]
  },
  {
   "cell_type": "code",
   "execution_count": 141,
   "id": "63c98285",
   "metadata": {},
   "outputs": [],
   "source": [
    "loss = CosFace(5, 5)"
   ]
  },
  {
   "cell_type": "code",
   "execution_count": 145,
   "id": "30655ea6",
   "metadata": {
    "scrolled": true
   },
   "outputs": [
    {
     "data": {
      "text/plain": [
       "(torch.Size([4, 5]),\n",
       " tensor([[-18.5394,  -3.7403, -18.0750, -75.7024,  12.6182],\n",
       "         [-73.9478,  28.4022, -10.4667, -25.2501,  20.9953],\n",
       "         [-34.6950, -35.8199, -26.9825, -23.3158, -35.8693],\n",
       "         [ 48.2260, -74.4909,  11.7007,  20.4957,   7.0936]],\n",
       "        grad_fn=<MulBackward0>))"
      ]
     },
     "execution_count": 145,
     "metadata": {},
     "output_type": "execute_result"
    }
   ],
   "source": [
    "output = loss(logits, labels) #input: logits, target: labels\n",
    "output.shape, output"
   ]
  },
  {
   "cell_type": "code",
   "execution_count": null,
   "id": "6a1fcdf4",
   "metadata": {},
   "outputs": [],
   "source": []
  }
 ],
 "metadata": {
  "kernelspec": {
   "display_name": "Python 3 (ipykernel)",
   "language": "python",
   "name": "python3"
  },
  "language_info": {
   "codemirror_mode": {
    "name": "ipython",
    "version": 3
   },
   "file_extension": ".py",
   "mimetype": "text/x-python",
   "name": "python",
   "nbconvert_exporter": "python",
   "pygments_lexer": "ipython3",
   "version": "3.9.12"
  }
 },
 "nbformat": 4,
 "nbformat_minor": 5
}
