{
 "cells": [
  {
   "cell_type": "markdown",
   "id": "24f842b2",
   "metadata": {},
   "source": [
    "### Import Libraries"
   ]
  },
  {
   "cell_type": "code",
   "execution_count": 1,
   "id": "07fc4f57",
   "metadata": {},
   "outputs": [],
   "source": [
    "import os\n",
    "import cv2\n",
    "import copy\n",
    "import math\n",
    "import time\n",
    "import tarfile\n",
    "import numbers\n",
    "import threading\n",
    "import queue as Queue\n",
    "import numpy as np\n",
    "import pandas as pd\n",
    "import matplotlib\n",
    "import matplotlib.pyplot as plt\n",
    "\n",
    "import torch\n",
    "import torchvision\n",
    "import torch.nn as nn\n",
    "import torch.nn.functional as F\n",
    "from torchvision import transforms\n",
    "from torchvision.transforms import ToTensor\n",
    "from torchvision.datasets import ImageFolder\n",
    "from torchvision.datasets.utils import download_url\n",
    "#from torch.utils.data.dataloader import DataLoader\n",
    "from torch.utils.data import random_split, DataLoader, Dataset\n",
    "from torchsummary import summary"
   ]
  },
  {
   "cell_type": "code",
   "execution_count": 2,
   "id": "fb6df892",
   "metadata": {},
   "outputs": [],
   "source": [
    "import pickle\n",
    "import mxnet as mx\n",
    "from mxnet import recordio\n",
    "from mxnet import ndarray as nd"
   ]
  },
  {
   "cell_type": "code",
   "execution_count": 3,
   "id": "7775d94d",
   "metadata": {},
   "outputs": [],
   "source": [
    "import warnings\n",
    "warnings.filterwarnings(\"ignore\", category=DeprecationWarning)"
   ]
  },
  {
   "cell_type": "code",
   "execution_count": 4,
   "id": "ec86eae4",
   "metadata": {},
   "outputs": [],
   "source": [
    "random_seed = 42\n",
    "torch.manual_seed(random_seed);"
   ]
  },
  {
   "cell_type": "code",
   "execution_count": 5,
   "id": "df14c534",
   "metadata": {},
   "outputs": [],
   "source": [
    "torch.set_printoptions(edgeitems=5)"
   ]
  },
  {
   "cell_type": "code",
   "execution_count": 6,
   "id": "4ab5979f",
   "metadata": {},
   "outputs": [],
   "source": [
    "def get_default_device():\n",
    "    \"\"\"Pick GPU if available, else CPU\"\"\"\n",
    "    if torch.cuda.is_available():\n",
    "        return torch.device('cuda')\n",
    "    else:\n",
    "        return torch.device('cpu')\n",
    "\n",
    "def to_device(data, device):\n",
    "    \"\"\"Move tensor(s) to chosen device\"\"\"\n",
    "    if isinstance(data, (list,tuple)):\n",
    "        return [to_device(x, device) for x in data]\n",
    "    return data.to(device, non_blocking=True)\n",
    "\n",
    "class DeviceDataLoader():\n",
    "    \"\"\"Wrap a dataloader to move data to a device\"\"\"\n",
    "    def __init__(self, dl, device):\n",
    "        self.dl = dl\n",
    "        self.device = device\n",
    "        \n",
    "    def __iter__(self):\n",
    "        \"\"\"Yield a batch of data after moving it to device\"\"\"\n",
    "        for b in self.dl: \n",
    "            yield to_device(b, self.device)\n",
    "\n",
    "    def __len__(self):\n",
    "        \"\"\"Number of batches\"\"\"\n",
    "        return len(self.dl)"
   ]
  },
  {
   "cell_type": "code",
   "execution_count": 7,
   "id": "1537c1fa",
   "metadata": {},
   "outputs": [],
   "source": [
    "device = get_default_device()"
   ]
  },
  {
   "cell_type": "code",
   "execution_count": 8,
   "id": "113b7842",
   "metadata": {},
   "outputs": [
    {
     "data": {
      "text/plain": [
       "device(type='cuda')"
      ]
     },
     "execution_count": 8,
     "metadata": {},
     "output_type": "execute_result"
    }
   ],
   "source": [
    "device"
   ]
  },
  {
   "cell_type": "markdown",
   "id": "f343280a",
   "metadata": {},
   "source": [
    "### Step 1a) Fetch the LFW dataset"
   ]
  },
  {
   "cell_type": "markdown",
   "id": "84a7d115",
   "metadata": {},
   "source": [
    "#### Option i) Fetch the kaggle downloaded LFW dataset"
   ]
  },
  {
   "cell_type": "code",
   "execution_count": null,
   "id": "23689a0d",
   "metadata": {},
   "outputs": [],
   "source": [
    "#main_dir = '../datasets/LFW' #For Ubuntu\n",
    "main_dir = 'D:/Face/LFW' #For Windows\n",
    "data_dir = main_dir + \"/lfw-deepfunneled/lfw-deepfunneled\"\n",
    "\n",
    "print(os.listdir(main_dir))\n",
    "classes = os.listdir(data_dir)\n",
    "print(len(classes))"
   ]
  },
  {
   "cell_type": "code",
   "execution_count": null,
   "id": "7834d7c1",
   "metadata": {},
   "outputs": [],
   "source": [
    "img_Aaron_Eckhart = os.listdir(data_dir + \"/Aaron_Eckhart\")\n",
    "print('No. of training examples for Aaron_Eckhart:', len(img_Aaron_Eckhart))\n",
    "print(img_Aaron_Eckhart[:])"
   ]
  },
  {
   "cell_type": "code",
   "execution_count": null,
   "id": "38ab30e0",
   "metadata": {},
   "outputs": [],
   "source": [
    "dataset = ImageFolder(data_dir, transform=ToTensor())"
   ]
  },
  {
   "cell_type": "code",
   "execution_count": null,
   "id": "2534f0a5",
   "metadata": {},
   "outputs": [],
   "source": [
    "len(dataset)"
   ]
  },
  {
   "cell_type": "code",
   "execution_count": null,
   "id": "e763ed80",
   "metadata": {},
   "outputs": [],
   "source": [
    "print(dataset.classes)"
   ]
  },
  {
   "cell_type": "code",
   "execution_count": null,
   "id": "47807f8b",
   "metadata": {},
   "outputs": [],
   "source": [
    "img, label = dataset[13232]\n",
    "print(img.shape, label)"
   ]
  },
  {
   "cell_type": "code",
   "execution_count": null,
   "id": "7da91b13",
   "metadata": {},
   "outputs": [],
   "source": [
    "img, label = dataset[1500]\n",
    "#img = torch.reshape(img, (size2, size2, 3))\n",
    "img = img.permute(1, 2, 0)\n",
    "\n",
    "plt.imshow(img)\n",
    "plt.title('label = ' + str(label))"
   ]
  },
  {
   "cell_type": "code",
   "execution_count": null,
   "id": "3f2a074c",
   "metadata": {},
   "outputs": [],
   "source": [
    "img, label = dataset[0]\n",
    "#img = torch.reshape(img, (size2, size2, 3))\n",
    "img = img.permute(1, 2, 0)\n",
    "\n",
    "plt.imshow(img)\n",
    "plt.title('label = ' + str(label))"
   ]
  },
  {
   "cell_type": "markdown",
   "id": "d69cd147",
   "metadata": {},
   "source": [
    "#### Option ii) Fetch the sklearn library LFW dataset"
   ]
  },
  {
   "cell_type": "code",
   "execution_count": null,
   "id": "7cded97b",
   "metadata": {},
   "outputs": [],
   "source": [
    "from sklearn.datasets import fetch_lfw_pairs"
   ]
  },
  {
   "cell_type": "code",
   "execution_count": null,
   "id": "b1bca00d",
   "metadata": {},
   "outputs": [],
   "source": [
    "data_path1 = \"D:/Face/send/\" #Windows\n",
    "data_path2 = \"../../datasets/\" #Ubuntu\n",
    "lfw_people = fetch_lfw_pairs(data_home = data_path2, subset='test', color=True, resize=1)"
   ]
  },
  {
   "cell_type": "code",
   "execution_count": null,
   "id": "25875659",
   "metadata": {},
   "outputs": [],
   "source": [
    "pairs = lfw_people.pairs\n",
    "targets = lfw_people.target"
   ]
  },
  {
   "cell_type": "code",
   "execution_count": null,
   "id": "ffc5209b",
   "metadata": {},
   "outputs": [],
   "source": [
    "pairs.shape, targets.shape"
   ]
  },
  {
   "cell_type": "code",
   "execution_count": null,
   "id": "91b2fd16",
   "metadata": {},
   "outputs": [],
   "source": [
    "np.count_nonzero(targets==1)"
   ]
  },
  {
   "cell_type": "code",
   "execution_count": null,
   "id": "7c01400d",
   "metadata": {},
   "outputs": [],
   "source": []
  },
  {
   "cell_type": "code",
   "execution_count": null,
   "id": "0b06f41d",
   "metadata": {},
   "outputs": [],
   "source": [
    "idx = 0\n",
    "pair = pairs[idx]\n",
    "img1 = pair[0]\n",
    "img2 = pair[1]\n",
    "\n",
    "plt.imshow(img1)\n",
    "plt.show()\n",
    "\n",
    "plt.imshow(img2/255)\n",
    "plt.show()\n",
    "\n",
    "print(\"actual: \", targets[idx])"
   ]
  },
  {
   "cell_type": "code",
   "execution_count": null,
   "id": "4547ad43",
   "metadata": {},
   "outputs": [],
   "source": [
    "img1.shape"
   ]
  },
  {
   "cell_type": "code",
   "execution_count": null,
   "id": "60677ac9",
   "metadata": {},
   "outputs": [],
   "source": [
    "idx = 0\n",
    "pair = pairs[idx]\n",
    "t = torch.from_numpy(pair)\n",
    "print(t.shape)\n",
    "t2 = torch.permute(t, (0, 3, 1, 2))\n",
    "print(t2.shape)\n",
    "\n",
    "tra = transforms.Compose(\n",
    "    [#transforms.ToPILImage(),\n",
    "     transforms.ToTensor(),\n",
    "     transforms.Normalize(mean=[0.5, 0.5, 0.5], std=[0.5, 0.5, 0.5])\n",
    "     ])\n",
    "img1 = pair[0]\n",
    "img2 = pair[1]\n",
    "\n",
    "#img1 = img1.astype(int)\n",
    "img1 = img1/255\n",
    "img2 = img2/255\n",
    "\n",
    "print(img1.shape)\n",
    "t3 = tra(img1)\n",
    "print(t3.shape)\n",
    "\n",
    "t4 = tra(img2)"
   ]
  },
  {
   "cell_type": "code",
   "execution_count": null,
   "id": "354b3fbf",
   "metadata": {},
   "outputs": [],
   "source": [
    "torch.max(t3), torch.min(t3)"
   ]
  },
  {
   "cell_type": "code",
   "execution_count": null,
   "id": "44f68e7e",
   "metadata": {},
   "outputs": [],
   "source": [
    "new_pair = torch.stack((t3, t4), 0)\n",
    "new_pair.shape"
   ]
  },
  {
   "cell_type": "code",
   "execution_count": null,
   "id": "5a5bac4e",
   "metadata": {},
   "outputs": [],
   "source": []
  },
  {
   "cell_type": "code",
   "execution_count": null,
   "id": "6b2c2f3d",
   "metadata": {},
   "outputs": [],
   "source": [
    "class ArcFaceDataset(Dataset):\n",
    "    def __init__(self, root_dir):\n",
    "        super(ArcFaceDataset, self).__init__()\n",
    "\n",
    "        self.transform = transforms.Compose(\n",
    "            [transforms.ToPILImage(),\n",
    "             transforms.RandomHorizontalFlip(p=0.5),\n",
    "             transforms.ToTensor(),\n",
    "             transforms.Normalize(mean=[0.5, 0.5, 0.5], std=[0.5, 0.5, 0.5]),\n",
    "             ])\n",
    "        \n",
    "        self.root_dir = root_dir\n",
    "        #root_dir2 = \"D:/Face/faces_emore/\" #\"faces_emore/\"\n",
    "        \n",
    "        path_imgrec = os.path.join(root_dir, 'train.rec')\n",
    "        path_imgidx = os.path.join(root_dir, 'train.idx')\n",
    "        self.imgrec = mx.recordio.MXIndexedRecordIO(path_imgidx, path_imgrec, 'r')\n",
    "        s = self.imgrec.read_idx(0)\n",
    "        header, _ = mx.recordio.unpack(s)\n",
    "        \n",
    "        if header.flag > 0:\n",
    "            self.header0 = (int(header.label[0]), int(header.label[1]))\n",
    "            self.imgidx = np.array(range(1, int(header.label[0])))\n",
    "        else:\n",
    "            self.imgidx = np.array(list(self.imgrec.keys)) #List of numbers 1 .... 5908396\n",
    "\n",
    "    def __getitem__(self, index):\n",
    "        idx = self.imgidx[index]\n",
    "        s = self.imgrec.read_idx(idx)\n",
    "        header, img = mx.recordio.unpack(s)\n",
    "        label = header.label\n",
    "        if not isinstance(label, numbers.Number):\n",
    "            label = label[0]\n",
    "        label = torch.tensor(label, dtype=torch.long)\n",
    "        sample = mx.image.imdecode(img).asnumpy()\n",
    "        if self.transform is not None:\n",
    "            sample = self.transform(sample)\n",
    "        return sample, label\n",
    "\n",
    "    def __len__(self):\n",
    "        return len(self.imgidx)"
   ]
  },
  {
   "cell_type": "code",
   "execution_count": null,
   "id": "1b54032d",
   "metadata": {},
   "outputs": [],
   "source": []
  },
  {
   "cell_type": "code",
   "execution_count": null,
   "id": "0447cfe6",
   "metadata": {},
   "outputs": [],
   "source": [
    "for idx in range(1000):\n",
    "    pair = pairs[idx]\n",
    "    img1 = pair[0]\n",
    "    img2 = pair[1]\n",
    "\n",
    "    plt.imshow(img1/255)\n",
    "    plt.show()\n",
    "\n",
    "    plt.imshow(img2/255)\n",
    "    plt.show()\n",
    "\n",
    "    print(\"actual: \", targets[idx])\n",
    "    break"
   ]
  },
  {
   "cell_type": "markdown",
   "id": "9d0939c2",
   "metadata": {},
   "source": [
    "#### Option iii) Fetch the mx LFW dataset"
   ]
  },
  {
   "cell_type": "code",
   "execution_count": 9,
   "id": "3e5974ab",
   "metadata": {},
   "outputs": [],
   "source": [
    "image_size = [112, 112]"
   ]
  },
  {
   "cell_type": "code",
   "execution_count": 10,
   "id": "a09668fc",
   "metadata": {},
   "outputs": [],
   "source": [
    "path = \"../faces_emore/lfw.bin\" #For Ubuntu\n",
    "#path = \"D:/Face/faces_emore/vgg2_fp.bin\" #For Windows"
   ]
  },
  {
   "cell_type": "code",
   "execution_count": 11,
   "id": "14057e49",
   "metadata": {},
   "outputs": [],
   "source": [
    "with open(path, 'rb') as f:\n",
    "            bins, issame_list = pickle.load(f, encoding='bytes')"
   ]
  },
  {
   "cell_type": "code",
   "execution_count": 12,
   "id": "fc47109c",
   "metadata": {},
   "outputs": [
    {
     "data": {
      "text/plain": [
       "(6000, True)"
      ]
     },
     "execution_count": 12,
     "metadata": {},
     "output_type": "execute_result"
    }
   ],
   "source": [
    "len(issame_list), issame_list[3000]"
   ]
  },
  {
   "cell_type": "code",
   "execution_count": 13,
   "id": "d87d6618",
   "metadata": {},
   "outputs": [
    {
     "data": {
      "text/plain": [
       "3000"
      ]
     },
     "execution_count": 13,
     "metadata": {},
     "output_type": "execute_result"
    }
   ],
   "source": [
    "same_list = [int(elem) for elem in issame_list]\n",
    "same_list = np.array(same_list)\n",
    "np.count_nonzero(same_list==1)"
   ]
  },
  {
   "cell_type": "code",
   "execution_count": 14,
   "id": "c003bec1",
   "metadata": {},
   "outputs": [
    {
     "data": {
      "text/plain": [
       "(12000, 6000)"
      ]
     },
     "execution_count": 14,
     "metadata": {},
     "output_type": "execute_result"
    }
   ],
   "source": [
    "len(bins), len(issame_list)"
   ]
  },
  {
   "cell_type": "code",
   "execution_count": 15,
   "id": "af605434",
   "metadata": {},
   "outputs": [
    {
     "name": "stdout",
     "output_type": "stream",
     "text": [
      "(112, 112, 3)\n",
      "(112, 112, 3)\n"
     ]
    },
    {
     "data": {
      "image/png": "[encoded data removed]",
      "text/plain": [
       "<Figure size 432x288 with 1 Axes>"
      ]
     },
     "metadata": {
      "needs_background": "light"
     },
     "output_type": "display_data"
    }
   ],
   "source": [
    "t = bins[2]\n",
    "t2 = mx.image.imdecode(t)\n",
    "print(t2.shape)\n",
    "tt = t2.asnumpy()\n",
    "print(tt.shape)\n",
    "\n",
    "plt.imshow(tt)\n",
    "plt.show()\n",
    "#plt.title('label = ' + str(label.item()))"
   ]
  },
  {
   "cell_type": "code",
   "execution_count": 16,
   "id": "deaed965",
   "metadata": {},
   "outputs": [
    {
     "name": "stdout",
     "output_type": "stream",
     "text": [
      "(112, 112, 3)\n",
      "(112, 112, 3)\n"
     ]
    },
    {
     "data": {
      "image/png": "[encoded data removed]",
      "text/plain": [
       "<Figure size 432x288 with 1 Axes>"
      ]
     },
     "metadata": {
      "needs_background": "light"
     },
     "output_type": "display_data"
    }
   ],
   "source": [
    "t = bins[2]\n",
    "t2 = mx.image.imdecode(t)\n",
    "print(t2.shape)\n",
    "tt = t2.asnumpy()\n",
    "print(tt.shape)\n",
    "\n",
    "plt.imshow(tt)\n",
    "plt.show()\n",
    "#plt.title('label = ' + str(label.item()))"
   ]
  },
  {
   "cell_type": "code",
   "execution_count": 17,
   "id": "5aeade53",
   "metadata": {},
   "outputs": [],
   "source": [
    "def load_bin(path, image_size=[112, 112]):\n",
    "    with open(path, 'rb') as f:\n",
    "        bins, issame_list = pickle.load(f, encoding='bytes')  # py3\n",
    "    data_list = torch.empty((len(issame_list) * 2, 3, image_size[0], image_size[1]))\n",
    "    \n",
    "    for idx in range(len(issame_list) * 2):\n",
    "        _bin = bins[idx]\n",
    "        img = mx.image.imdecode(_bin)\n",
    "        if img.shape[1] != image_size[0]:\n",
    "            img = mx.image.resize_short(img, image_size[0])\n",
    "        img = np.transpose(img, axes=(2, 0, 1))\n",
    "        data_list[idx][:] = torch.from_numpy(img.asnumpy())\n",
    "        \n",
    "        if idx % 1000 == 0:\n",
    "            print('loading bin', idx)\n",
    "    print(data_list.shape, len(issame_list))\n",
    "    return data_list, issame_list"
   ]
  },
  {
   "cell_type": "code",
   "execution_count": 18,
   "id": "a4264b14",
   "metadata": {},
   "outputs": [
    {
     "name": "stdout",
     "output_type": "stream",
     "text": [
      "loading bin 0\n",
      "loading bin 1000\n",
      "loading bin 2000\n",
      "loading bin 3000\n",
      "loading bin 4000\n",
      "loading bin 5000\n",
      "loading bin 6000\n",
      "loading bin 7000\n",
      "loading bin 8000\n",
      "loading bin 9000\n",
      "loading bin 10000\n",
      "loading bin 11000\n",
      "torch.Size([12000, 3, 112, 112]) 6000\n"
     ]
    }
   ],
   "source": [
    "x, y = load_bin(path)"
   ]
  },
  {
   "cell_type": "code",
   "execution_count": 19,
   "id": "5bc32663",
   "metadata": {},
   "outputs": [
    {
     "name": "stdout",
     "output_type": "stream",
     "text": [
      "torch.Size([3, 112, 112])\n"
     ]
    }
   ],
   "source": [
    "for i in range(12000):\n",
    "    img1 = x[i]\n",
    "    img2 = x[i+1]\n",
    "    print(img1.shape)\n",
    "    break"
   ]
  },
  {
   "cell_type": "code",
   "execution_count": 20,
   "id": "7ede35f7",
   "metadata": {},
   "outputs": [
    {
     "name": "stdout",
     "output_type": "stream",
     "text": [
      "True\n"
     ]
    },
    {
     "data": {
      "image/png": "[encoded data removed]",
      "text/plain": [
       "<Figure size 432x288 with 1 Axes>"
      ]
     },
     "metadata": {
      "needs_background": "light"
     },
     "output_type": "display_data"
    }
   ],
   "source": [
    "img = x[120]\n",
    "img = torch.permute(img, (1, 2, 0))\n",
    "print(y[120])\n",
    "\n",
    "plt.imshow(img/255)\n",
    "plt.show()"
   ]
  },
  {
   "cell_type": "markdown",
   "id": "5b517875",
   "metadata": {},
   "source": [
    "### Step 2a) Model Architecture - Network"
   ]
  },
  {
   "cell_type": "code",
   "execution_count": 21,
   "id": "83fdb419",
   "metadata": {},
   "outputs": [],
   "source": [
    "def conv_2d(ni, nf, ks, stride=1):\n",
    "    return nn.Conv2d(in_channels=ni, out_channels=nf, kernel_size=ks, stride=stride, padding=ks//2, bias=False)\n",
    "\n",
    "def bn_relu_conv(ni, nf, ks):\n",
    "    return nn.Sequential(nn.BatchNorm2d(ni), \n",
    "                       nn.ReLU(inplace=True),\n",
    "                       conv_2d(ni, nf, ks))"
   ]
  },
  {
   "cell_type": "code",
   "execution_count": 22,
   "id": "34f99612",
   "metadata": {},
   "outputs": [],
   "source": [
    "class ResBlock(nn.Module):\n",
    "    def __init__(self, ni, nf, stride=1):\n",
    "        super().__init__()\n",
    "        if ni > 100:\n",
    "            temp = ni * 2\n",
    "        else:\n",
    "            temp = ni\n",
    "        self.bn = nn.BatchNorm2d(temp)\n",
    "        self.conv1 = conv_2d(temp, ni, 1, stride)\n",
    "        self.conv2 = bn_relu_conv(ni, ni, ks=3)\n",
    "        self.conv3 = bn_relu_conv(ni, nf, ks=1)\n",
    "        self.shortcut = lambda x: x\n",
    "        if ni != nf:\n",
    "            self.shortcut = conv_2d(temp, nf, 1, stride)\n",
    "\n",
    "    def forward(self, x):\n",
    "        #print(\"Inside Res Block1\")\n",
    "        #print(x.shape)\n",
    "        x = F.relu(self.bn(x), inplace=True)\n",
    "        #print(x.shape)\n",
    "        r1 = self.shortcut(x)\n",
    "        #print(r1.shape)\n",
    "        x = self.conv1(x)\n",
    "        x = self.conv2(x)\n",
    "        x = self.conv3(x) * 0.2\n",
    "        #print(x.shape)\n",
    "        return x.add_(r1)"
   ]
  },
  {
   "cell_type": "code",
   "execution_count": 23,
   "id": "c5a3eb52",
   "metadata": {},
   "outputs": [],
   "source": [
    "class ResBlock2(nn.Module):\n",
    "    def __init__(self, ni, nf, stride=1):\n",
    "        super().__init__()\n",
    "        self.bn = nn.BatchNorm2d(ni)\n",
    "        self.conv1 = conv_2d(ni, nf, 1, stride)\n",
    "        self.conv2 = bn_relu_conv(nf, nf, ks=3)\n",
    "        self.conv3 = bn_relu_conv(nf, ni, ks=1)\n",
    "        self.shortcut = lambda x: x\n",
    "#        if ni != nf:\n",
    "#            self.shortcut = conv_2d(ni, nf, 1, 1)\n",
    "\n",
    "    def forward(self, x):\n",
    "        #print(\"Inside Res Block2\")\n",
    "        #print(x.shape)\n",
    "        x = F.relu(self.bn(x), inplace=True)\n",
    "        #print(x.shape)\n",
    "        r = self.shortcut(x)\n",
    "        #print(r.shape)\n",
    "        x = self.conv1(x)\n",
    "        x = self.conv2(x)\n",
    "        x = self.conv3(x) * 0.2\n",
    "        return x.add_(r)"
   ]
  },
  {
   "cell_type": "code",
   "execution_count": 24,
   "id": "e4c87e4e",
   "metadata": {},
   "outputs": [],
   "source": [
    "def make_group(N, ni, nf, stride):\n",
    "    start = ResBlock(ni, nf, stride)\n",
    "    rest = [ResBlock2(nf, ni) for j in range(1, N)]\n",
    "    return [start] + rest"
   ]
  },
  {
   "cell_type": "code",
   "execution_count": 25,
   "id": "f7e5e1bc",
   "metadata": {},
   "outputs": [],
   "source": [
    "class Flatten(nn.Module):\n",
    "    def __init__(self):\n",
    "        super().__init__()\n",
    "    \n",
    "    def forward(self, x):\n",
    "        return x.view(x.size(0), -1)"
   ]
  },
  {
   "cell_type": "code",
   "execution_count": 26,
   "id": "13a38fae",
   "metadata": {},
   "outputs": [],
   "source": [
    "class MyResNet(nn.Module):\n",
    "    def __init__(self, n_groups, N, n_classes, k=1, n_start=64):\n",
    "        super().__init__()\n",
    "        #Increase channels\n",
    "        self.layers = [conv_2d(3, 64, ks=7, stride=2)]\n",
    "        self.layers += [nn.MaxPool2d(kernel_size=3, stride=2, padding=1)]\n",
    "        n_channels = [n_start]\n",
    "\n",
    "        #Add groups\n",
    "        for i in range(n_groups):\n",
    "            n_channels.append(n_start*(2**i)*k)\n",
    "            stride = 2 if i>0 else 1\n",
    "            self.layers += make_group(N[i], n_channels[i], n_channels[i]*4, stride)\n",
    "\n",
    "        #Pool, Flatten, and add linear layer for classification  \n",
    "        self.layers += [nn.BatchNorm2d(n_channels[n_groups]*2),\n",
    "                   nn.ReLU(inplace=True),\n",
    "                   nn.AdaptiveAvgPool2d(1),\n",
    "                   #nn.AvgPool2d(kernel_size=2, stride=2), \n",
    "                   Flatten()]\n",
    "        self.fc = nn.Linear(n_channels[n_groups]*2, n_classes)\n",
    "    \n",
    "        self.features = nn.Sequential(*self.layers)\n",
    "        \n",
    "    def forward(self, x):\n",
    "        #a = self.features(x)\n",
    "        #print(a.shape)\n",
    "        temp = self.features(x)\n",
    "        return self.fc(temp)"
   ]
  },
  {
   "cell_type": "code",
   "execution_count": 27,
   "id": "00298b00",
   "metadata": {},
   "outputs": [],
   "source": [
    "#Number of blocks at various groups\n",
    "N_50 = [3, 4, 6, 3]\n",
    "N_101 = [3, 4, 23, 3]\n",
    "N_152 = [3, 8, 36, 3]\n",
    "\n",
    "def ResNet50(n_classes):\n",
    "    return MyResNet(4, N_50, n_classes, k=2)\n",
    "\n",
    "def ResNet101(n_classes):\n",
    "    return MyResNet(4, N_101, n_classes, k=2)\n",
    "\n",
    "def ResNet152(n_classes):\n",
    "    return MyResNet(4, N_152, n_classes, k=2)"
   ]
  },
  {
   "cell_type": "code",
   "execution_count": 28,
   "id": "40aadb08",
   "metadata": {},
   "outputs": [],
   "source": [
    "def test():\n",
    "    net = ResNet50(50)\n",
    "    x = torch.randn(2, 3, 224, 224)\n",
    "    y = net(x)\n",
    "    print(y.shape)\n",
    "    print(y)\n",
    "    print(y[0].shape)\n",
    "    to_device(net, device)\n",
    "    summary(net, input_size = (3, 62, 47), batch_size = -1)\n",
    "    return net"
   ]
  },
  {
   "cell_type": "code",
   "execution_count": 29,
   "id": "58ff5e11",
   "metadata": {},
   "outputs": [],
   "source": [
    "#model_net = test()"
   ]
  },
  {
   "cell_type": "code",
   "execution_count": 30,
   "id": "d2356e8c",
   "metadata": {},
   "outputs": [
    {
     "data": {
      "text/plain": [
       "MyResNet(\n",
       "  (fc): Linear(in_features=2048, out_features=85742, bias=True)\n",
       "  (features): Sequential(\n",
       "    (0): Conv2d(3, 64, kernel_size=(7, 7), stride=(2, 2), padding=(3, 3), bias=False)\n",
       "    (1): MaxPool2d(kernel_size=3, stride=2, padding=1, dilation=1, ceil_mode=False)\n",
       "    (2): ResBlock(\n",
       "      (bn): BatchNorm2d(64, eps=1e-05, momentum=0.1, affine=True, track_running_stats=True)\n",
       "      (conv1): Conv2d(64, 64, kernel_size=(1, 1), stride=(1, 1), bias=False)\n",
       "      (conv2): Sequential(\n",
       "        (0): BatchNorm2d(64, eps=1e-05, momentum=0.1, affine=True, track_running_stats=True)\n",
       "        (1): ReLU(inplace=True)\n",
       "        (2): Conv2d(64, 64, kernel_size=(3, 3), stride=(1, 1), padding=(1, 1), bias=False)\n",
       "      )\n",
       "      (conv3): Sequential(\n",
       "        (0): BatchNorm2d(64, eps=1e-05, momentum=0.1, affine=True, track_running_stats=True)\n",
       "        (1): ReLU(inplace=True)\n",
       "        (2): Conv2d(64, 256, kernel_size=(1, 1), stride=(1, 1), bias=False)\n",
       "      )\n",
       "      (shortcut): Conv2d(64, 256, kernel_size=(1, 1), stride=(1, 1), bias=False)\n",
       "    )\n",
       "    (3): ResBlock2(\n",
       "      (bn): BatchNorm2d(256, eps=1e-05, momentum=0.1, affine=True, track_running_stats=True)\n",
       "      (conv1): Conv2d(256, 64, kernel_size=(1, 1), stride=(1, 1), bias=False)\n",
       "      (conv2): Sequential(\n",
       "        (0): BatchNorm2d(64, eps=1e-05, momentum=0.1, affine=True, track_running_stats=True)\n",
       "        (1): ReLU(inplace=True)\n",
       "        (2): Conv2d(64, 64, kernel_size=(3, 3), stride=(1, 1), padding=(1, 1), bias=False)\n",
       "      )\n",
       "      (conv3): Sequential(\n",
       "        (0): BatchNorm2d(64, eps=1e-05, momentum=0.1, affine=True, track_running_stats=True)\n",
       "        (1): ReLU(inplace=True)\n",
       "        (2): Conv2d(64, 256, kernel_size=(1, 1), stride=(1, 1), bias=False)\n",
       "      )\n",
       "    )\n",
       "    (4): ResBlock2(\n",
       "      (bn): BatchNorm2d(256, eps=1e-05, momentum=0.1, affine=True, track_running_stats=True)\n",
       "      (conv1): Conv2d(256, 64, kernel_size=(1, 1), stride=(1, 1), bias=False)\n",
       "      (conv2): Sequential(\n",
       "        (0): BatchNorm2d(64, eps=1e-05, momentum=0.1, affine=True, track_running_stats=True)\n",
       "        (1): ReLU(inplace=True)\n",
       "        (2): Conv2d(64, 64, kernel_size=(3, 3), stride=(1, 1), padding=(1, 1), bias=False)\n",
       "      )\n",
       "      (conv3): Sequential(\n",
       "        (0): BatchNorm2d(64, eps=1e-05, momentum=0.1, affine=True, track_running_stats=True)\n",
       "        (1): ReLU(inplace=True)\n",
       "        (2): Conv2d(64, 256, kernel_size=(1, 1), stride=(1, 1), bias=False)\n",
       "      )\n",
       "    )\n",
       "    (5): ResBlock(\n",
       "      (bn): BatchNorm2d(256, eps=1e-05, momentum=0.1, affine=True, track_running_stats=True)\n",
       "      (conv1): Conv2d(256, 128, kernel_size=(1, 1), stride=(2, 2), bias=False)\n",
       "      (conv2): Sequential(\n",
       "        (0): BatchNorm2d(128, eps=1e-05, momentum=0.1, affine=True, track_running_stats=True)\n",
       "        (1): ReLU(inplace=True)\n",
       "        (2): Conv2d(128, 128, kernel_size=(3, 3), stride=(1, 1), padding=(1, 1), bias=False)\n",
       "      )\n",
       "      (conv3): Sequential(\n",
       "        (0): BatchNorm2d(128, eps=1e-05, momentum=0.1, affine=True, track_running_stats=True)\n",
       "        (1): ReLU(inplace=True)\n",
       "        (2): Conv2d(128, 512, kernel_size=(1, 1), stride=(1, 1), bias=False)\n",
       "      )\n",
       "      (shortcut): Conv2d(256, 512, kernel_size=(1, 1), stride=(2, 2), bias=False)\n",
       "    )\n",
       "    (6): ResBlock2(\n",
       "      (bn): BatchNorm2d(512, eps=1e-05, momentum=0.1, affine=True, track_running_stats=True)\n",
       "      (conv1): Conv2d(512, 128, kernel_size=(1, 1), stride=(1, 1), bias=False)\n",
       "      (conv2): Sequential(\n",
       "        (0): BatchNorm2d(128, eps=1e-05, momentum=0.1, affine=True, track_running_stats=True)\n",
       "        (1): ReLU(inplace=True)\n",
       "        (2): Conv2d(128, 128, kernel_size=(3, 3), stride=(1, 1), padding=(1, 1), bias=False)\n",
       "      )\n",
       "      (conv3): Sequential(\n",
       "        (0): BatchNorm2d(128, eps=1e-05, momentum=0.1, affine=True, track_running_stats=True)\n",
       "        (1): ReLU(inplace=True)\n",
       "        (2): Conv2d(128, 512, kernel_size=(1, 1), stride=(1, 1), bias=False)\n",
       "      )\n",
       "    )\n",
       "    (7): ResBlock2(\n",
       "      (bn): BatchNorm2d(512, eps=1e-05, momentum=0.1, affine=True, track_running_stats=True)\n",
       "      (conv1): Conv2d(512, 128, kernel_size=(1, 1), stride=(1, 1), bias=False)\n",
       "      (conv2): Sequential(\n",
       "        (0): BatchNorm2d(128, eps=1e-05, momentum=0.1, affine=True, track_running_stats=True)\n",
       "        (1): ReLU(inplace=True)\n",
       "        (2): Conv2d(128, 128, kernel_size=(3, 3), stride=(1, 1), padding=(1, 1), bias=False)\n",
       "      )\n",
       "      (conv3): Sequential(\n",
       "        (0): BatchNorm2d(128, eps=1e-05, momentum=0.1, affine=True, track_running_stats=True)\n",
       "        (1): ReLU(inplace=True)\n",
       "        (2): Conv2d(128, 512, kernel_size=(1, 1), stride=(1, 1), bias=False)\n",
       "      )\n",
       "    )\n",
       "    (8): ResBlock2(\n",
       "      (bn): BatchNorm2d(512, eps=1e-05, momentum=0.1, affine=True, track_running_stats=True)\n",
       "      (conv1): Conv2d(512, 128, kernel_size=(1, 1), stride=(1, 1), bias=False)\n",
       "      (conv2): Sequential(\n",
       "        (0): BatchNorm2d(128, eps=1e-05, momentum=0.1, affine=True, track_running_stats=True)\n",
       "        (1): ReLU(inplace=True)\n",
       "        (2): Conv2d(128, 128, kernel_size=(3, 3), stride=(1, 1), padding=(1, 1), bias=False)\n",
       "      )\n",
       "      (conv3): Sequential(\n",
       "        (0): BatchNorm2d(128, eps=1e-05, momentum=0.1, affine=True, track_running_stats=True)\n",
       "        (1): ReLU(inplace=True)\n",
       "        (2): Conv2d(128, 512, kernel_size=(1, 1), stride=(1, 1), bias=False)\n",
       "      )\n",
       "    )\n",
       "    (9): ResBlock(\n",
       "      (bn): BatchNorm2d(512, eps=1e-05, momentum=0.1, affine=True, track_running_stats=True)\n",
       "      (conv1): Conv2d(512, 256, kernel_size=(1, 1), stride=(2, 2), bias=False)\n",
       "      (conv2): Sequential(\n",
       "        (0): BatchNorm2d(256, eps=1e-05, momentum=0.1, affine=True, track_running_stats=True)\n",
       "        (1): ReLU(inplace=True)\n",
       "        (2): Conv2d(256, 256, kernel_size=(3, 3), stride=(1, 1), padding=(1, 1), bias=False)\n",
       "      )\n",
       "      (conv3): Sequential(\n",
       "        (0): BatchNorm2d(256, eps=1e-05, momentum=0.1, affine=True, track_running_stats=True)\n",
       "        (1): ReLU(inplace=True)\n",
       "        (2): Conv2d(256, 1024, kernel_size=(1, 1), stride=(1, 1), bias=False)\n",
       "      )\n",
       "      (shortcut): Conv2d(512, 1024, kernel_size=(1, 1), stride=(2, 2), bias=False)\n",
       "    )\n",
       "    (10): ResBlock2(\n",
       "      (bn): BatchNorm2d(1024, eps=1e-05, momentum=0.1, affine=True, track_running_stats=True)\n",
       "      (conv1): Conv2d(1024, 256, kernel_size=(1, 1), stride=(1, 1), bias=False)\n",
       "      (conv2): Sequential(\n",
       "        (0): BatchNorm2d(256, eps=1e-05, momentum=0.1, affine=True, track_running_stats=True)\n",
       "        (1): ReLU(inplace=True)\n",
       "        (2): Conv2d(256, 256, kernel_size=(3, 3), stride=(1, 1), padding=(1, 1), bias=False)\n",
       "      )\n",
       "      (conv3): Sequential(\n",
       "        (0): BatchNorm2d(256, eps=1e-05, momentum=0.1, affine=True, track_running_stats=True)\n",
       "        (1): ReLU(inplace=True)\n",
       "        (2): Conv2d(256, 1024, kernel_size=(1, 1), stride=(1, 1), bias=False)\n",
       "      )\n",
       "    )\n",
       "    (11): ResBlock2(\n",
       "      (bn): BatchNorm2d(1024, eps=1e-05, momentum=0.1, affine=True, track_running_stats=True)\n",
       "      (conv1): Conv2d(1024, 256, kernel_size=(1, 1), stride=(1, 1), bias=False)\n",
       "      (conv2): Sequential(\n",
       "        (0): BatchNorm2d(256, eps=1e-05, momentum=0.1, affine=True, track_running_stats=True)\n",
       "        (1): ReLU(inplace=True)\n",
       "        (2): Conv2d(256, 256, kernel_size=(3, 3), stride=(1, 1), padding=(1, 1), bias=False)\n",
       "      )\n",
       "      (conv3): Sequential(\n",
       "        (0): BatchNorm2d(256, eps=1e-05, momentum=0.1, affine=True, track_running_stats=True)\n",
       "        (1): ReLU(inplace=True)\n",
       "        (2): Conv2d(256, 1024, kernel_size=(1, 1), stride=(1, 1), bias=False)\n",
       "      )\n",
       "    )\n",
       "    (12): ResBlock2(\n",
       "      (bn): BatchNorm2d(1024, eps=1e-05, momentum=0.1, affine=True, track_running_stats=True)\n",
       "      (conv1): Conv2d(1024, 256, kernel_size=(1, 1), stride=(1, 1), bias=False)\n",
       "      (conv2): Sequential(\n",
       "        (0): BatchNorm2d(256, eps=1e-05, momentum=0.1, affine=True, track_running_stats=True)\n",
       "        (1): ReLU(inplace=True)\n",
       "        (2): Conv2d(256, 256, kernel_size=(3, 3), stride=(1, 1), padding=(1, 1), bias=False)\n",
       "      )\n",
       "      (conv3): Sequential(\n",
       "        (0): BatchNorm2d(256, eps=1e-05, momentum=0.1, affine=True, track_running_stats=True)\n",
       "        (1): ReLU(inplace=True)\n",
       "        (2): Conv2d(256, 1024, kernel_size=(1, 1), stride=(1, 1), bias=False)\n",
       "      )\n",
       "    )\n",
       "    (13): ResBlock2(\n",
       "      (bn): BatchNorm2d(1024, eps=1e-05, momentum=0.1, affine=True, track_running_stats=True)\n",
       "      (conv1): Conv2d(1024, 256, kernel_size=(1, 1), stride=(1, 1), bias=False)\n",
       "      (conv2): Sequential(\n",
       "        (0): BatchNorm2d(256, eps=1e-05, momentum=0.1, affine=True, track_running_stats=True)\n",
       "        (1): ReLU(inplace=True)\n",
       "        (2): Conv2d(256, 256, kernel_size=(3, 3), stride=(1, 1), padding=(1, 1), bias=False)\n",
       "      )\n",
       "      (conv3): Sequential(\n",
       "        (0): BatchNorm2d(256, eps=1e-05, momentum=0.1, affine=True, track_running_stats=True)\n",
       "        (1): ReLU(inplace=True)\n",
       "        (2): Conv2d(256, 1024, kernel_size=(1, 1), stride=(1, 1), bias=False)\n",
       "      )\n",
       "    )\n",
       "    (14): ResBlock2(\n",
       "      (bn): BatchNorm2d(1024, eps=1e-05, momentum=0.1, affine=True, track_running_stats=True)\n",
       "      (conv1): Conv2d(1024, 256, kernel_size=(1, 1), stride=(1, 1), bias=False)\n",
       "      (conv2): Sequential(\n",
       "        (0): BatchNorm2d(256, eps=1e-05, momentum=0.1, affine=True, track_running_stats=True)\n",
       "        (1): ReLU(inplace=True)\n",
       "        (2): Conv2d(256, 256, kernel_size=(3, 3), stride=(1, 1), padding=(1, 1), bias=False)\n",
       "      )\n",
       "      (conv3): Sequential(\n",
       "        (0): BatchNorm2d(256, eps=1e-05, momentum=0.1, affine=True, track_running_stats=True)\n",
       "        (1): ReLU(inplace=True)\n",
       "        (2): Conv2d(256, 1024, kernel_size=(1, 1), stride=(1, 1), bias=False)\n",
       "      )\n",
       "    )\n",
       "    (15): ResBlock(\n",
       "      (bn): BatchNorm2d(1024, eps=1e-05, momentum=0.1, affine=True, track_running_stats=True)\n",
       "      (conv1): Conv2d(1024, 512, kernel_size=(1, 1), stride=(2, 2), bias=False)\n",
       "      (conv2): Sequential(\n",
       "        (0): BatchNorm2d(512, eps=1e-05, momentum=0.1, affine=True, track_running_stats=True)\n",
       "        (1): ReLU(inplace=True)\n",
       "        (2): Conv2d(512, 512, kernel_size=(3, 3), stride=(1, 1), padding=(1, 1), bias=False)\n",
       "      )\n",
       "      (conv3): Sequential(\n",
       "        (0): BatchNorm2d(512, eps=1e-05, momentum=0.1, affine=True, track_running_stats=True)\n",
       "        (1): ReLU(inplace=True)\n",
       "        (2): Conv2d(512, 2048, kernel_size=(1, 1), stride=(1, 1), bias=False)\n",
       "      )\n",
       "      (shortcut): Conv2d(1024, 2048, kernel_size=(1, 1), stride=(2, 2), bias=False)\n",
       "    )\n",
       "    (16): ResBlock2(\n",
       "      (bn): BatchNorm2d(2048, eps=1e-05, momentum=0.1, affine=True, track_running_stats=True)\n",
       "      (conv1): Conv2d(2048, 512, kernel_size=(1, 1), stride=(1, 1), bias=False)\n",
       "      (conv2): Sequential(\n",
       "        (0): BatchNorm2d(512, eps=1e-05, momentum=0.1, affine=True, track_running_stats=True)\n",
       "        (1): ReLU(inplace=True)\n",
       "        (2): Conv2d(512, 512, kernel_size=(3, 3), stride=(1, 1), padding=(1, 1), bias=False)\n",
       "      )\n",
       "      (conv3): Sequential(\n",
       "        (0): BatchNorm2d(512, eps=1e-05, momentum=0.1, affine=True, track_running_stats=True)\n",
       "        (1): ReLU(inplace=True)\n",
       "        (2): Conv2d(512, 2048, kernel_size=(1, 1), stride=(1, 1), bias=False)\n",
       "      )\n",
       "    )\n",
       "    (17): ResBlock2(\n",
       "      (bn): BatchNorm2d(2048, eps=1e-05, momentum=0.1, affine=True, track_running_stats=True)\n",
       "      (conv1): Conv2d(2048, 512, kernel_size=(1, 1), stride=(1, 1), bias=False)\n",
       "      (conv2): Sequential(\n",
       "        (0): BatchNorm2d(512, eps=1e-05, momentum=0.1, affine=True, track_running_stats=True)\n",
       "        (1): ReLU(inplace=True)\n",
       "        (2): Conv2d(512, 512, kernel_size=(3, 3), stride=(1, 1), padding=(1, 1), bias=False)\n",
       "      )\n",
       "      (conv3): Sequential(\n",
       "        (0): BatchNorm2d(512, eps=1e-05, momentum=0.1, affine=True, track_running_stats=True)\n",
       "        (1): ReLU(inplace=True)\n",
       "        (2): Conv2d(512, 2048, kernel_size=(1, 1), stride=(1, 1), bias=False)\n",
       "      )\n",
       "    )\n",
       "    (18): BatchNorm2d(2048, eps=1e-05, momentum=0.1, affine=True, track_running_stats=True)\n",
       "    (19): ReLU(inplace=True)\n",
       "    (20): AdaptiveAvgPool2d(output_size=1)\n",
       "    (21): Flatten()\n",
       "  )\n",
       ")"
      ]
     },
     "execution_count": 30,
     "metadata": {},
     "output_type": "execute_result"
    }
   ],
   "source": [
    "loaded_model = ResNet50(85742)\n",
    "to_device(loaded_model, device)"
   ]
  },
  {
   "cell_type": "code",
   "execution_count": 31,
   "id": "41f0f6fd",
   "metadata": {},
   "outputs": [
    {
     "name": "stdout",
     "output_type": "stream",
     "text": [
      "----------------------------------------------------------------\n",
      "        Layer (type)               Output Shape         Param #\n",
      "================================================================\n",
      "            Conv2d-1         [-1, 64, 125, 125]           9,408\n",
      "         MaxPool2d-2           [-1, 64, 63, 63]               0\n",
      "       BatchNorm2d-3           [-1, 64, 63, 63]             128\n",
      "            Conv2d-4          [-1, 256, 63, 63]          16,384\n",
      "            Conv2d-5           [-1, 64, 63, 63]           4,096\n",
      "       BatchNorm2d-6           [-1, 64, 63, 63]             128\n",
      "              ReLU-7           [-1, 64, 63, 63]               0\n",
      "            Conv2d-8           [-1, 64, 63, 63]          36,864\n",
      "       BatchNorm2d-9           [-1, 64, 63, 63]             128\n",
      "             ReLU-10           [-1, 64, 63, 63]               0\n",
      "           Conv2d-11          [-1, 256, 63, 63]          16,384\n",
      "         ResBlock-12          [-1, 256, 63, 63]               0\n",
      "      BatchNorm2d-13          [-1, 256, 63, 63]             512\n",
      "           Conv2d-14           [-1, 64, 63, 63]          16,384\n",
      "      BatchNorm2d-15           [-1, 64, 63, 63]             128\n",
      "             ReLU-16           [-1, 64, 63, 63]               0\n",
      "           Conv2d-17           [-1, 64, 63, 63]          36,864\n",
      "      BatchNorm2d-18           [-1, 64, 63, 63]             128\n",
      "             ReLU-19           [-1, 64, 63, 63]               0\n",
      "           Conv2d-20          [-1, 256, 63, 63]          16,384\n",
      "        ResBlock2-21          [-1, 256, 63, 63]               0\n",
      "      BatchNorm2d-22          [-1, 256, 63, 63]             512\n",
      "           Conv2d-23           [-1, 64, 63, 63]          16,384\n",
      "      BatchNorm2d-24           [-1, 64, 63, 63]             128\n",
      "             ReLU-25           [-1, 64, 63, 63]               0\n",
      "           Conv2d-26           [-1, 64, 63, 63]          36,864\n",
      "      BatchNorm2d-27           [-1, 64, 63, 63]             128\n",
      "             ReLU-28           [-1, 64, 63, 63]               0\n",
      "           Conv2d-29          [-1, 256, 63, 63]          16,384\n",
      "        ResBlock2-30          [-1, 256, 63, 63]               0\n",
      "      BatchNorm2d-31          [-1, 256, 63, 63]             512\n",
      "           Conv2d-32          [-1, 512, 32, 32]         131,072\n",
      "           Conv2d-33          [-1, 128, 32, 32]          32,768\n",
      "      BatchNorm2d-34          [-1, 128, 32, 32]             256\n",
      "             ReLU-35          [-1, 128, 32, 32]               0\n",
      "           Conv2d-36          [-1, 128, 32, 32]         147,456\n",
      "      BatchNorm2d-37          [-1, 128, 32, 32]             256\n",
      "             ReLU-38          [-1, 128, 32, 32]               0\n",
      "           Conv2d-39          [-1, 512, 32, 32]          65,536\n",
      "         ResBlock-40          [-1, 512, 32, 32]               0\n",
      "      BatchNorm2d-41          [-1, 512, 32, 32]           1,024\n",
      "           Conv2d-42          [-1, 128, 32, 32]          65,536\n",
      "      BatchNorm2d-43          [-1, 128, 32, 32]             256\n",
      "             ReLU-44          [-1, 128, 32, 32]               0\n",
      "           Conv2d-45          [-1, 128, 32, 32]         147,456\n",
      "      BatchNorm2d-46          [-1, 128, 32, 32]             256\n",
      "             ReLU-47          [-1, 128, 32, 32]               0\n",
      "           Conv2d-48          [-1, 512, 32, 32]          65,536\n",
      "        ResBlock2-49          [-1, 512, 32, 32]               0\n",
      "      BatchNorm2d-50          [-1, 512, 32, 32]           1,024\n",
      "           Conv2d-51          [-1, 128, 32, 32]          65,536\n",
      "      BatchNorm2d-52          [-1, 128, 32, 32]             256\n",
      "             ReLU-53          [-1, 128, 32, 32]               0\n",
      "           Conv2d-54          [-1, 128, 32, 32]         147,456\n",
      "      BatchNorm2d-55          [-1, 128, 32, 32]             256\n",
      "             ReLU-56          [-1, 128, 32, 32]               0\n",
      "           Conv2d-57          [-1, 512, 32, 32]          65,536\n",
      "        ResBlock2-58          [-1, 512, 32, 32]               0\n",
      "      BatchNorm2d-59          [-1, 512, 32, 32]           1,024\n",
      "           Conv2d-60          [-1, 128, 32, 32]          65,536\n",
      "      BatchNorm2d-61          [-1, 128, 32, 32]             256\n",
      "             ReLU-62          [-1, 128, 32, 32]               0\n",
      "           Conv2d-63          [-1, 128, 32, 32]         147,456\n",
      "      BatchNorm2d-64          [-1, 128, 32, 32]             256\n",
      "             ReLU-65          [-1, 128, 32, 32]               0\n",
      "           Conv2d-66          [-1, 512, 32, 32]          65,536\n",
      "        ResBlock2-67          [-1, 512, 32, 32]               0\n",
      "      BatchNorm2d-68          [-1, 512, 32, 32]           1,024\n",
      "           Conv2d-69         [-1, 1024, 16, 16]         524,288\n",
      "           Conv2d-70          [-1, 256, 16, 16]         131,072\n",
      "      BatchNorm2d-71          [-1, 256, 16, 16]             512\n",
      "             ReLU-72          [-1, 256, 16, 16]               0\n",
      "           Conv2d-73          [-1, 256, 16, 16]         589,824\n",
      "      BatchNorm2d-74          [-1, 256, 16, 16]             512\n",
      "             ReLU-75          [-1, 256, 16, 16]               0\n",
      "           Conv2d-76         [-1, 1024, 16, 16]         262,144\n",
      "         ResBlock-77         [-1, 1024, 16, 16]               0\n",
      "      BatchNorm2d-78         [-1, 1024, 16, 16]           2,048\n",
      "           Conv2d-79          [-1, 256, 16, 16]         262,144\n",
      "      BatchNorm2d-80          [-1, 256, 16, 16]             512\n",
      "             ReLU-81          [-1, 256, 16, 16]               0\n",
      "           Conv2d-82          [-1, 256, 16, 16]         589,824\n",
      "      BatchNorm2d-83          [-1, 256, 16, 16]             512\n",
      "             ReLU-84          [-1, 256, 16, 16]               0\n",
      "           Conv2d-85         [-1, 1024, 16, 16]         262,144\n",
      "        ResBlock2-86         [-1, 1024, 16, 16]               0\n",
      "      BatchNorm2d-87         [-1, 1024, 16, 16]           2,048\n",
      "           Conv2d-88          [-1, 256, 16, 16]         262,144\n",
      "      BatchNorm2d-89          [-1, 256, 16, 16]             512\n",
      "             ReLU-90          [-1, 256, 16, 16]               0\n",
      "           Conv2d-91          [-1, 256, 16, 16]         589,824\n",
      "      BatchNorm2d-92          [-1, 256, 16, 16]             512\n",
      "             ReLU-93          [-1, 256, 16, 16]               0\n",
      "           Conv2d-94         [-1, 1024, 16, 16]         262,144\n",
      "        ResBlock2-95         [-1, 1024, 16, 16]               0\n",
      "      BatchNorm2d-96         [-1, 1024, 16, 16]           2,048\n",
      "           Conv2d-97          [-1, 256, 16, 16]         262,144\n",
      "      BatchNorm2d-98          [-1, 256, 16, 16]             512\n",
      "             ReLU-99          [-1, 256, 16, 16]               0\n",
      "          Conv2d-100          [-1, 256, 16, 16]         589,824\n",
      "     BatchNorm2d-101          [-1, 256, 16, 16]             512\n",
      "            ReLU-102          [-1, 256, 16, 16]               0\n",
      "          Conv2d-103         [-1, 1024, 16, 16]         262,144\n",
      "       ResBlock2-104         [-1, 1024, 16, 16]               0\n",
      "     BatchNorm2d-105         [-1, 1024, 16, 16]           2,048\n",
      "          Conv2d-106          [-1, 256, 16, 16]         262,144\n",
      "     BatchNorm2d-107          [-1, 256, 16, 16]             512\n",
      "            ReLU-108          [-1, 256, 16, 16]               0\n",
      "          Conv2d-109          [-1, 256, 16, 16]         589,824\n",
      "     BatchNorm2d-110          [-1, 256, 16, 16]             512\n",
      "            ReLU-111          [-1, 256, 16, 16]               0\n",
      "          Conv2d-112         [-1, 1024, 16, 16]         262,144\n",
      "       ResBlock2-113         [-1, 1024, 16, 16]               0\n",
      "     BatchNorm2d-114         [-1, 1024, 16, 16]           2,048\n",
      "          Conv2d-115          [-1, 256, 16, 16]         262,144\n",
      "     BatchNorm2d-116          [-1, 256, 16, 16]             512\n",
      "            ReLU-117          [-1, 256, 16, 16]               0\n",
      "          Conv2d-118          [-1, 256, 16, 16]         589,824\n",
      "     BatchNorm2d-119          [-1, 256, 16, 16]             512\n",
      "            ReLU-120          [-1, 256, 16, 16]               0\n",
      "          Conv2d-121         [-1, 1024, 16, 16]         262,144\n",
      "       ResBlock2-122         [-1, 1024, 16, 16]               0\n",
      "     BatchNorm2d-123         [-1, 1024, 16, 16]           2,048\n",
      "          Conv2d-124           [-1, 2048, 8, 8]       2,097,152\n",
      "          Conv2d-125            [-1, 512, 8, 8]         524,288\n",
      "     BatchNorm2d-126            [-1, 512, 8, 8]           1,024\n",
      "            ReLU-127            [-1, 512, 8, 8]               0\n",
      "          Conv2d-128            [-1, 512, 8, 8]       2,359,296\n",
      "     BatchNorm2d-129            [-1, 512, 8, 8]           1,024\n",
      "            ReLU-130            [-1, 512, 8, 8]               0\n",
      "          Conv2d-131           [-1, 2048, 8, 8]       1,048,576\n",
      "        ResBlock-132           [-1, 2048, 8, 8]               0\n",
      "     BatchNorm2d-133           [-1, 2048, 8, 8]           4,096\n",
      "          Conv2d-134            [-1, 512, 8, 8]       1,048,576\n",
      "     BatchNorm2d-135            [-1, 512, 8, 8]           1,024\n",
      "            ReLU-136            [-1, 512, 8, 8]               0\n",
      "          Conv2d-137            [-1, 512, 8, 8]       2,359,296\n",
      "     BatchNorm2d-138            [-1, 512, 8, 8]           1,024\n",
      "            ReLU-139            [-1, 512, 8, 8]               0\n",
      "          Conv2d-140           [-1, 2048, 8, 8]       1,048,576\n",
      "       ResBlock2-141           [-1, 2048, 8, 8]               0\n",
      "     BatchNorm2d-142           [-1, 2048, 8, 8]           4,096\n",
      "          Conv2d-143            [-1, 512, 8, 8]       1,048,576\n",
      "     BatchNorm2d-144            [-1, 512, 8, 8]           1,024\n",
      "            ReLU-145            [-1, 512, 8, 8]               0\n",
      "          Conv2d-146            [-1, 512, 8, 8]       2,359,296\n",
      "     BatchNorm2d-147            [-1, 512, 8, 8]           1,024\n",
      "            ReLU-148            [-1, 512, 8, 8]               0\n",
      "          Conv2d-149           [-1, 2048, 8, 8]       1,048,576\n",
      "       ResBlock2-150           [-1, 2048, 8, 8]               0\n",
      "     BatchNorm2d-151           [-1, 2048, 8, 8]           4,096\n",
      "            ReLU-152           [-1, 2048, 8, 8]               0\n",
      "AdaptiveAvgPool2d-153           [-1, 2048, 1, 1]               0\n",
      "         Flatten-154                 [-1, 2048]               0\n",
      "          Linear-155                [-1, 85742]     175,685,358\n",
      "================================================================\n",
      "Total params: 199,185,710\n",
      "Trainable params: 199,185,710\n",
      "Non-trainable params: 0\n",
      "----------------------------------------------------------------\n",
      "Input size (MB): 0.72\n",
      "Forward/backward pass size (MB): 272.09\n",
      "Params size (MB): 759.83\n",
      "Estimated Total Size (MB): 1032.64\n",
      "----------------------------------------------------------------\n"
     ]
    }
   ],
   "source": [
    "summary(loaded_model, input_size = (3, 250, 250), batch_size = -1)"
   ]
  },
  {
   "cell_type": "code",
   "execution_count": 32,
   "id": "ac5936f9",
   "metadata": {},
   "outputs": [],
   "source": [
    "del loaded_model.fc"
   ]
  },
  {
   "cell_type": "markdown",
   "id": "47cb4233",
   "metadata": {},
   "source": [
    "### Step 2b) Loading the pre-trained Model"
   ]
  },
  {
   "cell_type": "code",
   "execution_count": 33,
   "id": "b0b84b3e",
   "metadata": {},
   "outputs": [
    {
     "data": {
      "text/plain": [
       "<All keys matched successfully>"
      ]
     },
     "execution_count": 33,
     "metadata": {},
     "output_type": "execute_result"
    }
   ],
   "source": [
    "#loaded_model.load_state_dict(torch.load(\"training/el_2epoch_70acc.pth\"))\n",
    "#loaded_model.load_state_dict(torch.load(\"../CosFace-v2/model_26.pth\"))\n",
    "loaded_model.load_state_dict(torch.load(\"../CosFace-v2/model_27_91acc.pth\"))\n",
    "#loaded_model.load_state_dict(torch.load(\"../CosFace-v2/model_28.pth\"))"
   ]
  },
  {
   "cell_type": "code",
   "execution_count": 34,
   "id": "ccb56c39",
   "metadata": {},
   "outputs": [],
   "source": [
    "#model.layers"
   ]
  },
  {
   "cell_type": "code",
   "execution_count": 35,
   "id": "664d63bf",
   "metadata": {},
   "outputs": [],
   "source": [
    "#model = ResNet50(85742)\n",
    "\n",
    "for param in loaded_model.parameters():\n",
    "    param.requires_grad = False\n",
    "    #print(param.shape)\n",
    "    #print('----------------------------')\n",
    "    #model.fc = nn.Linear(5749, 8)\n",
    "    #print(\"After addition: \", param.shape)"
   ]
  },
  {
   "cell_type": "code",
   "execution_count": 36,
   "id": "4c7d6e6d",
   "metadata": {},
   "outputs": [],
   "source": [
    "loaded_model.fc = nn.Identity(54, unused_argument1=0.1, unused_argument2=False)"
   ]
  },
  {
   "cell_type": "code",
   "execution_count": 37,
   "id": "1db49d0d",
   "metadata": {},
   "outputs": [
    {
     "data": {
      "text/plain": [
       "MyResNet(\n",
       "  (features): Sequential(\n",
       "    (0): Conv2d(3, 64, kernel_size=(7, 7), stride=(2, 2), padding=(3, 3), bias=False)\n",
       "    (1): MaxPool2d(kernel_size=3, stride=2, padding=1, dilation=1, ceil_mode=False)\n",
       "    (2): ResBlock(\n",
       "      (bn): BatchNorm2d(64, eps=1e-05, momentum=0.1, affine=True, track_running_stats=True)\n",
       "      (conv1): Conv2d(64, 64, kernel_size=(1, 1), stride=(1, 1), bias=False)\n",
       "      (conv2): Sequential(\n",
       "        (0): BatchNorm2d(64, eps=1e-05, momentum=0.1, affine=True, track_running_stats=True)\n",
       "        (1): ReLU(inplace=True)\n",
       "        (2): Conv2d(64, 64, kernel_size=(3, 3), stride=(1, 1), padding=(1, 1), bias=False)\n",
       "      )\n",
       "      (conv3): Sequential(\n",
       "        (0): BatchNorm2d(64, eps=1e-05, momentum=0.1, affine=True, track_running_stats=True)\n",
       "        (1): ReLU(inplace=True)\n",
       "        (2): Conv2d(64, 256, kernel_size=(1, 1), stride=(1, 1), bias=False)\n",
       "      )\n",
       "      (shortcut): Conv2d(64, 256, kernel_size=(1, 1), stride=(1, 1), bias=False)\n",
       "    )\n",
       "    (3): ResBlock2(\n",
       "      (bn): BatchNorm2d(256, eps=1e-05, momentum=0.1, affine=True, track_running_stats=True)\n",
       "      (conv1): Conv2d(256, 64, kernel_size=(1, 1), stride=(1, 1), bias=False)\n",
       "      (conv2): Sequential(\n",
       "        (0): BatchNorm2d(64, eps=1e-05, momentum=0.1, affine=True, track_running_stats=True)\n",
       "        (1): ReLU(inplace=True)\n",
       "        (2): Conv2d(64, 64, kernel_size=(3, 3), stride=(1, 1), padding=(1, 1), bias=False)\n",
       "      )\n",
       "      (conv3): Sequential(\n",
       "        (0): BatchNorm2d(64, eps=1e-05, momentum=0.1, affine=True, track_running_stats=True)\n",
       "        (1): ReLU(inplace=True)\n",
       "        (2): Conv2d(64, 256, kernel_size=(1, 1), stride=(1, 1), bias=False)\n",
       "      )\n",
       "    )\n",
       "    (4): ResBlock2(\n",
       "      (bn): BatchNorm2d(256, eps=1e-05, momentum=0.1, affine=True, track_running_stats=True)\n",
       "      (conv1): Conv2d(256, 64, kernel_size=(1, 1), stride=(1, 1), bias=False)\n",
       "      (conv2): Sequential(\n",
       "        (0): BatchNorm2d(64, eps=1e-05, momentum=0.1, affine=True, track_running_stats=True)\n",
       "        (1): ReLU(inplace=True)\n",
       "        (2): Conv2d(64, 64, kernel_size=(3, 3), stride=(1, 1), padding=(1, 1), bias=False)\n",
       "      )\n",
       "      (conv3): Sequential(\n",
       "        (0): BatchNorm2d(64, eps=1e-05, momentum=0.1, affine=True, track_running_stats=True)\n",
       "        (1): ReLU(inplace=True)\n",
       "        (2): Conv2d(64, 256, kernel_size=(1, 1), stride=(1, 1), bias=False)\n",
       "      )\n",
       "    )\n",
       "    (5): ResBlock(\n",
       "      (bn): BatchNorm2d(256, eps=1e-05, momentum=0.1, affine=True, track_running_stats=True)\n",
       "      (conv1): Conv2d(256, 128, kernel_size=(1, 1), stride=(2, 2), bias=False)\n",
       "      (conv2): Sequential(\n",
       "        (0): BatchNorm2d(128, eps=1e-05, momentum=0.1, affine=True, track_running_stats=True)\n",
       "        (1): ReLU(inplace=True)\n",
       "        (2): Conv2d(128, 128, kernel_size=(3, 3), stride=(1, 1), padding=(1, 1), bias=False)\n",
       "      )\n",
       "      (conv3): Sequential(\n",
       "        (0): BatchNorm2d(128, eps=1e-05, momentum=0.1, affine=True, track_running_stats=True)\n",
       "        (1): ReLU(inplace=True)\n",
       "        (2): Conv2d(128, 512, kernel_size=(1, 1), stride=(1, 1), bias=False)\n",
       "      )\n",
       "      (shortcut): Conv2d(256, 512, kernel_size=(1, 1), stride=(2, 2), bias=False)\n",
       "    )\n",
       "    (6): ResBlock2(\n",
       "      (bn): BatchNorm2d(512, eps=1e-05, momentum=0.1, affine=True, track_running_stats=True)\n",
       "      (conv1): Conv2d(512, 128, kernel_size=(1, 1), stride=(1, 1), bias=False)\n",
       "      (conv2): Sequential(\n",
       "        (0): BatchNorm2d(128, eps=1e-05, momentum=0.1, affine=True, track_running_stats=True)\n",
       "        (1): ReLU(inplace=True)\n",
       "        (2): Conv2d(128, 128, kernel_size=(3, 3), stride=(1, 1), padding=(1, 1), bias=False)\n",
       "      )\n",
       "      (conv3): Sequential(\n",
       "        (0): BatchNorm2d(128, eps=1e-05, momentum=0.1, affine=True, track_running_stats=True)\n",
       "        (1): ReLU(inplace=True)\n",
       "        (2): Conv2d(128, 512, kernel_size=(1, 1), stride=(1, 1), bias=False)\n",
       "      )\n",
       "    )\n",
       "    (7): ResBlock2(\n",
       "      (bn): BatchNorm2d(512, eps=1e-05, momentum=0.1, affine=True, track_running_stats=True)\n",
       "      (conv1): Conv2d(512, 128, kernel_size=(1, 1), stride=(1, 1), bias=False)\n",
       "      (conv2): Sequential(\n",
       "        (0): BatchNorm2d(128, eps=1e-05, momentum=0.1, affine=True, track_running_stats=True)\n",
       "        (1): ReLU(inplace=True)\n",
       "        (2): Conv2d(128, 128, kernel_size=(3, 3), stride=(1, 1), padding=(1, 1), bias=False)\n",
       "      )\n",
       "      (conv3): Sequential(\n",
       "        (0): BatchNorm2d(128, eps=1e-05, momentum=0.1, affine=True, track_running_stats=True)\n",
       "        (1): ReLU(inplace=True)\n",
       "        (2): Conv2d(128, 512, kernel_size=(1, 1), stride=(1, 1), bias=False)\n",
       "      )\n",
       "    )\n",
       "    (8): ResBlock2(\n",
       "      (bn): BatchNorm2d(512, eps=1e-05, momentum=0.1, affine=True, track_running_stats=True)\n",
       "      (conv1): Conv2d(512, 128, kernel_size=(1, 1), stride=(1, 1), bias=False)\n",
       "      (conv2): Sequential(\n",
       "        (0): BatchNorm2d(128, eps=1e-05, momentum=0.1, affine=True, track_running_stats=True)\n",
       "        (1): ReLU(inplace=True)\n",
       "        (2): Conv2d(128, 128, kernel_size=(3, 3), stride=(1, 1), padding=(1, 1), bias=False)\n",
       "      )\n",
       "      (conv3): Sequential(\n",
       "        (0): BatchNorm2d(128, eps=1e-05, momentum=0.1, affine=True, track_running_stats=True)\n",
       "        (1): ReLU(inplace=True)\n",
       "        (2): Conv2d(128, 512, kernel_size=(1, 1), stride=(1, 1), bias=False)\n",
       "      )\n",
       "    )\n",
       "    (9): ResBlock(\n",
       "      (bn): BatchNorm2d(512, eps=1e-05, momentum=0.1, affine=True, track_running_stats=True)\n",
       "      (conv1): Conv2d(512, 256, kernel_size=(1, 1), stride=(2, 2), bias=False)\n",
       "      (conv2): Sequential(\n",
       "        (0): BatchNorm2d(256, eps=1e-05, momentum=0.1, affine=True, track_running_stats=True)\n",
       "        (1): ReLU(inplace=True)\n",
       "        (2): Conv2d(256, 256, kernel_size=(3, 3), stride=(1, 1), padding=(1, 1), bias=False)\n",
       "      )\n",
       "      (conv3): Sequential(\n",
       "        (0): BatchNorm2d(256, eps=1e-05, momentum=0.1, affine=True, track_running_stats=True)\n",
       "        (1): ReLU(inplace=True)\n",
       "        (2): Conv2d(256, 1024, kernel_size=(1, 1), stride=(1, 1), bias=False)\n",
       "      )\n",
       "      (shortcut): Conv2d(512, 1024, kernel_size=(1, 1), stride=(2, 2), bias=False)\n",
       "    )\n",
       "    (10): ResBlock2(\n",
       "      (bn): BatchNorm2d(1024, eps=1e-05, momentum=0.1, affine=True, track_running_stats=True)\n",
       "      (conv1): Conv2d(1024, 256, kernel_size=(1, 1), stride=(1, 1), bias=False)\n",
       "      (conv2): Sequential(\n",
       "        (0): BatchNorm2d(256, eps=1e-05, momentum=0.1, affine=True, track_running_stats=True)\n",
       "        (1): ReLU(inplace=True)\n",
       "        (2): Conv2d(256, 256, kernel_size=(3, 3), stride=(1, 1), padding=(1, 1), bias=False)\n",
       "      )\n",
       "      (conv3): Sequential(\n",
       "        (0): BatchNorm2d(256, eps=1e-05, momentum=0.1, affine=True, track_running_stats=True)\n",
       "        (1): ReLU(inplace=True)\n",
       "        (2): Conv2d(256, 1024, kernel_size=(1, 1), stride=(1, 1), bias=False)\n",
       "      )\n",
       "    )\n",
       "    (11): ResBlock2(\n",
       "      (bn): BatchNorm2d(1024, eps=1e-05, momentum=0.1, affine=True, track_running_stats=True)\n",
       "      (conv1): Conv2d(1024, 256, kernel_size=(1, 1), stride=(1, 1), bias=False)\n",
       "      (conv2): Sequential(\n",
       "        (0): BatchNorm2d(256, eps=1e-05, momentum=0.1, affine=True, track_running_stats=True)\n",
       "        (1): ReLU(inplace=True)\n",
       "        (2): Conv2d(256, 256, kernel_size=(3, 3), stride=(1, 1), padding=(1, 1), bias=False)\n",
       "      )\n",
       "      (conv3): Sequential(\n",
       "        (0): BatchNorm2d(256, eps=1e-05, momentum=0.1, affine=True, track_running_stats=True)\n",
       "        (1): ReLU(inplace=True)\n",
       "        (2): Conv2d(256, 1024, kernel_size=(1, 1), stride=(1, 1), bias=False)\n",
       "      )\n",
       "    )\n",
       "    (12): ResBlock2(\n",
       "      (bn): BatchNorm2d(1024, eps=1e-05, momentum=0.1, affine=True, track_running_stats=True)\n",
       "      (conv1): Conv2d(1024, 256, kernel_size=(1, 1), stride=(1, 1), bias=False)\n",
       "      (conv2): Sequential(\n",
       "        (0): BatchNorm2d(256, eps=1e-05, momentum=0.1, affine=True, track_running_stats=True)\n",
       "        (1): ReLU(inplace=True)\n",
       "        (2): Conv2d(256, 256, kernel_size=(3, 3), stride=(1, 1), padding=(1, 1), bias=False)\n",
       "      )\n",
       "      (conv3): Sequential(\n",
       "        (0): BatchNorm2d(256, eps=1e-05, momentum=0.1, affine=True, track_running_stats=True)\n",
       "        (1): ReLU(inplace=True)\n",
       "        (2): Conv2d(256, 1024, kernel_size=(1, 1), stride=(1, 1), bias=False)\n",
       "      )\n",
       "    )\n",
       "    (13): ResBlock2(\n",
       "      (bn): BatchNorm2d(1024, eps=1e-05, momentum=0.1, affine=True, track_running_stats=True)\n",
       "      (conv1): Conv2d(1024, 256, kernel_size=(1, 1), stride=(1, 1), bias=False)\n",
       "      (conv2): Sequential(\n",
       "        (0): BatchNorm2d(256, eps=1e-05, momentum=0.1, affine=True, track_running_stats=True)\n",
       "        (1): ReLU(inplace=True)\n",
       "        (2): Conv2d(256, 256, kernel_size=(3, 3), stride=(1, 1), padding=(1, 1), bias=False)\n",
       "      )\n",
       "      (conv3): Sequential(\n",
       "        (0): BatchNorm2d(256, eps=1e-05, momentum=0.1, affine=True, track_running_stats=True)\n",
       "        (1): ReLU(inplace=True)\n",
       "        (2): Conv2d(256, 1024, kernel_size=(1, 1), stride=(1, 1), bias=False)\n",
       "      )\n",
       "    )\n",
       "    (14): ResBlock2(\n",
       "      (bn): BatchNorm2d(1024, eps=1e-05, momentum=0.1, affine=True, track_running_stats=True)\n",
       "      (conv1): Conv2d(1024, 256, kernel_size=(1, 1), stride=(1, 1), bias=False)\n",
       "      (conv2): Sequential(\n",
       "        (0): BatchNorm2d(256, eps=1e-05, momentum=0.1, affine=True, track_running_stats=True)\n",
       "        (1): ReLU(inplace=True)\n",
       "        (2): Conv2d(256, 256, kernel_size=(3, 3), stride=(1, 1), padding=(1, 1), bias=False)\n",
       "      )\n",
       "      (conv3): Sequential(\n",
       "        (0): BatchNorm2d(256, eps=1e-05, momentum=0.1, affine=True, track_running_stats=True)\n",
       "        (1): ReLU(inplace=True)\n",
       "        (2): Conv2d(256, 1024, kernel_size=(1, 1), stride=(1, 1), bias=False)\n",
       "      )\n",
       "    )\n",
       "    (15): ResBlock(\n",
       "      (bn): BatchNorm2d(1024, eps=1e-05, momentum=0.1, affine=True, track_running_stats=True)\n",
       "      (conv1): Conv2d(1024, 512, kernel_size=(1, 1), stride=(2, 2), bias=False)\n",
       "      (conv2): Sequential(\n",
       "        (0): BatchNorm2d(512, eps=1e-05, momentum=0.1, affine=True, track_running_stats=True)\n",
       "        (1): ReLU(inplace=True)\n",
       "        (2): Conv2d(512, 512, kernel_size=(3, 3), stride=(1, 1), padding=(1, 1), bias=False)\n",
       "      )\n",
       "      (conv3): Sequential(\n",
       "        (0): BatchNorm2d(512, eps=1e-05, momentum=0.1, affine=True, track_running_stats=True)\n",
       "        (1): ReLU(inplace=True)\n",
       "        (2): Conv2d(512, 2048, kernel_size=(1, 1), stride=(1, 1), bias=False)\n",
       "      )\n",
       "      (shortcut): Conv2d(1024, 2048, kernel_size=(1, 1), stride=(2, 2), bias=False)\n",
       "    )\n",
       "    (16): ResBlock2(\n",
       "      (bn): BatchNorm2d(2048, eps=1e-05, momentum=0.1, affine=True, track_running_stats=True)\n",
       "      (conv1): Conv2d(2048, 512, kernel_size=(1, 1), stride=(1, 1), bias=False)\n",
       "      (conv2): Sequential(\n",
       "        (0): BatchNorm2d(512, eps=1e-05, momentum=0.1, affine=True, track_running_stats=True)\n",
       "        (1): ReLU(inplace=True)\n",
       "        (2): Conv2d(512, 512, kernel_size=(3, 3), stride=(1, 1), padding=(1, 1), bias=False)\n",
       "      )\n",
       "      (conv3): Sequential(\n",
       "        (0): BatchNorm2d(512, eps=1e-05, momentum=0.1, affine=True, track_running_stats=True)\n",
       "        (1): ReLU(inplace=True)\n",
       "        (2): Conv2d(512, 2048, kernel_size=(1, 1), stride=(1, 1), bias=False)\n",
       "      )\n",
       "    )\n",
       "    (17): ResBlock2(\n",
       "      (bn): BatchNorm2d(2048, eps=1e-05, momentum=0.1, affine=True, track_running_stats=True)\n",
       "      (conv1): Conv2d(2048, 512, kernel_size=(1, 1), stride=(1, 1), bias=False)\n",
       "      (conv2): Sequential(\n",
       "        (0): BatchNorm2d(512, eps=1e-05, momentum=0.1, affine=True, track_running_stats=True)\n",
       "        (1): ReLU(inplace=True)\n",
       "        (2): Conv2d(512, 512, kernel_size=(3, 3), stride=(1, 1), padding=(1, 1), bias=False)\n",
       "      )\n",
       "      (conv3): Sequential(\n",
       "        (0): BatchNorm2d(512, eps=1e-05, momentum=0.1, affine=True, track_running_stats=True)\n",
       "        (1): ReLU(inplace=True)\n",
       "        (2): Conv2d(512, 2048, kernel_size=(1, 1), stride=(1, 1), bias=False)\n",
       "      )\n",
       "    )\n",
       "    (18): BatchNorm2d(2048, eps=1e-05, momentum=0.1, affine=True, track_running_stats=True)\n",
       "    (19): ReLU(inplace=True)\n",
       "    (20): AdaptiveAvgPool2d(output_size=1)\n",
       "    (21): Flatten()\n",
       "  )\n",
       "  (fc): Identity()\n",
       ")"
      ]
     },
     "execution_count": 37,
     "metadata": {},
     "output_type": "execute_result"
    }
   ],
   "source": [
    "to_device(loaded_model, device)"
   ]
  },
  {
   "cell_type": "code",
   "execution_count": 38,
   "id": "84b2d0fe",
   "metadata": {},
   "outputs": [
    {
     "name": "stdout",
     "output_type": "stream",
     "text": [
      "----------------------------------------------------------------\n",
      "        Layer (type)               Output Shape         Param #\n",
      "================================================================\n",
      "            Conv2d-1         [-1, 64, 125, 125]           9,408\n",
      "         MaxPool2d-2           [-1, 64, 63, 63]               0\n",
      "       BatchNorm2d-3           [-1, 64, 63, 63]             128\n",
      "            Conv2d-4          [-1, 256, 63, 63]          16,384\n",
      "            Conv2d-5           [-1, 64, 63, 63]           4,096\n",
      "       BatchNorm2d-6           [-1, 64, 63, 63]             128\n",
      "              ReLU-7           [-1, 64, 63, 63]               0\n",
      "            Conv2d-8           [-1, 64, 63, 63]          36,864\n",
      "       BatchNorm2d-9           [-1, 64, 63, 63]             128\n",
      "             ReLU-10           [-1, 64, 63, 63]               0\n",
      "           Conv2d-11          [-1, 256, 63, 63]          16,384\n",
      "         ResBlock-12          [-1, 256, 63, 63]               0\n",
      "      BatchNorm2d-13          [-1, 256, 63, 63]             512\n",
      "           Conv2d-14           [-1, 64, 63, 63]          16,384\n",
      "      BatchNorm2d-15           [-1, 64, 63, 63]             128\n",
      "             ReLU-16           [-1, 64, 63, 63]               0\n",
      "           Conv2d-17           [-1, 64, 63, 63]          36,864\n",
      "      BatchNorm2d-18           [-1, 64, 63, 63]             128\n",
      "             ReLU-19           [-1, 64, 63, 63]               0\n",
      "           Conv2d-20          [-1, 256, 63, 63]          16,384\n",
      "        ResBlock2-21          [-1, 256, 63, 63]               0\n",
      "      BatchNorm2d-22          [-1, 256, 63, 63]             512\n",
      "           Conv2d-23           [-1, 64, 63, 63]          16,384\n",
      "      BatchNorm2d-24           [-1, 64, 63, 63]             128\n",
      "             ReLU-25           [-1, 64, 63, 63]               0\n",
      "           Conv2d-26           [-1, 64, 63, 63]          36,864\n",
      "      BatchNorm2d-27           [-1, 64, 63, 63]             128\n",
      "             ReLU-28           [-1, 64, 63, 63]               0\n",
      "           Conv2d-29          [-1, 256, 63, 63]          16,384\n",
      "        ResBlock2-30          [-1, 256, 63, 63]               0\n",
      "      BatchNorm2d-31          [-1, 256, 63, 63]             512\n",
      "           Conv2d-32          [-1, 512, 32, 32]         131,072\n",
      "           Conv2d-33          [-1, 128, 32, 32]          32,768\n",
      "      BatchNorm2d-34          [-1, 128, 32, 32]             256\n",
      "             ReLU-35          [-1, 128, 32, 32]               0\n",
      "           Conv2d-36          [-1, 128, 32, 32]         147,456\n",
      "      BatchNorm2d-37          [-1, 128, 32, 32]             256\n",
      "             ReLU-38          [-1, 128, 32, 32]               0\n",
      "           Conv2d-39          [-1, 512, 32, 32]          65,536\n",
      "         ResBlock-40          [-1, 512, 32, 32]               0\n",
      "      BatchNorm2d-41          [-1, 512, 32, 32]           1,024\n",
      "           Conv2d-42          [-1, 128, 32, 32]          65,536\n",
      "      BatchNorm2d-43          [-1, 128, 32, 32]             256\n",
      "             ReLU-44          [-1, 128, 32, 32]               0\n",
      "           Conv2d-45          [-1, 128, 32, 32]         147,456\n",
      "      BatchNorm2d-46          [-1, 128, 32, 32]             256\n",
      "             ReLU-47          [-1, 128, 32, 32]               0\n",
      "           Conv2d-48          [-1, 512, 32, 32]          65,536\n",
      "        ResBlock2-49          [-1, 512, 32, 32]               0\n",
      "      BatchNorm2d-50          [-1, 512, 32, 32]           1,024\n",
      "           Conv2d-51          [-1, 128, 32, 32]          65,536\n",
      "      BatchNorm2d-52          [-1, 128, 32, 32]             256\n",
      "             ReLU-53          [-1, 128, 32, 32]               0\n",
      "           Conv2d-54          [-1, 128, 32, 32]         147,456\n",
      "      BatchNorm2d-55          [-1, 128, 32, 32]             256\n",
      "             ReLU-56          [-1, 128, 32, 32]               0\n",
      "           Conv2d-57          [-1, 512, 32, 32]          65,536\n",
      "        ResBlock2-58          [-1, 512, 32, 32]               0\n",
      "      BatchNorm2d-59          [-1, 512, 32, 32]           1,024\n",
      "           Conv2d-60          [-1, 128, 32, 32]          65,536\n",
      "      BatchNorm2d-61          [-1, 128, 32, 32]             256\n",
      "             ReLU-62          [-1, 128, 32, 32]               0\n",
      "           Conv2d-63          [-1, 128, 32, 32]         147,456\n",
      "      BatchNorm2d-64          [-1, 128, 32, 32]             256\n",
      "             ReLU-65          [-1, 128, 32, 32]               0\n",
      "           Conv2d-66          [-1, 512, 32, 32]          65,536\n",
      "        ResBlock2-67          [-1, 512, 32, 32]               0\n",
      "      BatchNorm2d-68          [-1, 512, 32, 32]           1,024\n",
      "           Conv2d-69         [-1, 1024, 16, 16]         524,288\n",
      "           Conv2d-70          [-1, 256, 16, 16]         131,072\n",
      "      BatchNorm2d-71          [-1, 256, 16, 16]             512\n",
      "             ReLU-72          [-1, 256, 16, 16]               0\n",
      "           Conv2d-73          [-1, 256, 16, 16]         589,824\n",
      "      BatchNorm2d-74          [-1, 256, 16, 16]             512\n",
      "             ReLU-75          [-1, 256, 16, 16]               0\n",
      "           Conv2d-76         [-1, 1024, 16, 16]         262,144\n",
      "         ResBlock-77         [-1, 1024, 16, 16]               0\n",
      "      BatchNorm2d-78         [-1, 1024, 16, 16]           2,048\n",
      "           Conv2d-79          [-1, 256, 16, 16]         262,144\n",
      "      BatchNorm2d-80          [-1, 256, 16, 16]             512\n",
      "             ReLU-81          [-1, 256, 16, 16]               0\n",
      "           Conv2d-82          [-1, 256, 16, 16]         589,824\n",
      "      BatchNorm2d-83          [-1, 256, 16, 16]             512\n",
      "             ReLU-84          [-1, 256, 16, 16]               0\n",
      "           Conv2d-85         [-1, 1024, 16, 16]         262,144\n",
      "        ResBlock2-86         [-1, 1024, 16, 16]               0\n",
      "      BatchNorm2d-87         [-1, 1024, 16, 16]           2,048\n",
      "           Conv2d-88          [-1, 256, 16, 16]         262,144\n",
      "      BatchNorm2d-89          [-1, 256, 16, 16]             512\n",
      "             ReLU-90          [-1, 256, 16, 16]               0\n",
      "           Conv2d-91          [-1, 256, 16, 16]         589,824\n",
      "      BatchNorm2d-92          [-1, 256, 16, 16]             512\n",
      "             ReLU-93          [-1, 256, 16, 16]               0\n",
      "           Conv2d-94         [-1, 1024, 16, 16]         262,144\n",
      "        ResBlock2-95         [-1, 1024, 16, 16]               0\n",
      "      BatchNorm2d-96         [-1, 1024, 16, 16]           2,048\n",
      "           Conv2d-97          [-1, 256, 16, 16]         262,144\n",
      "      BatchNorm2d-98          [-1, 256, 16, 16]             512\n",
      "             ReLU-99          [-1, 256, 16, 16]               0\n",
      "          Conv2d-100          [-1, 256, 16, 16]         589,824\n",
      "     BatchNorm2d-101          [-1, 256, 16, 16]             512\n",
      "            ReLU-102          [-1, 256, 16, 16]               0\n",
      "          Conv2d-103         [-1, 1024, 16, 16]         262,144\n",
      "       ResBlock2-104         [-1, 1024, 16, 16]               0\n",
      "     BatchNorm2d-105         [-1, 1024, 16, 16]           2,048\n",
      "          Conv2d-106          [-1, 256, 16, 16]         262,144\n",
      "     BatchNorm2d-107          [-1, 256, 16, 16]             512\n",
      "            ReLU-108          [-1, 256, 16, 16]               0\n",
      "          Conv2d-109          [-1, 256, 16, 16]         589,824\n",
      "     BatchNorm2d-110          [-1, 256, 16, 16]             512\n",
      "            ReLU-111          [-1, 256, 16, 16]               0\n",
      "          Conv2d-112         [-1, 1024, 16, 16]         262,144\n",
      "       ResBlock2-113         [-1, 1024, 16, 16]               0\n",
      "     BatchNorm2d-114         [-1, 1024, 16, 16]           2,048\n",
      "          Conv2d-115          [-1, 256, 16, 16]         262,144\n",
      "     BatchNorm2d-116          [-1, 256, 16, 16]             512\n",
      "            ReLU-117          [-1, 256, 16, 16]               0\n",
      "          Conv2d-118          [-1, 256, 16, 16]         589,824\n",
      "     BatchNorm2d-119          [-1, 256, 16, 16]             512\n",
      "            ReLU-120          [-1, 256, 16, 16]               0\n",
      "          Conv2d-121         [-1, 1024, 16, 16]         262,144\n",
      "       ResBlock2-122         [-1, 1024, 16, 16]               0\n",
      "     BatchNorm2d-123         [-1, 1024, 16, 16]           2,048\n",
      "          Conv2d-124           [-1, 2048, 8, 8]       2,097,152\n",
      "          Conv2d-125            [-1, 512, 8, 8]         524,288\n",
      "     BatchNorm2d-126            [-1, 512, 8, 8]           1,024\n",
      "            ReLU-127            [-1, 512, 8, 8]               0\n",
      "          Conv2d-128            [-1, 512, 8, 8]       2,359,296\n",
      "     BatchNorm2d-129            [-1, 512, 8, 8]           1,024\n",
      "            ReLU-130            [-1, 512, 8, 8]               0\n",
      "          Conv2d-131           [-1, 2048, 8, 8]       1,048,576\n",
      "        ResBlock-132           [-1, 2048, 8, 8]               0\n",
      "     BatchNorm2d-133           [-1, 2048, 8, 8]           4,096\n",
      "          Conv2d-134            [-1, 512, 8, 8]       1,048,576\n",
      "     BatchNorm2d-135            [-1, 512, 8, 8]           1,024\n",
      "            ReLU-136            [-1, 512, 8, 8]               0\n",
      "          Conv2d-137            [-1, 512, 8, 8]       2,359,296\n",
      "     BatchNorm2d-138            [-1, 512, 8, 8]           1,024\n",
      "            ReLU-139            [-1, 512, 8, 8]               0\n",
      "          Conv2d-140           [-1, 2048, 8, 8]       1,048,576\n",
      "       ResBlock2-141           [-1, 2048, 8, 8]               0\n",
      "     BatchNorm2d-142           [-1, 2048, 8, 8]           4,096\n",
      "          Conv2d-143            [-1, 512, 8, 8]       1,048,576\n",
      "     BatchNorm2d-144            [-1, 512, 8, 8]           1,024\n",
      "            ReLU-145            [-1, 512, 8, 8]               0\n",
      "          Conv2d-146            [-1, 512, 8, 8]       2,359,296\n",
      "     BatchNorm2d-147            [-1, 512, 8, 8]           1,024\n",
      "            ReLU-148            [-1, 512, 8, 8]               0\n",
      "          Conv2d-149           [-1, 2048, 8, 8]       1,048,576\n",
      "       ResBlock2-150           [-1, 2048, 8, 8]               0\n",
      "     BatchNorm2d-151           [-1, 2048, 8, 8]           4,096\n",
      "            ReLU-152           [-1, 2048, 8, 8]               0\n",
      "AdaptiveAvgPool2d-153           [-1, 2048, 1, 1]               0\n",
      "         Flatten-154                 [-1, 2048]               0\n",
      "        Identity-155                 [-1, 2048]               0\n",
      "================================================================\n",
      "Total params: 23,500,352\n",
      "Trainable params: 0\n",
      "Non-trainable params: 23,500,352\n",
      "----------------------------------------------------------------\n",
      "Input size (MB): 0.72\n",
      "Forward/backward pass size (MB): 271.46\n",
      "Params size (MB): 89.65\n",
      "Estimated Total Size (MB): 361.82\n",
      "----------------------------------------------------------------\n"
     ]
    }
   ],
   "source": [
    "summary(loaded_model, input_size = (3, 250, 250), batch_size = -1)"
   ]
  },
  {
   "cell_type": "code",
   "execution_count": 39,
   "id": "c2b890d4",
   "metadata": {},
   "outputs": [],
   "source": [
    "# m = nn.Identity(54, unused_argument1=0.1, unused_argument2=False)\n",
    "# input = torch.randn(2, 3)\n",
    "# print(input)\n",
    "# output = m(input)\n",
    "# print(output.size())\n",
    "# print(output)"
   ]
  },
  {
   "cell_type": "markdown",
   "id": "5329086f",
   "metadata": {},
   "source": [
    "### Step 2b) Loading the pre-trained Model : Option2"
   ]
  },
  {
   "cell_type": "code",
   "execution_count": null,
   "id": "37c537c8",
   "metadata": {},
   "outputs": [],
   "source": [
    "class CosFace(nn.Module):\n",
    "    def __init__(self, in_features=2048, out_features=5749, s=64.0, m=0.35):\n",
    "        super(CosFace, self).__init__()\n",
    "        self.in_features = in_features\n",
    "        self.out_features = out_features\n",
    "        self.s = s\n",
    "        self.m = m\n",
    "        self.kernel = nn.Parameter(torch.FloatTensor(in_features, out_features))\n",
    "        nn.init.normal_(self.kernel, std=0.01)\n",
    "\n",
    "    def forward(self, logits, labels):\n",
    "        logits = F.normalize(logits, p=2.0, dim=1) #l2_norm(logits, axis=1)\n",
    "        kernel_norm = F.normalize(self.kernel, p=2.0, dim=0) #l2_norm(self.kernel, axis=0)\n",
    "        cos_theta = torch.mm(logits, kernel_norm)\n",
    "        cos_theta = cos_theta.clamp(-1, 1)  # for numerical stability\n",
    "        index = torch.where(labels != -1)[0]\n",
    "        m_hot = torch.zeros(index.size()[0], cos_theta.size()[1]).to(device)\n",
    "        m_hot.scatter_(1, labels[index, None], self.m).to(device)\n",
    "        cos_theta[index] -= m_hot\n",
    "        ret = cos_theta * self.s\n",
    "        return ret"
   ]
  },
  {
   "cell_type": "code",
   "execution_count": null,
   "id": "4c36464e",
   "metadata": {},
   "outputs": [],
   "source": [
    "new_logits = CosFace()"
   ]
  },
  {
   "cell_type": "code",
   "execution_count": null,
   "id": "8e9daa01",
   "metadata": {},
   "outputs": [],
   "source": [
    "to_device(new_logits, device)\n",
    "#new_logits.to(device)"
   ]
  },
  {
   "cell_type": "code",
   "execution_count": null,
   "id": "737d38ba",
   "metadata": {},
   "outputs": [],
   "source": [
    "checkpoint = torch.load(\"../Checkpoints/model_02_Mar_15.pt\")\n",
    "loaded_model.load_state_dict(checkpoint['model_state_dict'])\n",
    "#opt1 = checkpoint['model_optimizer_state_dict']\n",
    "#opt2 = checkpoint['fc_optimizer_state_dict']\n",
    "#opt2['state'][0]['momentum_buffer']\n",
    "#n.kernel.shape\n",
    "train_acc = checkpoint['train_acc']\n",
    "val_acc = checkpoint['val_acc']\n",
    "print(train_acc, val_acc)"
   ]
  },
  {
   "cell_type": "code",
   "execution_count": null,
   "id": "4e81df9a",
   "metadata": {},
   "outputs": [],
   "source": [
    "loaded_model.fc = nn.Identity(54, unused_argument1=0.1, unused_argument2=False)"
   ]
  },
  {
   "cell_type": "code",
   "execution_count": null,
   "id": "7f48cde5",
   "metadata": {},
   "outputs": [],
   "source": [
    "to_device(loaded_model, device)"
   ]
  },
  {
   "cell_type": "code",
   "execution_count": null,
   "id": "c178414b",
   "metadata": {},
   "outputs": [],
   "source": [
    "summary(loaded_model, input_size = (3, 62, 47), batch_size = -1)"
   ]
  },
  {
   "cell_type": "markdown",
   "id": "075f3d34",
   "metadata": {},
   "source": [
    "### Step 3) Testing the model"
   ]
  },
  {
   "cell_type": "code",
   "execution_count": 40,
   "id": "192dfc7c",
   "metadata": {},
   "outputs": [],
   "source": [
    "def compute_embedding(model, xb, sim_metric):\n",
    "    with torch.no_grad():\n",
    "        features = model(xb) #F.normalize(model(xb))\n",
    "        score = sim_metric(features[0], features[1])\n",
    "    \n",
    "    return score"
   ]
  },
  {
   "cell_type": "code",
   "execution_count": 41,
   "id": "35610e38",
   "metadata": {},
   "outputs": [],
   "source": [
    "similarity = nn.CosineSimilarity(dim=0, eps=1e-6)"
   ]
  },
  {
   "cell_type": "code",
   "execution_count": 42,
   "id": "a3f0f68d",
   "metadata": {},
   "outputs": [],
   "source": [
    "tra = transforms.Compose(\n",
    "    [#transforms.ToPILImage(),\n",
    "     transforms.ToTensor(),\n",
    "     transforms.Normalize(mean=[0.5, 0.5, 0.5], std=[0.5, 0.5, 0.5])\n",
    "     ])"
   ]
  },
  {
   "cell_type": "code",
   "execution_count": 62,
   "id": "6e206d6c",
   "metadata": {},
   "outputs": [],
   "source": [
    "def ver_accuracy(scores, img_targets, thres_arr, num_samples=1000):\n",
    "    targets_tensor = torch.from_numpy(img_targets)\n",
    "    \n",
    "    for thres in thres_arr:\n",
    "        outputs = scores >= thres\n",
    "        #print(outputs.shape, outputs)\n",
    "        outputs = outputs.long()\n",
    "        #print(outputs.shape, outputs)\n",
    "        matches = outputs == targets_tensor\n",
    "        #print(matches.shape, matches)\n",
    "        matches = matches.long()\n",
    "        success = torch.count_nonzero(matches)\n",
    "        acc = success/num_samples * 100\n",
    "        \n",
    "        print(\"Thres: \", thres, \"| Veri acc.: \", np.round(acc.item(), 2))"
   ]
  },
  {
   "cell_type": "code",
   "execution_count": null,
   "id": "68606195",
   "metadata": {},
   "outputs": [],
   "source": [
    "def compute_scores(img_pairs, img_targets):\n",
    "    \n",
    "    scores = []\n",
    "    \n",
    "    for idx in np.arange(0, 1000):\n",
    "        pair = img_pairs[idx]\n",
    "        actual = img_targets[idx]\n",
    "        \n",
    "        #convert pair to pytorch tensor, normalize\n",
    "        img1 = pair[0]\n",
    "        img1 = img1/255\n",
    "        img1 = tra(img1)\n",
    "    \n",
    "        img2 = pair[1]\n",
    "        img2 = img2/255\n",
    "        img2 = tra(img2)\n",
    "        \n",
    "        #convert into a batch\n",
    "        new_pair = torch.stack((img1, img2), 0).to(device)\n",
    "        \n",
    "        score = compute_embedding(loaded_model, new_pair, similarity)\n",
    "        #print(actual, score.item())\n",
    "        \n",
    "        scores.append(score.item())\n",
    "        #scores.append(np.abs(score.cpu()))\n",
    "    \n",
    "    scores = torch.FloatTensor(scores)\n",
    "    #print(scores.shape, scores)\n",
    "    \n",
    "    return scores"
   ]
  },
  {
   "cell_type": "code",
   "execution_count": null,
   "id": "a58a47d1",
   "metadata": {},
   "outputs": [],
   "source": [
    "computed_scores = compute_scores(pairs, targets)\n",
    "print(computed_scores.shape)\n",
    "print(computed_scores)"
   ]
  },
  {
   "cell_type": "code",
   "execution_count": null,
   "id": "a70f92da",
   "metadata": {},
   "outputs": [],
   "source": [
    "torch.min(computed_scores), torch.max(computed_scores)"
   ]
  },
  {
   "cell_type": "code",
   "execution_count": null,
   "id": "b7e7e698",
   "metadata": {},
   "outputs": [],
   "source": [
    "thresholds = [0.01, 0.03, 0.05, 0.1, 0.2, 0.3]\n",
    "ver_accuracy(computed_scores, targets, thresholds)"
   ]
  },
  {
   "cell_type": "markdown",
   "id": "ce9d2fd3",
   "metadata": {},
   "source": [
    "### Step 3) Testing the model - Option 2"
   ]
  },
  {
   "cell_type": "code",
   "execution_count": 45,
   "id": "93e907bf",
   "metadata": {},
   "outputs": [],
   "source": [
    "def compute_scores2(img_pairs, img_targets):\n",
    "    \n",
    "    scores = []\n",
    "    \n",
    "    for idx in np.arange(0, 12000, 2):\n",
    "        actual = img_targets[int(idx/2)]\n",
    "        \n",
    "        #convert pair to pytorch tensor, normalize\n",
    "        img1 = img_pairs[idx]\n",
    "        img1 = torch.permute(img1, (1, 2, 0))\n",
    "        img1 = img1.numpy()\n",
    "        img1 = img1/255\n",
    "        img1 = tra(img1)\n",
    "    \n",
    "        img2 = img_pairs[idx+1]\n",
    "        img2 = torch.permute(img2, (1, 2, 0))\n",
    "        img2 = img2.numpy()\n",
    "        img2 = img2/255\n",
    "        img2 = tra(img2)\n",
    "        \n",
    "        #convert into a batch\n",
    "        new_pair = torch.stack((img1, img2), 0).to(device)\n",
    "        \n",
    "        score = compute_embedding(loaded_model, new_pair, similarity)\n",
    "        #print(actual, score.item())\n",
    "        \n",
    "        scores.append(score.item())\n",
    "        #scores.append(np.abs(score.cpu()))\n",
    "    \n",
    "    scores = torch.FloatTensor(scores)\n",
    "    #print(scores.shape, scores)\n",
    "    \n",
    "    return scores"
   ]
  },
  {
   "cell_type": "code",
   "execution_count": 46,
   "id": "a1b7d278",
   "metadata": {},
   "outputs": [
    {
     "name": "stdout",
     "output_type": "stream",
     "text": [
      "torch.Size([6000])\n",
      "tensor([0.3166, 0.3990, 0.3593, 0.4213, 0.3495,  ..., 0.2251, 0.1981, 0.2135,\n",
      "        0.2018, 0.2530])\n"
     ]
    }
   ],
   "source": [
    "computed_scores = compute_scores2(x, y)\n",
    "print(computed_scores.shape)\n",
    "print(computed_scores)"
   ]
  },
  {
   "cell_type": "code",
   "execution_count": 47,
   "id": "13135737",
   "metadata": {},
   "outputs": [
    {
     "data": {
      "text/plain": [
       "(tensor(0.1195), tensor(0.6086))"
      ]
     },
     "execution_count": 47,
     "metadata": {},
     "output_type": "execute_result"
    }
   ],
   "source": [
    "torch.min(computed_scores), torch.max(computed_scores)"
   ]
  },
  {
   "cell_type": "code",
   "execution_count": 48,
   "id": "a898030e",
   "metadata": {},
   "outputs": [],
   "source": [
    "targets = np.array(issame_list)\n",
    "#print(targets)\n",
    "targets = targets.astype(int)\n",
    "#print(targets)\n",
    "#targets_tensor = torch.from_numpy(targets)"
   ]
  },
  {
   "cell_type": "code",
   "execution_count": 63,
   "id": "25ce23a7",
   "metadata": {},
   "outputs": [
    {
     "name": "stdout",
     "output_type": "stream",
     "text": [
      "Thres:  0.1 | Veri acc.:  50.0\n",
      "Thres:  0.2 | Veri acc.:  70.25\n",
      "Thres:  0.22 | Veri acc.:  83.55\n",
      "Thres:  0.24 | Veri acc.:  92.23\n",
      "Thres:  0.25 | Veri acc.:  93.85\n",
      "Thres:  0.255 | Veri acc.:  94.3\n",
      "Thres:  0.26 | Veri acc.:  94.3\n",
      "Thres:  0.265 | Veri acc.:  94.03\n",
      "Thres:  0.27 | Veri acc.:  93.68\n",
      "Thres:  0.28 | Veri acc.:  91.57\n",
      "Thres:  0.3 | Veri acc.:  85.17\n",
      "Thres:  0.4 | Veri acc.:  53.8\n",
      "Thres:  0.5 | Veri acc.:  50.28\n"
     ]
    }
   ],
   "source": [
    "thresholds = [0.1, 0.2, 0.22, 0.24, 0.25, 0.255, 0.26, 0.265, 0.27, 0.28, 0.3, 0.4, 0.5]\n",
    "ver_accuracy(computed_scores, targets, thresholds, num_samples=6000)"
   ]
  },
  {
   "cell_type": "code",
   "execution_count": null,
   "id": "089b73bf",
   "metadata": {},
   "outputs": [],
   "source": []
  }
 ],
 "metadata": {
  "kernelspec": {
   "display_name": "Python 3 (ipykernel)",
   "language": "python",
   "name": "python3"
  },
  "language_info": {
   "codemirror_mode": {
    "name": "ipython",
    "version": 3
   },
   "file_extension": ".py",
   "mimetype": "text/x-python",
   "name": "python",
   "nbconvert_exporter": "python",
   "pygments_lexer": "ipython3",
   "version": "3.9.7"
  }
 },
 "nbformat": 4,
 "nbformat_minor": 5
}
