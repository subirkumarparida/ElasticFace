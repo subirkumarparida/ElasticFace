{
 "cells": [
  {
   "cell_type": "markdown",
   "id": "24f842b2",
   "metadata": {},
   "source": [
    "### Import Libraries"
   ]
  },
  {
   "cell_type": "code",
   "execution_count": 1,
   "id": "07fc4f57",
   "metadata": {},
   "outputs": [],
   "source": [
    "import os\n",
    "import cv2\n",
    "import copy\n",
    "import math\n",
    "import time\n",
    "import tqdm\n",
    "import tarfile\n",
    "import numbers\n",
    "import threading\n",
    "import queue as Queue\n",
    "import numpy as np\n",
    "import pandas as pd\n",
    "import matplotlib\n",
    "import matplotlib.pyplot as plt\n",
    "from sklearn.metrics import confusion_matrix, accuracy_score, roc_auc_score, roc_curve, classification_report\n",
    "\n",
    "import torch\n",
    "import torchvision\n",
    "import torch.nn as nn\n",
    "import torch.nn.functional as F\n",
    "from torchvision import transforms\n",
    "from torchvision.transforms import ToTensor\n",
    "from torchvision.datasets import ImageFolder\n",
    "from torchvision.datasets.utils import download_url\n",
    "#from torch.utils.data.dataloader import DataLoader\n",
    "from torch.utils.data import random_split, DataLoader, Dataset\n",
    "from torchsummary import summary"
   ]
  },
  {
   "cell_type": "code",
   "execution_count": 2,
   "id": "fb6df892",
   "metadata": {},
   "outputs": [],
   "source": [
    "import pickle\n",
    "import mxnet as mx\n",
    "from mxnet import recordio\n",
    "from mxnet import ndarray as nd"
   ]
  },
  {
   "cell_type": "code",
   "execution_count": 3,
   "id": "7775d94d",
   "metadata": {},
   "outputs": [],
   "source": [
    "import warnings\n",
    "warnings.filterwarnings(\"ignore\", category=DeprecationWarning)"
   ]
  },
  {
   "cell_type": "code",
   "execution_count": 4,
   "id": "53c36fe6",
   "metadata": {},
   "outputs": [],
   "source": [
    "from IPython.display import Markdown, display\n",
    "def printmd(string):\n",
    "    display(Markdown(string))"
   ]
  },
  {
   "cell_type": "code",
   "execution_count": 5,
   "id": "ec86eae4",
   "metadata": {},
   "outputs": [],
   "source": [
    "random_seed = 42\n",
    "torch.manual_seed(random_seed)"
   ]
  },
  {
   "cell_type": "code",
   "execution_count": 6,
   "id": "df14c534",
   "metadata": {},
   "outputs": [],
   "source": [
    "torch.set_printoptions(edgeitems=5)"
   ]
  },
  {
   "cell_type": "code",
   "execution_count": 7,
   "id": "4ab5979f",
   "metadata": {},
   "outputs": [],
   "source": [
    "def get_default_device():\n",
    "    \"\"\"Pick GPU if available, else CPU\"\"\"\n",
    "    if torch.cuda.is_available():\n",
    "        return torch.device('cuda')\n",
    "    else:\n",
    "        return torch.device('cpu')\n",
    "\n",
    "def to_device(data, device):\n",
    "    \"\"\"Move tensor(s) to chosen device\"\"\"\n",
    "    if isinstance(data, (list,tuple)):\n",
    "        return [to_device(x, device) for x in data]\n",
    "    return data.to(device, non_blocking=True)\n",
    "\n",
    "class DeviceDataLoader():\n",
    "    \"\"\"Wrap a dataloader to move data to a device\"\"\"\n",
    "    def __init__(self, dl, device):\n",
    "        self.dl = dl\n",
    "        self.device = device\n",
    "        \n",
    "    def __iter__(self):\n",
    "        \"\"\"Yield a batch of data after moving it to device\"\"\"\n",
    "        for b in self.dl: \n",
    "            yield to_device(b, self.device)\n",
    "\n",
    "    def __len__(self):\n",
    "        \"\"\"Number of batches\"\"\"\n",
    "        return len(self.dl)"
   ]
  },
  {
   "cell_type": "code",
   "execution_count": 8,
   "id": "1537c1fa",
   "metadata": {},
   "outputs": [],
   "source": [
    "device = get_default_device()"
   ]
  },
  {
   "cell_type": "code",
   "execution_count": 9,
   "id": "113b7842",
   "metadata": {},
   "outputs": [
    {
     "data": {
      "text/plain": [
       "device(type='cuda')"
      ]
     },
     "execution_count": 9,
     "metadata": {},
     "output_type": "execute_result"
    }
   ],
   "source": [
    "device"
   ]
  },
  {
   "cell_type": "markdown",
   "id": "f343280a",
   "metadata": {},
   "source": [
    "### Step 1a) Fetch the LFW dataset"
   ]
  },
  {
   "cell_type": "markdown",
   "id": "84a7d115",
   "metadata": {},
   "source": [
    "#### Option i) Fetch the kaggle downloaded LFW dataset"
   ]
  },
  {
   "cell_type": "code",
   "execution_count": 10,
   "id": "23689a0d",
   "metadata": {},
   "outputs": [],
   "source": [
    "# main_dir = '../../datasets/LFW' #For Ubuntu\n",
    "# #main_dir = 'D:/Face/LFW' #For Windows\n",
    "# data_dir = main_dir + \"/lfw-deepfunneled/lfw-deepfunneled\"\n",
    "\n",
    "# print(os.listdir(main_dir))\n",
    "# classes = os.listdir(data_dir)\n",
    "# print(len(classes))"
   ]
  },
  {
   "cell_type": "code",
   "execution_count": 11,
   "id": "7834d7c1",
   "metadata": {},
   "outputs": [],
   "source": [
    "# img_Aaron_Eckhart = os.listdir(data_dir + \"/Aaron_Eckhart\")\n",
    "# print('No. of training examples for Aaron_Eckhart:', len(img_Aaron_Eckhart))\n",
    "# print(img_Aaron_Eckhart[:])"
   ]
  },
  {
   "cell_type": "code",
   "execution_count": 12,
   "id": "38ab30e0",
   "metadata": {},
   "outputs": [],
   "source": [
    "# dataset = ImageFolder(data_dir, transform=ToTensor())"
   ]
  },
  {
   "cell_type": "code",
   "execution_count": 13,
   "id": "2534f0a5",
   "metadata": {},
   "outputs": [],
   "source": [
    "# len(dataset)"
   ]
  },
  {
   "cell_type": "code",
   "execution_count": 14,
   "id": "e763ed80",
   "metadata": {},
   "outputs": [],
   "source": [
    "# print(dataset.classes)"
   ]
  },
  {
   "cell_type": "code",
   "execution_count": 15,
   "id": "47807f8b",
   "metadata": {},
   "outputs": [],
   "source": [
    "# img, label = dataset[13232]\n",
    "# print(img.shape, label)"
   ]
  },
  {
   "cell_type": "code",
   "execution_count": 16,
   "id": "7da91b13",
   "metadata": {},
   "outputs": [],
   "source": [
    "# img, label = dataset[1500]\n",
    "# #img = torch.reshape(img, (size2, size2, 3))\n",
    "# img = img.permute(1, 2, 0)\n",
    "\n",
    "# plt.imshow(img)\n",
    "# plt.title('label = ' + str(label))"
   ]
  },
  {
   "cell_type": "code",
   "execution_count": 17,
   "id": "3f2a074c",
   "metadata": {},
   "outputs": [],
   "source": [
    "# img, label = dataset[0]\n",
    "# #img = torch.reshape(img, (size2, size2, 3))\n",
    "# img = img.permute(1, 2, 0)\n",
    "\n",
    "# plt.imshow(img)\n",
    "# plt.title('label = ' + str(label))"
   ]
  },
  {
   "cell_type": "markdown",
   "id": "d69cd147",
   "metadata": {},
   "source": [
    "#### Option ii) Fetch the sklearn library LFW dataset"
   ]
  },
  {
   "cell_type": "code",
   "execution_count": 18,
   "id": "7cded97b",
   "metadata": {},
   "outputs": [],
   "source": [
    "# from sklearn.datasets import fetch_lfw_pairs"
   ]
  },
  {
   "cell_type": "code",
   "execution_count": 19,
   "id": "b1bca00d",
   "metadata": {},
   "outputs": [],
   "source": [
    "# data_path1 = \"D:/Face/send/\" #Windows\n",
    "# data_path2 = \"../../datasets/\" #Ubuntu\n",
    "# lfw_people = fetch_lfw_pairs(data_home = data_path2, subset='test', color=True, resize=1)"
   ]
  },
  {
   "cell_type": "code",
   "execution_count": 20,
   "id": "25875659",
   "metadata": {},
   "outputs": [],
   "source": [
    "# pairs = lfw_people.pairs\n",
    "# targets = lfw_people.target"
   ]
  },
  {
   "cell_type": "code",
   "execution_count": 21,
   "id": "ffc5209b",
   "metadata": {},
   "outputs": [],
   "source": [
    "# pairs.shape, targets.shape"
   ]
  },
  {
   "cell_type": "code",
   "execution_count": 22,
   "id": "91b2fd16",
   "metadata": {},
   "outputs": [],
   "source": [
    "# np.count_nonzero(targets==1)"
   ]
  },
  {
   "cell_type": "code",
   "execution_count": 23,
   "id": "0b06f41d",
   "metadata": {},
   "outputs": [],
   "source": [
    "# idx = 0\n",
    "# pair = pairs[idx]\n",
    "# img1 = pair[0]\n",
    "# img2 = pair[1]\n",
    "\n",
    "# plt.imshow(img1.astype(int))\n",
    "# plt.show()\n",
    "\n",
    "# plt.imshow(img2.astype(int))\n",
    "# plt.show()\n",
    "\n",
    "# print(\"actual: \", targets[idx])"
   ]
  },
  {
   "cell_type": "code",
   "execution_count": 24,
   "id": "4547ad43",
   "metadata": {},
   "outputs": [],
   "source": [
    "#img1.astype(int)"
   ]
  },
  {
   "cell_type": "markdown",
   "id": "9d0939c2",
   "metadata": {},
   "source": [
    "#### Option iii) Fetch the mx LFW dataset"
   ]
  },
  {
   "cell_type": "code",
   "execution_count": 25,
   "id": "3e5974ab",
   "metadata": {},
   "outputs": [],
   "source": [
    "image_size = [112, 112]"
   ]
  },
  {
   "cell_type": "code",
   "execution_count": 26,
   "id": "a09668fc",
   "metadata": {},
   "outputs": [],
   "source": [
    "path = \"../faces_emore/lfw.bin\" #For Ubuntu\n",
    "#path = \"D:/Face/faces_emore/lfw.bin\" #For Windows"
   ]
  },
  {
   "cell_type": "code",
   "execution_count": 27,
   "id": "068f01d2",
   "metadata": {},
   "outputs": [],
   "source": [
    "@torch.no_grad()\n",
    "def load_bin(path, image_size=[112, 112]):\n",
    "    with open(path, 'rb') as f:\n",
    "        bins, issame_list = pickle.load(f, encoding='bytes')\n",
    "    data_list = []\n",
    "    \n",
    "    for idx in np.arange(0, len(issame_list)*2, 2):\n",
    "        img = []\n",
    "        \n",
    "        _bin1 = bins[idx]\n",
    "        _bin2 = bins[idx+1]\n",
    "        img1 = mx.image.imdecode(_bin1)\n",
    "        img2 = mx.image.imdecode(_bin2)\n",
    "        if img1.shape[1] != image_size[0]:\n",
    "            img1 = mx.image.resize_short(img1, image_size[0])\n",
    "        if img2.shape[1] != image_size[0]:\n",
    "            img2 = mx.image.resize_short(img2, image_size[0])\n",
    "            \n",
    "        img1 = img1.asnumpy()\n",
    "        img2 = img2.asnumpy()\n",
    "\n",
    "        img.append(img1)\n",
    "        img.append(img2)\n",
    "        img = np.array(img)\n",
    "        data_list.append(img)\n",
    "        \n",
    "        if idx % 1000 == 0:\n",
    "            print('loading bin', idx)\n",
    "    \n",
    "    data_list = np.array(data_list)\n",
    "    \n",
    "    issame_list = np.array(issame_list)\n",
    "    issame_list = issame_list.astype(int)\n",
    "    \n",
    "    print(data_list.shape, issame_list.shape)\n",
    "    return data_list, issame_list"
   ]
  },
  {
   "cell_type": "code",
   "execution_count": 28,
   "id": "80431c7e",
   "metadata": {},
   "outputs": [
    {
     "name": "stdout",
     "output_type": "stream",
     "text": [
      "loading bin 0\n",
      "loading bin 1000\n",
      "loading bin 2000\n",
      "loading bin 3000\n",
      "loading bin 4000\n",
      "loading bin 5000\n",
      "loading bin 6000\n",
      "loading bin 7000\n",
      "loading bin 8000\n",
      "loading bin 9000\n",
      "loading bin 10000\n",
      "loading bin 11000\n",
      "(6000, 2, 112, 112, 3) (6000,)\n"
     ]
    }
   ],
   "source": [
    "X, y = load_bin(path)"
   ]
  },
  {
   "cell_type": "code",
   "execution_count": 29,
   "id": "8257c810",
   "metadata": {},
   "outputs": [
    {
     "data": {
      "image/png": "[encoded data removed]",
      "text/plain": [
       "<Figure size 432x288 with 1 Axes>"
      ]
     },
     "metadata": {
      "needs_background": "light"
     },
     "output_type": "display_data"
    },
    {
     "data": {
      "image/png": "[encoded data removed]",
      "text/plain": [
       "<Figure size 432x288 with 1 Axes>"
      ]
     },
     "metadata": {
      "needs_background": "light"
     },
     "output_type": "display_data"
    },
    {
     "name": "stdout",
     "output_type": "stream",
     "text": [
      "actual:  1\n"
     ]
    }
   ],
   "source": [
    "idx = 100\n",
    "pair = X[idx]\n",
    "img1 = pair[0]\n",
    "img2 = pair[1]\n",
    "\n",
    "plt.imshow(img1)\n",
    "plt.show()\n",
    "\n",
    "plt.imshow(img2)\n",
    "plt.show()\n",
    "\n",
    "print(\"actual: \", y[idx])"
   ]
  },
  {
   "cell_type": "code",
   "execution_count": 30,
   "id": "de023fb0",
   "metadata": {},
   "outputs": [],
   "source": [
    "#img1"
   ]
  },
  {
   "cell_type": "markdown",
   "id": "5b517875",
   "metadata": {},
   "source": [
    "### Step 2a) Model Architecture - Network"
   ]
  },
  {
   "cell_type": "code",
   "execution_count": 31,
   "id": "83fdb419",
   "metadata": {},
   "outputs": [],
   "source": [
    "def conv_2d(ni, nf, ks, stride=1):\n",
    "    return nn.Conv2d(in_channels=ni, out_channels=nf, kernel_size=ks, stride=stride, padding=ks//2, bias=False)\n",
    "\n",
    "def bn_relu_conv(ni, nf, ks):\n",
    "    return nn.Sequential(nn.BatchNorm2d(ni), \n",
    "                       nn.ReLU(inplace=True),\n",
    "                       conv_2d(ni, nf, ks))"
   ]
  },
  {
   "cell_type": "code",
   "execution_count": 32,
   "id": "34f99612",
   "metadata": {},
   "outputs": [],
   "source": [
    "class ResBlock(nn.Module):\n",
    "    def __init__(self, ni, nf, stride=1):\n",
    "        super().__init__()\n",
    "        if ni > 100:\n",
    "            temp = ni * 2\n",
    "        else:\n",
    "            temp = ni\n",
    "        self.bn = nn.BatchNorm2d(temp)\n",
    "        self.conv1 = conv_2d(temp, ni, 1, stride)\n",
    "        self.conv2 = bn_relu_conv(ni, ni, ks=3)\n",
    "        self.conv3 = bn_relu_conv(ni, nf, ks=1)\n",
    "        self.shortcut = lambda x: x\n",
    "        if ni != nf:\n",
    "            self.shortcut = conv_2d(temp, nf, 1, stride)\n",
    "\n",
    "    def forward(self, x):\n",
    "        #print(\"Inside Res Block1\")\n",
    "        #print(x.shape)\n",
    "        x = F.relu(self.bn(x), inplace=True)\n",
    "        #print(x.shape)\n",
    "        r1 = self.shortcut(x)\n",
    "        #print(r1.shape)\n",
    "        x = self.conv1(x)\n",
    "        x = self.conv2(x)\n",
    "        x = self.conv3(x) * 0.2\n",
    "        #print(x.shape)\n",
    "        return x.add_(r1)"
   ]
  },
  {
   "cell_type": "code",
   "execution_count": 33,
   "id": "c5a3eb52",
   "metadata": {},
   "outputs": [],
   "source": [
    "class ResBlock2(nn.Module):\n",
    "    def __init__(self, ni, nf, stride=1):\n",
    "        super().__init__()\n",
    "        self.bn = nn.BatchNorm2d(ni)\n",
    "        self.conv1 = conv_2d(ni, nf, 1, stride)\n",
    "        self.conv2 = bn_relu_conv(nf, nf, ks=3)\n",
    "        self.conv3 = bn_relu_conv(nf, ni, ks=1)\n",
    "        self.shortcut = lambda x: x\n",
    "#        if ni != nf:\n",
    "#            self.shortcut = conv_2d(ni, nf, 1, 1)\n",
    "\n",
    "    def forward(self, x):\n",
    "        #print(\"Inside Res Block2\")\n",
    "        #print(x.shape)\n",
    "        x = F.relu(self.bn(x), inplace=True)\n",
    "        #print(x.shape)\n",
    "        r = self.shortcut(x)\n",
    "        #print(r.shape)\n",
    "        x = self.conv1(x)\n",
    "        x = self.conv2(x)\n",
    "        x = self.conv3(x) * 0.2\n",
    "        return x.add_(r)"
   ]
  },
  {
   "cell_type": "code",
   "execution_count": 34,
   "id": "e4c87e4e",
   "metadata": {},
   "outputs": [],
   "source": [
    "def make_group(N, ni, nf, stride):\n",
    "    start = ResBlock(ni, nf, stride)\n",
    "    rest = [ResBlock2(nf, ni) for j in range(1, N)]\n",
    "    return [start] + rest"
   ]
  },
  {
   "cell_type": "code",
   "execution_count": 35,
   "id": "f7e5e1bc",
   "metadata": {},
   "outputs": [],
   "source": [
    "class Flatten(nn.Module):\n",
    "    def __init__(self):\n",
    "        super().__init__()\n",
    "    \n",
    "    def forward(self, x):\n",
    "        return x.view(x.size(0), -1)"
   ]
  },
  {
   "cell_type": "code",
   "execution_count": 36,
   "id": "13a38fae",
   "metadata": {},
   "outputs": [],
   "source": [
    "class MyResNet(nn.Module):\n",
    "    def __init__(self, n_groups, N, k=1, n_start=64):\n",
    "        super().__init__()\n",
    "        #Increase channels\n",
    "        self.layers = [conv_2d(3, 64, ks=7, stride=2)]\n",
    "        self.layers += [nn.MaxPool2d(kernel_size=3, stride=2, padding=1)]\n",
    "        n_channels = [n_start]\n",
    "\n",
    "        #Add groups\n",
    "        for i in range(n_groups):\n",
    "            n_channels.append(n_start*(2**i)*k)\n",
    "            stride = 2 if i>0 else 1\n",
    "            self.layers += make_group(N[i], n_channels[i], n_channels[i]*4, stride)\n",
    "\n",
    "        #Pool, Flatten, and add linear layer for classification  \n",
    "        self.layers += [nn.BatchNorm2d(n_channels[n_groups]*2),\n",
    "                        nn.ReLU(inplace=True),\n",
    "                        nn.AdaptiveAvgPool2d(1),\n",
    "                        #nn.AvgPool2d(kernel_size=2, stride=2),\n",
    "                        Flatten(), #2048-d embeddings\n",
    "                        #nn.Linear(n_channels[n_groups]*2, 512) #512-d embeddings\n",
    "                       ]\n",
    "        \n",
    "        #self.fc = nn.Linear(n_channels[n_groups]*2, n_classes)\n",
    "        self.features = nn.Sequential(*self.layers)\n",
    "        \n",
    "    def forward(self, x):\n",
    "        embed = self.features(x)\n",
    "        return embed #self.fc(embed)"
   ]
  },
  {
   "cell_type": "code",
   "execution_count": null,
   "id": "ee1df544",
   "metadata": {},
   "outputs": [],
   "source": [
    "#Number of blocks at various groups\n",
    "N_50 = [3, 4, 6, 3]\n",
    "N_101 = [3, 4, 23, 3]\n",
    "N_152 = [3, 8, 36, 3]\n",
    "\n",
    "def ResNet50():\n",
    "    return MyResNet(4, N_50, k=2)\n",
    "\n",
    "def ResNet101():\n",
    "    return MyResNet(4, N_101, k=2)\n",
    "\n",
    "def ResNet152():\n",
    "    return MyResNet(4, N_152, k=2)"
   ]
  },
  {
   "cell_type": "code",
   "execution_count": null,
   "id": "1b398ada",
   "metadata": {},
   "outputs": [],
   "source": [
    "loaded_model = ResNet50()\n",
    "to_device(loaded_model, device)"
   ]
  },
  {
   "cell_type": "code",
   "execution_count": 39,
   "id": "41f0f6fd",
   "metadata": {},
   "outputs": [
    {
     "name": "stdout",
     "output_type": "stream",
     "text": [
      "----------------------------------------------------------------\n",
      "        Layer (type)               Output Shape         Param #\n",
      "================================================================\n",
      "            Conv2d-1           [-1, 64, 25, 25]           9,408\n",
      "         MaxPool2d-2           [-1, 64, 13, 13]               0\n",
      "       BatchNorm2d-3           [-1, 64, 13, 13]             128\n",
      "            Conv2d-4          [-1, 256, 13, 13]          16,384\n",
      "            Conv2d-5           [-1, 64, 13, 13]           4,096\n",
      "       BatchNorm2d-6           [-1, 64, 13, 13]             128\n",
      "              ReLU-7           [-1, 64, 13, 13]               0\n",
      "            Conv2d-8           [-1, 64, 13, 13]          36,864\n",
      "       BatchNorm2d-9           [-1, 64, 13, 13]             128\n",
      "             ReLU-10           [-1, 64, 13, 13]               0\n",
      "           Conv2d-11          [-1, 256, 13, 13]          16,384\n",
      "         ResBlock-12          [-1, 256, 13, 13]               0\n",
      "      BatchNorm2d-13          [-1, 256, 13, 13]             512\n",
      "           Conv2d-14           [-1, 64, 13, 13]          16,384\n",
      "      BatchNorm2d-15           [-1, 64, 13, 13]             128\n",
      "             ReLU-16           [-1, 64, 13, 13]               0\n",
      "           Conv2d-17           [-1, 64, 13, 13]          36,864\n",
      "      BatchNorm2d-18           [-1, 64, 13, 13]             128\n",
      "             ReLU-19           [-1, 64, 13, 13]               0\n",
      "           Conv2d-20          [-1, 256, 13, 13]          16,384\n",
      "        ResBlock2-21          [-1, 256, 13, 13]               0\n",
      "      BatchNorm2d-22          [-1, 256, 13, 13]             512\n",
      "           Conv2d-23           [-1, 64, 13, 13]          16,384\n",
      "      BatchNorm2d-24           [-1, 64, 13, 13]             128\n",
      "             ReLU-25           [-1, 64, 13, 13]               0\n",
      "           Conv2d-26           [-1, 64, 13, 13]          36,864\n",
      "      BatchNorm2d-27           [-1, 64, 13, 13]             128\n",
      "             ReLU-28           [-1, 64, 13, 13]               0\n",
      "           Conv2d-29          [-1, 256, 13, 13]          16,384\n",
      "        ResBlock2-30          [-1, 256, 13, 13]               0\n",
      "      BatchNorm2d-31          [-1, 256, 13, 13]             512\n",
      "           Conv2d-32            [-1, 512, 7, 7]         131,072\n",
      "           Conv2d-33            [-1, 128, 7, 7]          32,768\n",
      "      BatchNorm2d-34            [-1, 128, 7, 7]             256\n",
      "             ReLU-35            [-1, 128, 7, 7]               0\n",
      "           Conv2d-36            [-1, 128, 7, 7]         147,456\n",
      "      BatchNorm2d-37            [-1, 128, 7, 7]             256\n",
      "             ReLU-38            [-1, 128, 7, 7]               0\n",
      "           Conv2d-39            [-1, 512, 7, 7]          65,536\n",
      "         ResBlock-40            [-1, 512, 7, 7]               0\n",
      "      BatchNorm2d-41            [-1, 512, 7, 7]           1,024\n",
      "           Conv2d-42            [-1, 128, 7, 7]          65,536\n",
      "      BatchNorm2d-43            [-1, 128, 7, 7]             256\n",
      "             ReLU-44            [-1, 128, 7, 7]               0\n",
      "           Conv2d-45            [-1, 128, 7, 7]         147,456\n",
      "      BatchNorm2d-46            [-1, 128, 7, 7]             256\n",
      "             ReLU-47            [-1, 128, 7, 7]               0\n",
      "           Conv2d-48            [-1, 512, 7, 7]          65,536\n",
      "        ResBlock2-49            [-1, 512, 7, 7]               0\n",
      "      BatchNorm2d-50            [-1, 512, 7, 7]           1,024\n",
      "           Conv2d-51            [-1, 128, 7, 7]          65,536\n",
      "      BatchNorm2d-52            [-1, 128, 7, 7]             256\n",
      "             ReLU-53            [-1, 128, 7, 7]               0\n",
      "           Conv2d-54            [-1, 128, 7, 7]         147,456\n",
      "      BatchNorm2d-55            [-1, 128, 7, 7]             256\n",
      "             ReLU-56            [-1, 128, 7, 7]               0\n",
      "           Conv2d-57            [-1, 512, 7, 7]          65,536\n",
      "        ResBlock2-58            [-1, 512, 7, 7]               0\n",
      "      BatchNorm2d-59            [-1, 512, 7, 7]           1,024\n",
      "           Conv2d-60            [-1, 128, 7, 7]          65,536\n",
      "      BatchNorm2d-61            [-1, 128, 7, 7]             256\n",
      "             ReLU-62            [-1, 128, 7, 7]               0\n",
      "           Conv2d-63            [-1, 128, 7, 7]         147,456\n",
      "      BatchNorm2d-64            [-1, 128, 7, 7]             256\n",
      "             ReLU-65            [-1, 128, 7, 7]               0\n",
      "           Conv2d-66            [-1, 512, 7, 7]          65,536\n",
      "        ResBlock2-67            [-1, 512, 7, 7]               0\n",
      "      BatchNorm2d-68            [-1, 512, 7, 7]           1,024\n",
      "           Conv2d-69           [-1, 1024, 4, 4]         524,288\n",
      "           Conv2d-70            [-1, 256, 4, 4]         131,072\n",
      "      BatchNorm2d-71            [-1, 256, 4, 4]             512\n",
      "             ReLU-72            [-1, 256, 4, 4]               0\n",
      "           Conv2d-73            [-1, 256, 4, 4]         589,824\n",
      "      BatchNorm2d-74            [-1, 256, 4, 4]             512\n",
      "             ReLU-75            [-1, 256, 4, 4]               0\n",
      "           Conv2d-76           [-1, 1024, 4, 4]         262,144\n",
      "         ResBlock-77           [-1, 1024, 4, 4]               0\n",
      "      BatchNorm2d-78           [-1, 1024, 4, 4]           2,048\n",
      "           Conv2d-79            [-1, 256, 4, 4]         262,144\n",
      "      BatchNorm2d-80            [-1, 256, 4, 4]             512\n",
      "             ReLU-81            [-1, 256, 4, 4]               0\n",
      "           Conv2d-82            [-1, 256, 4, 4]         589,824\n",
      "      BatchNorm2d-83            [-1, 256, 4, 4]             512\n",
      "             ReLU-84            [-1, 256, 4, 4]               0\n",
      "           Conv2d-85           [-1, 1024, 4, 4]         262,144\n",
      "        ResBlock2-86           [-1, 1024, 4, 4]               0\n",
      "      BatchNorm2d-87           [-1, 1024, 4, 4]           2,048\n",
      "           Conv2d-88            [-1, 256, 4, 4]         262,144\n",
      "      BatchNorm2d-89            [-1, 256, 4, 4]             512\n",
      "             ReLU-90            [-1, 256, 4, 4]               0\n",
      "           Conv2d-91            [-1, 256, 4, 4]         589,824\n",
      "      BatchNorm2d-92            [-1, 256, 4, 4]             512\n",
      "             ReLU-93            [-1, 256, 4, 4]               0\n",
      "           Conv2d-94           [-1, 1024, 4, 4]         262,144\n",
      "        ResBlock2-95           [-1, 1024, 4, 4]               0\n",
      "      BatchNorm2d-96           [-1, 1024, 4, 4]           2,048\n",
      "           Conv2d-97            [-1, 256, 4, 4]         262,144\n",
      "      BatchNorm2d-98            [-1, 256, 4, 4]             512\n",
      "             ReLU-99            [-1, 256, 4, 4]               0\n",
      "          Conv2d-100            [-1, 256, 4, 4]         589,824\n",
      "     BatchNorm2d-101            [-1, 256, 4, 4]             512\n",
      "            ReLU-102            [-1, 256, 4, 4]               0\n",
      "          Conv2d-103           [-1, 1024, 4, 4]         262,144\n",
      "       ResBlock2-104           [-1, 1024, 4, 4]               0\n",
      "     BatchNorm2d-105           [-1, 1024, 4, 4]           2,048\n",
      "          Conv2d-106            [-1, 256, 4, 4]         262,144\n",
      "     BatchNorm2d-107            [-1, 256, 4, 4]             512\n",
      "            ReLU-108            [-1, 256, 4, 4]               0\n",
      "          Conv2d-109            [-1, 256, 4, 4]         589,824\n",
      "     BatchNorm2d-110            [-1, 256, 4, 4]             512\n",
      "            ReLU-111            [-1, 256, 4, 4]               0\n",
      "          Conv2d-112           [-1, 1024, 4, 4]         262,144\n",
      "       ResBlock2-113           [-1, 1024, 4, 4]               0\n",
      "     BatchNorm2d-114           [-1, 1024, 4, 4]           2,048\n",
      "          Conv2d-115            [-1, 256, 4, 4]         262,144\n",
      "     BatchNorm2d-116            [-1, 256, 4, 4]             512\n",
      "            ReLU-117            [-1, 256, 4, 4]               0\n",
      "          Conv2d-118            [-1, 256, 4, 4]         589,824\n",
      "     BatchNorm2d-119            [-1, 256, 4, 4]             512\n",
      "            ReLU-120            [-1, 256, 4, 4]               0\n",
      "          Conv2d-121           [-1, 1024, 4, 4]         262,144\n",
      "       ResBlock2-122           [-1, 1024, 4, 4]               0\n",
      "     BatchNorm2d-123           [-1, 1024, 4, 4]           2,048\n",
      "          Conv2d-124           [-1, 2048, 2, 2]       2,097,152\n",
      "          Conv2d-125            [-1, 512, 2, 2]         524,288\n",
      "     BatchNorm2d-126            [-1, 512, 2, 2]           1,024\n",
      "            ReLU-127            [-1, 512, 2, 2]               0\n",
      "          Conv2d-128            [-1, 512, 2, 2]       2,359,296\n",
      "     BatchNorm2d-129            [-1, 512, 2, 2]           1,024\n",
      "            ReLU-130            [-1, 512, 2, 2]               0\n",
      "          Conv2d-131           [-1, 2048, 2, 2]       1,048,576\n",
      "        ResBlock-132           [-1, 2048, 2, 2]               0\n",
      "     BatchNorm2d-133           [-1, 2048, 2, 2]           4,096\n",
      "          Conv2d-134            [-1, 512, 2, 2]       1,048,576\n",
      "     BatchNorm2d-135            [-1, 512, 2, 2]           1,024\n",
      "            ReLU-136            [-1, 512, 2, 2]               0\n",
      "          Conv2d-137            [-1, 512, 2, 2]       2,359,296\n",
      "     BatchNorm2d-138            [-1, 512, 2, 2]           1,024\n",
      "            ReLU-139            [-1, 512, 2, 2]               0\n",
      "          Conv2d-140           [-1, 2048, 2, 2]       1,048,576\n",
      "       ResBlock2-141           [-1, 2048, 2, 2]               0\n",
      "     BatchNorm2d-142           [-1, 2048, 2, 2]           4,096\n",
      "          Conv2d-143            [-1, 512, 2, 2]       1,048,576\n",
      "     BatchNorm2d-144            [-1, 512, 2, 2]           1,024\n",
      "            ReLU-145            [-1, 512, 2, 2]               0\n",
      "          Conv2d-146            [-1, 512, 2, 2]       2,359,296\n",
      "     BatchNorm2d-147            [-1, 512, 2, 2]           1,024\n",
      "            ReLU-148            [-1, 512, 2, 2]               0\n",
      "          Conv2d-149           [-1, 2048, 2, 2]       1,048,576\n",
      "       ResBlock2-150           [-1, 2048, 2, 2]               0\n",
      "     BatchNorm2d-151           [-1, 2048, 2, 2]           4,096\n",
      "            ReLU-152           [-1, 2048, 2, 2]               0\n",
      "AdaptiveAvgPool2d-153           [-1, 2048, 1, 1]               0\n",
      "         Flatten-154                 [-1, 2048]               0\n",
      "================================================================\n",
      "Total params: 23,500,352\n",
      "Trainable params: 23,500,352\n",
      "Non-trainable params: 0\n",
      "----------------------------------------------------------------\n",
      "Input size (MB): 0.03\n",
      "Forward/backward pass size (MB): 13.39\n",
      "Params size (MB): 89.65\n",
      "Estimated Total Size (MB): 103.07\n",
      "----------------------------------------------------------------\n"
     ]
    }
   ],
   "source": [
    "summary(loaded_model, input_size = (3, 50, 50), batch_size = -1)"
   ]
  },
  {
   "cell_type": "code",
   "execution_count": null,
   "id": "40aadb08",
   "metadata": {},
   "outputs": [],
   "source": [
    "# def test():\n",
    "#     net = ResNet50(50)\n",
    "#     x = torch.randn(2, 3, 224, 224)\n",
    "#     y = net(x)\n",
    "#     print(y.shape)\n",
    "#     print(y)\n",
    "#     print(y[0].shape)\n",
    "#     to_device(net, device)\n",
    "#     summary(net, input_size = (3, 62, 47), batch_size = -1)\n",
    "#     return net"
   ]
  },
  {
   "cell_type": "code",
   "execution_count": null,
   "id": "58ff5e11",
   "metadata": {},
   "outputs": [],
   "source": [
    "#model_net = test()"
   ]
  },
  {
   "cell_type": "code",
   "execution_count": 40,
   "id": "ac5936f9",
   "metadata": {},
   "outputs": [],
   "source": [
    "#del loaded_model.fc"
   ]
  },
  {
   "cell_type": "markdown",
   "id": "47cb4233",
   "metadata": {},
   "source": [
    "### Step 2b) Loading the pre-trained Model"
   ]
  },
  {
   "cell_type": "code",
   "execution_count": 41,
   "id": "b0b84b3e",
   "metadata": {},
   "outputs": [
    {
     "data": {
      "text/plain": [
       "<All keys matched successfully>"
      ]
     },
     "execution_count": 41,
     "metadata": {},
     "output_type": "execute_result"
    }
   ],
   "source": [
    "# loaded_model.load_state_dict(\n",
    "#     torch.load(\"../Checkpoints/ResNet50_Softmax/ResNet50_Softmax_26_Feb_features_89acc.pth\"))\n",
    "# loaded_model.load_state_dict(\n",
    "#     torch.load(\"../Checkpoints/ResNet50_Softmax/ResNet50_Softmax_27_Feb_features_91acc.pth\"))\n",
    "loaded_model.load_state_dict(\n",
    "    torch.load(\"../Checkpoints/ResNet50_Softmax/ResNet50_Softmax_28_Feb_features_97acc.pth\"))"
   ]
  },
  {
   "cell_type": "code",
   "execution_count": 42,
   "id": "ccb56c39",
   "metadata": {},
   "outputs": [],
   "source": [
    "#model.layers"
   ]
  },
  {
   "cell_type": "code",
   "execution_count": 43,
   "id": "664d63bf",
   "metadata": {},
   "outputs": [],
   "source": [
    "for param in loaded_model.parameters():\n",
    "    param.requires_grad = False"
   ]
  },
  {
   "cell_type": "code",
   "execution_count": 44,
   "id": "4c7d6e6d",
   "metadata": {},
   "outputs": [],
   "source": [
    "#loaded_model.fc = nn.Identity(54, unused_argument1=0.1, unused_argument2=False)"
   ]
  },
  {
   "cell_type": "code",
   "execution_count": 45,
   "id": "1db49d0d",
   "metadata": {},
   "outputs": [
    {
     "data": {
      "text/plain": [
       "MyResNet(\n",
       "  (features): Sequential(\n",
       "    (0): Conv2d(3, 64, kernel_size=(7, 7), stride=(2, 2), padding=(3, 3), bias=False)\n",
       "    (1): MaxPool2d(kernel_size=3, stride=2, padding=1, dilation=1, ceil_mode=False)\n",
       "    (2): ResBlock(\n",
       "      (bn): BatchNorm2d(64, eps=1e-05, momentum=0.1, affine=True, track_running_stats=True)\n",
       "      (conv1): Conv2d(64, 64, kernel_size=(1, 1), stride=(1, 1), bias=False)\n",
       "      (conv2): Sequential(\n",
       "        (0): BatchNorm2d(64, eps=1e-05, momentum=0.1, affine=True, track_running_stats=True)\n",
       "        (1): ReLU(inplace=True)\n",
       "        (2): Conv2d(64, 64, kernel_size=(3, 3), stride=(1, 1), padding=(1, 1), bias=False)\n",
       "      )\n",
       "      (conv3): Sequential(\n",
       "        (0): BatchNorm2d(64, eps=1e-05, momentum=0.1, affine=True, track_running_stats=True)\n",
       "        (1): ReLU(inplace=True)\n",
       "        (2): Conv2d(64, 256, kernel_size=(1, 1), stride=(1, 1), bias=False)\n",
       "      )\n",
       "      (shortcut): Conv2d(64, 256, kernel_size=(1, 1), stride=(1, 1), bias=False)\n",
       "    )\n",
       "    (3): ResBlock2(\n",
       "      (bn): BatchNorm2d(256, eps=1e-05, momentum=0.1, affine=True, track_running_stats=True)\n",
       "      (conv1): Conv2d(256, 64, kernel_size=(1, 1), stride=(1, 1), bias=False)\n",
       "      (conv2): Sequential(\n",
       "        (0): BatchNorm2d(64, eps=1e-05, momentum=0.1, affine=True, track_running_stats=True)\n",
       "        (1): ReLU(inplace=True)\n",
       "        (2): Conv2d(64, 64, kernel_size=(3, 3), stride=(1, 1), padding=(1, 1), bias=False)\n",
       "      )\n",
       "      (conv3): Sequential(\n",
       "        (0): BatchNorm2d(64, eps=1e-05, momentum=0.1, affine=True, track_running_stats=True)\n",
       "        (1): ReLU(inplace=True)\n",
       "        (2): Conv2d(64, 256, kernel_size=(1, 1), stride=(1, 1), bias=False)\n",
       "      )\n",
       "    )\n",
       "    (4): ResBlock2(\n",
       "      (bn): BatchNorm2d(256, eps=1e-05, momentum=0.1, affine=True, track_running_stats=True)\n",
       "      (conv1): Conv2d(256, 64, kernel_size=(1, 1), stride=(1, 1), bias=False)\n",
       "      (conv2): Sequential(\n",
       "        (0): BatchNorm2d(64, eps=1e-05, momentum=0.1, affine=True, track_running_stats=True)\n",
       "        (1): ReLU(inplace=True)\n",
       "        (2): Conv2d(64, 64, kernel_size=(3, 3), stride=(1, 1), padding=(1, 1), bias=False)\n",
       "      )\n",
       "      (conv3): Sequential(\n",
       "        (0): BatchNorm2d(64, eps=1e-05, momentum=0.1, affine=True, track_running_stats=True)\n",
       "        (1): ReLU(inplace=True)\n",
       "        (2): Conv2d(64, 256, kernel_size=(1, 1), stride=(1, 1), bias=False)\n",
       "      )\n",
       "    )\n",
       "    (5): ResBlock(\n",
       "      (bn): BatchNorm2d(256, eps=1e-05, momentum=0.1, affine=True, track_running_stats=True)\n",
       "      (conv1): Conv2d(256, 128, kernel_size=(1, 1), stride=(2, 2), bias=False)\n",
       "      (conv2): Sequential(\n",
       "        (0): BatchNorm2d(128, eps=1e-05, momentum=0.1, affine=True, track_running_stats=True)\n",
       "        (1): ReLU(inplace=True)\n",
       "        (2): Conv2d(128, 128, kernel_size=(3, 3), stride=(1, 1), padding=(1, 1), bias=False)\n",
       "      )\n",
       "      (conv3): Sequential(\n",
       "        (0): BatchNorm2d(128, eps=1e-05, momentum=0.1, affine=True, track_running_stats=True)\n",
       "        (1): ReLU(inplace=True)\n",
       "        (2): Conv2d(128, 512, kernel_size=(1, 1), stride=(1, 1), bias=False)\n",
       "      )\n",
       "      (shortcut): Conv2d(256, 512, kernel_size=(1, 1), stride=(2, 2), bias=False)\n",
       "    )\n",
       "    (6): ResBlock2(\n",
       "      (bn): BatchNorm2d(512, eps=1e-05, momentum=0.1, affine=True, track_running_stats=True)\n",
       "      (conv1): Conv2d(512, 128, kernel_size=(1, 1), stride=(1, 1), bias=False)\n",
       "      (conv2): Sequential(\n",
       "        (0): BatchNorm2d(128, eps=1e-05, momentum=0.1, affine=True, track_running_stats=True)\n",
       "        (1): ReLU(inplace=True)\n",
       "        (2): Conv2d(128, 128, kernel_size=(3, 3), stride=(1, 1), padding=(1, 1), bias=False)\n",
       "      )\n",
       "      (conv3): Sequential(\n",
       "        (0): BatchNorm2d(128, eps=1e-05, momentum=0.1, affine=True, track_running_stats=True)\n",
       "        (1): ReLU(inplace=True)\n",
       "        (2): Conv2d(128, 512, kernel_size=(1, 1), stride=(1, 1), bias=False)\n",
       "      )\n",
       "    )\n",
       "    (7): ResBlock2(\n",
       "      (bn): BatchNorm2d(512, eps=1e-05, momentum=0.1, affine=True, track_running_stats=True)\n",
       "      (conv1): Conv2d(512, 128, kernel_size=(1, 1), stride=(1, 1), bias=False)\n",
       "      (conv2): Sequential(\n",
       "        (0): BatchNorm2d(128, eps=1e-05, momentum=0.1, affine=True, track_running_stats=True)\n",
       "        (1): ReLU(inplace=True)\n",
       "        (2): Conv2d(128, 128, kernel_size=(3, 3), stride=(1, 1), padding=(1, 1), bias=False)\n",
       "      )\n",
       "      (conv3): Sequential(\n",
       "        (0): BatchNorm2d(128, eps=1e-05, momentum=0.1, affine=True, track_running_stats=True)\n",
       "        (1): ReLU(inplace=True)\n",
       "        (2): Conv2d(128, 512, kernel_size=(1, 1), stride=(1, 1), bias=False)\n",
       "      )\n",
       "    )\n",
       "    (8): ResBlock2(\n",
       "      (bn): BatchNorm2d(512, eps=1e-05, momentum=0.1, affine=True, track_running_stats=True)\n",
       "      (conv1): Conv2d(512, 128, kernel_size=(1, 1), stride=(1, 1), bias=False)\n",
       "      (conv2): Sequential(\n",
       "        (0): BatchNorm2d(128, eps=1e-05, momentum=0.1, affine=True, track_running_stats=True)\n",
       "        (1): ReLU(inplace=True)\n",
       "        (2): Conv2d(128, 128, kernel_size=(3, 3), stride=(1, 1), padding=(1, 1), bias=False)\n",
       "      )\n",
       "      (conv3): Sequential(\n",
       "        (0): BatchNorm2d(128, eps=1e-05, momentum=0.1, affine=True, track_running_stats=True)\n",
       "        (1): ReLU(inplace=True)\n",
       "        (2): Conv2d(128, 512, kernel_size=(1, 1), stride=(1, 1), bias=False)\n",
       "      )\n",
       "    )\n",
       "    (9): ResBlock(\n",
       "      (bn): BatchNorm2d(512, eps=1e-05, momentum=0.1, affine=True, track_running_stats=True)\n",
       "      (conv1): Conv2d(512, 256, kernel_size=(1, 1), stride=(2, 2), bias=False)\n",
       "      (conv2): Sequential(\n",
       "        (0): BatchNorm2d(256, eps=1e-05, momentum=0.1, affine=True, track_running_stats=True)\n",
       "        (1): ReLU(inplace=True)\n",
       "        (2): Conv2d(256, 256, kernel_size=(3, 3), stride=(1, 1), padding=(1, 1), bias=False)\n",
       "      )\n",
       "      (conv3): Sequential(\n",
       "        (0): BatchNorm2d(256, eps=1e-05, momentum=0.1, affine=True, track_running_stats=True)\n",
       "        (1): ReLU(inplace=True)\n",
       "        (2): Conv2d(256, 1024, kernel_size=(1, 1), stride=(1, 1), bias=False)\n",
       "      )\n",
       "      (shortcut): Conv2d(512, 1024, kernel_size=(1, 1), stride=(2, 2), bias=False)\n",
       "    )\n",
       "    (10): ResBlock2(\n",
       "      (bn): BatchNorm2d(1024, eps=1e-05, momentum=0.1, affine=True, track_running_stats=True)\n",
       "      (conv1): Conv2d(1024, 256, kernel_size=(1, 1), stride=(1, 1), bias=False)\n",
       "      (conv2): Sequential(\n",
       "        (0): BatchNorm2d(256, eps=1e-05, momentum=0.1, affine=True, track_running_stats=True)\n",
       "        (1): ReLU(inplace=True)\n",
       "        (2): Conv2d(256, 256, kernel_size=(3, 3), stride=(1, 1), padding=(1, 1), bias=False)\n",
       "      )\n",
       "      (conv3): Sequential(\n",
       "        (0): BatchNorm2d(256, eps=1e-05, momentum=0.1, affine=True, track_running_stats=True)\n",
       "        (1): ReLU(inplace=True)\n",
       "        (2): Conv2d(256, 1024, kernel_size=(1, 1), stride=(1, 1), bias=False)\n",
       "      )\n",
       "    )\n",
       "    (11): ResBlock2(\n",
       "      (bn): BatchNorm2d(1024, eps=1e-05, momentum=0.1, affine=True, track_running_stats=True)\n",
       "      (conv1): Conv2d(1024, 256, kernel_size=(1, 1), stride=(1, 1), bias=False)\n",
       "      (conv2): Sequential(\n",
       "        (0): BatchNorm2d(256, eps=1e-05, momentum=0.1, affine=True, track_running_stats=True)\n",
       "        (1): ReLU(inplace=True)\n",
       "        (2): Conv2d(256, 256, kernel_size=(3, 3), stride=(1, 1), padding=(1, 1), bias=False)\n",
       "      )\n",
       "      (conv3): Sequential(\n",
       "        (0): BatchNorm2d(256, eps=1e-05, momentum=0.1, affine=True, track_running_stats=True)\n",
       "        (1): ReLU(inplace=True)\n",
       "        (2): Conv2d(256, 1024, kernel_size=(1, 1), stride=(1, 1), bias=False)\n",
       "      )\n",
       "    )\n",
       "    (12): ResBlock2(\n",
       "      (bn): BatchNorm2d(1024, eps=1e-05, momentum=0.1, affine=True, track_running_stats=True)\n",
       "      (conv1): Conv2d(1024, 256, kernel_size=(1, 1), stride=(1, 1), bias=False)\n",
       "      (conv2): Sequential(\n",
       "        (0): BatchNorm2d(256, eps=1e-05, momentum=0.1, affine=True, track_running_stats=True)\n",
       "        (1): ReLU(inplace=True)\n",
       "        (2): Conv2d(256, 256, kernel_size=(3, 3), stride=(1, 1), padding=(1, 1), bias=False)\n",
       "      )\n",
       "      (conv3): Sequential(\n",
       "        (0): BatchNorm2d(256, eps=1e-05, momentum=0.1, affine=True, track_running_stats=True)\n",
       "        (1): ReLU(inplace=True)\n",
       "        (2): Conv2d(256, 1024, kernel_size=(1, 1), stride=(1, 1), bias=False)\n",
       "      )\n",
       "    )\n",
       "    (13): ResBlock2(\n",
       "      (bn): BatchNorm2d(1024, eps=1e-05, momentum=0.1, affine=True, track_running_stats=True)\n",
       "      (conv1): Conv2d(1024, 256, kernel_size=(1, 1), stride=(1, 1), bias=False)\n",
       "      (conv2): Sequential(\n",
       "        (0): BatchNorm2d(256, eps=1e-05, momentum=0.1, affine=True, track_running_stats=True)\n",
       "        (1): ReLU(inplace=True)\n",
       "        (2): Conv2d(256, 256, kernel_size=(3, 3), stride=(1, 1), padding=(1, 1), bias=False)\n",
       "      )\n",
       "      (conv3): Sequential(\n",
       "        (0): BatchNorm2d(256, eps=1e-05, momentum=0.1, affine=True, track_running_stats=True)\n",
       "        (1): ReLU(inplace=True)\n",
       "        (2): Conv2d(256, 1024, kernel_size=(1, 1), stride=(1, 1), bias=False)\n",
       "      )\n",
       "    )\n",
       "    (14): ResBlock2(\n",
       "      (bn): BatchNorm2d(1024, eps=1e-05, momentum=0.1, affine=True, track_running_stats=True)\n",
       "      (conv1): Conv2d(1024, 256, kernel_size=(1, 1), stride=(1, 1), bias=False)\n",
       "      (conv2): Sequential(\n",
       "        (0): BatchNorm2d(256, eps=1e-05, momentum=0.1, affine=True, track_running_stats=True)\n",
       "        (1): ReLU(inplace=True)\n",
       "        (2): Conv2d(256, 256, kernel_size=(3, 3), stride=(1, 1), padding=(1, 1), bias=False)\n",
       "      )\n",
       "      (conv3): Sequential(\n",
       "        (0): BatchNorm2d(256, eps=1e-05, momentum=0.1, affine=True, track_running_stats=True)\n",
       "        (1): ReLU(inplace=True)\n",
       "        (2): Conv2d(256, 1024, kernel_size=(1, 1), stride=(1, 1), bias=False)\n",
       "      )\n",
       "    )\n",
       "    (15): ResBlock(\n",
       "      (bn): BatchNorm2d(1024, eps=1e-05, momentum=0.1, affine=True, track_running_stats=True)\n",
       "      (conv1): Conv2d(1024, 512, kernel_size=(1, 1), stride=(2, 2), bias=False)\n",
       "      (conv2): Sequential(\n",
       "        (0): BatchNorm2d(512, eps=1e-05, momentum=0.1, affine=True, track_running_stats=True)\n",
       "        (1): ReLU(inplace=True)\n",
       "        (2): Conv2d(512, 512, kernel_size=(3, 3), stride=(1, 1), padding=(1, 1), bias=False)\n",
       "      )\n",
       "      (conv3): Sequential(\n",
       "        (0): BatchNorm2d(512, eps=1e-05, momentum=0.1, affine=True, track_running_stats=True)\n",
       "        (1): ReLU(inplace=True)\n",
       "        (2): Conv2d(512, 2048, kernel_size=(1, 1), stride=(1, 1), bias=False)\n",
       "      )\n",
       "      (shortcut): Conv2d(1024, 2048, kernel_size=(1, 1), stride=(2, 2), bias=False)\n",
       "    )\n",
       "    (16): ResBlock2(\n",
       "      (bn): BatchNorm2d(2048, eps=1e-05, momentum=0.1, affine=True, track_running_stats=True)\n",
       "      (conv1): Conv2d(2048, 512, kernel_size=(1, 1), stride=(1, 1), bias=False)\n",
       "      (conv2): Sequential(\n",
       "        (0): BatchNorm2d(512, eps=1e-05, momentum=0.1, affine=True, track_running_stats=True)\n",
       "        (1): ReLU(inplace=True)\n",
       "        (2): Conv2d(512, 512, kernel_size=(3, 3), stride=(1, 1), padding=(1, 1), bias=False)\n",
       "      )\n",
       "      (conv3): Sequential(\n",
       "        (0): BatchNorm2d(512, eps=1e-05, momentum=0.1, affine=True, track_running_stats=True)\n",
       "        (1): ReLU(inplace=True)\n",
       "        (2): Conv2d(512, 2048, kernel_size=(1, 1), stride=(1, 1), bias=False)\n",
       "      )\n",
       "    )\n",
       "    (17): ResBlock2(\n",
       "      (bn): BatchNorm2d(2048, eps=1e-05, momentum=0.1, affine=True, track_running_stats=True)\n",
       "      (conv1): Conv2d(2048, 512, kernel_size=(1, 1), stride=(1, 1), bias=False)\n",
       "      (conv2): Sequential(\n",
       "        (0): BatchNorm2d(512, eps=1e-05, momentum=0.1, affine=True, track_running_stats=True)\n",
       "        (1): ReLU(inplace=True)\n",
       "        (2): Conv2d(512, 512, kernel_size=(3, 3), stride=(1, 1), padding=(1, 1), bias=False)\n",
       "      )\n",
       "      (conv3): Sequential(\n",
       "        (0): BatchNorm2d(512, eps=1e-05, momentum=0.1, affine=True, track_running_stats=True)\n",
       "        (1): ReLU(inplace=True)\n",
       "        (2): Conv2d(512, 2048, kernel_size=(1, 1), stride=(1, 1), bias=False)\n",
       "      )\n",
       "    )\n",
       "    (18): BatchNorm2d(2048, eps=1e-05, momentum=0.1, affine=True, track_running_stats=True)\n",
       "    (19): ReLU(inplace=True)\n",
       "    (20): AdaptiveAvgPool2d(output_size=1)\n",
       "    (21): Flatten()\n",
       "  )\n",
       ")"
      ]
     },
     "execution_count": 45,
     "metadata": {},
     "output_type": "execute_result"
    }
   ],
   "source": [
    "to_device(loaded_model, device)"
   ]
  },
  {
   "cell_type": "code",
   "execution_count": 46,
   "id": "84b2d0fe",
   "metadata": {},
   "outputs": [
    {
     "name": "stdout",
     "output_type": "stream",
     "text": [
      "----------------------------------------------------------------\n",
      "        Layer (type)               Output Shape         Param #\n",
      "================================================================\n",
      "            Conv2d-1           [-1, 64, 25, 25]           9,408\n",
      "         MaxPool2d-2           [-1, 64, 13, 13]               0\n",
      "       BatchNorm2d-3           [-1, 64, 13, 13]             128\n",
      "            Conv2d-4          [-1, 256, 13, 13]          16,384\n",
      "            Conv2d-5           [-1, 64, 13, 13]           4,096\n",
      "       BatchNorm2d-6           [-1, 64, 13, 13]             128\n",
      "              ReLU-7           [-1, 64, 13, 13]               0\n",
      "            Conv2d-8           [-1, 64, 13, 13]          36,864\n",
      "       BatchNorm2d-9           [-1, 64, 13, 13]             128\n",
      "             ReLU-10           [-1, 64, 13, 13]               0\n",
      "           Conv2d-11          [-1, 256, 13, 13]          16,384\n",
      "         ResBlock-12          [-1, 256, 13, 13]               0\n",
      "      BatchNorm2d-13          [-1, 256, 13, 13]             512\n",
      "           Conv2d-14           [-1, 64, 13, 13]          16,384\n",
      "      BatchNorm2d-15           [-1, 64, 13, 13]             128\n",
      "             ReLU-16           [-1, 64, 13, 13]               0\n",
      "           Conv2d-17           [-1, 64, 13, 13]          36,864\n",
      "      BatchNorm2d-18           [-1, 64, 13, 13]             128\n",
      "             ReLU-19           [-1, 64, 13, 13]               0\n",
      "           Conv2d-20          [-1, 256, 13, 13]          16,384\n",
      "        ResBlock2-21          [-1, 256, 13, 13]               0\n",
      "      BatchNorm2d-22          [-1, 256, 13, 13]             512\n",
      "           Conv2d-23           [-1, 64, 13, 13]          16,384\n",
      "      BatchNorm2d-24           [-1, 64, 13, 13]             128\n",
      "             ReLU-25           [-1, 64, 13, 13]               0\n",
      "           Conv2d-26           [-1, 64, 13, 13]          36,864\n",
      "      BatchNorm2d-27           [-1, 64, 13, 13]             128\n",
      "             ReLU-28           [-1, 64, 13, 13]               0\n",
      "           Conv2d-29          [-1, 256, 13, 13]          16,384\n",
      "        ResBlock2-30          [-1, 256, 13, 13]               0\n",
      "      BatchNorm2d-31          [-1, 256, 13, 13]             512\n",
      "           Conv2d-32            [-1, 512, 7, 7]         131,072\n",
      "           Conv2d-33            [-1, 128, 7, 7]          32,768\n",
      "      BatchNorm2d-34            [-1, 128, 7, 7]             256\n",
      "             ReLU-35            [-1, 128, 7, 7]               0\n",
      "           Conv2d-36            [-1, 128, 7, 7]         147,456\n",
      "      BatchNorm2d-37            [-1, 128, 7, 7]             256\n",
      "             ReLU-38            [-1, 128, 7, 7]               0\n",
      "           Conv2d-39            [-1, 512, 7, 7]          65,536\n",
      "         ResBlock-40            [-1, 512, 7, 7]               0\n",
      "      BatchNorm2d-41            [-1, 512, 7, 7]           1,024\n",
      "           Conv2d-42            [-1, 128, 7, 7]          65,536\n",
      "      BatchNorm2d-43            [-1, 128, 7, 7]             256\n",
      "             ReLU-44            [-1, 128, 7, 7]               0\n",
      "           Conv2d-45            [-1, 128, 7, 7]         147,456\n",
      "      BatchNorm2d-46            [-1, 128, 7, 7]             256\n",
      "             ReLU-47            [-1, 128, 7, 7]               0\n",
      "           Conv2d-48            [-1, 512, 7, 7]          65,536\n",
      "        ResBlock2-49            [-1, 512, 7, 7]               0\n",
      "      BatchNorm2d-50            [-1, 512, 7, 7]           1,024\n",
      "           Conv2d-51            [-1, 128, 7, 7]          65,536\n",
      "      BatchNorm2d-52            [-1, 128, 7, 7]             256\n",
      "             ReLU-53            [-1, 128, 7, 7]               0\n",
      "           Conv2d-54            [-1, 128, 7, 7]         147,456\n",
      "      BatchNorm2d-55            [-1, 128, 7, 7]             256\n",
      "             ReLU-56            [-1, 128, 7, 7]               0\n",
      "           Conv2d-57            [-1, 512, 7, 7]          65,536\n",
      "        ResBlock2-58            [-1, 512, 7, 7]               0\n",
      "      BatchNorm2d-59            [-1, 512, 7, 7]           1,024\n",
      "           Conv2d-60            [-1, 128, 7, 7]          65,536\n",
      "      BatchNorm2d-61            [-1, 128, 7, 7]             256\n",
      "             ReLU-62            [-1, 128, 7, 7]               0\n",
      "           Conv2d-63            [-1, 128, 7, 7]         147,456\n",
      "      BatchNorm2d-64            [-1, 128, 7, 7]             256\n",
      "             ReLU-65            [-1, 128, 7, 7]               0\n",
      "           Conv2d-66            [-1, 512, 7, 7]          65,536\n",
      "        ResBlock2-67            [-1, 512, 7, 7]               0\n",
      "      BatchNorm2d-68            [-1, 512, 7, 7]           1,024\n",
      "           Conv2d-69           [-1, 1024, 4, 4]         524,288\n",
      "           Conv2d-70            [-1, 256, 4, 4]         131,072\n",
      "      BatchNorm2d-71            [-1, 256, 4, 4]             512\n",
      "             ReLU-72            [-1, 256, 4, 4]               0\n",
      "           Conv2d-73            [-1, 256, 4, 4]         589,824\n",
      "      BatchNorm2d-74            [-1, 256, 4, 4]             512\n",
      "             ReLU-75            [-1, 256, 4, 4]               0\n",
      "           Conv2d-76           [-1, 1024, 4, 4]         262,144\n",
      "         ResBlock-77           [-1, 1024, 4, 4]               0\n",
      "      BatchNorm2d-78           [-1, 1024, 4, 4]           2,048\n",
      "           Conv2d-79            [-1, 256, 4, 4]         262,144\n",
      "      BatchNorm2d-80            [-1, 256, 4, 4]             512\n",
      "             ReLU-81            [-1, 256, 4, 4]               0\n",
      "           Conv2d-82            [-1, 256, 4, 4]         589,824\n",
      "      BatchNorm2d-83            [-1, 256, 4, 4]             512\n",
      "             ReLU-84            [-1, 256, 4, 4]               0\n",
      "           Conv2d-85           [-1, 1024, 4, 4]         262,144\n",
      "        ResBlock2-86           [-1, 1024, 4, 4]               0\n",
      "      BatchNorm2d-87           [-1, 1024, 4, 4]           2,048\n",
      "           Conv2d-88            [-1, 256, 4, 4]         262,144\n",
      "      BatchNorm2d-89            [-1, 256, 4, 4]             512\n",
      "             ReLU-90            [-1, 256, 4, 4]               0\n",
      "           Conv2d-91            [-1, 256, 4, 4]         589,824\n",
      "      BatchNorm2d-92            [-1, 256, 4, 4]             512\n",
      "             ReLU-93            [-1, 256, 4, 4]               0\n",
      "           Conv2d-94           [-1, 1024, 4, 4]         262,144\n",
      "        ResBlock2-95           [-1, 1024, 4, 4]               0\n",
      "      BatchNorm2d-96           [-1, 1024, 4, 4]           2,048\n",
      "           Conv2d-97            [-1, 256, 4, 4]         262,144\n",
      "      BatchNorm2d-98            [-1, 256, 4, 4]             512\n",
      "             ReLU-99            [-1, 256, 4, 4]               0\n",
      "          Conv2d-100            [-1, 256, 4, 4]         589,824\n",
      "     BatchNorm2d-101            [-1, 256, 4, 4]             512\n",
      "            ReLU-102            [-1, 256, 4, 4]               0\n",
      "          Conv2d-103           [-1, 1024, 4, 4]         262,144\n",
      "       ResBlock2-104           [-1, 1024, 4, 4]               0\n",
      "     BatchNorm2d-105           [-1, 1024, 4, 4]           2,048\n",
      "          Conv2d-106            [-1, 256, 4, 4]         262,144\n",
      "     BatchNorm2d-107            [-1, 256, 4, 4]             512\n",
      "            ReLU-108            [-1, 256, 4, 4]               0\n",
      "          Conv2d-109            [-1, 256, 4, 4]         589,824\n",
      "     BatchNorm2d-110            [-1, 256, 4, 4]             512\n",
      "            ReLU-111            [-1, 256, 4, 4]               0\n",
      "          Conv2d-112           [-1, 1024, 4, 4]         262,144\n",
      "       ResBlock2-113           [-1, 1024, 4, 4]               0\n",
      "     BatchNorm2d-114           [-1, 1024, 4, 4]           2,048\n",
      "          Conv2d-115            [-1, 256, 4, 4]         262,144\n",
      "     BatchNorm2d-116            [-1, 256, 4, 4]             512\n",
      "            ReLU-117            [-1, 256, 4, 4]               0\n",
      "          Conv2d-118            [-1, 256, 4, 4]         589,824\n",
      "     BatchNorm2d-119            [-1, 256, 4, 4]             512\n",
      "            ReLU-120            [-1, 256, 4, 4]               0\n",
      "          Conv2d-121           [-1, 1024, 4, 4]         262,144\n",
      "       ResBlock2-122           [-1, 1024, 4, 4]               0\n",
      "     BatchNorm2d-123           [-1, 1024, 4, 4]           2,048\n",
      "          Conv2d-124           [-1, 2048, 2, 2]       2,097,152\n",
      "          Conv2d-125            [-1, 512, 2, 2]         524,288\n",
      "     BatchNorm2d-126            [-1, 512, 2, 2]           1,024\n",
      "            ReLU-127            [-1, 512, 2, 2]               0\n",
      "          Conv2d-128            [-1, 512, 2, 2]       2,359,296\n",
      "     BatchNorm2d-129            [-1, 512, 2, 2]           1,024\n",
      "            ReLU-130            [-1, 512, 2, 2]               0\n",
      "          Conv2d-131           [-1, 2048, 2, 2]       1,048,576\n",
      "        ResBlock-132           [-1, 2048, 2, 2]               0\n",
      "     BatchNorm2d-133           [-1, 2048, 2, 2]           4,096\n",
      "          Conv2d-134            [-1, 512, 2, 2]       1,048,576\n",
      "     BatchNorm2d-135            [-1, 512, 2, 2]           1,024\n",
      "            ReLU-136            [-1, 512, 2, 2]               0\n",
      "          Conv2d-137            [-1, 512, 2, 2]       2,359,296\n",
      "     BatchNorm2d-138            [-1, 512, 2, 2]           1,024\n",
      "            ReLU-139            [-1, 512, 2, 2]               0\n",
      "          Conv2d-140           [-1, 2048, 2, 2]       1,048,576\n",
      "       ResBlock2-141           [-1, 2048, 2, 2]               0\n",
      "     BatchNorm2d-142           [-1, 2048, 2, 2]           4,096\n",
      "          Conv2d-143            [-1, 512, 2, 2]       1,048,576\n",
      "     BatchNorm2d-144            [-1, 512, 2, 2]           1,024\n",
      "            ReLU-145            [-1, 512, 2, 2]               0\n",
      "          Conv2d-146            [-1, 512, 2, 2]       2,359,296\n",
      "     BatchNorm2d-147            [-1, 512, 2, 2]           1,024\n",
      "            ReLU-148            [-1, 512, 2, 2]               0\n",
      "          Conv2d-149           [-1, 2048, 2, 2]       1,048,576\n",
      "       ResBlock2-150           [-1, 2048, 2, 2]               0\n",
      "     BatchNorm2d-151           [-1, 2048, 2, 2]           4,096\n",
      "            ReLU-152           [-1, 2048, 2, 2]               0\n",
      "AdaptiveAvgPool2d-153           [-1, 2048, 1, 1]               0\n",
      "         Flatten-154                 [-1, 2048]               0\n",
      "================================================================\n",
      "Total params: 23,500,352\n",
      "Trainable params: 0\n",
      "Non-trainable params: 23,500,352\n",
      "----------------------------------------------------------------\n",
      "Input size (MB): 0.03\n",
      "Forward/backward pass size (MB): 13.39\n",
      "Params size (MB): 89.65\n",
      "Estimated Total Size (MB): 103.07\n",
      "----------------------------------------------------------------\n"
     ]
    }
   ],
   "source": [
    "summary(loaded_model, input_size = (3, 50, 50), batch_size = -1)"
   ]
  },
  {
   "cell_type": "markdown",
   "id": "5329086f",
   "metadata": {},
   "source": [
    "### Step 2b) Loading the pre-trained Model : Option2"
   ]
  },
  {
   "cell_type": "code",
   "execution_count": null,
   "id": "37c537c8",
   "metadata": {},
   "outputs": [],
   "source": [
    "class CosFace(nn.Module):\n",
    "    def __init__(self, in_features=2048, out_features=5749, s=64.0, m=0.35):\n",
    "        super(CosFace, self).__init__()\n",
    "        self.in_features = in_features\n",
    "        self.out_features = out_features\n",
    "        self.s = s\n",
    "        self.m = m\n",
    "        self.kernel = nn.Parameter(torch.FloatTensor(in_features, out_features))\n",
    "        nn.init.normal_(self.kernel, std=0.01)\n",
    "\n",
    "    def forward(self, logits, labels):\n",
    "        logits = F.normalize(logits, p=2.0, dim=1) #l2_norm(logits, axis=1)\n",
    "        kernel_norm = F.normalize(self.kernel, p=2.0, dim=0) #l2_norm(self.kernel, axis=0)\n",
    "        cos_theta = torch.mm(logits, kernel_norm)\n",
    "        cos_theta = cos_theta.clamp(-1, 1)  # for numerical stability\n",
    "        index = torch.where(labels != -1)[0]\n",
    "        m_hot = torch.zeros(index.size()[0], cos_theta.size()[1]).to(device)\n",
    "        m_hot.scatter_(1, labels[index, None], self.m).to(device)\n",
    "        cos_theta[index] -= m_hot\n",
    "        ret = cos_theta * self.s\n",
    "        return ret"
   ]
  },
  {
   "cell_type": "code",
   "execution_count": null,
   "id": "4c36464e",
   "metadata": {},
   "outputs": [],
   "source": [
    "new_logits = CosFace()"
   ]
  },
  {
   "cell_type": "code",
   "execution_count": null,
   "id": "8e9daa01",
   "metadata": {},
   "outputs": [],
   "source": [
    "# to_device(new_logits, device)\n",
    "# #new_logits.to(device)"
   ]
  },
  {
   "cell_type": "code",
   "execution_count": null,
   "id": "737d38ba",
   "metadata": {},
   "outputs": [],
   "source": [
    "checkpoint = torch.load(\"../Checkpoints/ResNet50_CosFacev2/2048-d/ResNet50_CosFace_28_Feb_5.pt\")\n",
    "#checkpoint = torch.load(\"../Checkpoints/ResNet50_CosFacev2/512-d/ResNet50_CosFace_15_Mar_30.pt\")\n",
    "\n",
    "loaded_model.load_state_dict(checkpoint['model_state_dict'])\n",
    "#opt1 = checkpoint['model_optimizer_state_dict']\n",
    "#opt2 = checkpoint['fc_optimizer_state_dict']\n",
    "#opt2['state'][0]['momentum_buffer']\n",
    "#n.kernel.shape\n",
    "\n",
    "train_acc = checkpoint['train_acc']\n",
    "val_acc = checkpoint['val_acc']\n",
    "print(train_acc, val_acc)\n",
    "\n",
    "# val_acc = checkpoint['acc']\n",
    "# print(val_acc)"
   ]
  },
  {
   "cell_type": "code",
   "execution_count": null,
   "id": "cf387fdc",
   "metadata": {},
   "outputs": [],
   "source": [
    "for param in loaded_model.parameters():\n",
    "    param.requires_grad = False"
   ]
  },
  {
   "cell_type": "code",
   "execution_count": null,
   "id": "89e647d7",
   "metadata": {},
   "outputs": [],
   "source": [
    "#loaded_model.fc = nn.Identity(54, unused_argument1=0.1, unused_argument2=False)"
   ]
  },
  {
   "cell_type": "code",
   "execution_count": null,
   "id": "7f48cde5",
   "metadata": {},
   "outputs": [],
   "source": [
    "to_device(loaded_model, device)"
   ]
  },
  {
   "cell_type": "code",
   "execution_count": null,
   "id": "c178414b",
   "metadata": {},
   "outputs": [],
   "source": [
    "summary(loaded_model, input_size = (3, 62, 47), batch_size = -1)"
   ]
  },
  {
   "cell_type": "markdown",
   "id": "075f3d34",
   "metadata": {},
   "source": [
    "### Step 3) Testing the model"
   ]
  },
  {
   "cell_type": "code",
   "execution_count": 47,
   "id": "192dfc7c",
   "metadata": {},
   "outputs": [],
   "source": [
    "def compute_embedding(model, xb, sim_metric):\n",
    "    with torch.no_grad():\n",
    "        features = model(xb) #F.normalize(model(xb))\n",
    "        score = sim_metric(features[0], features[1])\n",
    "    \n",
    "    return score"
   ]
  },
  {
   "cell_type": "code",
   "execution_count": 48,
   "id": "35610e38",
   "metadata": {},
   "outputs": [],
   "source": [
    "similarity = nn.CosineSimilarity(dim=0, eps=1e-6)"
   ]
  },
  {
   "cell_type": "code",
   "execution_count": 49,
   "id": "a3f0f68d",
   "metadata": {},
   "outputs": [],
   "source": [
    "tra = transforms.Compose(\n",
    "    [#transforms.ToPILImage(),\n",
    "     transforms.ToTensor(),\n",
    "     transforms.Normalize(mean=[0.5, 0.5, 0.5], std=[0.5, 0.5, 0.5])\n",
    "     ])"
   ]
  },
  {
   "cell_type": "code",
   "execution_count": 50,
   "id": "6e206d6c",
   "metadata": {},
   "outputs": [],
   "source": [
    "def ver_accuracy(scores, img_targets, thres_arr):\n",
    "    targets_tensor = torch.from_numpy(img_targets)\n",
    "    #print(targets_tensor.shape)\n",
    "    \n",
    "    acc_list = []\n",
    "    \n",
    "    for thres in thres_arr:\n",
    "        outputs = scores >= thres\n",
    "        #print(outputs.shape, outputs)\n",
    "        outputs = outputs.long()\n",
    "        #print(outputs.shape, outputs)\n",
    "        matches = outputs == targets_tensor\n",
    "        #print(matches.shape, matches)\n",
    "        matches = matches.long()\n",
    "        success = torch.count_nonzero(matches)\n",
    "        acc = success/matches.shape[0] * 100\n",
    "        acc_list.append(np.round(acc.item(), 2))\n",
    "        \n",
    "        print(\"Thres: \", thres, \"| Veri acc.: \", np.round(acc.item(), 2))\n",
    "    \n",
    "    return targets_tensor, acc_list"
   ]
  },
  {
   "cell_type": "code",
   "execution_count": 51,
   "id": "68606195",
   "metadata": {},
   "outputs": [],
   "source": [
    "def compute_scores(img_pairs, img_targets):\n",
    "    \n",
    "    scores = []\n",
    "    len = img_targets.shape[0]\n",
    "    \n",
    "    for idx in tqdm.tqdm(np.arange(0, len)):\n",
    "        pair = img_pairs[idx]\n",
    "        actual = img_targets[idx]\n",
    "        \n",
    "        #convert pair to pytorch tensor, normalize\n",
    "        img1 = pair[0]\n",
    "        img1 = img1/255\n",
    "        img1 = tra(img1)\n",
    "    \n",
    "        img2 = pair[1]\n",
    "        img2 = img2/255\n",
    "        img2 = tra(img2)\n",
    "        \n",
    "        #convert into a batch\n",
    "        new_pair = torch.stack((img1, img2), 0).to(device, dtype=torch.float)\n",
    "        \n",
    "        score = compute_embedding(loaded_model, new_pair, similarity)\n",
    "        #print(actual, score.item())\n",
    "        \n",
    "        scores.append(score.item())\n",
    "    \n",
    "    scores = torch.FloatTensor(scores)\n",
    "    #print(scores.shape, scores)\n",
    "    \n",
    "    return scores"
   ]
  },
  {
   "cell_type": "code",
   "execution_count": 52,
   "id": "a1b7d278",
   "metadata": {},
   "outputs": [
    {
     "name": "stderr",
     "output_type": "stream",
     "text": [
      "100%|███████████████████████████████████████| 6000/6000 [01:33<00:00, 64.32it/s]"
     ]
    },
    {
     "name": "stdout",
     "output_type": "stream",
     "text": [
      "torch.Size([6000])\n"
     ]
    },
    {
     "name": "stderr",
     "output_type": "stream",
     "text": [
      "\n"
     ]
    }
   ],
   "source": [
    "computed_scores = compute_scores(X, y)\n",
    "print(computed_scores.shape)"
   ]
  },
  {
   "cell_type": "code",
   "execution_count": 53,
   "id": "13135737",
   "metadata": {},
   "outputs": [
    {
     "name": "stdout",
     "output_type": "stream",
     "text": [
      "tensor([0.2408, 0.4604, 0.3738, 0.2617, 0.1933,  ..., 0.0448, 0.0742, 0.0449,\n",
      "        0.0256, 0.0397])\n",
      "tensor(0.0061) tensor(0.6886)\n"
     ]
    }
   ],
   "source": [
    "print(computed_scores)\n",
    "print(torch.min(computed_scores), torch.max(computed_scores))"
   ]
  },
  {
   "cell_type": "code",
   "execution_count": 54,
   "id": "25ce23a7",
   "metadata": {},
   "outputs": [
    {
     "name": "stdout",
     "output_type": "stream",
     "text": [
      "Thres:  0.099 | Veri acc.:  96.95\n",
      "Thres:  0.1 | Veri acc.:  96.93\n",
      "Thres:  0.2 | Veri acc.:  76.72\n",
      "Thres:  0.22 | Veri acc.:  71.52\n",
      "Thres:  0.24 | Veri acc.:  66.78\n",
      "Thres:  0.25 | Veri acc.:  64.3\n",
      "Thres:  0.255 | Veri acc.:  63.35\n",
      "Thres:  0.26 | Veri acc.:  62.62\n",
      "Thres:  0.265 | Veri acc.:  61.72\n",
      "Thres:  0.27 | Veri acc.:  61.0\n",
      "Thres:  0.275 | Veri acc.:  60.2\n",
      "Thres:  0.28 | Veri acc.:  59.3\n",
      "Thres:  0.3 | Veri acc.:  56.68\n",
      "Thres:  0.4 | Veri acc.:  51.07\n",
      "Thres:  0.5 | Veri acc.:  50.27\n"
     ]
    }
   ],
   "source": [
    "thresholds = [0.099, 0.1, 0.2, 0.22, 0.24, 0.25, 0.255, 0.26, 0.265, 0.27, 0.275, 0.28, 0.3, 0.4, 0.5]\n",
    "#thresholds = [0.099]\n",
    "#thresholds = [0.9, 0.5, 0.099, 0.1026817]\n",
    "\n",
    "targets_tensor, acc = ver_accuracy(computed_scores, y, thresholds)"
   ]
  },
  {
   "cell_type": "code",
   "execution_count": 55,
   "id": "8a495328",
   "metadata": {},
   "outputs": [
    {
     "data": {
      "text/plain": [
       "96.95"
      ]
     },
     "execution_count": 55,
     "metadata": {},
     "output_type": "execute_result"
    }
   ],
   "source": [
    "np.max(acc)"
   ]
  },
  {
   "cell_type": "code",
   "execution_count": 56,
   "id": "d4eea359",
   "metadata": {},
   "outputs": [],
   "source": [
    "def plot_ROC(y_true, y_prob):\n",
    "\n",
    "    fpr, tpr, thresholds = roc_curve(y_true, y_prob, pos_label=True)\n",
    "    sum_sensitivity_specificity = tpr + (1-fpr)\n",
    "    best_threshold_id = np.argmax(sum_sensitivity_specificity)\n",
    "    best_threshold = thresholds[best_threshold_id]\n",
    "    best_fpr = fpr[best_threshold_id]\n",
    "    best_tpr = tpr[best_threshold_id]\n",
    "    y_pred = y_prob > best_threshold\n",
    "\n",
    "    cm = confusion_matrix(y_true, y_pred)\n",
    "    acc = accuracy_score(y_true, y_pred)\n",
    "    auc = roc_auc_score(y_true, y_pred)\n",
    "\n",
    "    print('Best threshold: %.3f' %best_threshold)\n",
    "    printmd('**Accuracy: %.2f**' %(acc*100))\n",
    "    print('AUC: %.4f ' %auc)\n",
    "    \n",
    "    printmd('**Confusion Matrix:**')\n",
    "    print(cm)\n",
    "    \n",
    "    printmd('**Classification Report:**')\n",
    "    print(classification_report(y_true, y_pred))\n",
    "\n",
    "    fig = plt.figure(figsize=(10,5))\n",
    "    ax = fig.add_subplot(121)\n",
    "    \n",
    "    curve1 = ax.plot(fpr, tpr)\n",
    "    curve2 = ax.plot([0, 1], [0, 1], color='navy', linestyle='--')\n",
    "    dot = ax.plot(best_fpr, best_tpr, marker='o', color='black')\n",
    "    ax.text(best_fpr, best_tpr, s = '(%.3f,%.3f)' %(best_fpr, best_tpr))\n",
    "    \n",
    "    plt.xlim([-0.01, 1.01])\n",
    "    plt.ylim([-0.01, 1.01])\n",
    "    plt.xlabel('False Positive Rate')\n",
    "    plt.ylabel('True Positive Rate')\n",
    "    plt.title('ROC curve, AUC = %.4f'%auc)\n",
    "\n",
    "    plt.savefig('ROC_LFW', dpi = 500)\n",
    "    plt.show()\n",
    "    \n",
    "    return fpr, tpr, thresholds"
   ]
  },
  {
   "cell_type": "code",
   "execution_count": 57,
   "id": "dee613de",
   "metadata": {},
   "outputs": [
    {
     "name": "stdout",
     "output_type": "stream",
     "text": [
      "Best threshold: 0.103\n"
     ]
    },
    {
     "data": {
      "text/markdown": [
       "**Accuracy: 96.97**"
      ],
      "text/plain": [
       "<IPython.core.display.Markdown object>"
      ]
     },
     "metadata": {},
     "output_type": "display_data"
    },
    {
     "name": "stdout",
     "output_type": "stream",
     "text": [
      "AUC: 0.9697 \n"
     ]
    },
    {
     "data": {
      "text/markdown": [
       "**Confusion Matrix:**"
      ],
      "text/plain": [
       "<IPython.core.display.Markdown object>"
      ]
     },
     "metadata": {},
     "output_type": "display_data"
    },
    {
     "name": "stdout",
     "output_type": "stream",
     "text": [
      "[[2954   46]\n",
      " [ 136 2864]]\n"
     ]
    },
    {
     "data": {
      "text/markdown": [
       "**Classification Report:**"
      ],
      "text/plain": [
       "<IPython.core.display.Markdown object>"
      ]
     },
     "metadata": {},
     "output_type": "display_data"
    },
    {
     "name": "stdout",
     "output_type": "stream",
     "text": [
      "              precision    recall  f1-score   support\n",
      "\n",
      "           0       0.96      0.98      0.97      3000\n",
      "           1       0.98      0.95      0.97      3000\n",
      "\n",
      "    accuracy                           0.97      6000\n",
      "   macro avg       0.97      0.97      0.97      6000\n",
      "weighted avg       0.97      0.97      0.97      6000\n",
      "\n"
     ]
    },
    {
     "data": {
      "image/png": "[encoded data removed]",
      "text/plain": [
       "<Figure size 720x360 with 1 Axes>"
      ]
     },
     "metadata": {
      "needs_background": "light"
     },
     "output_type": "display_data"
    }
   ],
   "source": [
    "fpr, tpr, th = plot_ROC(targets_tensor, computed_scores)"
   ]
  },
  {
   "cell_type": "code",
   "execution_count": 58,
   "id": "8f95a183",
   "metadata": {},
   "outputs": [],
   "source": [
    "def plot_rates(fpr, tpr, th):\n",
    "    \n",
    "    plt.plot(th, fpr)\n",
    "    plt.plot(th, 1-tpr)\n",
    "    plt.plot(th, tpr)\n",
    "    \n",
    "    plt.legend(['FPIR', 'FNIR', 'TPIR'])\n",
    "    plt.xlabel('Thresholds')\n",
    "    plt.ylabel('FPIR, FNIR')\n",
    "    plt.show()"
   ]
  },
  {
   "cell_type": "code",
   "execution_count": 59,
   "id": "ff180f76",
   "metadata": {},
   "outputs": [
    {
     "data": {
      "image/png": "[encoded data removed]",
      "text/plain": [
       "<Figure size 432x288 with 1 Axes>"
      ]
     },
     "metadata": {
      "needs_background": "light"
     },
     "output_type": "display_data"
    }
   ],
   "source": [
    "plot_rates(fpr[2:], tpr[2:], th[2:])"
   ]
  },
  {
   "cell_type": "code",
   "execution_count": 64,
   "id": "d5469ac6",
   "metadata": {},
   "outputs": [
    {
     "name": "stdout",
     "output_type": "stream",
     "text": [
      "TAR @ FAR = 0.6 (%) is 92.53 (%)\n"
     ]
    }
   ],
   "source": [
    "idx = -250\n",
    "print(\"TAR @ FAR =\", np.round(fpr[idx]*100,2), \"(%) is\", np.round(tpr[idx]*100,2), \"(%)\")\n",
    "#tpr[idx], fpr[idx]"
   ]
  },
  {
   "cell_type": "markdown",
   "id": "154b1bdd",
   "metadata": {},
   "source": [
    "### Rough"
   ]
  },
  {
   "cell_type": "code",
   "execution_count": null,
   "id": "523bd669",
   "metadata": {
    "scrolled": true
   },
   "outputs": [],
   "source": [
    "from plot_metric.functions import BinaryClassification\n",
    "# Visualisation with plot_metric\n",
    "bc = BinaryClassification(targets_tensor, computed_scores, labels=[\"Positive\", \"Negative\"])\n",
    "\n",
    "# Figures\n",
    "plt.figure(figsize=(5,5))\n",
    "bc.plot_roc_curve()\n",
    "plt.legend(loc=1)\n",
    "plt.show()"
   ]
  },
  {
   "cell_type": "code",
   "execution_count": null,
   "id": "49e80426",
   "metadata": {},
   "outputs": [],
   "source": [
    "targets_list = targets_tensor.tolist()\n",
    "#print(targets_list)\n",
    "\n",
    "perfect_outputs = np.eye(2)[targets_list]\n",
    "#print(perfect_scores)\n",
    "\n",
    "def normalize(array2d: np.ndarray) -> np.ndarray:\n",
    "    return array2d / array2d.sum(axis=1, keepdims=True)\n",
    "\n",
    "random_outputs = normalize(np.random.random((6000, 2)))\n",
    "\n",
    "computed_scores_list = computed_scores.tolist()\n",
    "computed_scores_list = np.array(computed_scores_list)\n",
    "compl = np.ones(6000) - computed_scores_list\n",
    "computed_outputs = np.stack((compl, computed_scores_list), axis=-1)"
   ]
  },
  {
   "cell_type": "code",
   "execution_count": null,
   "id": "b88234c0",
   "metadata": {},
   "outputs": [],
   "source": [
    "computed_outputs"
   ]
  },
  {
   "cell_type": "code",
   "execution_count": null,
   "id": "12935093",
   "metadata": {},
   "outputs": [],
   "source": [
    "import metriculous"
   ]
  },
  {
   "cell_type": "code",
   "execution_count": null,
   "id": "2777c901",
   "metadata": {
    "scrolled": false
   },
   "outputs": [],
   "source": [
    "# metriculous.compare_classifiers(\n",
    "#     ground_truth=targets_list,\n",
    "#     model_predictions=[computed_outputs, random_outputs, perfect_outputs],\n",
    "#     model_names=[\"Computed model\", \"Random Model\", \"Perfect Model\"],\n",
    "#     class_names=[\"Positive\", \"Negative\"],\n",
    "#     one_vs_all_figures=True, # This line is important to include ROC curves in the output\n",
    "# ).save_html(\"model_comparison.html\").display()"
   ]
  }
 ],
 "metadata": {
  "kernelspec": {
   "display_name": "Python 3 (ipykernel)",
   "language": "python",
   "name": "python3"
  },
  "language_info": {
   "codemirror_mode": {
    "name": "ipython",
    "version": 3
   },
   "file_extension": ".py",
   "mimetype": "text/x-python",
   "name": "python",
   "nbconvert_exporter": "python",
   "pygments_lexer": "ipython3",
   "version": "3.9.7"
  }
 },
 "nbformat": 4,
 "nbformat_minor": 5
}
