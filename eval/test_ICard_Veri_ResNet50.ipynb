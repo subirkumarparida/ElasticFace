{
 "cells": [
  {
   "cell_type": "code",
   "execution_count": 1,
   "id": "6f636a30",
   "metadata": {},
   "outputs": [],
   "source": [
    "import os\n",
    "import cv2\n",
    "import copy\n",
    "import math\n",
    "import time\n",
    "import tqdm\n",
    "import tarfile\n",
    "import numbers\n",
    "import threading\n",
    "import queue as Queue\n",
    "import numpy as np\n",
    "import pandas as pd\n",
    "import matplotlib\n",
    "import matplotlib.pyplot as plt\n",
    "from sklearn.metrics import confusion_matrix, accuracy_score, roc_auc_score, roc_curve, classification_report\n",
    "\n",
    "import torch\n",
    "import torchvision\n",
    "import torch.nn as nn\n",
    "import torch.nn.functional as F\n",
    "from torchvision import transforms\n",
    "from torchvision.transforms import ToTensor\n",
    "from torchvision.datasets import ImageFolder\n",
    "from torchvision.datasets.utils import download_url\n",
    "#from torch.utils.data.dataloader import DataLoader\n",
    "from torch.utils.data import random_split, DataLoader, Dataset\n",
    "from torchsummary import summary"
   ]
  },
  {
   "cell_type": "code",
   "execution_count": 2,
   "id": "e25092bc",
   "metadata": {},
   "outputs": [],
   "source": [
    "import warnings\n",
    "warnings.filterwarnings(\"ignore\", category=DeprecationWarning)"
   ]
  },
  {
   "cell_type": "code",
   "execution_count": 3,
   "id": "6de45f56",
   "metadata": {},
   "outputs": [],
   "source": [
    "from IPython.display import Markdown, display\n",
    "def printmd(string):\n",
    "    display(Markdown(string))"
   ]
  },
  {
   "cell_type": "code",
   "execution_count": 4,
   "id": "10265710",
   "metadata": {},
   "outputs": [],
   "source": [
    "torch.set_printoptions(edgeitems=5)"
   ]
  },
  {
   "cell_type": "code",
   "execution_count": 5,
   "id": "0042c5ac",
   "metadata": {},
   "outputs": [],
   "source": [
    "def get_default_device():\n",
    "    \"\"\"Pick GPU if available, else CPU\"\"\"\n",
    "    if torch.cuda.is_available():\n",
    "        return torch.device('cuda')\n",
    "    else:\n",
    "        return torch.device('cpu')\n",
    "\n",
    "def to_device(data, device):\n",
    "    \"\"\"Move tensor(s) to chosen device\"\"\"\n",
    "    if isinstance(data, (list,tuple)):\n",
    "        return [to_device(x, device) for x in data]\n",
    "    return data.to(device, non_blocking=True)\n",
    "\n",
    "class DeviceDataLoader():\n",
    "    \"\"\"Wrap a dataloader to move data to a device\"\"\"\n",
    "    def __init__(self, dl, device):\n",
    "        self.dl = dl\n",
    "        self.device = device\n",
    "        \n",
    "    def __iter__(self):\n",
    "        \"\"\"Yield a batch of data after moving it to device\"\"\"\n",
    "        for b in self.dl: \n",
    "            yield to_device(b, self.device)\n",
    "\n",
    "    def __len__(self):\n",
    "        \"\"\"Number of batches\"\"\"\n",
    "        return len(self.dl)"
   ]
  },
  {
   "cell_type": "code",
   "execution_count": 6,
   "id": "3d6968ba",
   "metadata": {},
   "outputs": [],
   "source": [
    "device = get_default_device()"
   ]
  },
  {
   "cell_type": "code",
   "execution_count": 7,
   "id": "b0480347",
   "metadata": {},
   "outputs": [
    {
     "data": {
      "text/plain": [
       "device(type='cuda')"
      ]
     },
     "execution_count": 7,
     "metadata": {},
     "output_type": "execute_result"
    }
   ],
   "source": [
    "device"
   ]
  },
  {
   "cell_type": "markdown",
   "id": "90f039c6",
   "metadata": {},
   "source": [
    "### Step 1a) Fetch the dataset"
   ]
  },
  {
   "cell_type": "code",
   "execution_count": 8,
   "id": "bb8f6792",
   "metadata": {},
   "outputs": [],
   "source": [
    "root_dir1 = \"../../datasets/ICard 2K Aligned/\" #For Ubuntu\n",
    "root_dir2 = \"../../datasets/ICard_Extract/\" #For Ubuntu\n",
    "\n",
    "data_dir1 = \"RegImgs/\"\n",
    "data_dir2 = \"ValFNIR/\"\n",
    "data_dir3 = \"ValFPIR/\""
   ]
  },
  {
   "cell_type": "code",
   "execution_count": 9,
   "id": "511e1cb6",
   "metadata": {},
   "outputs": [],
   "source": [
    "# c = 0\n",
    "\n",
    "# for i in np.arange(10000, 13000):\n",
    "#     f_name = str(i) + \".jpg\"\n",
    "#     img_name1 = os.path.join(root_dir1, data_dir1, f_name)\n",
    "#     img_name2 = os.path.join(root_dir1, data_dir2, f_name)\n",
    "    \n",
    "#     if ((os.path.isfile(img_name1)) and (os.path.isfile(img_name2))):\n",
    "#         img1 = cv2.imread(img_name1)\n",
    "#         img2 = cv2.imread(img_name2)\n",
    "        \n",
    "#         cv2.imwrite(os.path.join(root_dir2, data_dir1, f_name), img1)\n",
    "#         cv2.imwrite(os.path.join(root_dir2, data_dir2, f_name), img2)\n",
    "        \n",
    "#         c += 1\n",
    "\n",
    "# print(c)"
   ]
  },
  {
   "cell_type": "code",
   "execution_count": 10,
   "id": "dbecc4f2",
   "metadata": {},
   "outputs": [
    {
     "name": "stdout",
     "output_type": "stream",
     "text": [
      "No. of examples : 3\n"
     ]
    }
   ],
   "source": [
    "img_dir = os.listdir(root_dir2)\n",
    "print('No. of examples :', len(img_dir))\n",
    "#print(img_dir[:])"
   ]
  },
  {
   "cell_type": "code",
   "execution_count": 11,
   "id": "d90da2c8",
   "metadata": {},
   "outputs": [],
   "source": [
    "tra = transforms.Compose([\n",
    "    transforms.ToTensor(),\n",
    "    transforms.Resize(112),\n",
    "    transforms.Normalize(mean=[0.5, 0.5, 0.5], std=[0.5, 0.5, 0.5])\n",
    "    #transforms.RandomCrop((h, w))\n",
    "])"
   ]
  },
  {
   "cell_type": "code",
   "execution_count": 12,
   "id": "c054cf79",
   "metadata": {},
   "outputs": [],
   "source": [
    "dataset = ImageFolder(root_dir2, transform=tra)"
   ]
  },
  {
   "cell_type": "code",
   "execution_count": 13,
   "id": "37a78c56",
   "metadata": {},
   "outputs": [
    {
     "data": {
      "text/plain": [
       "6376"
      ]
     },
     "execution_count": 13,
     "metadata": {},
     "output_type": "execute_result"
    }
   ],
   "source": [
    "len(dataset)"
   ]
  },
  {
   "cell_type": "code",
   "execution_count": 14,
   "id": "6e7b3887",
   "metadata": {},
   "outputs": [
    {
     "name": "stdout",
     "output_type": "stream",
     "text": [
      "['RegImgs', 'ValFNIR', 'ValFPIR']\n"
     ]
    }
   ],
   "source": [
    "print(dataset.classes)"
   ]
  },
  {
   "cell_type": "code",
   "execution_count": 15,
   "id": "4cc59acb",
   "metadata": {},
   "outputs": [
    {
     "name": "stdout",
     "output_type": "stream",
     "text": [
      "['RegImgs', 'ValFNIR', 'ValFPIR']\n"
     ]
    }
   ],
   "source": [
    "print(os.listdir(root_dir2))"
   ]
  },
  {
   "cell_type": "code",
   "execution_count": 16,
   "id": "3fecd85b",
   "metadata": {},
   "outputs": [],
   "source": [
    "image_size = [112, 112]"
   ]
  },
  {
   "cell_type": "code",
   "execution_count": null,
   "id": "c4a2ecef",
   "metadata": {},
   "outputs": [],
   "source": [
    "img, label = dataset[2]\n",
    "img_d = torch.permute(img, (1, 2, 0))\n",
    "print(img_d.shape)\n",
    "print(label)\n",
    "\n",
    "plt.imshow(img_d)\n",
    "plt.show()"
   ]
  },
  {
   "cell_type": "code",
   "execution_count": null,
   "id": "d4aebcae",
   "metadata": {},
   "outputs": [],
   "source": [
    "img, label = dataset[1986]\n",
    "img_d = torch.permute(img, (1, 2, 0))\n",
    "print(img_d.shape)\n",
    "print(label)\n",
    "\n",
    "plt.imshow(img_d)\n",
    "plt.show()"
   ]
  },
  {
   "cell_type": "code",
   "execution_count": null,
   "id": "7a499679",
   "metadata": {},
   "outputs": [],
   "source": [
    "torch.max(img), torch.min(img)"
   ]
  },
  {
   "cell_type": "code",
   "execution_count": 17,
   "id": "4c5e0206",
   "metadata": {},
   "outputs": [],
   "source": [
    "nums = 1984"
   ]
  },
  {
   "cell_type": "code",
   "execution_count": 18,
   "id": "572bf085",
   "metadata": {},
   "outputs": [
    {
     "name": "stdout",
     "output_type": "stream",
     "text": [
      "torch.Size([3968])\n",
      "tensor([1, 1, 1, 1, 1,  ..., 0, 0, 0, 0, 0])\n"
     ]
    }
   ],
   "source": [
    "labels = torch.cat((torch.ones(nums), torch.zeros(nums)))\n",
    "labels = labels.to(torch.long)\n",
    "print(labels.shape)\n",
    "print(labels)"
   ]
  },
  {
   "cell_type": "code",
   "execution_count": 19,
   "id": "8b0ff4df",
   "metadata": {},
   "outputs": [
    {
     "data": {
      "text/plain": [
       "torch.Size([3968, 2, 3, 112, 112])"
      ]
     },
     "execution_count": 19,
     "metadata": {},
     "output_type": "execute_result"
    }
   ],
   "source": [
    "data_list = torch.empty((nums*2, 2, 3, image_size[0], image_size[1]))\n",
    "data_list.shape"
   ]
  },
  {
   "cell_type": "code",
   "execution_count": 20,
   "id": "6a13662f",
   "metadata": {},
   "outputs": [],
   "source": [
    "for i in range(nums):\n",
    "    img1, _ = dataset[i]\n",
    "    img2, _ = dataset[i+nums]\n",
    "    \n",
    "    data_list[i][0] = img1\n",
    "    data_list[i][1] = img2"
   ]
  },
  {
   "cell_type": "code",
   "execution_count": 21,
   "id": "c4c41241",
   "metadata": {},
   "outputs": [],
   "source": [
    "for i in range(nums):\n",
    "    img1, _ = dataset[i]\n",
    "    img2, _ = dataset[i+nums*2]\n",
    "    \n",
    "    data_list[i+nums][0] = img1\n",
    "    data_list[i+nums][1] = img2"
   ]
  },
  {
   "cell_type": "code",
   "execution_count": 22,
   "id": "913f9682",
   "metadata": {},
   "outputs": [
    {
     "data": {
      "text/plain": [
       "torch.Size([3968, 2, 3, 112, 112])"
      ]
     },
     "execution_count": 22,
     "metadata": {},
     "output_type": "execute_result"
    }
   ],
   "source": [
    "data_list.shape"
   ]
  },
  {
   "cell_type": "code",
   "execution_count": null,
   "id": "66e16e5f",
   "metadata": {},
   "outputs": [],
   "source": [
    "img1 = data_list[0][0]\n",
    "img2 = data_list[0][1]\n",
    "img1 = torch.permute(img1, (1, 2, 0))\n",
    "img2 = torch.permute(img2, (1, 2, 0))\n",
    "\n",
    "plt.imshow(img1)\n",
    "plt.show()\n",
    "\n",
    "plt.imshow(img2)\n",
    "plt.show()"
   ]
  },
  {
   "cell_type": "code",
   "execution_count": null,
   "id": "7cee02a9",
   "metadata": {},
   "outputs": [],
   "source": [
    "torch.max(img), torch.min(img)"
   ]
  },
  {
   "cell_type": "code",
   "execution_count": null,
   "id": "b1c5ac4f",
   "metadata": {},
   "outputs": [],
   "source": [
    "img1 = data_list[1945][0]\n",
    "img2 = data_list[1945][1]\n",
    "img1 = torch.permute(img1, (1, 2, 0))\n",
    "img2 = torch.permute(img2, (1, 2, 0))\n",
    "\n",
    "plt.imshow(img1)\n",
    "plt.show()\n",
    "\n",
    "plt.imshow(img2)\n",
    "plt.show()"
   ]
  },
  {
   "cell_type": "markdown",
   "id": "24fca039",
   "metadata": {},
   "source": [
    "### Step 2a) Model Architecture - Network"
   ]
  },
  {
   "cell_type": "code",
   "execution_count": 23,
   "id": "10f17d0a",
   "metadata": {},
   "outputs": [],
   "source": [
    "def conv_2d(ni, nf, ks, stride=1):\n",
    "    return nn.Conv2d(in_channels=ni, out_channels=nf, kernel_size=ks, stride=stride, padding=ks//2, bias=False)\n",
    "\n",
    "def bn_relu_conv(ni, nf, ks):\n",
    "    return nn.Sequential(nn.BatchNorm2d(ni), \n",
    "                       nn.ReLU(inplace=True),\n",
    "                       conv_2d(ni, nf, ks))"
   ]
  },
  {
   "cell_type": "code",
   "execution_count": 24,
   "id": "f5d74404",
   "metadata": {},
   "outputs": [],
   "source": [
    "class ResBlock(nn.Module):\n",
    "    def __init__(self, ni, nf, stride=1):\n",
    "        super().__init__()\n",
    "        if ni > 100:\n",
    "            temp = ni * 2\n",
    "        else:\n",
    "            temp = ni\n",
    "        self.bn = nn.BatchNorm2d(temp)\n",
    "        self.conv1 = conv_2d(temp, ni, 1, stride)\n",
    "        self.conv2 = bn_relu_conv(ni, ni, ks=3)\n",
    "        self.conv3 = bn_relu_conv(ni, nf, ks=1)\n",
    "        self.shortcut = lambda x: x\n",
    "        if ni != nf:\n",
    "            self.shortcut = conv_2d(temp, nf, 1, stride)\n",
    "\n",
    "    def forward(self, x):\n",
    "        #print(\"Inside Res Block1\")\n",
    "        #print(x.shape)\n",
    "        x = F.relu(self.bn(x), inplace=True)\n",
    "        #print(x.shape)\n",
    "        r1 = self.shortcut(x)\n",
    "        #print(r1.shape)\n",
    "        x = self.conv1(x)\n",
    "        x = self.conv2(x)\n",
    "        x = self.conv3(x) * 0.2\n",
    "        #print(x.shape)\n",
    "        return x.add_(r1)"
   ]
  },
  {
   "cell_type": "code",
   "execution_count": 25,
   "id": "7e11f561",
   "metadata": {},
   "outputs": [],
   "source": [
    "class ResBlock2(nn.Module):\n",
    "    def __init__(self, ni, nf, stride=1):\n",
    "        super().__init__()\n",
    "        self.bn = nn.BatchNorm2d(ni)\n",
    "        self.conv1 = conv_2d(ni, nf, 1, stride)\n",
    "        self.conv2 = bn_relu_conv(nf, nf, ks=3)\n",
    "        self.conv3 = bn_relu_conv(nf, ni, ks=1)\n",
    "        self.shortcut = lambda x: x\n",
    "#        if ni != nf:\n",
    "#            self.shortcut = conv_2d(ni, nf, 1, 1)\n",
    "\n",
    "    def forward(self, x):\n",
    "        #print(\"Inside Res Block2\")\n",
    "        #print(x.shape)\n",
    "        x = F.relu(self.bn(x), inplace=True)\n",
    "        #print(x.shape)\n",
    "        r = self.shortcut(x)\n",
    "        #print(r.shape)\n",
    "        x = self.conv1(x)\n",
    "        x = self.conv2(x)\n",
    "        x = self.conv3(x) * 0.2\n",
    "        return x.add_(r)"
   ]
  },
  {
   "cell_type": "code",
   "execution_count": 26,
   "id": "0d36f459",
   "metadata": {},
   "outputs": [],
   "source": [
    "def make_group(N, ni, nf, stride):\n",
    "    start = ResBlock(ni, nf, stride)\n",
    "    rest = [ResBlock2(nf, ni) for j in range(1, N)]\n",
    "    return [start] + rest"
   ]
  },
  {
   "cell_type": "code",
   "execution_count": 27,
   "id": "8d4b46e4",
   "metadata": {},
   "outputs": [],
   "source": [
    "class Flatten(nn.Module):\n",
    "    def __init__(self):\n",
    "        super().__init__()\n",
    "    \n",
    "    def forward(self, x):\n",
    "        return x.view(x.size(0), -1)"
   ]
  },
  {
   "cell_type": "code",
   "execution_count": 28,
   "id": "a3c4ca87",
   "metadata": {},
   "outputs": [],
   "source": [
    "class MyResNet(nn.Module):\n",
    "    def __init__(self, n_groups, N, k=1, n_start=64):\n",
    "        super().__init__()\n",
    "        #Increase channels\n",
    "        self.layers = [conv_2d(3, 64, ks=7, stride=2)]\n",
    "        self.layers += [nn.MaxPool2d(kernel_size=3, stride=2, padding=1)]\n",
    "        n_channels = [n_start]\n",
    "\n",
    "        #Add groups\n",
    "        for i in range(n_groups):\n",
    "            n_channels.append(n_start*(2**i)*k)\n",
    "            stride = 2 if i>0 else 1\n",
    "            self.layers += make_group(N[i], n_channels[i], n_channels[i]*4, stride)\n",
    "\n",
    "        #Pool, Flatten, and add linear layer for classification  \n",
    "        self.layers += [nn.BatchNorm2d(n_channels[n_groups]*2),\n",
    "                        nn.ReLU(inplace=True),\n",
    "                        nn.AdaptiveAvgPool2d(1),\n",
    "                        #nn.AvgPool2d(kernel_size=2, stride=2),\n",
    "                        Flatten(), #2048-d embeddings\n",
    "                        #nn.Linear(n_channels[n_groups]*2, 512) #512-d embeddings\n",
    "                       ]\n",
    "        \n",
    "        #self.fc = nn.Linear(n_channels[n_groups]*2, n_classes)\n",
    "        self.features = nn.Sequential(*self.layers)\n",
    "        \n",
    "    def forward(self, x):\n",
    "        embed = self.features(x)\n",
    "        return embed #self.fc(embed)"
   ]
  },
  {
   "cell_type": "code",
   "execution_count": 29,
   "id": "569f4773",
   "metadata": {},
   "outputs": [],
   "source": [
    "#Number of blocks at various groups\n",
    "N_50 = [3, 4, 6, 3]\n",
    "N_101 = [3, 4, 23, 3]\n",
    "N_152 = [3, 8, 36, 3]\n",
    "\n",
    "def ResNet50():\n",
    "    return MyResNet(4, N_50, k=2)\n",
    "\n",
    "def ResNet101():\n",
    "    return MyResNet(4, N_101, k=2)\n",
    "\n",
    "def ResNet152():\n",
    "    return MyResNet(4, N_152, k=2)"
   ]
  },
  {
   "cell_type": "code",
   "execution_count": 30,
   "id": "2815878b",
   "metadata": {},
   "outputs": [
    {
     "data": {
      "text/plain": [
       "MyResNet(\n",
       "  (features): Sequential(\n",
       "    (0): Conv2d(3, 64, kernel_size=(7, 7), stride=(2, 2), padding=(3, 3), bias=False)\n",
       "    (1): MaxPool2d(kernel_size=3, stride=2, padding=1, dilation=1, ceil_mode=False)\n",
       "    (2): ResBlock(\n",
       "      (bn): BatchNorm2d(64, eps=1e-05, momentum=0.1, affine=True, track_running_stats=True)\n",
       "      (conv1): Conv2d(64, 64, kernel_size=(1, 1), stride=(1, 1), bias=False)\n",
       "      (conv2): Sequential(\n",
       "        (0): BatchNorm2d(64, eps=1e-05, momentum=0.1, affine=True, track_running_stats=True)\n",
       "        (1): ReLU(inplace=True)\n",
       "        (2): Conv2d(64, 64, kernel_size=(3, 3), stride=(1, 1), padding=(1, 1), bias=False)\n",
       "      )\n",
       "      (conv3): Sequential(\n",
       "        (0): BatchNorm2d(64, eps=1e-05, momentum=0.1, affine=True, track_running_stats=True)\n",
       "        (1): ReLU(inplace=True)\n",
       "        (2): Conv2d(64, 256, kernel_size=(1, 1), stride=(1, 1), bias=False)\n",
       "      )\n",
       "      (shortcut): Conv2d(64, 256, kernel_size=(1, 1), stride=(1, 1), bias=False)\n",
       "    )\n",
       "    (3): ResBlock2(\n",
       "      (bn): BatchNorm2d(256, eps=1e-05, momentum=0.1, affine=True, track_running_stats=True)\n",
       "      (conv1): Conv2d(256, 64, kernel_size=(1, 1), stride=(1, 1), bias=False)\n",
       "      (conv2): Sequential(\n",
       "        (0): BatchNorm2d(64, eps=1e-05, momentum=0.1, affine=True, track_running_stats=True)\n",
       "        (1): ReLU(inplace=True)\n",
       "        (2): Conv2d(64, 64, kernel_size=(3, 3), stride=(1, 1), padding=(1, 1), bias=False)\n",
       "      )\n",
       "      (conv3): Sequential(\n",
       "        (0): BatchNorm2d(64, eps=1e-05, momentum=0.1, affine=True, track_running_stats=True)\n",
       "        (1): ReLU(inplace=True)\n",
       "        (2): Conv2d(64, 256, kernel_size=(1, 1), stride=(1, 1), bias=False)\n",
       "      )\n",
       "    )\n",
       "    (4): ResBlock2(\n",
       "      (bn): BatchNorm2d(256, eps=1e-05, momentum=0.1, affine=True, track_running_stats=True)\n",
       "      (conv1): Conv2d(256, 64, kernel_size=(1, 1), stride=(1, 1), bias=False)\n",
       "      (conv2): Sequential(\n",
       "        (0): BatchNorm2d(64, eps=1e-05, momentum=0.1, affine=True, track_running_stats=True)\n",
       "        (1): ReLU(inplace=True)\n",
       "        (2): Conv2d(64, 64, kernel_size=(3, 3), stride=(1, 1), padding=(1, 1), bias=False)\n",
       "      )\n",
       "      (conv3): Sequential(\n",
       "        (0): BatchNorm2d(64, eps=1e-05, momentum=0.1, affine=True, track_running_stats=True)\n",
       "        (1): ReLU(inplace=True)\n",
       "        (2): Conv2d(64, 256, kernel_size=(1, 1), stride=(1, 1), bias=False)\n",
       "      )\n",
       "    )\n",
       "    (5): ResBlock(\n",
       "      (bn): BatchNorm2d(256, eps=1e-05, momentum=0.1, affine=True, track_running_stats=True)\n",
       "      (conv1): Conv2d(256, 128, kernel_size=(1, 1), stride=(2, 2), bias=False)\n",
       "      (conv2): Sequential(\n",
       "        (0): BatchNorm2d(128, eps=1e-05, momentum=0.1, affine=True, track_running_stats=True)\n",
       "        (1): ReLU(inplace=True)\n",
       "        (2): Conv2d(128, 128, kernel_size=(3, 3), stride=(1, 1), padding=(1, 1), bias=False)\n",
       "      )\n",
       "      (conv3): Sequential(\n",
       "        (0): BatchNorm2d(128, eps=1e-05, momentum=0.1, affine=True, track_running_stats=True)\n",
       "        (1): ReLU(inplace=True)\n",
       "        (2): Conv2d(128, 512, kernel_size=(1, 1), stride=(1, 1), bias=False)\n",
       "      )\n",
       "      (shortcut): Conv2d(256, 512, kernel_size=(1, 1), stride=(2, 2), bias=False)\n",
       "    )\n",
       "    (6): ResBlock2(\n",
       "      (bn): BatchNorm2d(512, eps=1e-05, momentum=0.1, affine=True, track_running_stats=True)\n",
       "      (conv1): Conv2d(512, 128, kernel_size=(1, 1), stride=(1, 1), bias=False)\n",
       "      (conv2): Sequential(\n",
       "        (0): BatchNorm2d(128, eps=1e-05, momentum=0.1, affine=True, track_running_stats=True)\n",
       "        (1): ReLU(inplace=True)\n",
       "        (2): Conv2d(128, 128, kernel_size=(3, 3), stride=(1, 1), padding=(1, 1), bias=False)\n",
       "      )\n",
       "      (conv3): Sequential(\n",
       "        (0): BatchNorm2d(128, eps=1e-05, momentum=0.1, affine=True, track_running_stats=True)\n",
       "        (1): ReLU(inplace=True)\n",
       "        (2): Conv2d(128, 512, kernel_size=(1, 1), stride=(1, 1), bias=False)\n",
       "      )\n",
       "    )\n",
       "    (7): ResBlock2(\n",
       "      (bn): BatchNorm2d(512, eps=1e-05, momentum=0.1, affine=True, track_running_stats=True)\n",
       "      (conv1): Conv2d(512, 128, kernel_size=(1, 1), stride=(1, 1), bias=False)\n",
       "      (conv2): Sequential(\n",
       "        (0): BatchNorm2d(128, eps=1e-05, momentum=0.1, affine=True, track_running_stats=True)\n",
       "        (1): ReLU(inplace=True)\n",
       "        (2): Conv2d(128, 128, kernel_size=(3, 3), stride=(1, 1), padding=(1, 1), bias=False)\n",
       "      )\n",
       "      (conv3): Sequential(\n",
       "        (0): BatchNorm2d(128, eps=1e-05, momentum=0.1, affine=True, track_running_stats=True)\n",
       "        (1): ReLU(inplace=True)\n",
       "        (2): Conv2d(128, 512, kernel_size=(1, 1), stride=(1, 1), bias=False)\n",
       "      )\n",
       "    )\n",
       "    (8): ResBlock2(\n",
       "      (bn): BatchNorm2d(512, eps=1e-05, momentum=0.1, affine=True, track_running_stats=True)\n",
       "      (conv1): Conv2d(512, 128, kernel_size=(1, 1), stride=(1, 1), bias=False)\n",
       "      (conv2): Sequential(\n",
       "        (0): BatchNorm2d(128, eps=1e-05, momentum=0.1, affine=True, track_running_stats=True)\n",
       "        (1): ReLU(inplace=True)\n",
       "        (2): Conv2d(128, 128, kernel_size=(3, 3), stride=(1, 1), padding=(1, 1), bias=False)\n",
       "      )\n",
       "      (conv3): Sequential(\n",
       "        (0): BatchNorm2d(128, eps=1e-05, momentum=0.1, affine=True, track_running_stats=True)\n",
       "        (1): ReLU(inplace=True)\n",
       "        (2): Conv2d(128, 512, kernel_size=(1, 1), stride=(1, 1), bias=False)\n",
       "      )\n",
       "    )\n",
       "    (9): ResBlock(\n",
       "      (bn): BatchNorm2d(512, eps=1e-05, momentum=0.1, affine=True, track_running_stats=True)\n",
       "      (conv1): Conv2d(512, 256, kernel_size=(1, 1), stride=(2, 2), bias=False)\n",
       "      (conv2): Sequential(\n",
       "        (0): BatchNorm2d(256, eps=1e-05, momentum=0.1, affine=True, track_running_stats=True)\n",
       "        (1): ReLU(inplace=True)\n",
       "        (2): Conv2d(256, 256, kernel_size=(3, 3), stride=(1, 1), padding=(1, 1), bias=False)\n",
       "      )\n",
       "      (conv3): Sequential(\n",
       "        (0): BatchNorm2d(256, eps=1e-05, momentum=0.1, affine=True, track_running_stats=True)\n",
       "        (1): ReLU(inplace=True)\n",
       "        (2): Conv2d(256, 1024, kernel_size=(1, 1), stride=(1, 1), bias=False)\n",
       "      )\n",
       "      (shortcut): Conv2d(512, 1024, kernel_size=(1, 1), stride=(2, 2), bias=False)\n",
       "    )\n",
       "    (10): ResBlock2(\n",
       "      (bn): BatchNorm2d(1024, eps=1e-05, momentum=0.1, affine=True, track_running_stats=True)\n",
       "      (conv1): Conv2d(1024, 256, kernel_size=(1, 1), stride=(1, 1), bias=False)\n",
       "      (conv2): Sequential(\n",
       "        (0): BatchNorm2d(256, eps=1e-05, momentum=0.1, affine=True, track_running_stats=True)\n",
       "        (1): ReLU(inplace=True)\n",
       "        (2): Conv2d(256, 256, kernel_size=(3, 3), stride=(1, 1), padding=(1, 1), bias=False)\n",
       "      )\n",
       "      (conv3): Sequential(\n",
       "        (0): BatchNorm2d(256, eps=1e-05, momentum=0.1, affine=True, track_running_stats=True)\n",
       "        (1): ReLU(inplace=True)\n",
       "        (2): Conv2d(256, 1024, kernel_size=(1, 1), stride=(1, 1), bias=False)\n",
       "      )\n",
       "    )\n",
       "    (11): ResBlock2(\n",
       "      (bn): BatchNorm2d(1024, eps=1e-05, momentum=0.1, affine=True, track_running_stats=True)\n",
       "      (conv1): Conv2d(1024, 256, kernel_size=(1, 1), stride=(1, 1), bias=False)\n",
       "      (conv2): Sequential(\n",
       "        (0): BatchNorm2d(256, eps=1e-05, momentum=0.1, affine=True, track_running_stats=True)\n",
       "        (1): ReLU(inplace=True)\n",
       "        (2): Conv2d(256, 256, kernel_size=(3, 3), stride=(1, 1), padding=(1, 1), bias=False)\n",
       "      )\n",
       "      (conv3): Sequential(\n",
       "        (0): BatchNorm2d(256, eps=1e-05, momentum=0.1, affine=True, track_running_stats=True)\n",
       "        (1): ReLU(inplace=True)\n",
       "        (2): Conv2d(256, 1024, kernel_size=(1, 1), stride=(1, 1), bias=False)\n",
       "      )\n",
       "    )\n",
       "    (12): ResBlock2(\n",
       "      (bn): BatchNorm2d(1024, eps=1e-05, momentum=0.1, affine=True, track_running_stats=True)\n",
       "      (conv1): Conv2d(1024, 256, kernel_size=(1, 1), stride=(1, 1), bias=False)\n",
       "      (conv2): Sequential(\n",
       "        (0): BatchNorm2d(256, eps=1e-05, momentum=0.1, affine=True, track_running_stats=True)\n",
       "        (1): ReLU(inplace=True)\n",
       "        (2): Conv2d(256, 256, kernel_size=(3, 3), stride=(1, 1), padding=(1, 1), bias=False)\n",
       "      )\n",
       "      (conv3): Sequential(\n",
       "        (0): BatchNorm2d(256, eps=1e-05, momentum=0.1, affine=True, track_running_stats=True)\n",
       "        (1): ReLU(inplace=True)\n",
       "        (2): Conv2d(256, 1024, kernel_size=(1, 1), stride=(1, 1), bias=False)\n",
       "      )\n",
       "    )\n",
       "    (13): ResBlock2(\n",
       "      (bn): BatchNorm2d(1024, eps=1e-05, momentum=0.1, affine=True, track_running_stats=True)\n",
       "      (conv1): Conv2d(1024, 256, kernel_size=(1, 1), stride=(1, 1), bias=False)\n",
       "      (conv2): Sequential(\n",
       "        (0): BatchNorm2d(256, eps=1e-05, momentum=0.1, affine=True, track_running_stats=True)\n",
       "        (1): ReLU(inplace=True)\n",
       "        (2): Conv2d(256, 256, kernel_size=(3, 3), stride=(1, 1), padding=(1, 1), bias=False)\n",
       "      )\n",
       "      (conv3): Sequential(\n",
       "        (0): BatchNorm2d(256, eps=1e-05, momentum=0.1, affine=True, track_running_stats=True)\n",
       "        (1): ReLU(inplace=True)\n",
       "        (2): Conv2d(256, 1024, kernel_size=(1, 1), stride=(1, 1), bias=False)\n",
       "      )\n",
       "    )\n",
       "    (14): ResBlock2(\n",
       "      (bn): BatchNorm2d(1024, eps=1e-05, momentum=0.1, affine=True, track_running_stats=True)\n",
       "      (conv1): Conv2d(1024, 256, kernel_size=(1, 1), stride=(1, 1), bias=False)\n",
       "      (conv2): Sequential(\n",
       "        (0): BatchNorm2d(256, eps=1e-05, momentum=0.1, affine=True, track_running_stats=True)\n",
       "        (1): ReLU(inplace=True)\n",
       "        (2): Conv2d(256, 256, kernel_size=(3, 3), stride=(1, 1), padding=(1, 1), bias=False)\n",
       "      )\n",
       "      (conv3): Sequential(\n",
       "        (0): BatchNorm2d(256, eps=1e-05, momentum=0.1, affine=True, track_running_stats=True)\n",
       "        (1): ReLU(inplace=True)\n",
       "        (2): Conv2d(256, 1024, kernel_size=(1, 1), stride=(1, 1), bias=False)\n",
       "      )\n",
       "    )\n",
       "    (15): ResBlock(\n",
       "      (bn): BatchNorm2d(1024, eps=1e-05, momentum=0.1, affine=True, track_running_stats=True)\n",
       "      (conv1): Conv2d(1024, 512, kernel_size=(1, 1), stride=(2, 2), bias=False)\n",
       "      (conv2): Sequential(\n",
       "        (0): BatchNorm2d(512, eps=1e-05, momentum=0.1, affine=True, track_running_stats=True)\n",
       "        (1): ReLU(inplace=True)\n",
       "        (2): Conv2d(512, 512, kernel_size=(3, 3), stride=(1, 1), padding=(1, 1), bias=False)\n",
       "      )\n",
       "      (conv3): Sequential(\n",
       "        (0): BatchNorm2d(512, eps=1e-05, momentum=0.1, affine=True, track_running_stats=True)\n",
       "        (1): ReLU(inplace=True)\n",
       "        (2): Conv2d(512, 2048, kernel_size=(1, 1), stride=(1, 1), bias=False)\n",
       "      )\n",
       "      (shortcut): Conv2d(1024, 2048, kernel_size=(1, 1), stride=(2, 2), bias=False)\n",
       "    )\n",
       "    (16): ResBlock2(\n",
       "      (bn): BatchNorm2d(2048, eps=1e-05, momentum=0.1, affine=True, track_running_stats=True)\n",
       "      (conv1): Conv2d(2048, 512, kernel_size=(1, 1), stride=(1, 1), bias=False)\n",
       "      (conv2): Sequential(\n",
       "        (0): BatchNorm2d(512, eps=1e-05, momentum=0.1, affine=True, track_running_stats=True)\n",
       "        (1): ReLU(inplace=True)\n",
       "        (2): Conv2d(512, 512, kernel_size=(3, 3), stride=(1, 1), padding=(1, 1), bias=False)\n",
       "      )\n",
       "      (conv3): Sequential(\n",
       "        (0): BatchNorm2d(512, eps=1e-05, momentum=0.1, affine=True, track_running_stats=True)\n",
       "        (1): ReLU(inplace=True)\n",
       "        (2): Conv2d(512, 2048, kernel_size=(1, 1), stride=(1, 1), bias=False)\n",
       "      )\n",
       "    )\n",
       "    (17): ResBlock2(\n",
       "      (bn): BatchNorm2d(2048, eps=1e-05, momentum=0.1, affine=True, track_running_stats=True)\n",
       "      (conv1): Conv2d(2048, 512, kernel_size=(1, 1), stride=(1, 1), bias=False)\n",
       "      (conv2): Sequential(\n",
       "        (0): BatchNorm2d(512, eps=1e-05, momentum=0.1, affine=True, track_running_stats=True)\n",
       "        (1): ReLU(inplace=True)\n",
       "        (2): Conv2d(512, 512, kernel_size=(3, 3), stride=(1, 1), padding=(1, 1), bias=False)\n",
       "      )\n",
       "      (conv3): Sequential(\n",
       "        (0): BatchNorm2d(512, eps=1e-05, momentum=0.1, affine=True, track_running_stats=True)\n",
       "        (1): ReLU(inplace=True)\n",
       "        (2): Conv2d(512, 2048, kernel_size=(1, 1), stride=(1, 1), bias=False)\n",
       "      )\n",
       "    )\n",
       "    (18): BatchNorm2d(2048, eps=1e-05, momentum=0.1, affine=True, track_running_stats=True)\n",
       "    (19): ReLU(inplace=True)\n",
       "    (20): AdaptiveAvgPool2d(output_size=1)\n",
       "    (21): Flatten()\n",
       "  )\n",
       ")"
      ]
     },
     "execution_count": 30,
     "metadata": {},
     "output_type": "execute_result"
    }
   ],
   "source": [
    "loaded_model = ResNet50()\n",
    "to_device(loaded_model, device)"
   ]
  },
  {
   "cell_type": "markdown",
   "id": "a1f06c42",
   "metadata": {},
   "source": [
    "### Step 2b) Loading the pre-trained Model"
   ]
  },
  {
   "cell_type": "code",
   "execution_count": 31,
   "id": "270f0f00",
   "metadata": {},
   "outputs": [
    {
     "data": {
      "text/plain": [
       "<All keys matched successfully>"
      ]
     },
     "execution_count": 31,
     "metadata": {},
     "output_type": "execute_result"
    }
   ],
   "source": [
    "# loaded_model.load_state_dict(\n",
    "#     torch.load(\"../Checkpoints/ResNet50_Softmax/ResNet50_Softmax_26_Feb_features_89acc.pth\"))\n",
    "# loaded_model.load_state_dict(\n",
    "#     torch.load(\"../Checkpoints/ResNet50_Softmax/ResNet50_Softmax_27_Feb_features_91acc.pth\"))\n",
    "loaded_model.load_state_dict(\n",
    "    torch.load(\"../Checkpoints/ResNet50_Softmax/ResNet50_Softmax_28_Feb_features_97acc.pth\"))"
   ]
  },
  {
   "cell_type": "code",
   "execution_count": 32,
   "id": "f533388f",
   "metadata": {},
   "outputs": [],
   "source": [
    "for param in loaded_model.parameters():\n",
    "    param.requires_grad = False"
   ]
  },
  {
   "cell_type": "code",
   "execution_count": 33,
   "id": "016b4337",
   "metadata": {},
   "outputs": [
    {
     "data": {
      "text/plain": [
       "MyResNet(\n",
       "  (features): Sequential(\n",
       "    (0): Conv2d(3, 64, kernel_size=(7, 7), stride=(2, 2), padding=(3, 3), bias=False)\n",
       "    (1): MaxPool2d(kernel_size=3, stride=2, padding=1, dilation=1, ceil_mode=False)\n",
       "    (2): ResBlock(\n",
       "      (bn): BatchNorm2d(64, eps=1e-05, momentum=0.1, affine=True, track_running_stats=True)\n",
       "      (conv1): Conv2d(64, 64, kernel_size=(1, 1), stride=(1, 1), bias=False)\n",
       "      (conv2): Sequential(\n",
       "        (0): BatchNorm2d(64, eps=1e-05, momentum=0.1, affine=True, track_running_stats=True)\n",
       "        (1): ReLU(inplace=True)\n",
       "        (2): Conv2d(64, 64, kernel_size=(3, 3), stride=(1, 1), padding=(1, 1), bias=False)\n",
       "      )\n",
       "      (conv3): Sequential(\n",
       "        (0): BatchNorm2d(64, eps=1e-05, momentum=0.1, affine=True, track_running_stats=True)\n",
       "        (1): ReLU(inplace=True)\n",
       "        (2): Conv2d(64, 256, kernel_size=(1, 1), stride=(1, 1), bias=False)\n",
       "      )\n",
       "      (shortcut): Conv2d(64, 256, kernel_size=(1, 1), stride=(1, 1), bias=False)\n",
       "    )\n",
       "    (3): ResBlock2(\n",
       "      (bn): BatchNorm2d(256, eps=1e-05, momentum=0.1, affine=True, track_running_stats=True)\n",
       "      (conv1): Conv2d(256, 64, kernel_size=(1, 1), stride=(1, 1), bias=False)\n",
       "      (conv2): Sequential(\n",
       "        (0): BatchNorm2d(64, eps=1e-05, momentum=0.1, affine=True, track_running_stats=True)\n",
       "        (1): ReLU(inplace=True)\n",
       "        (2): Conv2d(64, 64, kernel_size=(3, 3), stride=(1, 1), padding=(1, 1), bias=False)\n",
       "      )\n",
       "      (conv3): Sequential(\n",
       "        (0): BatchNorm2d(64, eps=1e-05, momentum=0.1, affine=True, track_running_stats=True)\n",
       "        (1): ReLU(inplace=True)\n",
       "        (2): Conv2d(64, 256, kernel_size=(1, 1), stride=(1, 1), bias=False)\n",
       "      )\n",
       "    )\n",
       "    (4): ResBlock2(\n",
       "      (bn): BatchNorm2d(256, eps=1e-05, momentum=0.1, affine=True, track_running_stats=True)\n",
       "      (conv1): Conv2d(256, 64, kernel_size=(1, 1), stride=(1, 1), bias=False)\n",
       "      (conv2): Sequential(\n",
       "        (0): BatchNorm2d(64, eps=1e-05, momentum=0.1, affine=True, track_running_stats=True)\n",
       "        (1): ReLU(inplace=True)\n",
       "        (2): Conv2d(64, 64, kernel_size=(3, 3), stride=(1, 1), padding=(1, 1), bias=False)\n",
       "      )\n",
       "      (conv3): Sequential(\n",
       "        (0): BatchNorm2d(64, eps=1e-05, momentum=0.1, affine=True, track_running_stats=True)\n",
       "        (1): ReLU(inplace=True)\n",
       "        (2): Conv2d(64, 256, kernel_size=(1, 1), stride=(1, 1), bias=False)\n",
       "      )\n",
       "    )\n",
       "    (5): ResBlock(\n",
       "      (bn): BatchNorm2d(256, eps=1e-05, momentum=0.1, affine=True, track_running_stats=True)\n",
       "      (conv1): Conv2d(256, 128, kernel_size=(1, 1), stride=(2, 2), bias=False)\n",
       "      (conv2): Sequential(\n",
       "        (0): BatchNorm2d(128, eps=1e-05, momentum=0.1, affine=True, track_running_stats=True)\n",
       "        (1): ReLU(inplace=True)\n",
       "        (2): Conv2d(128, 128, kernel_size=(3, 3), stride=(1, 1), padding=(1, 1), bias=False)\n",
       "      )\n",
       "      (conv3): Sequential(\n",
       "        (0): BatchNorm2d(128, eps=1e-05, momentum=0.1, affine=True, track_running_stats=True)\n",
       "        (1): ReLU(inplace=True)\n",
       "        (2): Conv2d(128, 512, kernel_size=(1, 1), stride=(1, 1), bias=False)\n",
       "      )\n",
       "      (shortcut): Conv2d(256, 512, kernel_size=(1, 1), stride=(2, 2), bias=False)\n",
       "    )\n",
       "    (6): ResBlock2(\n",
       "      (bn): BatchNorm2d(512, eps=1e-05, momentum=0.1, affine=True, track_running_stats=True)\n",
       "      (conv1): Conv2d(512, 128, kernel_size=(1, 1), stride=(1, 1), bias=False)\n",
       "      (conv2): Sequential(\n",
       "        (0): BatchNorm2d(128, eps=1e-05, momentum=0.1, affine=True, track_running_stats=True)\n",
       "        (1): ReLU(inplace=True)\n",
       "        (2): Conv2d(128, 128, kernel_size=(3, 3), stride=(1, 1), padding=(1, 1), bias=False)\n",
       "      )\n",
       "      (conv3): Sequential(\n",
       "        (0): BatchNorm2d(128, eps=1e-05, momentum=0.1, affine=True, track_running_stats=True)\n",
       "        (1): ReLU(inplace=True)\n",
       "        (2): Conv2d(128, 512, kernel_size=(1, 1), stride=(1, 1), bias=False)\n",
       "      )\n",
       "    )\n",
       "    (7): ResBlock2(\n",
       "      (bn): BatchNorm2d(512, eps=1e-05, momentum=0.1, affine=True, track_running_stats=True)\n",
       "      (conv1): Conv2d(512, 128, kernel_size=(1, 1), stride=(1, 1), bias=False)\n",
       "      (conv2): Sequential(\n",
       "        (0): BatchNorm2d(128, eps=1e-05, momentum=0.1, affine=True, track_running_stats=True)\n",
       "        (1): ReLU(inplace=True)\n",
       "        (2): Conv2d(128, 128, kernel_size=(3, 3), stride=(1, 1), padding=(1, 1), bias=False)\n",
       "      )\n",
       "      (conv3): Sequential(\n",
       "        (0): BatchNorm2d(128, eps=1e-05, momentum=0.1, affine=True, track_running_stats=True)\n",
       "        (1): ReLU(inplace=True)\n",
       "        (2): Conv2d(128, 512, kernel_size=(1, 1), stride=(1, 1), bias=False)\n",
       "      )\n",
       "    )\n",
       "    (8): ResBlock2(\n",
       "      (bn): BatchNorm2d(512, eps=1e-05, momentum=0.1, affine=True, track_running_stats=True)\n",
       "      (conv1): Conv2d(512, 128, kernel_size=(1, 1), stride=(1, 1), bias=False)\n",
       "      (conv2): Sequential(\n",
       "        (0): BatchNorm2d(128, eps=1e-05, momentum=0.1, affine=True, track_running_stats=True)\n",
       "        (1): ReLU(inplace=True)\n",
       "        (2): Conv2d(128, 128, kernel_size=(3, 3), stride=(1, 1), padding=(1, 1), bias=False)\n",
       "      )\n",
       "      (conv3): Sequential(\n",
       "        (0): BatchNorm2d(128, eps=1e-05, momentum=0.1, affine=True, track_running_stats=True)\n",
       "        (1): ReLU(inplace=True)\n",
       "        (2): Conv2d(128, 512, kernel_size=(1, 1), stride=(1, 1), bias=False)\n",
       "      )\n",
       "    )\n",
       "    (9): ResBlock(\n",
       "      (bn): BatchNorm2d(512, eps=1e-05, momentum=0.1, affine=True, track_running_stats=True)\n",
       "      (conv1): Conv2d(512, 256, kernel_size=(1, 1), stride=(2, 2), bias=False)\n",
       "      (conv2): Sequential(\n",
       "        (0): BatchNorm2d(256, eps=1e-05, momentum=0.1, affine=True, track_running_stats=True)\n",
       "        (1): ReLU(inplace=True)\n",
       "        (2): Conv2d(256, 256, kernel_size=(3, 3), stride=(1, 1), padding=(1, 1), bias=False)\n",
       "      )\n",
       "      (conv3): Sequential(\n",
       "        (0): BatchNorm2d(256, eps=1e-05, momentum=0.1, affine=True, track_running_stats=True)\n",
       "        (1): ReLU(inplace=True)\n",
       "        (2): Conv2d(256, 1024, kernel_size=(1, 1), stride=(1, 1), bias=False)\n",
       "      )\n",
       "      (shortcut): Conv2d(512, 1024, kernel_size=(1, 1), stride=(2, 2), bias=False)\n",
       "    )\n",
       "    (10): ResBlock2(\n",
       "      (bn): BatchNorm2d(1024, eps=1e-05, momentum=0.1, affine=True, track_running_stats=True)\n",
       "      (conv1): Conv2d(1024, 256, kernel_size=(1, 1), stride=(1, 1), bias=False)\n",
       "      (conv2): Sequential(\n",
       "        (0): BatchNorm2d(256, eps=1e-05, momentum=0.1, affine=True, track_running_stats=True)\n",
       "        (1): ReLU(inplace=True)\n",
       "        (2): Conv2d(256, 256, kernel_size=(3, 3), stride=(1, 1), padding=(1, 1), bias=False)\n",
       "      )\n",
       "      (conv3): Sequential(\n",
       "        (0): BatchNorm2d(256, eps=1e-05, momentum=0.1, affine=True, track_running_stats=True)\n",
       "        (1): ReLU(inplace=True)\n",
       "        (2): Conv2d(256, 1024, kernel_size=(1, 1), stride=(1, 1), bias=False)\n",
       "      )\n",
       "    )\n",
       "    (11): ResBlock2(\n",
       "      (bn): BatchNorm2d(1024, eps=1e-05, momentum=0.1, affine=True, track_running_stats=True)\n",
       "      (conv1): Conv2d(1024, 256, kernel_size=(1, 1), stride=(1, 1), bias=False)\n",
       "      (conv2): Sequential(\n",
       "        (0): BatchNorm2d(256, eps=1e-05, momentum=0.1, affine=True, track_running_stats=True)\n",
       "        (1): ReLU(inplace=True)\n",
       "        (2): Conv2d(256, 256, kernel_size=(3, 3), stride=(1, 1), padding=(1, 1), bias=False)\n",
       "      )\n",
       "      (conv3): Sequential(\n",
       "        (0): BatchNorm2d(256, eps=1e-05, momentum=0.1, affine=True, track_running_stats=True)\n",
       "        (1): ReLU(inplace=True)\n",
       "        (2): Conv2d(256, 1024, kernel_size=(1, 1), stride=(1, 1), bias=False)\n",
       "      )\n",
       "    )\n",
       "    (12): ResBlock2(\n",
       "      (bn): BatchNorm2d(1024, eps=1e-05, momentum=0.1, affine=True, track_running_stats=True)\n",
       "      (conv1): Conv2d(1024, 256, kernel_size=(1, 1), stride=(1, 1), bias=False)\n",
       "      (conv2): Sequential(\n",
       "        (0): BatchNorm2d(256, eps=1e-05, momentum=0.1, affine=True, track_running_stats=True)\n",
       "        (1): ReLU(inplace=True)\n",
       "        (2): Conv2d(256, 256, kernel_size=(3, 3), stride=(1, 1), padding=(1, 1), bias=False)\n",
       "      )\n",
       "      (conv3): Sequential(\n",
       "        (0): BatchNorm2d(256, eps=1e-05, momentum=0.1, affine=True, track_running_stats=True)\n",
       "        (1): ReLU(inplace=True)\n",
       "        (2): Conv2d(256, 1024, kernel_size=(1, 1), stride=(1, 1), bias=False)\n",
       "      )\n",
       "    )\n",
       "    (13): ResBlock2(\n",
       "      (bn): BatchNorm2d(1024, eps=1e-05, momentum=0.1, affine=True, track_running_stats=True)\n",
       "      (conv1): Conv2d(1024, 256, kernel_size=(1, 1), stride=(1, 1), bias=False)\n",
       "      (conv2): Sequential(\n",
       "        (0): BatchNorm2d(256, eps=1e-05, momentum=0.1, affine=True, track_running_stats=True)\n",
       "        (1): ReLU(inplace=True)\n",
       "        (2): Conv2d(256, 256, kernel_size=(3, 3), stride=(1, 1), padding=(1, 1), bias=False)\n",
       "      )\n",
       "      (conv3): Sequential(\n",
       "        (0): BatchNorm2d(256, eps=1e-05, momentum=0.1, affine=True, track_running_stats=True)\n",
       "        (1): ReLU(inplace=True)\n",
       "        (2): Conv2d(256, 1024, kernel_size=(1, 1), stride=(1, 1), bias=False)\n",
       "      )\n",
       "    )\n",
       "    (14): ResBlock2(\n",
       "      (bn): BatchNorm2d(1024, eps=1e-05, momentum=0.1, affine=True, track_running_stats=True)\n",
       "      (conv1): Conv2d(1024, 256, kernel_size=(1, 1), stride=(1, 1), bias=False)\n",
       "      (conv2): Sequential(\n",
       "        (0): BatchNorm2d(256, eps=1e-05, momentum=0.1, affine=True, track_running_stats=True)\n",
       "        (1): ReLU(inplace=True)\n",
       "        (2): Conv2d(256, 256, kernel_size=(3, 3), stride=(1, 1), padding=(1, 1), bias=False)\n",
       "      )\n",
       "      (conv3): Sequential(\n",
       "        (0): BatchNorm2d(256, eps=1e-05, momentum=0.1, affine=True, track_running_stats=True)\n",
       "        (1): ReLU(inplace=True)\n",
       "        (2): Conv2d(256, 1024, kernel_size=(1, 1), stride=(1, 1), bias=False)\n",
       "      )\n",
       "    )\n",
       "    (15): ResBlock(\n",
       "      (bn): BatchNorm2d(1024, eps=1e-05, momentum=0.1, affine=True, track_running_stats=True)\n",
       "      (conv1): Conv2d(1024, 512, kernel_size=(1, 1), stride=(2, 2), bias=False)\n",
       "      (conv2): Sequential(\n",
       "        (0): BatchNorm2d(512, eps=1e-05, momentum=0.1, affine=True, track_running_stats=True)\n",
       "        (1): ReLU(inplace=True)\n",
       "        (2): Conv2d(512, 512, kernel_size=(3, 3), stride=(1, 1), padding=(1, 1), bias=False)\n",
       "      )\n",
       "      (conv3): Sequential(\n",
       "        (0): BatchNorm2d(512, eps=1e-05, momentum=0.1, affine=True, track_running_stats=True)\n",
       "        (1): ReLU(inplace=True)\n",
       "        (2): Conv2d(512, 2048, kernel_size=(1, 1), stride=(1, 1), bias=False)\n",
       "      )\n",
       "      (shortcut): Conv2d(1024, 2048, kernel_size=(1, 1), stride=(2, 2), bias=False)\n",
       "    )\n",
       "    (16): ResBlock2(\n",
       "      (bn): BatchNorm2d(2048, eps=1e-05, momentum=0.1, affine=True, track_running_stats=True)\n",
       "      (conv1): Conv2d(2048, 512, kernel_size=(1, 1), stride=(1, 1), bias=False)\n",
       "      (conv2): Sequential(\n",
       "        (0): BatchNorm2d(512, eps=1e-05, momentum=0.1, affine=True, track_running_stats=True)\n",
       "        (1): ReLU(inplace=True)\n",
       "        (2): Conv2d(512, 512, kernel_size=(3, 3), stride=(1, 1), padding=(1, 1), bias=False)\n",
       "      )\n",
       "      (conv3): Sequential(\n",
       "        (0): BatchNorm2d(512, eps=1e-05, momentum=0.1, affine=True, track_running_stats=True)\n",
       "        (1): ReLU(inplace=True)\n",
       "        (2): Conv2d(512, 2048, kernel_size=(1, 1), stride=(1, 1), bias=False)\n",
       "      )\n",
       "    )\n",
       "    (17): ResBlock2(\n",
       "      (bn): BatchNorm2d(2048, eps=1e-05, momentum=0.1, affine=True, track_running_stats=True)\n",
       "      (conv1): Conv2d(2048, 512, kernel_size=(1, 1), stride=(1, 1), bias=False)\n",
       "      (conv2): Sequential(\n",
       "        (0): BatchNorm2d(512, eps=1e-05, momentum=0.1, affine=True, track_running_stats=True)\n",
       "        (1): ReLU(inplace=True)\n",
       "        (2): Conv2d(512, 512, kernel_size=(3, 3), stride=(1, 1), padding=(1, 1), bias=False)\n",
       "      )\n",
       "      (conv3): Sequential(\n",
       "        (0): BatchNorm2d(512, eps=1e-05, momentum=0.1, affine=True, track_running_stats=True)\n",
       "        (1): ReLU(inplace=True)\n",
       "        (2): Conv2d(512, 2048, kernel_size=(1, 1), stride=(1, 1), bias=False)\n",
       "      )\n",
       "    )\n",
       "    (18): BatchNorm2d(2048, eps=1e-05, momentum=0.1, affine=True, track_running_stats=True)\n",
       "    (19): ReLU(inplace=True)\n",
       "    (20): AdaptiveAvgPool2d(output_size=1)\n",
       "    (21): Flatten()\n",
       "  )\n",
       ")"
      ]
     },
     "execution_count": 33,
     "metadata": {},
     "output_type": "execute_result"
    }
   ],
   "source": [
    "to_device(loaded_model, device)"
   ]
  },
  {
   "cell_type": "code",
   "execution_count": 34,
   "id": "0aedbd9c",
   "metadata": {},
   "outputs": [
    {
     "name": "stdout",
     "output_type": "stream",
     "text": [
      "----------------------------------------------------------------\n",
      "        Layer (type)               Output Shape         Param #\n",
      "================================================================\n",
      "            Conv2d-1           [-1, 64, 25, 25]           9,408\n",
      "         MaxPool2d-2           [-1, 64, 13, 13]               0\n",
      "       BatchNorm2d-3           [-1, 64, 13, 13]             128\n",
      "            Conv2d-4          [-1, 256, 13, 13]          16,384\n",
      "            Conv2d-5           [-1, 64, 13, 13]           4,096\n",
      "       BatchNorm2d-6           [-1, 64, 13, 13]             128\n",
      "              ReLU-7           [-1, 64, 13, 13]               0\n",
      "            Conv2d-8           [-1, 64, 13, 13]          36,864\n",
      "       BatchNorm2d-9           [-1, 64, 13, 13]             128\n",
      "             ReLU-10           [-1, 64, 13, 13]               0\n",
      "           Conv2d-11          [-1, 256, 13, 13]          16,384\n",
      "         ResBlock-12          [-1, 256, 13, 13]               0\n",
      "      BatchNorm2d-13          [-1, 256, 13, 13]             512\n",
      "           Conv2d-14           [-1, 64, 13, 13]          16,384\n",
      "      BatchNorm2d-15           [-1, 64, 13, 13]             128\n",
      "             ReLU-16           [-1, 64, 13, 13]               0\n",
      "           Conv2d-17           [-1, 64, 13, 13]          36,864\n",
      "      BatchNorm2d-18           [-1, 64, 13, 13]             128\n",
      "             ReLU-19           [-1, 64, 13, 13]               0\n",
      "           Conv2d-20          [-1, 256, 13, 13]          16,384\n",
      "        ResBlock2-21          [-1, 256, 13, 13]               0\n",
      "      BatchNorm2d-22          [-1, 256, 13, 13]             512\n",
      "           Conv2d-23           [-1, 64, 13, 13]          16,384\n",
      "      BatchNorm2d-24           [-1, 64, 13, 13]             128\n",
      "             ReLU-25           [-1, 64, 13, 13]               0\n",
      "           Conv2d-26           [-1, 64, 13, 13]          36,864\n",
      "      BatchNorm2d-27           [-1, 64, 13, 13]             128\n",
      "             ReLU-28           [-1, 64, 13, 13]               0\n",
      "           Conv2d-29          [-1, 256, 13, 13]          16,384\n",
      "        ResBlock2-30          [-1, 256, 13, 13]               0\n",
      "      BatchNorm2d-31          [-1, 256, 13, 13]             512\n",
      "           Conv2d-32            [-1, 512, 7, 7]         131,072\n",
      "           Conv2d-33            [-1, 128, 7, 7]          32,768\n",
      "      BatchNorm2d-34            [-1, 128, 7, 7]             256\n",
      "             ReLU-35            [-1, 128, 7, 7]               0\n",
      "           Conv2d-36            [-1, 128, 7, 7]         147,456\n",
      "      BatchNorm2d-37            [-1, 128, 7, 7]             256\n",
      "             ReLU-38            [-1, 128, 7, 7]               0\n",
      "           Conv2d-39            [-1, 512, 7, 7]          65,536\n",
      "         ResBlock-40            [-1, 512, 7, 7]               0\n",
      "      BatchNorm2d-41            [-1, 512, 7, 7]           1,024\n",
      "           Conv2d-42            [-1, 128, 7, 7]          65,536\n",
      "      BatchNorm2d-43            [-1, 128, 7, 7]             256\n",
      "             ReLU-44            [-1, 128, 7, 7]               0\n",
      "           Conv2d-45            [-1, 128, 7, 7]         147,456\n",
      "      BatchNorm2d-46            [-1, 128, 7, 7]             256\n",
      "             ReLU-47            [-1, 128, 7, 7]               0\n",
      "           Conv2d-48            [-1, 512, 7, 7]          65,536\n",
      "        ResBlock2-49            [-1, 512, 7, 7]               0\n",
      "      BatchNorm2d-50            [-1, 512, 7, 7]           1,024\n",
      "           Conv2d-51            [-1, 128, 7, 7]          65,536\n",
      "      BatchNorm2d-52            [-1, 128, 7, 7]             256\n",
      "             ReLU-53            [-1, 128, 7, 7]               0\n",
      "           Conv2d-54            [-1, 128, 7, 7]         147,456\n",
      "      BatchNorm2d-55            [-1, 128, 7, 7]             256\n",
      "             ReLU-56            [-1, 128, 7, 7]               0\n",
      "           Conv2d-57            [-1, 512, 7, 7]          65,536\n",
      "        ResBlock2-58            [-1, 512, 7, 7]               0\n",
      "      BatchNorm2d-59            [-1, 512, 7, 7]           1,024\n",
      "           Conv2d-60            [-1, 128, 7, 7]          65,536\n",
      "      BatchNorm2d-61            [-1, 128, 7, 7]             256\n",
      "             ReLU-62            [-1, 128, 7, 7]               0\n",
      "           Conv2d-63            [-1, 128, 7, 7]         147,456\n",
      "      BatchNorm2d-64            [-1, 128, 7, 7]             256\n",
      "             ReLU-65            [-1, 128, 7, 7]               0\n",
      "           Conv2d-66            [-1, 512, 7, 7]          65,536\n",
      "        ResBlock2-67            [-1, 512, 7, 7]               0\n",
      "      BatchNorm2d-68            [-1, 512, 7, 7]           1,024\n",
      "           Conv2d-69           [-1, 1024, 4, 4]         524,288\n",
      "           Conv2d-70            [-1, 256, 4, 4]         131,072\n",
      "      BatchNorm2d-71            [-1, 256, 4, 4]             512\n",
      "             ReLU-72            [-1, 256, 4, 4]               0\n",
      "           Conv2d-73            [-1, 256, 4, 4]         589,824\n",
      "      BatchNorm2d-74            [-1, 256, 4, 4]             512\n",
      "             ReLU-75            [-1, 256, 4, 4]               0\n",
      "           Conv2d-76           [-1, 1024, 4, 4]         262,144\n",
      "         ResBlock-77           [-1, 1024, 4, 4]               0\n",
      "      BatchNorm2d-78           [-1, 1024, 4, 4]           2,048\n",
      "           Conv2d-79            [-1, 256, 4, 4]         262,144\n",
      "      BatchNorm2d-80            [-1, 256, 4, 4]             512\n",
      "             ReLU-81            [-1, 256, 4, 4]               0\n",
      "           Conv2d-82            [-1, 256, 4, 4]         589,824\n",
      "      BatchNorm2d-83            [-1, 256, 4, 4]             512\n",
      "             ReLU-84            [-1, 256, 4, 4]               0\n",
      "           Conv2d-85           [-1, 1024, 4, 4]         262,144\n",
      "        ResBlock2-86           [-1, 1024, 4, 4]               0\n",
      "      BatchNorm2d-87           [-1, 1024, 4, 4]           2,048\n",
      "           Conv2d-88            [-1, 256, 4, 4]         262,144\n",
      "      BatchNorm2d-89            [-1, 256, 4, 4]             512\n",
      "             ReLU-90            [-1, 256, 4, 4]               0\n",
      "           Conv2d-91            [-1, 256, 4, 4]         589,824\n",
      "      BatchNorm2d-92            [-1, 256, 4, 4]             512\n",
      "             ReLU-93            [-1, 256, 4, 4]               0\n",
      "           Conv2d-94           [-1, 1024, 4, 4]         262,144\n",
      "        ResBlock2-95           [-1, 1024, 4, 4]               0\n",
      "      BatchNorm2d-96           [-1, 1024, 4, 4]           2,048\n",
      "           Conv2d-97            [-1, 256, 4, 4]         262,144\n",
      "      BatchNorm2d-98            [-1, 256, 4, 4]             512\n",
      "             ReLU-99            [-1, 256, 4, 4]               0\n",
      "          Conv2d-100            [-1, 256, 4, 4]         589,824\n",
      "     BatchNorm2d-101            [-1, 256, 4, 4]             512\n",
      "            ReLU-102            [-1, 256, 4, 4]               0\n",
      "          Conv2d-103           [-1, 1024, 4, 4]         262,144\n",
      "       ResBlock2-104           [-1, 1024, 4, 4]               0\n",
      "     BatchNorm2d-105           [-1, 1024, 4, 4]           2,048\n",
      "          Conv2d-106            [-1, 256, 4, 4]         262,144\n",
      "     BatchNorm2d-107            [-1, 256, 4, 4]             512\n",
      "            ReLU-108            [-1, 256, 4, 4]               0\n",
      "          Conv2d-109            [-1, 256, 4, 4]         589,824\n",
      "     BatchNorm2d-110            [-1, 256, 4, 4]             512\n",
      "            ReLU-111            [-1, 256, 4, 4]               0\n",
      "          Conv2d-112           [-1, 1024, 4, 4]         262,144\n",
      "       ResBlock2-113           [-1, 1024, 4, 4]               0\n",
      "     BatchNorm2d-114           [-1, 1024, 4, 4]           2,048\n",
      "          Conv2d-115            [-1, 256, 4, 4]         262,144\n",
      "     BatchNorm2d-116            [-1, 256, 4, 4]             512\n",
      "            ReLU-117            [-1, 256, 4, 4]               0\n",
      "          Conv2d-118            [-1, 256, 4, 4]         589,824\n",
      "     BatchNorm2d-119            [-1, 256, 4, 4]             512\n",
      "            ReLU-120            [-1, 256, 4, 4]               0\n",
      "          Conv2d-121           [-1, 1024, 4, 4]         262,144\n",
      "       ResBlock2-122           [-1, 1024, 4, 4]               0\n",
      "     BatchNorm2d-123           [-1, 1024, 4, 4]           2,048\n",
      "          Conv2d-124           [-1, 2048, 2, 2]       2,097,152\n",
      "          Conv2d-125            [-1, 512, 2, 2]         524,288\n",
      "     BatchNorm2d-126            [-1, 512, 2, 2]           1,024\n",
      "            ReLU-127            [-1, 512, 2, 2]               0\n",
      "          Conv2d-128            [-1, 512, 2, 2]       2,359,296\n",
      "     BatchNorm2d-129            [-1, 512, 2, 2]           1,024\n",
      "            ReLU-130            [-1, 512, 2, 2]               0\n",
      "          Conv2d-131           [-1, 2048, 2, 2]       1,048,576\n",
      "        ResBlock-132           [-1, 2048, 2, 2]               0\n",
      "     BatchNorm2d-133           [-1, 2048, 2, 2]           4,096\n",
      "          Conv2d-134            [-1, 512, 2, 2]       1,048,576\n",
      "     BatchNorm2d-135            [-1, 512, 2, 2]           1,024\n",
      "            ReLU-136            [-1, 512, 2, 2]               0\n",
      "          Conv2d-137            [-1, 512, 2, 2]       2,359,296\n",
      "     BatchNorm2d-138            [-1, 512, 2, 2]           1,024\n",
      "            ReLU-139            [-1, 512, 2, 2]               0\n",
      "          Conv2d-140           [-1, 2048, 2, 2]       1,048,576\n",
      "       ResBlock2-141           [-1, 2048, 2, 2]               0\n",
      "     BatchNorm2d-142           [-1, 2048, 2, 2]           4,096\n",
      "          Conv2d-143            [-1, 512, 2, 2]       1,048,576\n",
      "     BatchNorm2d-144            [-1, 512, 2, 2]           1,024\n",
      "            ReLU-145            [-1, 512, 2, 2]               0\n",
      "          Conv2d-146            [-1, 512, 2, 2]       2,359,296\n",
      "     BatchNorm2d-147            [-1, 512, 2, 2]           1,024\n",
      "            ReLU-148            [-1, 512, 2, 2]               0\n",
      "          Conv2d-149           [-1, 2048, 2, 2]       1,048,576\n",
      "       ResBlock2-150           [-1, 2048, 2, 2]               0\n",
      "     BatchNorm2d-151           [-1, 2048, 2, 2]           4,096\n",
      "            ReLU-152           [-1, 2048, 2, 2]               0\n",
      "AdaptiveAvgPool2d-153           [-1, 2048, 1, 1]               0\n",
      "         Flatten-154                 [-1, 2048]               0\n",
      "================================================================\n",
      "Total params: 23,500,352\n",
      "Trainable params: 0\n",
      "Non-trainable params: 23,500,352\n",
      "----------------------------------------------------------------\n",
      "Input size (MB): 0.03\n",
      "Forward/backward pass size (MB): 13.39\n",
      "Params size (MB): 89.65\n",
      "Estimated Total Size (MB): 103.07\n",
      "----------------------------------------------------------------\n"
     ]
    }
   ],
   "source": [
    "summary(loaded_model, input_size = (3, 50, 50), batch_size = -1)"
   ]
  },
  {
   "cell_type": "markdown",
   "id": "7440aaa2",
   "metadata": {},
   "source": [
    "### Step 2b) Loading the pre-trained Model - Option2"
   ]
  },
  {
   "cell_type": "code",
   "execution_count": 35,
   "id": "63968fc5",
   "metadata": {},
   "outputs": [],
   "source": [
    "# class CosFace(nn.Module):\n",
    "#     def __init__(self, in_features=2048, out_features=5749, s=64.0, m=0.35):\n",
    "#         super(CosFace, self).__init__()\n",
    "#         self.in_features = in_features\n",
    "#         self.out_features = out_features\n",
    "#         self.s = s\n",
    "#         self.m = m\n",
    "#         self.kernel = nn.Parameter(torch.FloatTensor(in_features, out_features))\n",
    "#         nn.init.normal_(self.kernel, std=0.01)\n",
    "\n",
    "#     def forward(self, logits, labels):\n",
    "#         logits = F.normalize(logits, p=2.0, dim=1) #l2_norm(logits, axis=1)\n",
    "#         kernel_norm = F.normalize(self.kernel, p=2.0, dim=0) #l2_norm(self.kernel, axis=0)\n",
    "#         cos_theta = torch.mm(logits, kernel_norm)\n",
    "#         cos_theta = cos_theta.clamp(-1, 1)  # for numerical stability\n",
    "#         index = torch.where(labels != -1)[0]\n",
    "#         m_hot = torch.zeros(index.size()[0], cos_theta.size()[1]).to(device)\n",
    "#         m_hot.scatter_(1, labels[index, None], self.m).to(device)\n",
    "#         cos_theta[index] -= m_hot\n",
    "#         ret = cos_theta * self.s\n",
    "#         return ret"
   ]
  },
  {
   "cell_type": "code",
   "execution_count": 36,
   "id": "9f260988",
   "metadata": {},
   "outputs": [],
   "source": [
    "# new_logits = CosFace()"
   ]
  },
  {
   "cell_type": "code",
   "execution_count": null,
   "id": "8b4f1c44",
   "metadata": {},
   "outputs": [],
   "source": [
    "# #checkpoint = torch.load(\"../Checkpoints/ResNet50_CosFacev2/2048-d/ResNet50_CosFace_28_Feb_5.pt\")\n",
    "# checkpoint = torch.load(\"../Checkpoints/ResNet50_CosFacev2/512-d/ResNet50_CosFace_15_Mar_30.pt\")\n",
    "\n",
    "# loaded_model.load_state_dict(checkpoint['model_state_dict'])\n",
    "# #opt1 = checkpoint['model_optimizer_state_dict']\n",
    "# #opt2 = checkpoint['fc_optimizer_state_dict']\n",
    "# #opt2['state'][0]['momentum_buffer']\n",
    "# #n.kernel.shape\n",
    "\n",
    "# train_acc = checkpoint['train_acc']\n",
    "# val_acc = checkpoint['val_acc']\n",
    "# print(train_acc, val_acc)\n",
    "\n",
    "# # val_acc = checkpoint['acc']\n",
    "# # print(val_acc)"
   ]
  },
  {
   "cell_type": "code",
   "execution_count": null,
   "id": "7e2957c6",
   "metadata": {},
   "outputs": [],
   "source": [
    "# for param in loaded_model.parameters():\n",
    "#     param.requires_grad = False"
   ]
  },
  {
   "cell_type": "code",
   "execution_count": null,
   "id": "8161ebec",
   "metadata": {},
   "outputs": [],
   "source": [
    "# to_device(loaded_model, device)"
   ]
  },
  {
   "cell_type": "markdown",
   "id": "d95eb0b6",
   "metadata": {},
   "source": [
    "### Step 3) Testing the model"
   ]
  },
  {
   "cell_type": "code",
   "execution_count": 37,
   "id": "30dfdcf1",
   "metadata": {},
   "outputs": [],
   "source": [
    "def compute_embedding(model, xb, sim_metric):\n",
    "    with torch.no_grad():\n",
    "        features = model(xb) #F.normalize(model(xb))\n",
    "        score = sim_metric(features[0], features[1])\n",
    "    \n",
    "    return score"
   ]
  },
  {
   "cell_type": "code",
   "execution_count": 38,
   "id": "ec6564af",
   "metadata": {},
   "outputs": [],
   "source": [
    "similarity = nn.CosineSimilarity(dim=0, eps=1e-6)"
   ]
  },
  {
   "cell_type": "code",
   "execution_count": 39,
   "id": "2e254c72",
   "metadata": {},
   "outputs": [],
   "source": [
    "def ver_accuracy(scores, img_targets, thres_arr):\n",
    "    targets_tensor = img_targets\n",
    "    #print(targets_tensor.shape)\n",
    "    \n",
    "    acc_list = []\n",
    "    \n",
    "    for thres in thres_arr:\n",
    "        outputs = scores >= thres\n",
    "        #print(outputs.shape, outputs)\n",
    "        outputs = outputs.long()\n",
    "        #print(outputs.shape, outputs)\n",
    "        matches = outputs == targets_tensor\n",
    "        #print(matches.shape, matches)\n",
    "        matches = matches.long()\n",
    "        success = torch.count_nonzero(matches)\n",
    "        acc = success/matches.shape[0] * 100\n",
    "        acc_list.append(np.round(acc.item(), 2))\n",
    "        \n",
    "        print(\"Thres: \", thres, \"| Veri acc.: \", np.round(acc.item(), 2))\n",
    "    \n",
    "    return targets_tensor, acc_list"
   ]
  },
  {
   "cell_type": "code",
   "execution_count": 40,
   "id": "100cbab3",
   "metadata": {},
   "outputs": [],
   "source": [
    "def compute_scores(img_pairs, img_targets):\n",
    "    \n",
    "    scores = []\n",
    "    len = img_targets.shape[0]\n",
    "    \n",
    "    for idx in tqdm.tqdm(np.arange(0, len)):\n",
    "        pair = img_pairs[idx]\n",
    "        actual = img_targets[idx]\n",
    "        \n",
    "        #convert pair to pytorch tensor, normalize\n",
    "        img1 = pair[0]\n",
    "        img2 = pair[1]\n",
    "  \n",
    "        #convert into a batch\n",
    "        new_pair = torch.stack((img1, img2), 0).to(device)\n",
    "        \n",
    "        score = compute_embedding(loaded_model, new_pair, similarity)\n",
    "        #print(actual, score.item())\n",
    "        \n",
    "        scores.append(score.item())\n",
    "    \n",
    "    scores = torch.FloatTensor(scores)\n",
    "    #print(scores.shape, scores)\n",
    "    \n",
    "    return scores"
   ]
  },
  {
   "cell_type": "code",
   "execution_count": 41,
   "id": "2a500689",
   "metadata": {},
   "outputs": [
    {
     "name": "stderr",
     "output_type": "stream",
     "text": [
      "100%|███████████████████████████████████████| 3968/3968 [00:40<00:00, 98.25it/s]"
     ]
    },
    {
     "name": "stdout",
     "output_type": "stream",
     "text": [
      "torch.Size([3968])\n"
     ]
    },
    {
     "name": "stderr",
     "output_type": "stream",
     "text": [
      "\n"
     ]
    }
   ],
   "source": [
    "computed_scores = compute_scores(data_list, labels)\n",
    "print(computed_scores.shape)"
   ]
  },
  {
   "cell_type": "code",
   "execution_count": 42,
   "id": "b968dd4e",
   "metadata": {},
   "outputs": [
    {
     "name": "stdout",
     "output_type": "stream",
     "text": [
      "tensor([0.4102, 0.2876, 0.3664, 0.2188, 0.2557,  ..., 0.2232, 0.2307, 0.1805,\n",
      "        0.1608, 0.2011])\n",
      "tensor(0.0609) tensor(1.)\n"
     ]
    }
   ],
   "source": [
    "print(computed_scores)\n",
    "print(torch.min(computed_scores), torch.max(computed_scores))"
   ]
  },
  {
   "cell_type": "code",
   "execution_count": 43,
   "id": "b512c193",
   "metadata": {},
   "outputs": [
    {
     "name": "stdout",
     "output_type": "stream",
     "text": [
      "Thres:  0.1 | Veri acc.:  50.33\n",
      "Thres:  0.2 | Veri acc.:  66.96\n",
      "Thres:  0.27 | Veri acc.:  82.54\n",
      "Thres:  0.3 | Veri acc.:  79.49\n",
      "Thres:  0.4 | Veri acc.:  58.27\n",
      "Thres:  0.5 | Veri acc.:  50.98\n"
     ]
    }
   ],
   "source": [
    "thresholds = [0.1, 0.2, 0.27, 0.3, 0.4, 0.5]\n",
    "#thresholds = [0.099]\n",
    "#thresholds = [0.9, 0.5, 0.099, 0.1026817]\n",
    "\n",
    "targets_tensor, acc = ver_accuracy(computed_scores, labels, thresholds)"
   ]
  },
  {
   "cell_type": "code",
   "execution_count": 44,
   "id": "46236811",
   "metadata": {},
   "outputs": [],
   "source": [
    "def plot_ROC(y_true, y_prob):\n",
    "\n",
    "    fpr, tpr, thresholds = roc_curve(y_true, y_prob, pos_label=True)\n",
    "    sum_sensitivity_specificity = tpr + (1-fpr)\n",
    "    best_threshold_id = np.argmax(sum_sensitivity_specificity)\n",
    "    best_threshold = thresholds[best_threshold_id]\n",
    "    best_fpr = fpr[best_threshold_id]\n",
    "    best_tpr = tpr[best_threshold_id]\n",
    "    y_pred = y_prob > best_threshold\n",
    "\n",
    "    cm = confusion_matrix(y_true, y_pred)\n",
    "    acc = accuracy_score(y_true, y_pred)\n",
    "    auc = roc_auc_score(y_true, y_pred)\n",
    "\n",
    "    print('Best threshold: %.3f' %best_threshold)\n",
    "    printmd('**Accuracy: %.2f**' %(acc*100))\n",
    "    print('AUC: %.4f ' %auc)\n",
    "    \n",
    "    printmd('**Confusion Matrix:**')\n",
    "    print(cm)\n",
    "    \n",
    "    printmd('**Classification Report:**')\n",
    "    print(classification_report(y_true, y_pred))\n",
    "\n",
    "    fig = plt.figure(figsize=(10,5))\n",
    "    ax = fig.add_subplot(121)\n",
    "    \n",
    "    curve1 = ax.plot(fpr, tpr)\n",
    "    curve2 = ax.plot([0, 1], [0, 1], color='navy', linestyle='--')\n",
    "    dot = ax.plot(best_fpr, best_tpr, marker='o', color='black')\n",
    "    ax.text(best_fpr, best_tpr, s = '(%.3f,%.3f)' %(best_fpr, best_tpr))\n",
    "    \n",
    "    plt.xlim([-0.01, 1.01])\n",
    "    plt.ylim([-0.01, 1.01])\n",
    "    plt.xlabel('False Positive Rate')\n",
    "    plt.ylabel('True Positive Rate')\n",
    "    plt.title('ROC curve, AUC = %.4f'%auc)\n",
    "\n",
    "    plt.savefig('ROC_LFW', dpi = 500)\n",
    "    plt.show()\n",
    "    \n",
    "    return fpr, tpr, thresholds"
   ]
  },
  {
   "cell_type": "code",
   "execution_count": 45,
   "id": "a4a6b5ef",
   "metadata": {},
   "outputs": [
    {
     "name": "stdout",
     "output_type": "stream",
     "text": [
      "Best threshold: 0.270\n"
     ]
    },
    {
     "data": {
      "text/markdown": [
       "**Accuracy: 82.56**"
      ],
      "text/plain": [
       "<IPython.core.display.Markdown object>"
      ]
     },
     "metadata": {},
     "output_type": "display_data"
    },
    {
     "name": "stdout",
     "output_type": "stream",
     "text": [
      "AUC: 0.8256 \n"
     ]
    },
    {
     "data": {
      "text/markdown": [
       "**Confusion Matrix:**"
      ],
      "text/plain": [
       "<IPython.core.display.Markdown object>"
      ]
     },
     "metadata": {},
     "output_type": "display_data"
    },
    {
     "name": "stdout",
     "output_type": "stream",
     "text": [
      "[[1746  238]\n",
      " [ 454 1530]]\n"
     ]
    },
    {
     "data": {
      "text/markdown": [
       "**Classification Report:**"
      ],
      "text/plain": [
       "<IPython.core.display.Markdown object>"
      ]
     },
     "metadata": {},
     "output_type": "display_data"
    },
    {
     "name": "stdout",
     "output_type": "stream",
     "text": [
      "              precision    recall  f1-score   support\n",
      "\n",
      "           0       0.79      0.88      0.83      1984\n",
      "           1       0.87      0.77      0.82      1984\n",
      "\n",
      "    accuracy                           0.83      3968\n",
      "   macro avg       0.83      0.83      0.83      3968\n",
      "weighted avg       0.83      0.83      0.83      3968\n",
      "\n"
     ]
    },
    {
     "data": {
      "image/png": "[encoded data removed]",
      "text/plain": [
       "<Figure size 720x360 with 1 Axes>"
      ]
     },
     "metadata": {
      "needs_background": "light"
     },
     "output_type": "display_data"
    }
   ],
   "source": [
    "fpr, tpr, th = plot_ROC(labels, computed_scores)"
   ]
  },
  {
   "cell_type": "code",
   "execution_count": 46,
   "id": "b271c3aa",
   "metadata": {},
   "outputs": [],
   "source": [
    "def plot_rates(fpr, tpr, th):\n",
    "    \n",
    "    plt.plot(th, fpr)\n",
    "    plt.plot(th, 1-tpr)\n",
    "    #plt.plot(th, tpr)\n",
    "    \n",
    "    plt.legend(['FPIR', 'FNIR', 'TPIR'])\n",
    "    plt.xlabel('Thresholds')\n",
    "    plt.ylabel('FPIR, FNIR')\n",
    "    plt.show()"
   ]
  },
  {
   "cell_type": "code",
   "execution_count": 47,
   "id": "c855dd0c",
   "metadata": {},
   "outputs": [
    {
     "data": {
      "image/png": "[encoded data removed]",
      "text/plain": [
       "<Figure size 432x288 with 1 Axes>"
      ]
     },
     "metadata": {
      "needs_background": "light"
     },
     "output_type": "display_data"
    }
   ],
   "source": [
    "plot_rates(fpr[1:], tpr[1:], th[1:])"
   ]
  }
 ],
 "metadata": {
  "kernelspec": {
   "display_name": "Python 3 (ipykernel)",
   "language": "python",
   "name": "python3"
  },
  "language_info": {
   "codemirror_mode": {
    "name": "ipython",
    "version": 3
   },
   "file_extension": ".py",
   "mimetype": "text/x-python",
   "name": "python",
   "nbconvert_exporter": "python",
   "pygments_lexer": "ipython3",
   "version": "3.9.7"
  }
 },
 "nbformat": 4,
 "nbformat_minor": 5
}
