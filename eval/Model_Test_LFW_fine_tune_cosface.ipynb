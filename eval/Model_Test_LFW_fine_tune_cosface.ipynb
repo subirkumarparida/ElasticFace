{
 "cells": [
  {
   "cell_type": "markdown",
   "id": "24f842b2",
   "metadata": {},
   "source": [
    "### Import Libraries"
   ]
  },
  {
   "cell_type": "code",
   "execution_count": 1,
   "id": "2faa752a",
   "metadata": {},
   "outputs": [],
   "source": [
    "import os\n",
    "import cv2\n",
    "import copy\n",
    "import math\n",
    "import time\n",
    "import tarfile\n",
    "import numbers\n",
    "import threading\n",
    "import queue as Queue\n",
    "import numpy as np\n",
    "import pandas as pd\n",
    "import matplotlib\n",
    "import matplotlib.pyplot as plt\n",
    "\n",
    "import torch\n",
    "import torchvision\n",
    "import torch.nn as nn\n",
    "import torch.nn.functional as F\n",
    "from torchvision import transforms\n",
    "from torchvision.transforms import ToTensor\n",
    "from torchvision.datasets import ImageFolder\n",
    "from torchvision.datasets.utils import download_url\n",
    "#from torch.utils.data.dataloader import DataLoader\n",
    "from torch.utils.data import random_split, DataLoader, Dataset\n",
    "from torchsummary import summary"
   ]
  },
  {
   "cell_type": "code",
   "execution_count": 2,
   "id": "97690cf3",
   "metadata": {},
   "outputs": [],
   "source": [
    "import warnings\n",
    "warnings.filterwarnings(\"ignore\", category=DeprecationWarning)"
   ]
  },
  {
   "cell_type": "code",
   "execution_count": 3,
   "id": "40287a94",
   "metadata": {},
   "outputs": [],
   "source": [
    "random_seed = 42\n",
    "torch.manual_seed(random_seed);"
   ]
  },
  {
   "cell_type": "code",
   "execution_count": 4,
   "id": "feb406fd",
   "metadata": {},
   "outputs": [],
   "source": [
    "torch.set_printoptions(edgeitems=5)"
   ]
  },
  {
   "cell_type": "code",
   "execution_count": 5,
   "id": "398744fb",
   "metadata": {},
   "outputs": [],
   "source": [
    "def get_default_device():\n",
    "    \"\"\"Pick GPU if available, else CPU\"\"\"\n",
    "    if torch.cuda.is_available():\n",
    "        return torch.device('cuda')\n",
    "    else:\n",
    "        return torch.device('cpu')\n",
    "\n",
    "def to_device(data, device):\n",
    "    \"\"\"Move tensor(s) to chosen device\"\"\"\n",
    "    if isinstance(data, (list,tuple)):\n",
    "        return [to_device(x, device) for x in data]\n",
    "    return data.to(device, non_blocking=True)\n",
    "\n",
    "class DeviceDataLoader():\n",
    "    \"\"\"Wrap a dataloader to move data to a device\"\"\"\n",
    "    def __init__(self, dl, device):\n",
    "        self.dl = dl\n",
    "        self.device = device\n",
    "        \n",
    "    def __iter__(self):\n",
    "        \"\"\"Yield a batch of data after moving it to device\"\"\"\n",
    "        for b in self.dl: \n",
    "            yield to_device(b, self.device)\n",
    "\n",
    "    def __len__(self):\n",
    "        \"\"\"Number of batches\"\"\"\n",
    "        return len(self.dl)"
   ]
  },
  {
   "cell_type": "code",
   "execution_count": 6,
   "id": "472ec2f4",
   "metadata": {},
   "outputs": [],
   "source": [
    "device = get_default_device()"
   ]
  },
  {
   "cell_type": "code",
   "execution_count": 7,
   "id": "8356d923",
   "metadata": {
    "scrolled": true
   },
   "outputs": [
    {
     "data": {
      "text/plain": [
       "device(type='cuda')"
      ]
     },
     "execution_count": 7,
     "metadata": {},
     "output_type": "execute_result"
    }
   ],
   "source": [
    "device"
   ]
  },
  {
   "cell_type": "markdown",
   "id": "f343280a",
   "metadata": {},
   "source": [
    "### Step 1a) Fetch the LFW dataset"
   ]
  },
  {
   "cell_type": "code",
   "execution_count": 8,
   "id": "b557c1a8",
   "metadata": {},
   "outputs": [
    {
     "name": "stdout",
     "output_type": "stream",
     "text": [
      "['people.csv', 'lfw_readme.csv', 'pairs.csv', 'matchpairsDevTest.csv', 'lfw-deepfunneled', 'peopleDevTest.csv', 'matchpairsDevTrain.csv', 'peopleDevTrain.csv', 'mismatchpairsDevTrain.csv', 'mismatchpairsDevTest.csv', 'lfw_allnames.csv']\n",
      "5749\n"
     ]
    }
   ],
   "source": [
    "main_dir = '../datasets/LFW' #For Ubuntu\n",
    "#main_dir = 'D:/Face/LFW' #For Windows\n",
    "data_dir = main_dir + \"/lfw-deepfunneled/lfw-deepfunneled\"\n",
    "\n",
    "print(os.listdir(main_dir))\n",
    "classes = os.listdir(data_dir)\n",
    "print(len(classes))"
   ]
  },
  {
   "cell_type": "code",
   "execution_count": 9,
   "id": "61466867",
   "metadata": {},
   "outputs": [
    {
     "name": "stdout",
     "output_type": "stream",
     "text": [
      "No. of training examples for Aaron_Eckhart: 1\n",
      "['Aaron_Eckhart_0001.jpg']\n"
     ]
    }
   ],
   "source": [
    "img_Aaron_Eckhart = os.listdir(data_dir + \"/Aaron_Eckhart\")\n",
    "print('No. of training examples for Aaron_Eckhart:', len(img_Aaron_Eckhart))\n",
    "print(img_Aaron_Eckhart[:])"
   ]
  },
  {
   "cell_type": "code",
   "execution_count": 10,
   "id": "ebfed63e",
   "metadata": {},
   "outputs": [],
   "source": [
    "# size1 = 250\n",
    "# dataset1 = ImageFolder(data_dir, transform=ToTensor())"
   ]
  },
  {
   "cell_type": "code",
   "execution_count": 11,
   "id": "cb251b4d",
   "metadata": {},
   "outputs": [],
   "source": [
    "size2 = 112 #250\n",
    "center_transformations = transforms.Compose(\n",
    "    [\n",
    "        transforms.CenterCrop(size2),\n",
    "        transforms.RandomHorizontalFlip(),\n",
    "        transforms.ToTensor(),\n",
    "        transforms.Normalize(mean=[0.5, 0.5, 0.5], std=[0.5, 0.5, 0.5]),\n",
    "    ])\n",
    "\n",
    "dataset2 = ImageFolder(data_dir, transform=center_transformations)"
   ]
  },
  {
   "cell_type": "code",
   "execution_count": 12,
   "id": "d5e84a58",
   "metadata": {},
   "outputs": [
    {
     "data": {
      "text/plain": [
       "13233"
      ]
     },
     "execution_count": 12,
     "metadata": {},
     "output_type": "execute_result"
    }
   ],
   "source": [
    "len(dataset2)"
   ]
  },
  {
   "cell_type": "code",
   "execution_count": 13,
   "id": "43a3388c",
   "metadata": {},
   "outputs": [
    {
     "name": "stdout",
     "output_type": "stream",
     "text": [
      "['AJ_Cook', 'AJ_Lamas', 'Aaron_Eckhart', 'Aaron_Guiel', 'Aaron_Patterson', 'Aaron_Peirsol', 'Aaron_Pena', 'Aaron_Sorkin', 'Aaron_Tippin', 'Abba_Eban', 'Abbas_Kiarostami', 'Abdel_Aziz_Al-Hakim', 'Abdel_Madi_Shabneh', 'Abdel_Nasser_Assidi', 'Abdoulaye_Wade', 'Abdul_Majeed_Shobokshi', 'Abdul_Rahman', 'Abdulaziz_Kamilov', 'Abdullah', 'Abdullah_Ahmad_Badawi', 'Abdullah_Gul', 'Abdullah_Nasseef', 'Abdullah_al-Attiyah', 'Abdullatif_Sener', 'Abel_Aguilar', 'Abel_Pacheco', 'Abid_Hamid_Mahmud_Al-Tikriti', 'Abner_Martinez', 'Abraham_Foxman', 'Aby_Har-Even', 'Adam_Ant', 'Adam_Freier', 'Adam_Herbert', 'Adam_Kennedy', 'Adam_Mair', 'Adam_Rich', 'Adam_Sandler', 'Adam_Scott', 'Adel_Al-Jubeir', 'Adelina_Avila', 'Adisai_Bodharamik', 'Adolfo_Aguilar_Zinser', 'Adolfo_Rodriguez_Saa', 'Adoor_Gopalakarishnan', 'Adrian_Annus', 'Adrian_Fernandez', 'Adrian_McPherson', 'Adrian_Murrell', 'Adrian_Nastase', 'Adriana_Lima', 'Adriana_Perez_Navarro', 'Adrianna_Zuzic', 'Adrien_Brody', 'Afton_Smith', 'Agbani_Darego', 'Agnelo_Queiroz', 'Agnes_Bruckner', 'Ahmad_Jbarah', 'Ahmad_Masood', 'Ahmed_Ahmed', 'Ahmed_Chalabi', 'Ahmed_Ghazi', 'Ahmed_Ibrahim_Bilal', 'Ahmed_Lopez', 'Ahmed_Qureia', 'Ahmet_Demir', 'Ahmet_Necdet_Sezer', 'Ai_Sugiyama', 'Aicha_El_Ouafi', 'Aidan_Quinn', 'Aileen_Riggin_Soule', 'Ain_Seppik', 'Ainsworth_Dyer', 'Aishwarya_Rai', 'Aitor_Gonzalez', 'Aiysha_Smith', 'Ajit_Agarkar', 'Akbar_Al_Baker', 'Akbar_Hashemi_Rafsanjani', 'Akhmed_Zakayev', 'Akiko_Morigami', 'Akmal_Taher', 'Al_Cardenas', 'Al_Davis', 'Al_Gore', 'Al_Leiter', 'Al_Pacino', 'Al_Sharpton', 'Alain_Cervantes', 'Alain_Ducasse', 'Alan_Ball', 'Alan_Dershowitz', 'Alan_Dreher', 'Alan_Greenspan', 'Alan_Greer', 'Alan_Jackson', 'Alan_Mulally', 'Alan_Stonecipher', 'Alan_Tang_Kwong-wing', 'Alan_Trammell', 'Alan_Zemaitis', 'Alanis_Morissette', 'Alanna_Ubach', 'Alastair_Campbell', 'Alastair_Johnston', 'Albaro_Recoba', 'Albert_Brooks', 'Albert_Costa', 'Albert_Montanes', 'Albert_Pujols', 'Alberta_Lee', 'Alberto_Acosta', 'Alberto_Fujimori', 'Alberto_Gonzales', 'Alberto_Ruiz_Gallardon', 'Alberto_Sordi', 'Albrecht_Mentz', 'Aldo_Paredes', 'Alec_Baldwin', 'Alecos_Markides', 'Alejandro_Atchugarry', 'Alejandro_Avila', 'Alejandro_Fernandez', 'Alejandro_Gonzalez_Inarritu', 'Alejandro_Lembo', 'Alejandro_Lerner', 'Alejandro_Lopez', 'Alejandro_Toledo', 'Alek_Wek', 'Aleksander_Kwasniewski', 'Aleksander_Voloshin', 'Alessandra_Cerna', 'Alessandro_Nesta', 'Alex_Barros', 'Alex_Cabrera', 'Alex_Cejka', 'Alex_Corretja', 'Alex_Ferguson', 'Alex_Gonzalez', 'Alex_Holmes', 'Alex_King', 'Alex_Penelas', 'Alex_Popov', 'Alex_Sink', 'Alex_Wallau', 'Alex_Zanardi', 'Alexa_Loren', 'Alexa_Vega', 'Alexander_Downer', 'Alexander_Losyukov', 'Alexander_Lukashenko', 'Alexander_Payne', 'Alexander_Rumyantsev', 'Alexandra_Jackson', 'Alexandra_Pelosi', 'Alexandra_Rozovskaya', 'Alexandra_Spann', 'Alexandra_Stevenson', 'Alexandra_Vodjanikova', 'Alexandre_Daigle', 'Alexandre_Despatie', 'Alexandre_Herchcovitch', 'Alexandre_Vinokourov', 'Alexis_Bledel', 'Alexis_Dennisoff', 'Alfonso_Cuaron', 'Alfonso_Portillo', 'Alfonso_Soriano', 'Alfred_Ford', 'Alfred_Sant', 'Alfredo_Moreno', 'Alfredo_Pena', 'Alfredo_di_Stefano', 'Ali_Abbas', 'Ali_Abdullah_Saleh', 'Ali_Adbul_Karim_Madani', 'Ali_Ahmeti', 'Ali_Bin_Hussein', 'Ali_Fallahian', 'Ali_Hammoud', 'Ali_Khamenei', 'Ali_Mohammed_Maher', 'Ali_Naimi', 'Alice_Fisher', 'Alicia_Hollowell', 'Alicia_Keys', 'Alicia_Molik', 'Alicia_Silverstone', 'Alicia_Witt', 'Alimzhan_Tokhtakhounov', 'Alina_Kabaeva', 'Aline_Chretien', 'Alisha_Richman', 'Alison_Krauss', 'Alison_Lohman', 'Alistair_MacDonald', 'Allan_Houston', 'Allan_Kemakeza', 'Allan_Wagner', 'Allen_Iverson', 'Allen_Rock', 'Allison_Janney', 'Allison_Searing', 'Ally_Sheedy', 'Allyson_Felix', 'Alma_Powell', 'Almeida_Baptista', 'Alonzo_Mourning', 'Alvaro_Noboa', 'Alvaro_Silva_Calderon', 'Alvaro_Uribe', 'Aly_Wagner', 'Alyse_Beaupre', 'Alyson_Hannigan', 'Amanda_Beard', 'Amanda_Bynes', 'Amanda_Coetzer', 'Amanda_Marsh', 'Amanda_Plumer', 'Amber_Frey', 'Amber_Tamblyn', 'Ambrose_Lee', 'Amelia_Vega', 'Amelie_Mauresmo', 'Amer_al-Saadi', 'Amporn_Falise', 'Amr_Moussa', 'Amram_Mitzna', 'Amy_Brenneman', 'Amy_Cotton', 'Amy_Gale', 'Amy_Pascal', 'Amy_Redford', 'Amy_Smart', 'Amy_Yasbeck', 'AnFernce_Negron', 'Ana_Claudia_Talancon', 'Ana_Guevara', 'Ana_Isabel_Sanchez', 'Ana_Palacio', 'Ana_Paula_Gerard', 'Ana_Sebastiao', 'Anastasia_Kelesidou', 'Anastasia_Myskina', 'Anatoliy_Kinakh', 'Anders_Ebbeson', 'Anders_Fogh_Rasmussen', 'Anderson_Varejao', 'Andre_Agassi', 'Andre_Bucher', 'Andre_Lange', 'Andre_Smith', 'Andre_Techine', 'Andrea_Bocelli', 'Andrea_De_Cruz', 'Andrea_Kiser', 'Andrea_Yates', 'Andreas_Vinciguerra', 'Andrei_Konchalovsky', 'Andrei_Mikhnevich', 'Andrei_Nikolishin', 'Andres_DAlessandro', 'Andres_Manuel_Lopez_Obrador', 'Andres_Pastrana', 'Andrew_Bernard', 'Andrew_Bunner', 'Andrew_Caldecott', 'Andrew_Cuomo', 'Andrew_Fastow', 'Andrew_Firestone', 'Andrew_Gilligan', 'Andrew_Jarecki', 'Andrew_Luster', 'Andrew_Niccol', 'Andrew_Sabey', 'Andrew_Shutley', 'Andrew_Weissmann', 'Andrew_Wetzler', 'Andrzej_Tyszkiewicz', 'Andy_Benes', 'Andy_Bryant', 'Andy_Dick', 'Andy_Garcia', 'Andy_Graves', 'Andy_Griffith', 'Andy_Griggs', 'Andy_Hebb', 'Andy_Lau', 'Andy_Madikians', 'Andy_North', 'Andy_Perez', 'Andy_Roddick', 'Andy_Rooney', 'Andy_Warhol', 'Andy_Wisecarver', 'Anette_Hosoi', 'Angel_Lockward', 'Angel_Maza', 'Angela_Alvarado_Rosa', 'Angela_Bassett', 'Angela_Lansbury', 'Angela_Mascia-Frye', 'Angela_Merkel', 'Angelica_Romero', 'Angelina_Jolie', 'Angelo_Genova', 'Angelo_Reyes', 'Angie_Arzola', 'Angie_Martinez', 'Anibal_Ibarra', 'Anil_Ramsook', 'Anita_DeFrantz', 'Anja_Paerson', 'Anjum_Hussain', 'Ann_Godbehere', 'Ann_Landers', 'Ann_Morgan', 'Ann_Veneman', 'Anna_Chicherova', 'Anna_Faris', 'Anna_Jones', 'Anna_Kournikova', 'Anna_Nicole_Smith', 'Anne_Cavers', 'Anne_Donovan', 'Anne_Heche', 'Anne_Krueger', 'Anne_McLellan', 'Anne_ONeil', 'Anneli_Jaatteenmaki', 'Annette_Bening', 'Annette_Lu', 'Annie-Jeanne_Reynaud', 'Annie_Chaplin', 'Annie_Machon', 'Annika_Sorenstam', 'Antanas_Valionis', 'Anthony_Carter', 'Anthony_Corso', 'Anthony_Ervin', 'Anthony_Fauci', 'Anthony_Garotinho', 'Anthony_Hazen', 'Anthony_Hopkins', 'Anthony_LaPaglia', 'Anthony_Lee_Johnson', 'Anthony_Mazur', 'Anthony_Pico', 'Anthony_Pisciotti', 'Anthony_Principi', 'Anthony_Rackauckas', 'Anthony_Scott_Miller', 'Antje_Buschschulte', 'Anton_Balasingham', 'Antonio_Banderas', 'Antonio_Bernardo', 'Antonio_Cassano', 'Antonio_Catania', 'Antonio_Elias_Saca', 'Antonio_Palocci', 'Antonio_Trillanes', 'Antony_Leung', 'Antwun_Echols', 'Anwar_Ibrahim', 'Anzori_Kikalishvili', 'Aparna_Pillai', 'Aram_Adler', 'Arantxa_Sanchez-Vicario', 'Aretha_Franklin', 'Ari_Bousbib', 'Ari_Fleischer', 'Arianna_Huffington', 'Arie_Haan', 'Ariel_Sharon', 'Arif_Mardin', 'Arlen_Specter', 'Armand_Sargen', 'Armando_Avila_Panchame', 'Armando_Calderon_Sol', 'Armando_Carrillo', 'Arminio_Fraga', 'Arnaud_Clement', 'Arnaud_Lagardere', 'Arnie_Boehm', 'Arnold_Palmer', 'Arnold_Schwarzenegger', 'Arnold_Scott', 'Arnoldo_Aleman', 'Aron_Ralston', 'Arsinee_Khanjian', 'Art_Cooper', 'Art_Hoffmann', 'Art_Howe', 'Art_Lopez', 'Arthur_Johnson', 'Arthur_Martinez', 'Artieas_Shanks', 'Arturo_Gatti', 'Arye_Mekel', 'Asa_Hutchinson', 'Ascencion_Barajas', 'Ashanti', 'Ashlea_Talbot', 'Ashley_Judd', 'Ashley_Olsen', 'Ashley_Postell', 'Ashraf_Alasmar', 'Ashraf_Ghani', 'Ashton_Kutcher', 'Asif_Ali_Zardari', 'Asif_Hanif', 'Askar_Akayev', 'Asmaa_Assad', 'Assad_Ahmadi', 'Astou_Ndiaye-Diatta', 'Astrid_Betancourt', 'Astrid_Eyzaguirre', 'Atal_Bihari_Vajpayee', 'Ataollah_Mohajerani', 'Atiabet_Ijan_Amabel', 'Atom_Egoyan', 'Atsushi_Sato', 'Audrey_Lacroix', 'Audrey_Sauret', 'Augustin_Calleri', 'Augusto_Pinochet', 'Augusto_Roa_Bastos', 'Aung_San_Suu_Kyi', 'Austin_Kearns', 'Avril_Lavigne', 'Azmi_Bishara', 'Azra_Akin', 'BB_King', 'BJ_Habibie', 'Babe_Ruth', 'Baburam_Bhattari', 'Bak_Chang-Ryun', 'Barbara_Bach', 'Barbara_Becker', 'Barbara_Bodine', 'Barbara_Boxer', 'Barbara_Brezigar', 'Barbara_De_Brun', 'Barbara_Esbin', 'Barbara_Felt-Miller', 'Barbara_Roberts', 'Barbara_Walters', 'Barbora_Strycova', 'Barbra_Streisand', 'Barrett_Jackman', 'Barry_Alvarez', 'Barry_Bonds', 'Barry_Collier', 'Barry_Diller', 'Barry_Ford', 'Barry_Hinson', 'Barry_Nakell', 'Barry_Switzer', 'Barry_Williams', 'Barry_Zito', 'Bart_Freundlich', 'Bart_Hendricks', 'Bartosz_Kizierowski', 'Barzan_al-Tikriti', 'Basdeo_Panday', 'Bashar_Assad', 'Baz_Luhrmann', 'Beatrice_Dalle', 'Beatriz_Merino', 'Beecher_Ray_Kirby', 'Begum_Khaleda_Zia', 'Bela_Karolyi', 'Ben_Affleck', 'Ben_Betts', 'Ben_Braun', 'Ben_Broussard', 'Ben_Cahoon', 'Ben_Chandler', 'Ben_Cohen', 'Ben_Curtis', 'Ben_Davis', 'Ben_Glisan', 'Ben_Howland', 'Ben_Kingsley', 'Ben_Lee', 'Ben_Stein', 'Ben_Wallace', 'Benazir_Bhutto', 'Benedita_da_Silva', 'Benicio_Del_Toro', 'Benito_Santiago', 'Benjamin_Bratt', 'Benjamin_Franklin', 'Benjamin_Martinez', 'Benjamin_McKenzie', 'Benjamin_Netanyahu', 'Benjamin_Neulander', 'Bernadette_Peters', 'Bernard_Ebbers', 'Bernard_Giraudeau', 'Bernard_Kerik', 'Bernard_Landry', 'Bernard_Law', 'Bernard_Lord', 'Bernard_Siegel', 'Bernardo_Segura', 'Bernice_Wong', 'Bertie_Ahern', 'Bertrand_Bonello', 'Bertrand_Delanoe', 'Beth_Blough', 'Beth_Jones', 'Betsy_Coffin', 'Betsy_Smith', 'Bettina_Rheims', 'Betty_Garrison', 'Betty_Williams', 'Beyonce_Knowles', 'Bianca_Jagger', 'Bijan_Darvish', 'Bijan_Namdar_Zangeneh', 'Bilal_Erdogan', 'Biljana_Plavsic', 'Bill_Belichick', 'Bill_Bradley', 'Bill_Butler', 'Bill_Byrne', 'Bill_Callahan', 'Bill_Carmody', 'Bill_Cartwright', 'Bill_Clancy', 'Bill_Clinton', 'Bill_Curry', 'Bill_Doba', 'Bill_Duffey', 'Bill_Elliott', 'Bill_Fennelly', 'Bill_Frist', 'Bill_Gates', 'Bill_Graham', 'Bill_Guerin', 'Bill_Herrion', 'Bill_Hughes', 'Bill_King', 'Bill_Kollar', 'Bill_Kong', 'Bill_Lerach', 'Bill_Maher', 'Bill_Mauldin', 'Bill_McBride', 'Bill_Nelson', 'Bill_OReilly', 'Bill_Parcells', 'Bill_Parsons', 'Bill_Paxton', 'Bill_Pryor', 'Bill_Rainer', 'Bill_Readdy', 'Bill_Richardson', 'Bill_Self', 'Bill_Simon', 'Bill_Sizemore', 'Bill_Stapleton', 'Bill_Stein', 'Bill_Walton', 'Billy_Andrade', 'Billy_Beane', 'Billy_Bob_Thornton', 'Billy_Boyd', 'Billy_Crawford', 'Billy_Crystal', 'Billy_Donovan', 'Billy_Edelin', 'Billy_Gilman', 'Billy_Graham', 'Billy_Joel', 'Billy_Rork', 'Billy_Sollie', 'Billy_Tibbets', 'Bing_Crosby', 'Binyamin_Ben-Eliezer', 'Bison_Dele', 'Bixente_LIzarazu', 'Blas_Ople', 'Blythe_Danner', 'Blythe_Hartley', 'Bo_Pelini', 'Bo_Ryan', 'Bob_Alper', 'Bob_Beauprez', 'Bob_Bowlsby', 'Bob_Cantrell', 'Bob_Colvin', 'Bob_Crippen', 'Bob_Curtis', 'Bob_Dole', 'Bob_Eskridge', 'Bob_Ferguson', 'Bob_Geldof', 'Bob_Goldman', 'Bob_Graham', 'Bob_Guccione', 'Bob_Hartley', 'Bob_Hayes', 'Bob_Herz', 'Bob_Holden', 'Bob_Hope', 'Bob_Huggins', 'Bob_Iger', 'Bob_Krueger', 'Bob_Melvin', 'Bob_Menendez', 'Bob_Newhart', 'Bob_Petrino', 'Bob_Riley', 'Bob_Stoops', 'Bob_Sulkin', 'Bob_Taft', 'Bob_Wright', 'Bobby_Bowden', 'Bobby_Goldwater', 'Bobby_Jackson', 'Bobby_Kielty', 'Bobby_Robson', 'Bobo_Balde', 'Bode_Miller', 'Bonnie_Fuller', 'Bonnie_Hunt', 'Bono', 'Boris_Becker', 'Boris_Berezovsky', 'Boris_Henry', 'Boris_Jordan', 'Boris_Trajkovski', 'Boris_Yeltsin', 'Boutros_Boutros_Ghali', 'Brad_Alexander_Smith', 'Brad_Banks', 'Brad_Brownell', 'Brad_Garrett', 'Brad_Gushue', 'Brad_Johnson', 'Brad_Miller', 'Brad_Pitt', 'Brad_Russ', 'Brad_Smith', 'Brad_Wilk', 'Brady_Rodgers', 'Brajesh_Mishra', 'Brandon_Boyd', 'Brandon_Fails', 'Brandon_Hammond', 'Brandon_Inge', 'Brandon_Jones', 'Brandon_Knight', 'Brandon_Larson', 'Brandon_Lloyd', 'Brandon_Robinson', 'Brandon_Spann', 'Brandon_Webb', 'Branko_Crvenkovski', 'Brawley_King', 'Brenda_Magana', 'Brenda_Wilson', 'Brenda_van_Dam', 'Brendan_Fraser', 'Brendan_Gaughan', 'Brendan_Hansen', 'Brendan_Stai', 'Brennon_Leighton', 'Brent_Coles', 'Brett_Boone', 'Brett_Hawke', 'Brett_Hull', 'Brett_Perry', 'Brian_Billick', 'Brian_Campbell', 'Brian_Cashman', 'Brian_Clemens', 'Brian_Cook', 'Brian_Cowen', 'Brian_De_Palma', 'Brian_Florence', 'Brian_Grazier', 'Brian_Gregory', 'Brian_Griese', 'Brian_Heidik', 'Brian_Henson', 'Brian_Jordan', 'Brian_Kerr', 'Brian_Lara', 'Brian_McIntyre', 'Brian_Meadors', 'Brian_Mulroney', 'Brian_Olson', 'Brian_Pavlich', 'Brian_Scalabrine', 'Brian_Schneider', 'Brian_StPierre', 'Brian_Van_Dusen', 'Brian_Weaver', 'Brian_Wells', 'Brian_Williams', 'Bridget_Fonda', 'Bridgette_Wilson-Sampras', 'Brigitte_Boisselier', 'Britney_Spears', 'Brittany_Snow', 'Brock_Berlin', 'Bronson_Arroyo', 'Brook_Robinson', 'Brooke_Adams', 'Brooke_Gordon', 'Brooke_Shields', 'Bruce_Arena', 'Bruce_Gebhardt', 'Bruce_Lunsford', 'Bruce_Paltrow', 'Bruce_Springsteen', 'Bruce_Van_De_Velde', 'Bruce_Weber', 'Bruce_Willis', 'Bruna_Colosio', 'Bruno_Junquiera', 'Bryan_Adams', 'Bryan_Chui', 'Bryan_Cooley', 'Bryan_Murray', 'Bryan_Thomas', 'Bryant_Young', 'Bryce_Carmine', 'Buck_Rodgers', 'Bud_Selig', 'Budd_Schulberg', 'Buddy_Ryan', 'Buford_Blount', 'Bulent_Ecevit', 'Bustam_A_Zedan_Aljanabi', 'Butch_Davis', 'Buzz_Hargrove', 'Byron_Scott', 'Cabas', 'Caio_Blat', 'Calbert_Cheaney', 'Calista_Flockhart', 'Calvin_Harrison', 'Calvin_Joseph_Coleman', 'Cameron_Diaz', 'Camilla_Parker_Bowles', 'Camille_Colvin', 'Camille_Lewis', 'Camryn_Manheim', 'Candace_Sutton', 'Candice_Beatty', 'Candice_Bergen', 'Candie_Kung', 'Carey_Lowell', 'Cari_Davis', 'Carin_Koch', 'Carina_Lau_Ka-ling', 'Carl_Levin', 'Carl_Pope', 'Carl_Reiner', 'Carla_Del_Ponte', 'Carla_Gay_Balingit', 'Carla_Gugino', 'Carla_Moreno', 'Carla_Myers', 'Carla_Sullivan', 'Carla_Tricoli', 'Carlo_Ancelotti', 'Carlo_Azeglio_Ciampi', 'Carlos_Alberto', 'Carlos_Alberto_Parreira', 'Carlos_Arroyo', 'Carlos_Barra', 'Carlos_Barragan', 'Carlos_Beltran', 'Carlos_Bianchi', 'Carlos_De_Abreu', 'Carlos_Fasciolo', 'Carlos_Ghosn', 'Carlos_Iturgaitz', 'Carlos_Juarez', 'Carlos_Lordkipanitse', 'Carlos_Manuel_Pruneda', 'Carlos_Menem', 'Carlos_Mesa', 'Carlos_Moya', 'Carlos_Ortega', 'Carlos_Paternina', 'Carlos_Queiroz', 'Carlos_Quintanilla_Schmidt', 'Carlos_Ruckauf', 'Carlos_Ruiz', 'Carlos_Salinas', 'Carlos_Savedra', 'Carlos_Vives', 'Carlton_Baugh', 'Carlton_Dotson', 'Carly_Fiorina', 'Carly_Gullickson', 'Carmen_Electra', 'Carol_Burnett', 'Carol_Carmody', 'Carol_Moseley_Braun', 'Carol_Niedermayer', 'Carol_Williams', 'Carolina_Barco', 'Carolina_Kluft', 'Carolina_Moraes', 'Caroline_Dhavernas', 'Caroline_Kennedy', 'Caroline_Link', 'Carolyn_Dawn_Johnson', 'Carolyn_Kuhl', 'Carrie-Anne_Moss', 'Carroll_Weimer', 'Carson_Daly', 'Carson_Palmer', 'Casey_Crowder', 'Casey_Mears', 'Cass_Ballenger', 'Cassandra_Heise', 'Casy_Preslar', 'Cate_Blanchett', 'Catherine_Bell', 'Catherine_Deneuve', 'Catherine_Donkers', 'Catherine_Ndereba', 'Catherine_Woodard', 'Catherine_Zeta-Jones', 'Cathryn_Crawford', 'Cathy_Chisholm', 'Cathy_Cunningham', 'Cathy_Freeman', 'Catriona_Le_May_Doan', 'Cecile_de_France', 'Cecilia_Bolocco', 'Cecilia_Chang', 'Cecilia_Cheung', 'Cedric_Benson', 'Celia_Cruz', 'Celine_Dion', 'Celso_Amorim', 'Celso_Lafer', 'Cemil_Cicek', 'Cesar_Gaviria', 'Cesar_Maia', 'Cha_Yung-gu', 'Chadha_Gurinder', 'Chakib_Khelil', 'Chan_Choi', 'Chan_Gailey', 'Chan_Ho_Park', 'Chance_Mock', 'Chanda_Rubin', 'Chandrika_Kumaratunga', 'Chang_Dae-whan', 'Chang_Jae_On', 'Chang_Saio-yue', 'Chang_Sang', 'Chang_Tso', 'Chante_Jawan_Mallard', 'Charla_Moye', 'Charlene_Barshefsky', 'Charles_Bell', 'Charles_Bronson', 'Charles_Chandler_IV', 'Charles_Cope', 'Charles_Grassley', 'Charles_Holzner', 'Charles_Ingram', 'Charles_Kartman', 'Charles_Lebois', 'Charles_Mathews', 'Charles_Moose', 'Charles_Pickering', 'Charles_Pouty', 'Charles_Richardson', 'Charles_Rogers', 'Charles_Schumer', 'Charles_Tannok', 'Charles_Taylor', 'Charley_Armey', 'Charlie_Coles', 'Charlie_Deane', 'Charlie_Garner', 'Charlie_Hunnam', 'Charlie_Sheen', 'Charlie_Williams', 'Charlie_Zaa', 'Charlize_Theron', 'Charlotte_Casiraghi', 'Charlotte_Chambers', 'Charlotte_Church', 'Charlotte_Rampling', 'Charlton_Heston', 'Charmaine_Crooks', 'Chawki_Armali', 'Chea_Sophara', 'Chelsea_Clinton', 'Chen_Kaige', 'Chen_Liang_Yu', 'Chen_Shui-bian', 'Chen_Tsai-chin', 'Cherie_Blair', 'Cherry_Jones', 'Cheryl_Ford', 'Cheryl_Hines', 'Cheryl_James', 'Cheryl_Little', 'Cheryl_Tiegs', 'Chhouk_Rin', 'Chick_Hearn', 'Chin-Feng_Chen', 'Chin-Hui_Tsao', 'Chip_Burrus', 'Chip_Ganassi', 'Chip_Knight', 'Chistian_Stahl', 'Chita_Rivera', 'Chloe_Sevigny', 'Cho_Myung-kyun', 'Choi_Sung-hong', 'Choi_Yun-yong', 'Chok_Tong_Goh', 'Chris_Andrews', 'Chris_Bell', 'Chris_Byrd', 'Chris_Cirino', 'Chris_Claiborne', 'Chris_Columbus', 'Chris_Cookson', 'Chris_Cooper', 'Chris_Cornell', 'Chris_Crocker', 'Chris_Dodd', 'Chris_Forsyth', 'Chris_Gratton', 'Chris_Hernandez', 'Chris_Klein', 'Chris_Kolanas', 'Chris_Matthews', 'Chris_Moore', 'Chris_Neil', 'Chris_Noth', 'Chris_Penn', 'Chris_Pronger', 'Chris_Reitsma', 'Chris_Rock', 'Chris_Simon', 'Chris_Swecker', 'Chris_Terry', 'Chris_Thomas', 'Chris_Tucker', 'Chris_Whitney', 'Christian_Bale', 'Christian_Fittipaldi', 'Christian_Gimenez', 'Christian_Lacroix', 'Christian_Lirette', 'Christian_Longo', 'Christian_Malcolm', 'Christian_Olsson', 'Christian_Patino', 'Christian_Von_Wernich', 'Christian_Wulff', 'Christiane_Wulff', 'Christina_Aguilera', 'Christina_Sawaya', 'Christine_Arron', 'Christine_Baumgartner', 'Christine_Ebersole', 'Christine_Gregoire', 'Christine_Rau', 'Christine_Todd_Whitman', 'Christoph_Daum', 'Christopher_Amolsch', 'Christopher_Conyers', 'Christopher_Matero', 'Christopher_Patten', 'Christopher_Reeve', 'Christopher_Russell', 'Christopher_Speer', 'Christopher_Walken', 'Christopher_Whittle', 'Christy_Ferer', 'Christy_Turlington', 'Chuanyun_Li', 'Chuck_Amato', 'Chuck_Bednarik', 'Chuck_Eidson', 'Chuck_Finley', 'Chuck_Hagel', 'Chuck_Woolery', 'Chuck_Yeager', 'Chung_Mong-hun', 'Chung_Mong-joon', 'Chyung_Dai-chul', 'Ciaran_Hinds', 'Cindy_Crawford', 'Cindy_Klassen', 'Cindy_Margolis', 'Cindy_Moll', 'Cindy_Taylor', 'Cindy_Zagorski', 'Ciro_Gomes', 'Claire_Danes', 'Claire_De_Gryse', 'Claire_Hentzen', 'Claire_Leger', 'Claire_Tomalin', 'Clara_Harris', 'Clare_Latimer', 'Clare_Short', 'Clark_Randt', 'Claude_Jorda', 'Claudette_Robinson', 'Claudia_Cardinale', 'Claudia_Coslovich', 'Claudia_Pechstein', 'Claudia_Schiffer', 'Claudine_Farrell', 'Claudio_Abbado', 'Claudio_Lopez', 'Claudio_Ranieri', 'Clay_Aiken', 'Clay_Campbell', 'Clemente_de_la_Vega', 'Cliff_Ellis', 'Clifford_Etienne', 'Clifford_Robinson', 'Clint_Eastwood', 'Clint_Howard', 'Clint_Lamebear', 'Clive_Lloyd', 'Clive_Woodward', 'Coco_dEste', 'Cole_Chapman', 'Coleen_Rowley', 'Colin_Campbell', 'Colin_Cowie', 'Colin_Farrell', 'Colin_Jackson', 'Colin_Montgomerie', 'Colin_Phillips', 'Colin_Powell', 'Colin_Prescot', 'Colleen_Atwood', 'Colleen_Donovan', 'Colleen_Jones', 'Colleen_OClair', 'Colleen_Ryan', 'Collis_Temple_III', 'Columba_Bush', 'Compay_Segundo', 'Conan_OBrien', 'Conchita_Martinez', 'Condoleezza_Rice', 'Connie_Chung', 'Connie_Freydell', 'Conrad_Black', 'Constance_Marie', 'Cora_Cambell', 'Coretta_Scott_King', 'Corey_Maggette', 'Cori_Enghusen', 'Corinna_Harfouch', 'Corinne_Coman', 'Corliss_Williamson', 'Cosmo_Iacavazzi', 'Costas_Simitis', 'Courtney_Cox', 'Courtney_Love', 'Craig_Burley', 'Craig_David', 'Craig_Doblin', 'Craig_Fitzgibbon', 'Craig_MacTavish', 'Craig_Morgan', 'Craig_OClair', 'Craig_Wilson', 'Crandall_Bowles', 'Crispin_Glover', 'Cristian_Barros', 'Cristiano_da_Matta', 'Cristina_Fernandez', 'Cristina_Kirchner', 'Cristina_Saralegui', 'Cristina_Torrens_Valero', 'Cruz_Bustamante', 'Cuba_Gooding_Jr', 'Curt_Weldon', 'Curtis_Joseph', 'Curtis_Rodriguez', 'Curtis_Strange', 'Cyndi_Thompson', 'Cynthia_Nixon', 'Cynthia_Rowley', 'DAngelo_Jimenez', 'Dagmar_Dunlevy', 'Dai_Bachtiar', 'Dai_Chul_Chyung', 'Daisy_Fuentes', 'Daja_Bedanova', 'Dalai_Lama', 'Dale_Bosworth', 'Dale_Earnhardt', 'Dale_Earnhardt_Jr', 'Dalia_Rabin-Pelosoff', 'Damarius_Bilbo', 'Damon_Dash', 'Damon_Stoudamire', 'Damon_van_Dam', 'Dan_Ackroyd', 'Dan_Bartlett', 'Dan_Boyle', 'Dan_Bylsma', 'Dan_Dickau', 'Dan_Duquette', 'Dan_Guerrero', 'Dan_Kellner', 'Dan_LaCoutre', 'Dan_Monson', 'Dan_Morales', 'Dan_Prinster', 'Dan_Quayle', 'Dan_Reeves', 'Dan_Snyder', 'Dan_Wheldon', 'Dana_Vollmer', 'Daniel_Barenboim', 'Daniel_Bruehl', 'Daniel_Chin', 'Daniel_Coats', 'Daniel_Comisso_Urdaneta', 'Daniel_Darnell', 'Daniel_Day-Lewis', 'Daniel_Kurtzer', 'Daniel_Montenegro', 'Daniel_Montgomery', 'Daniel_Ortega', 'Daniel_Osorno', 'Daniel_Patrick_Moynihan', 'Daniel_Pearl', 'Daniel_Radcliffe', 'Daniel_Rouse', 'Daniel_Scioli', 'Daniel_Zelman', 'Daniela_Cicarelli', 'Daniela_Hantuchova', 'Daniele_Bergamin', 'Daniele_Hypolito', 'Daniele_Nardello', 'Daniell_Sunjata', 'Danielle_Spencer', 'Danis_Tanovic', 'Danny_Ainge', 'Danny_Avalon', 'Danny_Elfman', 'Danny_Glover', 'Danny_Green', 'Danny_Morgan', 'Dany_Heatley', 'Darcy_Regier', 'Darin_Erstad', 'Dario_Camuffo', 'Dario_Franchitti', 'Dariusz_Michalczewski', 'Darko_Milicic', 'Darla_Moore', 'Darlene_Garrettson', 'Darrell_Dickey', 'Darrell_Issa', 'Darrell_Porter', 'Darrell_Royal', 'Darren_Campel', 'Darren_Clarke', 'Darryl_McDaniels', 'Darryl_Stingley', 'Darvis_Patton', 'Daryl_Hannah', 'Daryl_Jones', 'Daryl_Parks', 'Daryl_Sabara', 'Daryl_Smith', 'Dave_Barr', 'Dave_Campo', 'Dave_Johnson', 'Dave_Lewis', 'Dave_Matthews', 'Dave_McGinnis', 'Dave_McNally', 'Dave_McNealey', 'Dave_Odom', 'Dave_Potter', 'Dave_Ragone', 'Dave_Robertson', 'Dave_Tucker', 'Dave_Wannstedt', 'Dave_Williams', 'Davey_Johnson', 'David_Alpay', 'David_Anderson', 'David_Arquette', 'David_Ballantyne', 'David_Beckham', 'David_Bell', 'David_Bisbal', 'David_Blaine', 'David_Bowie', 'David_Braley', 'David_Brent', 'David_Brinkley', 'David_Brown', 'David_Canary', 'David_Caraway', 'David_Carradine', 'David_Caruso', 'David_Chase', 'David_Collenette', 'David_Coulthard', 'David_Dewayne_Williams', 'David_Dewhurst', 'David_Dodge', 'David_Donohue', 'David_Dorfman', 'David_Duke', 'David_Duval', 'David_Eldon', 'David_Gest', 'David_Glenn', 'David_Hannay', 'David_Hanson', 'David_Hasselhoff', 'David_Heyman', 'David_Heymann', 'David_Hilt', 'David_Ho', 'David_Howard', 'David_Hyde_Pierce', 'David_Kelley', 'David_Kelly', 'David_Leahy', 'David_McCallum', 'David_McCullough', 'David_McKiernan', 'David_Millar', 'David_Modell', 'David_Montoya', 'David_Myers', 'David_Nalbandian', 'David_Obey', 'David_Oh', 'David_Provost', 'David_Przybyszewski', 'David_Rivkin_Jr', 'David_Scott_Morris', 'David_Shayler', 'David_Sibleyk', 'David_Siegel', 'David_Sousa', 'David_Spade', 'David_Stern', 'David_Suazo', 'David_Surrett', 'David_Tornberg', 'David_Trimble', 'David_Welch', 'David_Wells', 'David_Westerfield', 'David_Wolf', 'David_Zeplowitz', 'Davis_Love_III', 'Dawn_Staley', 'Dawna_LoPiccolo', 'Dean_Barker', 'Dean_Barkley', 'Dean_Jacek', 'Dean_Sheremet', 'Deb_Santos', 'Debbie_Allen', 'Debbie_Reynolds', 'Debra_Brown', 'Debra_Messing', 'Debra_Rose', 'Debra_Shank', 'Debra_Yang', 'Deece_Eckstein', 'Deena_Burnett', 'Deepa_Mehta', 'Della_Clara', 'Delphine_Chuillot', 'Demetrin_Veal', 'Demetrius_Ferraciu', 'Demi_Moore', 'Denis_Coderre', 'Denis_Fassou-Nguesso', 'Denise_Johnson', 'Denise_Locke', 'Denise_van_Outen', 'Deniz_Baykal', 'Dennis_Archer', 'Dennis_Erickson', 'Dennis_Franchione', 'Dennis_Hastert', 'Dennis_Johnson', 'Dennis_Kozlowski', 'Dennis_Kucinich', 'Dennis_Miller', 'Dennis_Oswald', 'Dennis_Powell', 'Denys_Arcand', 'Denzel_Washington', 'Dereck_Whittenburg', 'Derek_Abney', 'Derek_Bond', 'Derek_Jeter', 'Derek_King', 'Derek_Lowe', 'Derek_Parra', 'Derian_Hatcher', 'Derrick_Battie', 'Derrick_Rodgers', 'Derrick_Taylor', 'Des_Brown', 'Desiree_Lemosi', 'Desiree_McKenzie', 'Desmon_Farmer', 'Devin_Harris', 'Dewayne_White', 'Dexter_Jackson', 'Diana_Krall', 'Diana_Munz', 'Diana_Renee_Valdivieso_Dubon', 'Diana_Ross', 'Diana_Silvius', 'Diana_Taurasi', 'Diana_Taylor', 'Diane_Green', 'Diane_Ladd', 'Diane_Lane', 'Dianne_Feinstein', 'Dianne_Reeves', 'Dick_Armey', 'Dick_Bennett', 'Dick_Cheney', 'Dick_Clark', 'Dick_Devine', 'Dick_Jauron', 'Dick_Latessa', 'Dick_Posthumus', 'Dick_Smothers', 'Dick_Vermeil', 'Didier_Defago', 'Diego_Armando_Maradona', 'Diego_Colorado', 'Diego_Diego_Lerman', 'Dieter_Holzer', 'Dieter_Zetsche', 'Dimitar_Berbatov', 'Dimitri_Perricos', 'Din_Samsudin', 'Dinah_Turner', 'Dino_Risi', 'Dino_de_Laurentis', 'Dinora_Rosales', 'Dion_Glover', 'Dionigi_Tettamanzi', 'Dionne_Warwick', 'Dionyssis_Georgiadis', 'Dirk_Kempthorne', 'Dita_Von_Tesse', 'Djabir_Said-Guerni', 'Doc_Rivers', 'Dolly_Parton', 'Dolma_Tsering', 'Dominic_Monaghan', 'Dominick_Dunne', 'Dominik_Garcia-Lorido', 'Dominik_Hrbaty', 'Dominique_Perben', 'Dominique_de_Villepin', 'Don_Boudria', 'Don_Carcieri', 'Don_Flanagan', 'Don_Henley', 'Don_Hewitt', 'Don_King', 'Don_Lake', 'Don_Matthews', 'Don_Meredith', 'Don_Nickles', 'Don_Siegelman', 'Donald_Anderson', 'Donald_Carty', 'Donald_Evans', 'Donald_Fehr', 'Donald_Hays', 'Donald_Keck', 'Donald_Keyser', 'Donald_Pettit', 'Donald_Regan', 'Donald_Rumsfeld', 'Donald_Trump', 'Donatella_Versace', 'Donna_Barrera', 'Donna_Brazile', 'Donna_Morrissey', 'Donna_Ralston', 'Donna_Shalala', 'Donna_Walker', 'Donnie_Brennan', 'Donny_Osmond', 'Dora_Bakoyianni', 'Doris_Roberts', 'Doris_Schroeder', 'Dorothy_Lamour', 'Dorothy_Loudon', 'Dorothy_Wilson', 'Dorthy_Moxley', 'Dot_Helms', 'Doug_Christie', 'Doug_Collins', 'Doug_Duncan', 'Doug_Melvin', 'Doug_Moe', 'Doug_Racine', 'Doug_Wilson', 'Douglas_Faneuil', 'Douglas_Gansler', 'Douglas_Meester', 'Douglas_Paal', 'Dragan_Covic', 'Drew_Barrymore', 'Drew_Bledsoe', 'Drew_Gooden', 'Du_Qinglin', 'Duane_Barber', 'Duane_Lee_Chapman', 'Dudley_Rogers', 'Dule_Hill', 'Duncan_Fletcher', 'Dunn_Lampton', 'Dustan_Mohr', 'Dustin_Brown', 'Dustin_Hoffman', 'Dusty_Baker', 'Dwain_Kyles', 'Dwayne_Johnson', 'Dwayne_Wade', 'Dwayne_Williams', 'Dyab_Abou_Jahjah', 'Dyana_Calub', 'E_Clay_Shaw', 'Earl_Campbell', 'Earl_Counter', 'Earl_Fritts', 'Earl_Scruggs', 'Ed_Book', 'Ed_Case', 'Ed_Mekertichian', 'Ed_Rendell', 'Ed_Rosenthal', 'Ed_Smart', 'Ed_Sullivan', 'Ed_Wade', 'Eddie_Compass', 'Eddie_Fenech_Adami', 'Eddie_Jordan', 'Eddie_Lewis', 'Eddie_Lucio', 'Eddie_Murray', 'Eddie_Sutton', 'Eddy_Hartenstein', 'Eddy_Merckx', 'Edgar_Savisaar', 'Edie_Falco', 'Edina_Batar', 'Edith_Masai', 'Edmund_Hillary', 'Edmund_Stoiber', 'Edouard_Michelin', 'Eduard_Limonov', 'Eduard_Shevardnadze', 'Eduardo_Chillida', 'Eduardo_Duhalde', 'Eduardo_Fischer', 'Eduardo_Romero', 'Edward_Albee', 'Edward_Arsenault', 'Edward_Belvin', 'Edward_Burns', 'Edward_Egan', 'Edward_Flynn', 'Edward_Greenspan', 'Edward_James_Olmos', 'Edward_Johnson', 'Edward_Kennedy', 'Edward_Lohn', 'Edward_Lu', 'Edward_Norton', 'Edward_Said', 'Edward_Seaga', 'Edwin_Edwards', 'Edwina_Currie', 'Efrain_Rios_Montt', 'Eglis_Yaima_Cruz', 'Eileen_Coparropa', 'Eileen_Spina', 'Einars_Repse', 'Ekaterina_Dmitriev', 'Ekke_Hard_Forberg', 'El_Hadji_Diouf', 'Eladio_Larez', 'Elaine_Chao', 'Elaine_Stritch', 'Elena_Bereznaya', 'Elena_Bovina', 'Elena_Dementieva', 'Elena_Likhovtseva', 'Elena_Tihomirova', 'Elena_de_Chavez', 'Elgin_Baylor', 'Eli_Broad', 'Eli_Rosenbaum', 'Eli_Stutsman', 'Eliane_Karp', 'Elias_Attallah', 'Elijah_Wood', 'Elijan_Ingram', 'Elin_Nordegren', 'Elinor_Caplan', 'Eliott_Spitzer', 'Elisabeth_Schumacher', 'Elisabeth_Welch', 'Elisha_Cuthbert', 'Eliza_Dushku', 'Eliza_Manningham-Buller', 'Elizabeth_Berkeley', 'Elizabeth_Dole', 'Elizabeth_Hill', 'Elizabeth_Hurley', 'Elizabeth_Pena', 'Elizabeth_Regan', 'Elizabeth_Shue', 'Elizabeth_Smart', 'Elizabeth_Taylor', 'Ellen_Barkin', 'Ellen_DeGeneres', 'Ellen_Engleman', 'Ellen_MacArthur', 'Ellen_Martin', 'Ellen_Pompeo', 'Ellen_Saracini', 'Elliott_Mincberg', 'Elmar_Brok', 'Elodie_Bouchez', 'Eloy_Gutierrez', 'Elsa_Zylberstein', 'Elton_John', 'Elva_Hsiao', 'Elvis_Costello', 'Elvis_Presley', 'Elvis_Stojko', 'Emanuel_Ginobili', 'Emelie_Loit', 'Emile_Lahoud', 'Emilio_Azcarraga_Jean', 'Emilio_Botin', 'Emily_Mason', 'Emily_Mortimer', 'Emily_Robison', 'Emily_Stevens', 'Eminem', 'Emma_Nicholson', 'Emma_Thompson', 'Emma_Watson', 'Emmanuel_Filiberto', 'Emmanuel_Milingo', 'Emmanuelle_Beart', 'Emmanuelle_Jagodsinski', 'Emmit_Smith', 'Emmy_Rossum', 'Emyr_Jones_Parry', 'Enola_Rice', 'Enos_Slaughter', 'Enrica_Fico', 'Enrik_Vendt', 'Enrique_Bolanos', 'Enrique_Haroldo_Gorriaran_Merlo', 'Enrique_Iglesias', 'Enrique_Medina_Gomez', 'Enrique_Oliu', 'Eric_Bana', 'Eric_Benet', 'Eric_Christian_Olsen', 'Eric_Clapton', 'Eric_Daze', 'Eric_Dubin', 'Eric_Fehr', 'Eric_Hinske', 'Eric_Idle', 'Eric_Lindros', 'Eric_Lloyd', 'Eric_Robert_Rudolph', 'Eric_Rosser', 'Eric_Ryan_Donnelly', 'Eric_Schacht', 'Eric_Shinseki', 'Eric_Snow', 'Eric_Staal', 'Eric_Taino', 'Eric_Vigouroux', 'Eric_Wedge', 'Erick_Barkley', 'Erik_Morales', 'Erika_Christensen', 'Erika_Harold', 'Erika_Reyes', 'Eriko_Tamura', 'Erin_Brockovich', 'Erin_Hershey_Presley', 'Erin_Runnion', 'Ernest_Hollings', 'Ernesto_Zedillo', 'Ernie_Els', 'Ernie_Eves', 'Ernie_Fletcher', 'Ernie_Grunfeld', 'Ernie_Harwell', 'Ernie_Preate', 'Ernie_Stewart', 'Erskine_Bowles', 'Erwin_Abdullah', 'Erwin_Mapasseng', 'Esad_Landzo', 'Esteban_Cordoba-Velazquez', 'Estella_Warren', 'Estelle_Morris', 'Ester_Canadas', 'Esther_Macklin', 'Ethan_Hawke', 'Etta_James', 'Eugene_Melnyk', 'Eugene_Teslovic', 'Eunice_Barber', 'Eurico_Guterres', 'Eva_Amurri', 'Eva_Dimas', 'Eva_Herzigova', 'Eva_Marie_Saint', 'Eva_Mendes', 'Evan_Marriott', 'Evan_Rachel_Wood', 'Evander_Holyfield', 'Eve_Ensler', 'Eve_Pelletier', 'Evelyn_Lauder', 'Evgeni_Plushenko', 'Evie_Lazarou', 'Evo_Morales', 'Ewan_McGregor', 'Fabian_Vargas', 'Fabiola_Zuluaga', 'Fabrice_Santoro', 'Fabricio_Oberto', 'Faisal_Iqbal', 'Faisal_Saleh_Hayat', 'Fann_Wong', 'Farida_Ragoonanan', 'Farouk_Kaddoumi', 'Farouk_al-Sharaa', 'Fatma_Kusibeh', 'Fatmir_Limaj', 'Faye_Alibocus', 'Faye_Dunaway', 'Faye_Wong', 'Fayssal_Mekdad', 'Fazal-ur-Rehman', 'Federico_Castelan_Sayre', 'Federico_Fellini', 'Federico_Trillo', 'Feliciano_Lopez', 'Felicity_Huffman', 'Felipe_De_Borbon', 'Felipe_Fernandez', 'Felipe_Perez_Roque', 'Felix_Doh', 'Felix_Mantilla', 'Felix_Sanchez', 'Felix_Trinidad', 'Ferenc_Madl', 'Fernando_Alonso', 'Fernando_Gonzalez', 'Fernando_Henrique_Cardoso', 'Fernando_Hierro', 'Fernando_Leon_de_Aranoa', 'Fernando_Sanz', 'Fernando_Valenzuela', 'Fernando_Vargas', 'Fernando_Velardez', 'Festus_Mogae', 'Fidel_Castro', 'Fidel_Castro_Daiz-Balart', 'Filip_De_Winter', 'Filippo_Inzaghi', 'Filippo_Volandri', 'Fiona_Milne', 'Flavia_Delaroli', 'Flavia_Pennetta', 'Flor_Montulo', 'Florecita_Cobian', 'Florencia_Kirchner', 'Florencia_Macri', 'Floyd_Keith', 'Floyd_Mayweather', 'Fran_Drescher', 'Frances_Fisher', 'Francesco_Totti', 'Francis_Collins', 'Francis_Crick', 'Francis_Ford_Coppola', 'Francis_George', 'Francis_Mer', 'Francis_Ricciardone', 'Francisco_Flores', 'Francisco_Garcia', 'Francisco_Maturana', 'Francisco_Santos', 'Francisco_Urenda', 'Franck_Cerutti', 'Franco_Cangele', 'Franco_Dragone', 'Franco_Frattini', 'Francois_Botha', 'Francois_Ozon', 'Francois_Pienaar', 'Frank_Abagnale_Jr', 'Frank_Beamer', 'Frank_Bell', 'Frank_Cassell', 'Frank_Coraci', 'Frank_Dunham_Jr', 'Frank_Griswold', 'Frank_Hilldrup', 'Frank_Hsieh', 'Frank_Keating', 'Frank_Lautenberg', 'Frank_Marshall', 'Frank_Murkowski', 'Frank_Pallone', 'Frank_Schmoekel', 'Frank_Shea', 'Frank_Sinatra', 'Frank_Solich', 'Frank_Stallone', 'Frank_Taylor', 'Frank_Van_Ecke', 'Frank_Wycheck', 'Frank_Zappa', 'Franklin_Brown', 'Franklin_Damann', 'Franko_Simatovic', 'Franz_Beckenbauer', 'Franz_Fischler', 'Franz_Gsell', 'Franz_Muentefering', 'Fred_Durst', 'Fred_Eckhard', 'Fred_Funk', 'Fred_Huff', 'Fred_Rogers', 'Fred_Swan', 'Fred_Thompson', 'Fred_Wilpon', 'Freda_Black', 'Freddy_Garcia', 'Freddy_Vasques_Kinchokpe', 'Frederick_Madden', 'Frederique_van_der_Wal', 'Fredric_Seaman', 'Fruit_Chan', 'Fujio_Cho', 'Fujio_Mitarai', 'GL_Peiris', 'Gabi_Zimmer', 'Gabriel_Batistuta', 'Gabriel_Farhi', 'Gabriel_Hughes', 'Gabriel_Jorge_Ferreia', 'Gabriel_Valdes', 'Gabriella_Bo', 'Gabrielle_Rose', 'Gabrielle_Union', 'Gael_Garcia_Bermal', 'Gala_Leon_Garcia', 'Galen_Rowell', 'Gao_Qiang', 'Garry_Alejano', 'Garry_Kasparov', 'Garry_McCoy', 'Garry_Trudeau', 'Garry_Witherall', 'Garth_Drabinsky', 'Gary_Bald', 'Gary_Barnett', 'Gary_Bauer', 'Gary_Bergeron', 'Gary_Bettman', 'Gary_Carter', 'Gary_Coleman', 'Gary_Condit', 'Gary_Dellaverson', 'Gary_Doer', 'Gary_Forsee', 'Gary_Gero', 'Gary_Gitnick', 'Gary_Leon_Ridgway', 'Gary_Locke', 'Gary_Marshall', 'Gary_Paer', 'Gary_Sayler', 'Gary_Sinise', 'Gary_Stevens', 'Gary_Williams', 'Gary_Winnick', 'Gaston_Gaudio', 'Gavin_Degraw', 'Gavyn_Arthur', 'Gavyn_Davies', 'Gen_Meredith', 'Gene_Autry', 'Gene_Hackman', 'Gene_Keady', 'Gene_Orza', 'Gene_Robinson', 'Gene_Sauers', 'Gennifer_Flowers', 'Geno_Auriemma', 'Geoff_Dixon', 'Geoff_Hoon', 'Geoffrey_Davis', 'Geoffrey_Rush', 'George_Allen', 'George_Blaney', 'George_Bovell', 'George_Brumley', 'George_Brumley_III', 'George_Clooney', 'George_Foreman', 'George_Galloway', 'George_Gregan', 'George_HW_Bush', 'George_Harrison', 'George_Karl', 'George_Lopez', 'George_Lucas', 'George_Maxwell_Richards', 'George_McCloud', 'George_Murphy', 'George_P_Bush', 'George_Papandreou', 'George_Pataki', 'George_Plimpton', 'George_Robertson', 'George_Roy_Hill', 'George_Ryan', 'George_Tenet', 'George_Voinovich', 'George_W_Bush', 'Georgi_Parvanov', 'Georgia_Giddings', 'Georgina_Bardach', 'Georgina_Papin', 'Geovani_Lapentti', 'Gerald_Barbarito', 'Gerald_Calabrese', 'Gerald_Fitch', 'Gerald_Ford', 'Gerald_Riley', 'Geraldine_Chaplin', 'Geraldo_Rivera', 'Gerard_Butler', 'Gerard_Depardieu', 'Gerard_Kleisterlee', 'Gerard_Tronche', 'Gerard_de_Cortanze', 'Gerardo_Gambala', 'Gerhard_Boekel', 'Gerhard_Schmid', 'Gerhard_Schroeder', 'German_Khan', 'Gerrit_Zalm', 'Gerry_Adams', 'Gerry_Kelly', 'Gerry_Parsky', 'Ghassan_Elashi', 'Gholamreza_Aghazadeh', 'Gian_Marco', 'Giancarlo_Fisichella', 'Gianna_Angelopoulos-Daskalaki', 'Gianni_Agnelli', 'Giannina_Facio', 'Gideon_Black', 'Gideon_Yago', 'Gil_Cates', 'Gil_de_Ferran', 'Gilberto_Rodriguez_Orejuela', 'Gilberto_Simoni', 'Gilles_Panizzi', 'Gillian_Anderson', 'Gina_Centrello', 'Gina_Gershon', 'Gina_Lollobrigida', 'Gina_Torres', 'Giovanny_Cordoba', 'Gisele_Bundchen', 'Giselle_Estefania_Tavarelli', 'Giulietta_Masina', 'Giulio_Andreotti', 'Giuseppe_Gibilisco', 'Giuseppe_Morchio', 'Glafcos_Clerides', 'Glen_Clark', 'Glen_DaSilva', 'Glen_Sather', 'Glenn_Plummer', 'Glenn_Rivers', 'Glenn_Tilton', 'Gloria_Allred', 'Gloria_Gaynor', 'Gloria_Macapagal_Arroyo', 'Gloria_Trevi', 'Goh_Kun', 'Goldie_Hawn', 'Gong_Li', 'Gong_Ruina', 'Gonzalo_Barrientos', 'Gonzalo_Sanchez_de_Lozada', 'Goran_Persson', 'Goran_Zivkovic', 'Gordana_Grubin', 'Gorden_Tallis', 'Gordon_Brown', 'Gordon_Campbell', 'Gordon_Cooper', 'Gordon_Lightfoot', 'Gordon_McDonald', 'Gore_Verbinski', 'Gore_Vidal', 'Grace_Brinell', 'Grace_Dodd', 'Grace_Kelly', 'Gracia_Burnham', 'Graciano_Rocchigiani', 'Grady_Irvin_Jr', 'Grady_Little', 'Graeme_Lloyd', 'Graeme_Smith', 'Graham_Bentley', 'Grant_Hackett', 'Grant_Rossenmeyer', 'Gray_Davis', 'Greg_Frers', 'Greg_Gilbert', 'Greg_Hennigar', 'Greg_Hodge', 'Greg_Kinnear', 'Greg_Kinsey', 'Greg_Ostertag', 'Greg_Owen', 'Greg_Rusedski', 'Gregg_Berhalter', 'Gregg_Popovich', 'Gregor_Gysi', 'Gregorio_Honasan', 'Gregorio_Rosal', 'Gregory_Geoffroy', 'Gregory_Hines', 'Gregory_Peck', 'Gretchen_Mol', 'Griffin_Colvin', 'Gro_Harlem_Brundtland', 'Guangdong_Ou_Guangyuan', 'Guennadi_Chipouline', 'Guenter_Verheugen', 'Guido_Westerwelle', 'Guillaume_Cannet', 'Guillaume_Depardieu', 'Guillaume_Soro', 'Guillermo_Canas', 'Guillermo_Coria', 'Guillermo_Monroy', 'Guillermo_Ortiz', 'Guillermo_Ruiz_Polanco', 'Gunilla_Backman', 'Gunter_Pleuger', 'Gus_Frerotte', 'Gus_Van_Sant', 'Gustavo_Cisneros', 'Gustavo_Franco', 'Gustavo_Kuerten', 'Gustavo_Noboa', 'Gustavo_Terrazas', 'Guus_Hiddink', 'Guy_Hemmings', 'Guy_Ritchie', 'Guy_Verhofstadt', 'Gwen_Stefani', 'Gwendal_Peizerat', 'Gwyneth_Paltrow', 'Habib_Hisham', 'Habib_Rizieq', 'Hadley_Bilger', 'Hal_Gehman', 'Hal_McCoy', 'Hal_Sellers', 'Hal_Sutton', 'Halbert_Fillinger', 'Halle_Berry', 'Ham_Pong-sil', 'Hama_Arba_Diallo', 'Hamad_Bin_Isa_al-Khalifa', 'Hamad_Bin_Jassim', 'Hamid_Efendi', 'Hamid_Karzai', 'Hamid_Reza_Asefi', 'Hamza_Atiya_Muhsen', 'Hamzah_Haz', 'Han_Sung_Joo', 'Hana_Makhmalbaf', 'Hana_Sadiq', 'Hana_Urushima', 'Hanan_Ashrawi', 'Hank_Aaron', 'Hank_Azaria', 'Hank_Bass', 'Hank_McKinnell', 'Hank_Stram', 'Hannah_Stockbauer', 'Hanns_Schumacher', 'Hans-Christian_Schmid', 'Hans_Blix', 'Hans_Corell', 'Hans_Eichel', 'Hans_Leistritz', 'Hans_Peter_Briegel', 'Harald_Ringstorff', 'Harbhajan_Singh', 'Harland_Braun', 'Harold_Brown', 'Harold_Scott', 'Harriet_Lessy', 'Harrison_Ford', 'Harry_Belafonte', 'Harry_Kalas', 'Harry_Schmidt', 'Hartmut_Mehdorn', 'Harvey_Fierstein', 'Harvey_Wachsman', 'Harvey_Weinstein', 'Hasan_Wirayuda', 'Hashan_Tillakaratne', 'Hashim_Thaci', 'Hassan_Nasrallah', 'Hassan_Wirajuda', 'Hassanal_Bolkiah', 'Hatsui_Hasuike', 'Haydar_Aliyev', 'Hayden_Panettiere', 'Hayley_Tullett', 'Heath_Ledger', 'Heather_Chinnock', 'Heather_Locklear', 'Heather_Mills', 'Heather_Whitestone_McCallum', 'Heather_Willson', 'Hector_Babenco', 'Hector_Grullon', 'Hector_Mitelman', 'Hedayat_Amin_Arsala', 'Hee-Won_Han', 'Heidi_Fleiss', 'Heidi_Klum', 'Heinrich_Wolfgang', 'Heinz_Feldmann', 'Heizo_Takenaka', 'Helen_Alvare', 'Helen_Clark', 'Helen_Darling', 'Helena_Schneider', 'Helene_Eksterowicz', 'Helio_Castroneves', 'Helio_Rubens_Garcia', 'Helmut_Panke', 'Helo_Pinheiro', 'Henk_Bekedam', 'Henning_Scherf', 'Henri_Proglio', 'Henrique_Meirelles', 'Henry_Castellanos', 'Henry_Hilow', 'Henry_Hyde', 'Henry_Kissinger', 'Henry_Suazo', 'Herb_Brooks', 'Herb_Dhaliwal', 'Herb_Ritts', 'Herb_Sendek', 'Herbert_Haupt', 'Herbie_Hancock', 'Herman_Edwards', 'Herman_Moore', 'Hermando_Harton', 'Hermann_Maier', 'Hermes_Gamonal', 'Hermogenes_Ebdane_Jr', 'Hernan_Crespo', 'Hernan_Diaz', 'Herta_Daeubler-Gmelin', 'Hestrie_Cloette', 'Hichiro_Naemura', 'Hideki_Matsui', 'Hideki_Sato', 'Hidetoshi_Nakata', 'Hikmat_al-Azzawi', 'Hilary_Duff', 'Hilary_McKay', 'Hilda_Fortune', 'Hillary_Clinton', 'Hilmi_Akin_Zorlu', 'Hilmi_Ozkok', 'Himmler_Rebu', 'Hipolito_Mejia', 'Hiroki_Gomi', 'Hiroyuki_Yoshino', 'Hisao_Oguchi', 'Hisashi_Owada', 'Hisham_Halawi', 'Hitomi_Soga', 'Hitoshi_Oshitani', 'Hitoshi_Tanaka', 'Hoda_Asfor', 'Holly_Hunter', 'Holly_Robinson_Peete', 'Hong_Myung', 'Hootie_Johnson', 'Horace_Donovan_Reid', 'Horace_Newcomb', 'Horacio_Julio_Pina', 'Horacio_de_Jesus_Montoya', 'Horst_Koehler', 'Hosni_Mubarak', 'Howard_Dean', 'Howard_Ross', 'Howard_Schultz', 'Howard_Smith', 'Howard_Stern', 'Howard_Stringer', 'Howard_Wilkinson', 'Hrithik_Roshan', 'Hu_Jintao', 'Hu_Maoyuan', 'Huan_Chung_Yi', 'Huang_Suey-Sheng', 'Hubert_Green', 'Hubie_Brown', 'Hugh_Campbell', 'Hugh_Carey', 'Hugh_Grant', 'Hugh_Hefner', 'Hugh_Jessiman', 'Hugh_Miller', 'Hugo_Chavez', 'Hugo_Colace', 'Hugo_Conte', 'Humberto_Coelho', 'Humberto_Espinoza', 'Hun_Sen', 'Hung_Wan-ting', 'Hunter_Bates', 'Hunter_Kemper', 'Hushiar_Zebari', 'Hussam_Mohammed_Amin', 'Hussein_Malik', 'Hutomo_Mandala_Putra', 'Hwang_Doo-yun', 'Iain_Anderson', 'Iain_Duncan_Smith', 'Iain_Richmond', 'Ian_Campbell', 'Ian_Gillan', 'Ian_Huntley', 'Ian_Knop', 'Ian_McKellen', 'Ian_Moran', 'Ian_Smith', 'Ian_Thorpe', 'Ian_Wilmut', 'Iban_Mayo', 'Ibrahim_Al-Marashi', 'Ibrahim_Haddad', 'Ibrahim_Hilal', 'Ibrahim_Jaafari', 'Ibrahim_Rugova', 'Idi_Amin', 'Ignacio_Antonio_Velasco', 'Ignatius_Wang', 'Igor_Ivanov', 'Igor_Trunov', 'Ilan_Goldfajn', 'Ilan_Ramon', 'Ilham_Aliev', 'Ilie_Nastase', 'Imad_Khadduri', 'Imad_Moustapha', 'Imam_Samudra', 'Imelda_Marcos', 'Imran_Khan', 'Imre_Kertasz', 'Inam-ul-Haq', 'Infanta_Cristina', 'Inga_Hall', 'Ingrid_Betancourt', 'Inocencio_Arias', 'Intisar_Ajouri', 'Ion_Iliescu', 'Ion_Tiriac', 'Ira_Einhorn', 'Iran_Brown', 'Irene_Kahn', 'Irfan_Ahmed', 'Irina_Framtsova', 'Irina_Lobacheva', 'Irina_Yatchenko', 'Irv_Nathan', 'Irwan_Fadzi_Idris', 'Isabel_Orellana', 'Isabela_Moraes', 'Isabella_Rossellini', 'Isabelle_Huppert', 'Isaiah_Washington', 'Ishaq_Shahryar', 'Isidro_Pastor', 'Islam_Karimov', 'Ismael_Miranda', 'Ismail_Abu_Shanab', 'Ismail_Cem', 'Ismail_Khan', 'Ismail_Merchant', 'Itamar_Franco', 'Itzhak_Perlman', 'Iva_Majoli', 'Ivan_Helguera', 'Ivan_Lee', 'Ivan_Shvedoff', 'Ivan_Stambolic', 'Ivana_Trump', 'Iveta_Benesova', 'Ivo_Dubs', 'Izzat_Ibrahim', 'JC_Chasez', 'JJ_Redick', 'JK_Rowling', 'JP_Suarez', 'JT_Snow', 'Jaap_de_Hoop_Scheffer', 'Jack_Goodman', 'Jack_Grubman', 'Jack_Knowlton', 'Jack_LaLanne', 'Jack_Nicholson', 'Jack_Osbourne', 'Jack_Smith', 'Jack_Straw', 'Jack_Valenti', 'Jack_Welch', 'Jackie_Chan', 'Jackie_Dennis', 'Jackie_Sherrill', 'Jacky_Cheung', 'Jacob_Frenkel', 'Jacqueline_Edwards', 'Jacqueline_Gold', 'Jacqueline_Marris', 'Jacqueline_Obradors', 'Jacques_Chirac', 'Jacques_Kallis', 'Jacques_Rogge', 'Jacques_Villeneuve', 'Jada_Pinkett_Smith', 'Jade_Jagger', 'Jafar_Umar_Thalib', 'Jaime_Orti', 'Jaime_Pressly', 'Jake_Brace', 'Jake_Gyllenhaal', 'Jake_Plummer', 'Jakob_Kellenberger', 'Jalal_Talabani', 'Jalen_Rose', 'James_Baker', 'James_Ballenger', 'James_Barksdale', 'James_Becker', 'James_Blake', 'James_Brazelton', 'James_Brosnahan', 'James_Brown', 'James_Butts', 'James_Caan', 'James_Cameron', 'James_Carville', 'James_Coburn', 'James_Collinson', 'James_Comey', 'James_Coviello', 'James_Cunningham', 'James_Dingemans', 'James_Franco', 'James_Gandolfini', 'James_Gibson', 'James_Hakett', 'James_Hallock', 'James_Harris', 'James_Hill', 'James_Hoffa', 'James_Hughes', 'James_Ivory', 'James_Jones', 'James_Kelly', 'James_Kirtley', 'James_Kopp', 'James_Layug', 'James_Lockhart', 'James_Maguire', 'James_Mathis', 'James_May', 'James_McGreevey', 'James_McMahon', 'James_McPherson', 'James_Meeks', 'James_Meredeth', 'James_Morris', 'James_Murdoch', 'James_Parker', 'James_Phelps', 'James_Roberts', 'James_Robertson_Jr', 'James_Schultz', 'James_Sensenbrenner', 'James_Smith', 'James_Spalding', 'James_Traficant', 'James_W_Kennedy', 'James_Wallack', 'James_Watt', 'James_Wattana', 'James_Williams', 'James_Wolfensohn', 'James_Young', 'Jamie_Carey', 'Jamie_Cooke', 'Jamie_Dimon', 'Jamie_Kellner', 'Jamie_King', 'Jamie_Lee_Curtis', 'Jamie_Martin', 'Jamie_Olis', 'Jamie_Villafane', 'Jamir_Miller', 'Jamling_Norgay', 'Jan-Michael_Gambill', 'Jan_Bjoerklund', 'Jan_De_Bont', 'Jan_Paul_Miller', 'Jan_Peter_Balkenende', 'Jan_Petersen', 'Jan_Pronk', 'Jan_Ullrich', 'Jan_van_Breda_Kolff', 'Jana_Henke', 'Jana_Pittman', 'Jane_Clayson', 'Jane_Fonda', 'Jane_Kaczmarek', 'Jane_Krakowski', 'Jane_Leeves', 'Jane_Menelaus', 'Jane_Pauley', 'Jane_Riley', 'Jane_Rooney', 'Jane_Russell', 'Jane_Walker_Wood', 'Janela_Jara', 'Janet_Chandler', 'Janet_Crawford', 'Janet_Ecker', 'Janet_Horvath', 'Janet_Leigh', 'Janet_Napolitano', 'Janet_Thorpe', 'Janette_Husarova', 'Janez_Drnovsek', 'Janica_Kostelic', 'Janice_Abreu', 'Janice_Goldfinger', 'Janine_Pietsch', 'Janis_Ruth_Coulter', 'Janusz_Kaminski', 'Jaouad_Gharib', 'Jaqueline_Godoy', 'Jaromir_Jagr', 'Jason_Alexander', 'Jason_Bentley', 'Jason_Biggs', 'Jason_Campbell', 'Jason_Clermont', 'Jason_Gardner', 'Jason_Jennings', 'Jason_Kapono', 'Jason_Keep', 'Jason_Kidd', 'Jason_Lezak', 'Jason_Mewes', 'Jason_Petty', 'Jason_Priestley', 'Jason_Sehorn', 'Jason_Sorens', 'Jason_Statham', 'Jason_Vale', 'Jason_White', 'Javier_Bardem', 'Javier_Camara', 'Javier_Delgado', 'Javier_Saviola', 'Javier_Solana', 'Javier_Vargas', 'Javier_Vazquez', 'Javier_Weber', 'Javier_Zanetti', 'Jawad_Boulus', 'Jay_Garner', 'Jay_Leno', 'Jay_Rasulo', 'Jaymon_Crabb', 'Jayne_Yarris', 'Jayson_Williams', 'Jean-Claude_Braquet', 'Jean-Claude_Juncker', 'Jean-Claude_Trichet', 'Jean-Claude_Van_Damme', 'Jean-David_Levitte', 'Jean-Francois_Lemounier', 'Jean-Francois_Pontal', 'Jean-Luc_Bideau', 'Jean-Marc_Olive', 'Jean-Marc_de_La_Sabliere', 'Jean-Patrick_Nazon', 'Jean-Pierre_Bemba', 'Jean-Pierre_Raffarin', 'Jean-Rene_Fourtou', 'Jean-Sebastien_Giguere', 'Jean_Brumley', 'Jean_Carnahan', 'Jean_Charest', 'Jean_Chretien', 'Jean_Nagel', 'Jean_Todt', 'Jeane_Kirkpatrick', 'Jeanette_Gray', 'Jeanette_Stauffer', 'Jeanne_Anne_Schroeder', 'Jeanne_Moreau', 'Jeannette_Biedermann', 'Jeb_Bush', 'Jeff_Bridges', 'Jeff_Bzdelik', 'Jeff_Dederian', 'Jeff_Feldman', 'Jeff_George', 'Jeff_Hornacek', 'Jeff_Roehm', 'Jeff_Schiffner', 'Jeff_Van_Gundy', 'Jeff_Weaver', 'Jefferson_Perez', 'Jeffery_Hendren', 'Jeffery_Strelzin', 'Jeffrey_Archer', 'Jeffrey_Ashby', 'Jeffrey_Donaldson', 'Jeffrey_Immelt', 'Jeffrey_Jones', 'Jeffrey_Katzenberg', 'Jeffrey_Pfeffer', 'Jeffrey_Scott_Postell', 'Jelena_Dokic', 'Jen_Bice', 'Jen_Schefft', 'Jenna_Elfman', 'Jennette_Bradley', 'Jennie_Finch', 'Jennie_Garth', 'Jennifer_Aniston', 'Jennifer_Capriati', 'Jennifer_Connelly', 'Jennifer_Furminger', 'Jennifer_Garner', 'Jennifer_Granholm', 'Jennifer_Gratz', 'Jennifer_Keller', 'Jennifer_Lopez', 'Jennifer_Love_Hewitt', 'Jennifer_McCoy', 'Jennifer_Murray', 'Jennifer_Pena', 'Jennifer_Reilly', 'Jennifer_Renee_Short', 'Jennifer_Rodriguez', 'Jennifer_Thompson', 'Jennifer_Tilly', 'Jenny_Romero', 'Jens_Lehmann', 'Jeong_Se-hyun', 'Jerelle_Kraus', 'Jeremy_Fogel', 'Jeremy_Gompertz', 'Jeremy_Greenstock', 'Jeremy_Shockey', 'Jeremy_Wotherspoon', 'Jeri_Ryan', 'Jerome_Golmard', 'Jerome_Jenkins', 'Jerry_Angelo', 'Jerry_Bruckheimer', 'Jerry_Colangelo', 'Jerry_Falwell', 'Jerry_Hall', 'Jerry_Jones', 'Jerry_Lewis', 'Jerry_McEntee', 'Jerry_Oliver', 'Jerry_Pauley', 'Jerry_Regier', 'Jerry_Rice', 'Jerry_Seinfeld', 'Jerry_Sexton', 'Jerry_Sloan', 'Jerry_Springer', 'Jerry_Tarkanian', 'Jesper_Parnevik', 'Jesse_Harris', 'Jesse_Helms', 'Jesse_Jackson', 'Jesse_James', 'Jesse_James_Leija', 'Jesse_Ventura', 'Jessica_Alba', 'Jessica_Biel', 'Jessica_Brungo', 'Jessica_Capshaw', 'Jessica_Lange', 'Jessica_Lynch', 'Jessica_Simpson', 'Jesus_Cardenal', 'Jewel_Howard-Taylor', 'Jia_Qinglin', 'Jiang_Zemin', 'Jim_Abbott', 'Jim_Ahern', 'Jim_Anderson', 'Jim_Beattie', 'Jim_Bollman', 'Jim_Bunning', 'Jim_Calhoun', 'Jim_Cantalupo', 'Jim_Carrey', 'Jim_Doyle', 'Jim_Edmonds', 'Jim_Fassel', 'Jim_Flaherty', 'Jim_Freudenberg', 'Jim_Furyk', 'Jim_Greenwood', 'Jim_Hahn', 'Jim_Hardin', 'Jim_Harrick', 'Jim_Haslett', 'Jim_Hendry', 'Jim_Jeffords', 'Jim_Kelly', 'Jim_Leach', 'Jim_Letten', 'Jim_Nochols', 'Jim_OBrien', 'Jim_Otto', 'Jim_Parque', 'Jim_Paxson', 'Jim_Piper', 'Jim_Ryan', 'Jim_Schwarz', 'Jim_Spinoza', 'Jim_Sterk', 'Jim_Talent', 'Jim_Taylor', 'Jim_Thome', 'Jim_Tressel', 'Jim_Wall', 'Jim_Wessling', 'Jim_Wong', 'Jim_Zorn', 'Jimmy_Carter', 'Jimmy_Gobble', 'Jimmy_Gurule', 'Jimmy_Iovine', 'Jimmy_Jimenez', 'Jimmy_Kimmel', 'Jimmy_Lee', 'Jimmy_Smits', 'Jimmy_Szymanski', 'Jiri_Novak', 'Jo_Dee_Messina', 'Jo_Joong-hyon', 'Joan_Claybrook', 'Joan_Collins', 'Joan_Dangerfield', 'Joan_Jett', 'Joan_Laporta', 'Joanna_Poitier', 'Joanne_Duquette', 'Joanne_Woodward', 'Joao_Rocha', 'Joaquim_Levy', 'Joaquim_Rodriguez', 'Joaquin_Phoenix', 'Joaquin_Sanchez', 'Job_Cohen', 'Jodie_Foster', 'Jodie_Henry', 'Jodie_Kidd', 'Jody_Richards', 'Joe_Calzaghe', 'Joe_Carnahan', 'Joe_Cocker', 'Joe_Cravens', 'Joe_Crede', 'Joe_Darrell', 'Joe_DeLamielleure', 'Joe_Dicaro', 'Joe_Dumars', 'Joe_Finley', 'Joe_Friedberg', 'Joe_Garner', 'Joe_Gatti', 'Joe_Glover', 'Joe_Leonard', 'Joe_Lieberman', 'Joe_Mantegna', 'Joe_Mantello', 'Joe_Mendes', 'Joe_Metz', 'Joe_Nichols', 'Joe_Pantoliano', 'Joe_Paterno', 'Joe_Plumeri', 'Joe_Strummer', 'Joe_Torre', 'Joe_Vandever', 'Joel_Gallen', 'Joel_Todd', 'Joerg_Haider', 'Joey_Buttafuoco', 'Joey_Harrington', 'Joey_Mantia', 'Johan_Bruyneel', 'Johannes_Rau', 'John_Abizaid', 'John_Allen_Muhammad', 'John_Anderson', 'John_Ashcroft', 'John_Baldacci', 'John_Banko', 'John_Barnett', 'John_Belushi', 'John_Blaney', 'John_Bolton', 'John_Bond', 'John_Brady', 'John_Burkett', 'John_Burnett', 'John_Connolly', 'John_Coomber', 'John_Cornyn', 'John_Cruz', 'John_Cusack', 'John_Dallager', 'John_Daly_Jr', 'John_Danforth', 'John_Darby', 'John_Duprey', 'John_Eastman', 'John_Eder', 'John_Edwards', 'John_Elway', 'John_Engler', 'John_F_Kennedy_Jr', 'John_Fenn', 'John_Ferguson', 'John_Fox', 'John_Franco', 'John_Garamendi', 'John_Geoghan', 'John_Goold', 'John_Gordnick', 'John_Gruden', 'John_Hartson', 'John_Henry', 'John_Herrington', 'John_Howard', 'John_Jones', 'John_Jumper', 'John_Kerr', 'John_Kerry', 'John_Lawrence', 'John_Leguizamo', 'John_Lennon', 'John_Lisowski', 'John_Lithgow', 'John_Lynch', 'John_Mabry', 'John_Madden', 'John_Malkovich', 'John_Manley', 'John_Marburger', 'John_Mayer', 'John_McCain', 'John_McCallum', 'John_McCormack', 'John_McEnroe', 'John_McKay', 'John_Moe', 'John_Moxley', 'John_Nash', 'John_Negroponte', 'John_Nimmo', 'John_Norquist', 'John_Paul_DeJoria', 'John_Paul_II', 'John_Perrota', 'John_Petty', 'John_Philip_Elkann', 'John_Prescott', 'John_Reid', 'John_Reilly', 'John_Richardson', 'John_Rigas', 'John_Robbins', 'John_Rosa', 'John_Rowe', 'John_Rowland', 'John_Ruiz', 'John_Rusnak', 'John_Salazar', 'John_Scarlett', 'John_Sidgmore', 'John_Snow', 'John_Spencer', 'John_Stallworth', 'John_Starks', 'John_Stockton', 'John_Sununu', 'John_Sweeney', 'John_Swofford', 'John_Taylor', 'John_Thune', 'John_Timoney', 'John_Travolta', 'John_Tyson', 'John_Velazquez', 'John_Walsh', 'John_Warner', 'John_Wayne', 'John_White', 'John_Williams', 'John_Wolf', 'John_Wright', 'Johnnie_Lynn', 'Johnny_Benson', 'Johnny_Carson', 'Johnny_Depp', 'Johnny_Hallyday', 'Johnny_Htu', 'Johnny_Tapia', 'Johnny_Unitas', 'Johnson_Panjaitan', 'Jolanta_Kwasniewski', 'Jon_Constance', 'Jon_Corzine', 'Jon_Gruden', 'Jon_Kitna', 'Jon_Stewart', 'Jon_Voight', 'Jonathan_Arden', 'Jonathan_Byrd', 'Jonathan_Edwards', 'Jonathan_Fine', 'Jonathan_Horton', 'Jonathan_Karsh', 'Jonathan_Mostow', 'Jonathan_Schroeder', 'Jonathan_Tiomkin', 'Jonathan_Woodgate', 'Jong_Thae_Hwa', 'Jong_Wook_Lee', 'Jorge_Alberto_Galindo', 'Jorge_Arce', 'Jorge_Batlle', 'Jorge_Castaneda', 'Jorge_Enrique_Jimenez', 'Jorge_Marquez-Ruarte', 'Jorge_Moreno', 'Jorge_Quiroga', 'Jorge_Rodolfo_Canicoba_Corral', 'Jorge_Valdano', 'Jorma_Huhtala', 'Joschka_Fischer', 'Jose_Acasuso', 'Jose_Alencar', 'Jose_Bove', 'Jose_Canseco', 'Jose_Canseco_Sr', 'Jose_Carlo_Fernandez', 'Jose_Carreras', 'Jose_Cevallos', 'Jose_Dirceu', 'Jose_Genoino', 'Jose_Jose', 'Jose_Lina', 'Jose_Lopez_Beltran', 'Jose_Luis_Chilavert', 'Jose_Luis_Rodriguez_Zapatero', 'Jose_Luis_Santiago_Vasconcelos', 'Jose_Manuel_Durao_Barroso', 'Jose_Maria_Aznar', 'Jose_Miguel_Aleman', 'Jose_Mourinho', 'Jose_Rosado', 'Jose_Santos', 'Jose_Sarney', 'Jose_Serra', 'Jose_Theodore', 'Jose_Vicente_Rangel', 'Jose_Viegas_Filho', 'Jose_Woldenberg', 'Joseph_Biden', 'Joseph_Blatter', 'Joseph_Deiss', 'Joseph_Estrada', 'Joseph_Fiennes', 'Joseph_Galante', 'Joseph_Ganim', 'Joseph_Hoy', 'Joseph_Kabila', 'Joseph_LePore', 'Joseph_Lopez', 'Joseph_Nacchio', 'Joseph_Ralston', 'Joseph_Safra', 'Joseph_Salgado', 'Josh_Childress', 'Josh_Evans', 'Josh_Kronfeld', 'Joshua_Davey', 'Joshua_Gracin', 'Joshua_Harapko', 'Joshua_Perper', 'Joxel_Garcia', 'Joy_Bryant', 'Joy_Lee_Sadler', 'Juan_Antonio_Samaranch', 'Juan_Carlos', 'Juan_Carlos_Ferrero', 'Juan_Carlos_Morales', 'Juan_Carlos_Ortega', 'Juan_Fernandez', 'Juan_Francisco_Palencia', 'Juan_Ignacio_Chela', 'Juan_Jose_Lucas', 'Juan_Manuel_Marquez', 'Juan_Pablo_Montoya', 'Juan_Roman_Carrasco', 'Juan_Roman_Riquelme', 'Juan_Sanchez', 'Juan_Valencia_Osorio', 'Juanes', 'Judd_Davies', 'Jude_Law', 'Judi_Dench', 'Judi_Patton', 'Judith_Nathan', 'Judy_Dean', 'Judy_Genshaft', 'Judy_Locy', 'Judy_Spreckels', 'Judy_Vassar', 'Juergen_Braehmer', 'Juergen_Chrobog', 'Juergen_Peters', 'Juergen_Schrempp', 'Juergen_Trittin', 'Jules_Asner', 'Julia_Glass', 'Julia_Ormond', 'Julia_Tymoshenko', 'Julian_Battle', 'Julian_Fantino', 'Julianna_Margulies', 'Julianne_Moore', 'Julie_Andrews', 'Julie_Gerberding', 'Julie_Goodenough', 'Julie_Infante', 'Julie_Taymor', 'Julien_Boutter', 'Julien_Varlet', 'Juliette_Binoche', 'Juliette_Lewis', 'Julio_Cesar_Chavez', 'Julio_Cesar_Franco', 'Julio_De_Brun', 'Julio_Iglesias_Jr', 'Julio_Rossi', 'Julio_Toro', 'Julius_Barnes', 'Julius_Erving', 'Juljia_Vysotskij', 'Jung_Bong', 'Junichi_Inamoto', 'Junichiro_Koizumi', 'Junko_Tabei', 'Justin_Gatlin', 'Justin_Guarini', 'Justin_Leonard', 'Justin_Marshall', 'Justin_Timberlake', 'Justin_Wilson', 'Justine_Henin', 'Justine_Pasek', 'Kai-Uwe_Ricke', 'Kaio_Almeida', 'Kaisser_Bazan', 'Kajsa_Bergqvist', 'Kalid_Kaid', 'Kalpana_Chawla', 'Kamal_Kharrazi', 'Kamel_Morjane', 'Kang_Gum-sil', 'Kaoru_Hasuike', 'Kara_Lynn_Joyce', 'Kareena_Kapoor', 'Karen_Allen', 'Karen_Clarkson', 'Karen_Lynn_Gorney', 'Karen_Mok', 'Karen_Pereiras', 'Karen_Sharpe_Kramer', 'Karin_Pilsaeter', 'Karin_Stoiber', 'Karin_Viard', 'Karl-Heinz_Rummenigge', 'Karol_Kucera', 'Kaspar_Villiger', 'Katalin_Kollat', 'Kate_Burton', 'Kate_Capshaw', 'Kate_Hudson', 'Kate_Lee', 'Kate_Moss', 'Kate_Richardson', 'Kate_Starbird', 'Kate_Winslet', 'Katerina_Smrzova', 'Katharine_Hepburn', 'Katherine_Harris', 'Kathie_Louise_Saunders', 'Kathleen_Abernathy', 'Kathleen_Glynn', 'Kathleen_Kennedy_Townsend', 'Kathryn_Bigelow', 'Kathryn_Grayson', 'Kathryn_Morris', 'Kathryn_Tucker', 'Kathy_Baker', 'Kathy_Bates', 'Kathy_Gannon', 'Kathy_Winters', 'Katie_Boone', 'Katie_Couric', 'Katie_Harman', 'Katie_Holmes', 'Katie_Smith', 'Katie_Wagner', 'Katja_Riemann', 'Katrin_Cartlidge', 'Katrin_Susi', 'Kay_Bailey_Hutchison', 'Kay_Behrensmeyer', 'Kaye_Young', 'Keanu_Reeves', 'Keiko_Sofia_Fujimori', 'Keira_Knightley', 'Keith_Bishop_Jr', 'Keith_Bogans', 'Keith_Brown', 'Keith_Fotta', 'Keith_Foulke', 'Keith_Lockhart', 'Keith_Lowen', 'Keith_Olbermann', 'Keith_Osik', 'Keith_Rodriguez', 'Keith_Snyder', 'Keith_Tyson', 'Keith_Urban', 'Keith_Van_Horn', 'Keizo_Yamada', 'Kelli_White', 'Kellie_Coffey', 'Kellie_Greene', 'Kelly_Clarkson', 'Kelly_Leigh', 'Kelly_Osbourne', 'Kelly_Ripa', 'Kelly_Santos', 'Kelsey_Grammer', 'Kelvin_Sampson', 'Kemal_Dervis', 'Ken_Balk', 'Ken_Dorsey', 'Ken_Kutaragi', 'Ken_Loach', 'Ken_Macha', 'Ken_Watanabe', 'Ken_Wharfe', 'Kenenisa_Bekele', 'Kenneth_Bowersox', 'Kenneth_Branagh', 'Kenneth_Brill', 'Kenneth_Carlsen', 'Kenneth_Cooper', 'Kenneth_Dam', 'Kenneth_Evans', 'Kenneth_Reichert', 'Kenny_Brack', 'Kenny_Chesney', 'Kent_McCord', 'Kent_Robinson', 'Kent_Rominger', 'Kevin_Borseth', 'Kevin_Costner', 'Kevin_Crane', 'Kevin_Garnett', 'Kevin_Gil', 'Kevin_Harvick', 'Kevin_Hearn', 'Kevin_James', 'Kevin_Keegan', 'Kevin_Marshall', 'Kevin_Millwood', 'Kevin_Nealon', 'Kevin_Satterfield', 'Kevin_Sorbo', 'Kevin_Spacey', 'Kevin_Stallings', 'Kevin_Tarrant', 'Khader_Rashid_Rahim', 'Khaled_Sawalhi', 'Khalid_Khannouchi', 'Khalid_Qazi', 'Khatol_Mohammad_Zai', 'Khin_Nyunt', 'Khum_Bahadur_Khadka', 'Kieran_Culkin', 'Kieran_Prendergast', 'Kifah_Ajouri', 'Kiki_Vandeweghe', 'Kim_Cattrall', 'Kim_Chinn', 'Kim_Clijsters', 'Kim_Dae-jung', 'Kim_Dong-hwa', 'Kim_Dong-tae', 'Kim_Gandy', 'Kim_Hong-gul', 'Kim_Hong-up', 'Kim_Jin-sun', 'Kim_Jong-Il', 'Kim_Ryong-sung', 'Kim_Su_Nam', 'Kim_Weeks', 'Kim_Yong-il', 'Kim_Yun-kyu', 'Kimberly_Bruckner', 'Kimberly_Stewart', 'Kimi_Raikkonen', 'Kimora_Lee', 'King_Abdullah_II', 'King_Bhumibol_Adulyadej', 'King_Gyanendra', 'Kirby_Puckett', 'Kirk_Doerger', 'Kirk_Douglas', 'Kirk_Ferentz', 'Kirk_Franklin', 'Kirk_Johnson', 'Kirsten_Clark', 'Kirsten_Dunst', 'Kirsten_Gilham', 'Kit_Bond', 'Kitin_Munoz', 'Kjell_Magne_Bondevik', 'Klaus_Schwab', 'Klaus_Zwickel', 'Kobe_Bryant', 'Kofi_Annan', 'Koichi_Haraguchi', 'Koichi_Tanaka', 'Koichiro_Matsuura', 'Koji_Uehara', 'Kong_Quan', 'Kostya_Tszyu', 'Kosuke_Kitajima', 'Krishna_Bhadur_Mahara', 'Kristanna_Loken', 'Kristen_Breitweiser', 'Kristen_Rivera', 'Kristin_Chenoweth', 'Kristin_Davis', 'Kristin_Scott', 'Kristin_Scott_Thomas', 'Kristy_Curry', 'Kultida_Woods', 'Kurt_Budke', 'Kurt_Busch', 'Kurt_Hellstrom', 'Kurt_Russell', 'Kurt_Schottenheimer', 'Kurt_Suzuki', 'Kurt_Tanabe', 'Kurt_Thomas', 'Kurt_Warner', 'Kwame_Kilpatrick', 'Kweisi_Mfume', 'Kwon_Yang-sook', 'Kwon_Young-gil', 'Kyle_McLaren', 'Kyle_Shewfelt', 'Kyoko_Nakayama', 'Kyra_Sedgwick', 'LK_Advani', 'Lachlan_Murdoch', 'Laila_Ali', 'Lana_Clarkson', 'Lance_Armstrong', 'Lance_Bass', 'Landon_Donovan', 'Lane_Bryant', 'Lane_Odom', 'Lara_Logan', 'Larenz_Tate', 'Larry_Anderson', 'Larry_Beinfest', 'Larry_Bowa', 'Larry_Brown', 'Larry_Campbell', 'Larry_Coker', 'Larry_Donald', 'Larry_Ellison', 'Larry_Eustachy', 'Larry_Flynt', 'Larry_Greene', 'Larry_Hagman', 'Larry_Hahn', 'Larry_Harris', 'Larry_Johnson', 'Larry_Lindsey', 'Larry_Lucchino', 'Larry_Nichols', 'Larry_Pleau', 'Larry_Ralston', 'Larry_Tanenbaum', 'Larry_Templeton', 'Larry_Thompson', 'Larry_Wilmore', 'Lars_Burgsmuller', 'Lars_Von_Trier', 'Laszlo_Kovacs', 'Latrell_Sprewell', 'Laura_Bozzo', 'Laura_Bush', 'Laura_Elena_Harring', 'Laura_Flessel', 'Laura_Gobai', 'Laura_Hernandez', 'Laura_Linney', 'Laura_Marlow', 'Laura_Morante', 'Laura_Pausini', 'Laura_Romero', 'Laura_Schlessinger', 'Laura_Ziskin', 'Laurel_Clark', 'Lauren_Hutton', 'Lauren_Killian', 'Laurence_Fishburne', 'Laurence_Tribe', 'Laurent_Gbagbo', 'Laurent_Jalabert', 'Laurent_Woulzy', 'Laurie_Chan', 'Laurie_Hobbs', 'Laurie_Laychak', 'Laurie_Pirtle', 'Lawrence_Di_Rita', 'Lawrence_Foley', 'Lawrence_MacAulay', 'Lawrence_Roberts', 'Lawrence_Vito', 'Lazaro_Castro', 'LeAnn_Rimes', 'LeBron_James', 'LeRoy_Millette_Jr', 'Lea_Fastow', 'Leah_Remini', 'Leander_Paes', 'Leandrinho_Barbosa', 'Leandro_Andrade', 'Leandro_Garcia', 'Lech_Walesa', 'Lee_Ann_Knight', 'Lee_Ann_Terlaji', 'Lee_Ann_Womack', 'Lee_Baca', 'Lee_Byung-woong', 'Lee_Chang-dong', 'Lee_Hoi-chang', 'Lee_Hong-ki', 'Lee_Hyung-taik', 'Lee_Jun', 'Lee_Nam-shin', 'Lee_Soo-hyuck', 'Lee_Tae-sik', 'Lee_Yeo-jin', 'Lee_Yuan-tseh', 'Leigh_Winchell', 'Leisel_Jones', 'Lela_Rochon', 'Leland_Chapman', 'Lemuel_Montulo', 'Len_Jenoff', 'Lena_Katina', 'Lena_Olin', 'Lene_Espersen', 'Leni_Bjorklund', 'Lennart_Johansson', 'Lennox_Lewis', 'Lenny_Kravitz', 'Lenny_Wilkens', 'Leo_Mullin', 'Leo_Ramirez', 'Leon_Barmore', 'Leon_LaPorte', 'Leon_Lai', 'Leon_Silver', 'Leonard_Glick', 'Leonard_Hamilton', 'Leonard_Schrank', 'Leonardo_Del_Vecchio', 'Leonardo_DiCaprio', 'Leonardo_Fernandez', 'Leonid_Kuchma', 'Lesia_Burlak', 'Lesley_Coppin', 'Lesley_Flood', 'Lesley_McCulloch', 'Leslie_Ann_Woodward', 'Leslie_Caldwell', 'Leslie_Moonves', 'Leslie_Wiser_Jr', 'Lester_Holt', 'Leszek_Miller', 'Leticia_Dolera', 'Leticia_Van_de_Putte', 'Leuris_Pupo', 'Lew_Rywin', 'Lewis_Booth', 'Li_Changchun', 'Li_Ka-shing', 'Li_Peng', 'Li_Ruihuan', 'Li_Zhaoxing', 'Liam_Neeson', 'Liane_Janda', 'Lidija_Djukanovic', 'Lili_Marinho', 'Lili_Taylor', 'Liliana_Cavani', 'Lily_Safra', 'Lily_Tomlin', 'Lim_Dong-won', 'Lima_Azimi', 'Lin_Yi-fu', 'Lin_Yung_Hsi', 'Lina_Krasnoroutskaya', 'Lincoln_Chafee', 'Linda_Amicangioli', 'Linda_Baboolal', 'Linda_Dano', 'Linda_Franklin', 'Linda_Ham', 'Linda_Lingle', 'Linda_Mason', 'Linda_Sanchez', 'Lindsay_Benko', 'Lindsay_Davenport', 'Lindsay_Lohan', 'Lindsey_Graham', 'Lindy_Ruff', 'Linn_Thornton', 'Lino_Oviedo', 'Linus_Roache', 'Lionel_Chalmers', 'Lionel_Hampton', 'Lionel_Richie', 'Lisa_Girman', 'Lisa_Gottsegen', 'Lisa_Leslie', 'Lisa_Ling', 'Lisa_Marie_Presley', 'Lisa_Murkowski', 'Lisa_Raymond', 'Lisa_Stansfield', 'Lisa_Stone', 'Liu_Mingkang', 'Liu_Xiaoqing', 'Liu_Ye', 'Liv_Tyler', 'Liza_Minnelli', 'Lleyton_Hewitt', 'Lloyd_Mudiwa', 'Lloyd_Novick', 'Lloyd_Richards', 'Lloyd_Ward', 'Lois_Smart', 'Lokendra_Bahadur_Chand', 'Lon_Kruger', 'Lonnie_Donegan', 'Lope_Mendoza', 'Lord_Hutton', 'Loretta_Lynn_Harper', 'Lori_Berenson', 'Lorne_Michaels', 'Lorraine_Bracco', 'Lorraine_Fenton', 'Lou_Lang', 'Lou_Piniella', 'Lou_Reed', 'Lou_Ye', 'Louis_Van_Gaal', 'Louisa_Baileche', 'Lubomir_Zaoralek', 'Luc_Montagnier', 'Luca_Cordero_di_Montezemolo', 'Lucas_Wysocki', 'Lucia_Kenny_Anthony', 'Luciano_Bovicelli', 'Luciano_Pavarotti', 'Lucie_Lapovsky', 'Lucio_Angulo', 'Lucio_Cecchinello', 'Lucio_Gutierrez', 'Lucio_Stanca', 'Lucrecia_Orozco', 'Lucy_Liu', 'Ludivine_Sagnier', 'Ludwig_Ovalle', 'Luis_Berrondo', 'Luis_Ernesto_Derbez_Bautista', 'Luis_Figo', 'Luis_Fonsi', 'Luis_Gonzalez', 'Luis_Gonzalez_Macchi', 'Luis_Guzman', 'Luis_Horna', 'Luis_Pujols', 'Luis_Rosario_Huertas', 'Luis_Sanchez', 'Luiz_Felipe_Scolari', 'Luiz_Inacio_Lula_da_Silva', 'Luke_Ridnour', 'Luke_Smith', 'Luke_Walton', 'Luo_Linquan', 'Luther_Htu', 'Lutz_Freitag', 'Lydia_Shum', 'Lyle_Lovett', 'Lyle_Vanclief', 'Lynn_Abraham', 'Lynn_Redgrave', 'Lynne_Cheney', 'Lynne_Slepian', 'Lynne_Thigpen', 'Lyudmila_Putin', 'MC_Hammer', 'Mack_Brown', 'Madeleine_Albright', 'Madeleine_Webber', 'Madge_Overhouse', 'Madonna', 'Mae_Jemison', 'Magda_Kertasz', 'Magdalena_Maleeva', 'Maggie_Cheung', 'Maggie_Smith', 'Magui_Serna', 'Maha_Habib', 'Mahathir_Mohamad', 'Mahdi_Al_Bassam', 'Mahendra_Chaudhry', 'Mahima_Chaudhari', 'Mahmoud_Abbas', 'Mahmoud_Al_Zhar', 'Mahmoud_Diyab_al-Ahmed', 'Makhdoom_Amin_Fahim', 'Makiko_Tanaka', 'Makiya_Ali_Hassan', 'Malak_Habbak', 'Malcolm_Glazer', 'Malcolm_Jamal_Warner', 'Malcolm_Wild', 'Malik_Mahmud', 'Mamdouh_Habib', 'Manfred_Reyes_Villa', 'Manfred_Stolpe', 'Manijeh_Hekmat', 'Manuel_Gehring', 'Manuel_Jesus', 'Manuel_Llorente', 'Manuel_Pellegrini', 'Manuel_Poggiali', 'Manuel_Rosendo', 'Manuela_Montebrun', 'Mara_Georges', 'Marat_Safin', 'Marc-Andre_Fleury', 'Marc_Anthony', 'Marc_Bulger', 'Marc_Gold', 'Marc_Grossman', 'Marc_Leger', 'Marc_Racicot', 'Marc_Shaiman', 'Marcella_Anderson', 'Marcelo_Bielsa', 'Marcelo_Ebrard', 'Marcelo_Rios', 'Marcelo_Salas', 'Marcio_de_Souza', 'Marco_Antonio_Barrera', 'Marco_Archer_Cardoso_Moreira', 'Marco_Irizarry', 'Marco_Pantani', 'Marcos_Cafu', 'Marcos_Daniel_Jimenez', 'Marcos_Milinkovic', 'Marcus_Allen', 'Marcus_Garrettson', 'Marcus_Gronholm', 'Margaret_Caruso', 'Margaret_Hasley', 'Margaret_Hoelzer', 'Margaret_Okayo', 'Margaret_Thatcher', 'Margerry_Bakley', 'Margie_Puente', 'Maria_Bello', 'Maria_Burks', 'Maria_Callas', 'Maria_Conchita_Alonso', 'Maria_Garcia', 'Maria_Guida', 'Maria_Luisa_Mendonca', 'Maria_Sanchez_Lorenzo', 'Maria_Shkolnikova', 'Maria_Shriver', 'Maria_Simon', 'Maria_Soledad_Alvear_Valenzuela', 'Maria_Wetterstrand', 'Mariah_Carey', 'Mariam_Ali_Hassan', 'Marian_Dolan', 'Mariana_Gonzalez', 'Mariana_Ohata', 'Mariana_Pollack', 'Mariangel_Ruiz_Torrealba', 'Marianne_Stanley', 'Mariano_Zabaleta', 'Maribel_Dominguez', 'Marie-Josee_Croze', 'Marie-Reine_Le_Gougne', 'Marie_Haghal', 'Marieta_Chrousala', 'Marilyn_Monroe', 'Marina_Anissina', 'Marina_Canetti', 'Marina_Hands', 'Marina_Kuptsova', 'Marina_Silva', 'Mario_Alfaro-Lopez', 'Mario_Austin', 'Mario_Cipollini', 'Mario_Dominguez', 'Mario_Dumont', 'Mario_Gallegos', 'Mario_Jardel', 'Mario_Kreutzberger', 'Mario_Lemieux', 'Mario_Lobo_Zagallo', 'Mario_Puzo', 'Mario_Vasquez_Rana', 'Marion_Barry', 'Marion_Fahnestock', 'Marisa_Tomei', 'Marisol_Breton', 'Marisol_Martinez_Sambran', 'Marissa_Jaret_Winokur', 'Maritza_Macias_Furano', 'Mark_Andrew', 'Mark_Bellhorn', 'Mark_Broxmeyer', 'Mark_Butcher', 'Mark_Cuban', 'Mark_Dacey', 'Mark_Everson', 'Mark_Foley', 'Mark_Gangloff', 'Mark_Geragos', 'Mark_Gottfried', 'Mark_Hamister', 'Mark_Hanson', 'Mark_Heller', 'Mark_Hogan', 'Mark_Hurlbert', 'Mark_Kelly', 'Mark_Komara', 'Mark_Lazarus', 'Mark_Leno', 'Mark_Mariscal', 'Mark_Martin', 'Mark_McClellan', 'Mark_Mishkin', 'Mark_Mulder', 'Mark_Philippoussis', 'Mark_Podlesny', 'Mark_Polansky', 'Mark_Redman', 'Mark_Richt', 'Mark_Rosenbaum', 'Mark_Sacco', 'Mark_Salter', 'Mark_Schweiker', 'Mark_Shapiro', 'Mark_Sisk', 'Mark_Stuart', 'Mark_Swartz', 'Mark_Wahlberg', 'Mark_Warner', 'Markus_Beyer', 'Markus_Naslund', 'Marlene_Weingartner', 'Marlon_Devonish', 'Marquier_Montano_Contreras', 'Marquis_Estill', 'Marricia_Tate', 'Marsah_Ambrosius', 'Marsha_Sharp', 'Marsha_Thomason', 'Marta_Dominguz', 'Martha_Beatriz_Roque', 'Martha_Bowen', 'Martha_Burk', 'Martha_Lucia_Ramirez', 'Martha_Martinez_Flores', 'Martha_Sahagun_de_Fox', 'Martha_Smith', 'Martha_Stewart', 'Martie_Maguire', 'Martin_Bandier', 'Martin_Boryczewski', 'Martin_Brodeur', 'Martin_Brooke', 'Martin_Burnham', 'Martin_Cauchon', 'Martin_Frost', 'Martin_Gecht', 'Martin_Hoellwarth', 'Martin_Howard', 'Martin_Keown', 'Martin_Kristof', 'Martin_Landau', 'Martin_Lawrence', 'Martin_Luther_King_III', 'Martin_McCauley', 'Martin_McGuinness', 'Martin_ONeill', 'Martin_Rodriguez', 'Martin_Scorsese', 'Martin_Sheen', 'Martin_Short', 'Martin_Torrijos', 'Martin_Verkerk', 'Martina_Hingis', 'Martina_McBride', 'Marty_Mornhinweg', 'Marvan_Atapattu', 'Marwan_Barghouthi', 'Marwan_Muasher', 'Mary-Kate_Olsen', 'Mary_Anne_Souza', 'Mary_Blige', 'Mary_Bono', 'Mary_Carey', 'Mary_Catherine_Correll', 'Mary_Descenza', 'Mary_Elizabeth_Mastrantonio', 'Mary_Frances_Seiter', 'Mary_Hill', 'Mary_Jo_Myers', 'Mary_Katherine_Smart', 'Mary_Landrieu', 'Mary_Lou_Markakis', 'Mary_Lou_Retton', 'Mary_Maddux', 'Mary_Matalin', 'Mary_McCarty', 'Mary_Robinson', 'Mary_Steenburgen', 'Mary_Sue_Coleman', 'Mary_Tyler_Moore', 'Mary_Zorn', 'Maryn_McKenna', 'Masahiko_Nagasawa', 'Masamori_Tokuyama', 'Masao_Azuma', 'Masaru_Hayami', 'Masatoshi_Koshiba', 'Masja_Juel', 'Massoud_Barzani', 'Masum_Turker', 'Mathias_Reichhold', 'Mathilda_Karel_Spak', 'Matt_Anderson', 'Matt_Braker', 'Matt_Damon', 'Matt_Dillon', 'Matt_Doherty', 'Matt_Herden', 'Matt_LeBlanc', 'Matt_Morris', 'Matt_Roney', 'Matt_Siebrandt', 'Matt_Walters', 'Matt_Welsh', 'Matthew_Broderick', 'Matthew_During', 'Matthew_McConaughey', 'Matthew_Ouimet', 'Matthew_Perry', 'Matthew_Vaughan', 'Matthias_Sammer', 'Maura_Tierney', 'Maureen_Fanning', 'Maureen_Kanka', 'Maurice_Cheeks', 'Maurice_Papon', 'Maurice_Strong', 'Mauricio_Macri', 'Mauricio_Pochetino', 'Mauro_Viza', 'Max_Baucus', 'Max_Biaggi', 'Max_Mayfield', 'Max_Mosley', 'Max_von_Sydow', 'Maxim_Afinogenov', 'Mayumi_Moriyama', 'McGuire_Gibson', 'Meg_Mallon', 'Meg_Wakeman', 'Megan_Mullally', 'Megawati_Sukarnoputri', 'Meghann_Shaughnessy', 'Mehdi_Baala', 'Mehmet_Ali_Sahin', 'Mehmet_Okur', 'Meirion_Evans', 'Mekhi_Phifer', 'Mel_Brooks', 'Mel_Gibson', 'Mel_Karmazin', 'Melana_Scantlin', 'Melanie_Griffith', 'Melchor_Cob_Castro', 'Meles_Zenawi', 'Melina_Kanakaredes', 'Melinda_Czink', 'Melissa_Etheridge', 'Melissa_Gilbert', 'Melissa_Joan_Hart', 'Melissa_Manchester', 'Melissa_Mulloy', 'Melissa_Stark', 'Melvin_Talbert', 'Mercedes_Amor', 'Meryl_Streep', 'Mesut_Yilmaz', 'Mia_Mottley', 'Mian_Khursheed_Mehmood_Kasuri', 'Micah_Knorr', 'Michael_Adams', 'Michael_Andretti', 'Michael_Arif', 'Michael_Ballack', 'Michael_Bloomberg', 'Michael_Bolton', 'Michael_Bouchard', 'Michael_Boyce', 'Michael_Brandon', 'Michael_Broad', 'Michael_Caine', 'Michael_Capellas', 'Michael_Chang', 'Michael_Chertoff', 'Michael_Chiklis', 'Michael_Clarke_Duncan', 'Michael_DeMinico', 'Michael_Dell', 'Michael_Denzel', 'Michael_Deutsch', 'Michael_Diekmann', 'Michael_Doleac', 'Michael_Donovan', 'Michael_Douglas', 'Michael_Fitzgerald', 'Michael_Frayn', 'Michael_Friedman', 'Michael_Goldrich', 'Michael_Guiler', 'Michael_Hagee', 'Michael_Haneke', 'Michael_Hoffa', 'Michael_J_Fox', 'Michael_J_Sheehan', 'Michael_Jackson', 'Michael_Jasny', 'Michael_Jordan', 'Michael_Kahn', 'Michael_Keaton', 'Michael_Killeen', 'Michael_Kirby', 'Michael_Kors', 'Michael_Kostelnik', 'Michael_Leavitt', 'Michael_Lechner', 'Michael_Linscott', 'Michael_Lopez-Alegria', 'Michael_McNeely', 'Michael_Michele', 'Michael_Milton', 'Michael_Moore', 'Michael_Munoz', 'Michael_Olowokandi', 'Michael_Patrick_King', 'Michael_Peat', 'Michael_Pfleger', 'Michael_Phelps', 'Michael_Piuze', 'Michael_Powell', 'Michael_Richards', 'Michael_Rolinee', 'Michael_Schumacher', 'Michael_Shane_Jolly', 'Michael_Sheehan', 'Michael_Shelby', 'Michael_Smith_Foster', 'Michael_Stark', 'Michael_Sullivan', 'Michael_Taylor', 'Michael_Wayne', 'Michael_Weiss', 'Michael_Winterbottom', 'Michalis_Chrisohoides', 'Micheal_Jourdain_Jr', 'Michel_Charles_Chretien', 'Michel_Duclos', 'Michel_Kratochvil', 'Michel_Minard', 'Michel_Temer', 'Michel_Therrien', 'Michelangelo_Antonioni', 'Michele_Placido', 'Michelle_Bachelet', 'Michelle_Branch', 'Michelle_Chiklis', 'Michelle_Collins', 'Michelle_Hofland', 'Michelle_Kwan', 'Michelle_Lecky', 'Michelle_Pfeiffer', 'Michelle_Rodriguez', 'Michelle_Yeoh', 'Mick_Jagger', 'Mick_McCarthy', 'Mickey_Gilley', 'Mickey_Loomis', 'Mickey_Rooney', 'Mickey_Sherman', 'Micky_Arison', 'Micky_Ward', 'Miguel_Aldana_Ibarra', 'Miguel_Angel_Rodriguez', 'Miguel_Contreras', 'Miguel_Cotto', 'Miguel_Estrada', 'Miguel_Hakim', 'Miguel_Jimenez', 'Miguel_Juarez_Perez', 'Miguel_Rosseto', 'Mika_Hakkinen', 'Mike_Alden', 'Mike_Babcock', 'Mike_Bair', 'Mike_Brey', 'Mike_Bryan', 'Mike_Carona', 'Mike_Cunning', 'Mike_Davis', 'Mike_Duke', 'Mike_Easley', 'Mike_Eskew', 'Mike_Farrar', 'Mike_Fisher', 'Mike_Flanagan', 'Mike_Gable', 'Mike_Helton', 'Mike_Holmgren', 'Mike_Johanns', 'Mike_Krzyzewski', 'Mike_Leach', 'Mike_Maroth', 'Mike_Martz', 'Mike_Matheny', 'Mike_Matthews', 'Mike_Miller', 'Mike_Montgomery', 'Mike_Myers', 'Mike_OConnell', 'Mike_Price', 'Mike_Richter', 'Mike_Samp', 'Mike_Scioscia', 'Mike_Sherman', 'Mike_Slive', 'Mike_Smith', 'Mike_Stefanik', 'Mike_Sweeney', 'Mike_Szymanczyk', 'Mike_Thibault', 'Mike_Tice', 'Mike_Tyson', 'Mike_Webster', 'Mike_Weir', 'Mikhail_Gorbachev', 'Mikhail_Kalashnikov', 'Mikhail_Kasyanov', 'Mikhail_Khodorkovsky', 'Mikhail_Shvydkoi', 'Mikhail_Wehbe', 'Mikhail_Youzhny', 'Mikulas_Dzurinda', 'Milan_Kucan', 'Milan_Milutinovic', 'Mile_Mrksic', 'Miles_Stewart', 'Millicent_Martin', 'Milo_Djukanovic', 'Milo_Maestrecampo', 'Milt_Heflin', 'Milt_Palacio', 'Milton_Berle', 'Milton_Wynants', 'Minnie_Driver', 'Minnie_Mendoza', 'Mira_Sorvino', 'Miranda_Gaddis', 'Miranda_Otto', 'Mireille_Jospin-Dandieu', 'Mirela_Manjani', 'Mireya_Elisa_Moscoso_Rodriguez', 'Mireya_Moscoso', 'Miroljub', 'Missy_Crider', 'Misty_Dawn_Clymer', 'Mitar_Rasevic', 'Mitch_Kupchak', 'Mitchell_Crooks', 'Mitchell_Daniels', 'Mitchell_Garabedian', 'Mitchell_McLaughlin', 'Mitchell_Potter', 'Mitchell_Swartz', 'Mitoji_Yabunaka', 'Mitsou_Gelinas', 'Mitt_Romney', 'Mitzi_Gaynor', 'Miyako_Miyazaki', 'Mladen_Naletilic', 'Mo_Elleithee', 'Moby', 'Mohamed_Benaissa', 'Mohamed_ElBaradei', 'Mohamed_Hammam', 'Mohamed_Seineldin', 'Mohammad_Aktar', 'Mohammad_Al-Sharief', 'Mohammad_Fares', 'Mohammad_Hasanein', 'Mohammad_Khatami', 'Mohammad_Mustapha_Miro', 'Mohammaed_Ahmad_Al_Jarallah', 'Mohammed_Abu_Sharia', 'Mohammed_Abulhasan', 'Mohammed_Al-Douri', 'Mohammed_Al_Hindi', 'Mohammed_Ashraf_Hafiz', 'Mohammed_Baqir_al-Hakim', 'Mohammed_Dahlan', 'Mohammed_Mehdi_Saleh', 'Mohammed_Salmane', 'Molly_Sims', 'Momcilo_Perisic', 'Momir_Nikolic', 'Mona_Ayoub', 'Mona_Locke', 'Mona_Rishmawi', 'Monica_Bellucci', 'Monica_Gabrielle', 'Monica_Lewinsky', 'Monica_Seles', 'Monica_Serra', 'Monica_Vergara', 'Monique_Ferreira', 'Monique_Gagnon-Tremblay', 'Monique_Garbrecht-Enfeldt', 'Monte_Kiffin', 'Moon-So-ri', 'Morgan_Fairchild', 'Morgan_Freeman', 'Morgan_Hentzen', 'Morris_Dees', 'Morris_Watts', 'Moshe_Katsav', 'Mother_Teresa', 'Ms_Dynamite', 'Mstislav_Rostropovich', 'Muammar_Gaddafi', 'Muffet_McGraw', 'Mufti_Mohammad_Syed', 'Muhammad_Ali', 'Muhammad_Ibrahim_Bilal', 'Muhammad_Saeed_al-Sahhaf', 'Mukesh_Ambani', 'Mukhtar_Alytnbayev', 'Munir_Akram', 'Muwafak_al-Ani', 'Myung_Yang', 'Na_Na_Keum', 'Nabil_Shaath', 'Nadia_Forte', 'Nadia_Petrova', 'Nadine_Vinzens', 'Naji_Sabri', 'Najib_al-Salhi', 'Namuddu_Florence', 'Nan_Wang', 'Nancy_Demme', 'Nancy_Greenlaw', 'Nancy_Humbert', 'Nancy_Kerrigan', 'Nancy_Pelosi', 'Nancy_Powell', 'Nancy_Reagan', 'Nancy_Sinatra', 'Nancy_Smith', 'Nanni_Moretti', 'Naomi_Bronstein', 'Naomi_Campbell', 'Naomi_Hayashi', 'Naomi_Watts', 'Naoto_Kan', 'Narayan_Singh_Pun', 'Narendra_Modi', 'Nasser_al-Kidwa', 'Nastassia_Kinski', 'Nastia_Liukin', 'Natalia_Dmitrieva', 'Natalia_Motuziuk', 'Natalia_Verbeke', 'Natalia_Vodonova', 'Natalie_Cole', 'Natalie_Coughlin', 'Natalie_Imbruglia', 'Natalie_Juniardi', 'Natalie_Maines', 'Natalie_Stewart', 'Natalie_Williams', 'Natalya_Sazanovich', 'Natanaela_Barnova', 'Natasa_Micic', 'Natasha_Henstridge', 'Natasha_Lyonne', 'Natasha_McElhone', 'Nate_Blackwell', 'Nate_Huffman', 'Nate_Hybl', 'Nathalia_Gillot', 'Nathalie_Baye', 'Nathalie_Dechy', 'Nathalie_Gagnon', 'Nathan_Doudney', 'Nathan_Lane', 'Nathan_Powell', 'Nathan_Smith', 'Nathirah_Hussein', 'Nawabzada_Nasrullah_Khan', 'Nebojsa_Pavkovic', 'Neil_Goldman', 'Neil_Moritz', 'Nelson_Acosta', 'Nelson_Mandela', 'Nelson_Shanks', 'Neri_Marcore', 'Nestor_Gonzalez', 'Nestor_Kirchner', 'Nestor_Santillan', 'Newt_Gingrich', 'Newton_Carlton_Slawson', 'Nia_Vardalos', 'Niall_Connolly', 'Nicanor_Duarte_Frutos', 'Nicholas_Byron', 'Nicholas_Tse', 'Nicholoas_DiMarzio', 'Nick_Cassavetes', 'Nick_Markakis', 'Nick_Nolte', 'Nick_Price', 'Nick_Rahall', 'Nick_Reilly', 'Nick_Rimando', 'Nick_Turner', 'Nicklas_Lidstrom', 'Nicola_Bono', 'Nicola_Wells', 'Nicolas_Cage', 'Nicolas_Escude', 'Nicolas_Eyzaguirre', 'Nicolas_Kiefer', 'Nicolas_Lapentti', 'Nicolas_Latorre', 'Nicolas_Macrozonaris', 'Nicolas_Massu', 'Nicolas_Sarkozy', 'Nicole', 'Nicole_Hiltz', 'Nicole_Kidman', 'Nicole_Parker', 'Nicoletta_Braschi', 'Nida_Blanca', 'Nigel_Redden', 'Nikki_Cascone', 'Nikki_McKibbin', 'Nikki_Reed', 'Nikki_Teasley', 'Nikolay_Davydenko', 'Nila_Ferran', 'Nina_Jacobson', 'Nina_Pecari', 'Nino_DAngelo', 'Nizar_Trabelsi', 'Noah_Wyle', 'Nobuyuki_Idei', 'Noel_Forgeard', 'Noel_Niell', 'Noelle_Bush', 'Noer_Moeis', 'Noer_Muis', 'Nona_Gaye', 'Nong_Duc_Manh', 'Noor_Mohammed', 'Nora_Bendijo', 'Nora_Ephron', 'Norah_Jones', 'Norbert_van_Heyst', 'Norio_Ohga', 'Norm_Coleman', 'Norm_Macdonald', 'Norman_Jewison', 'Norman_Mailer', 'Norman_Mineta', 'Normand_Legault', 'Norodom_Chakrapong', 'Norodom_Sihanouk', 'Nova_Esther_Guthrie', 'Nuon_Chea', 'Nur_Jaafar', 'Nursultan_Nazarbayev', 'OJ_Simpson', 'Octavio_Lara', 'Odai_Hussein', 'Odilia_Collazo', 'Oleg_Romantsev', 'Oleksandr_Moroz', 'Olene_Walker', 'Olesya_Bonabarenko', 'Oliver_Neuville', 'Oliver_Phelps', 'Oliver_Stone', 'Olivera_Labus', 'Olivia_Newton-John', 'Olivier_Boulay', 'Olivier_Rochus', 'Olympia_Dukakis', 'Omar_Khan_Sharif', 'Omar_Sharif', 'Omar_Vizquel', 'Omar_el-Heib', 'Ontario_Lett', 'Oprah_Winfrey', 'Oracene_Williams', 'Orlando_Bloom', 'Ornella_Muti', 'Orrin_Hatch', 'Osama_Al_Baz', 'Osama_bin_Laden', 'Oscar_Bolanos', 'Oscar_DLeon', 'Oscar_De_La_Hoya', 'Oscar_Elias_Biscet', 'Oscar_de_la_Renta', 'Osmond_Smith', 'Osrat_Iosef', 'Oswald_Gruebel', 'Oswaldo_Paya', 'Otto_Reich', 'Otto_Schily', 'Owen_Nolan', 'Owen_Wilson', 'Oxana_Fedorova', 'Ozzie_Smith', 'Ozzy_Osbourne', 'Pa_Kou_Hang', 'Pablo_Khulental', 'Pablo_Latras', 'Paddy_Long', 'Paddy_Torsney', 'Padraig_Harrington', 'Paek_Nam_Sun', 'Paige_Fitzgerald', 'Pak_Gil_Yon', 'Pamela_Anderson', 'Pamela_Melroy', 'Paola_Espinoza', 'Paradorn_Srichaphan', 'Paris_Hilton', 'Park_Jie-won', 'Park_Jung_Sung', 'Park_Na-kyong', 'Parris_Glendening', 'Parthiv_Patel', 'Pascal_Affi_Nguessan', 'Pascal_Lamy', 'Pascal_Quignard', 'Pascal_Rheaume', 'Pat_Burns', 'Pat_Cox', 'Pat_DAmuro', 'Pat_Riley', 'Pat_Rochester', 'Pat_Summerall', 'Pat_Summitt', 'Pat_Wharton', 'Patrice_Chereau', 'Patricia_Clarkson', 'Patricia_Garone', 'Patricia_Hearst', 'Patricia_Heaton', 'Patricia_Johnson', 'Patricia_Medina', 'Patricia_Phillips', 'Patricia_Russo', 'Patricia_Wartusch', 'Patrick_Bourrat', 'Patrick_Clawsen', 'Patrick_Coleman', 'Patrick_Dennehy', 'Patrick_Eaves', 'Patrick_Ewing', 'Patrick_Kron', 'Patrick_Leahy', 'Patrick_McEnroe', 'Patrick_Rafter', 'Patrick_Roy', 'Patrick_Stewart', 'Patrik_Kristiansson', 'Patsy_Hardy', 'Patsy_Kensit', 'Patsy_Mink', 'Patti_Balgojevich', 'Patti_Labelle', 'Patti_Lank', 'Patti_Smith', 'Patty_Duke', 'Patty_Schnyder', 'Patty_Sheehan', 'Paul-Henri_Mathieu', 'Paul_Bettany', 'Paul_Brandt', 'Paul_Bremer', 'Paul_Burrell', 'Paul_Byrd', 'Paul_Celluci', 'Paul_Cerjan', 'Paul_Clark', 'Paul_Coppin', 'Paul_Crake', 'Paul_Desmarais', 'Paul_Ebert', 'Paul_Farley', 'Paul_Gannon', 'Paul_Gascoigne', 'Paul_Greengrass', 'Paul_Henderson', 'Paul_Hogan', 'Paul_Johnson', 'Paul_Kagame', 'Paul_Kariya', 'Paul_Kelleher', 'Paul_Krueger', 'Paul_LeClerc', 'Paul_Li_Calsi', 'Paul_Lo_Duca', 'Paul_Lockhart', 'Paul_Luvera', 'Paul_Martin', 'Paul_McCartney', 'Paul_McNulty', 'Paul_Michael_Daniels', 'Paul_Murphy', 'Paul_Newman', 'Paul_ONeill', 'Paul_Otellini', 'Paul_Patton', 'Paul_Pierce', 'Paul_Reiser', 'Paul_Sarbanes', 'Paul_Schrader', 'Paul_Shanley', 'Paul_Tagliabue', 'Paul_Tracy', 'Paul_Vathis', 'Paul_Walker', 'Paul_Wals', 'Paul_Wellstone', 'Paul_William_Hurley', 'Paul_Wilson', 'Paul_Wolfowitz', 'Paul_Wollnough', 'Paula_Abdul', 'Paula_Dobriansky', 'Paula_Locke', 'Paula_Prentiss', 'Paula_Radcliffe', 'Paula_Zahn', 'Pauley_Perrette', 'Paulie_Ayala', 'Paulina_Rodriguez_Davila', 'Pauline_Landers', 'Pauline_Phillips', 'Paulo_Cesar_Pinheiro', 'Pedro_Almodovar', 'Pedro_Alvarez', 'Pedro_Duque', 'Pedro_Mahecha', 'Pedro_Malan', 'Pedro_Martinez', 'Pedro_Pauleta', 'Pedro_Solbes', 'Pedro_Velasquez', 'Peggy_McGuinness', 'Pele', 'Penelope_Ann_Miller', 'Penelope_Cruz', 'Penelope_Taylor', 'Penny_Dupuie', 'Penny_Lancaster', 'Percy_Gibson', 'Peri_Gilpin', 'Pernilla_Bjorn', 'Perri_Shaw', 'Perry_Compton', 'Perry_Farrell', 'Perry_Gibbs', 'Pervez_Musharraf', 'Pete_Aldridge', 'Pete_Beaudrault', 'Pete_Carroll', 'Pete_Gillen', 'Pete_Rose', 'Pete_Sampras', 'Peter_Ahearn', 'Peter_Albertsen', 'Peter_Arnett', 'Peter_Bacanovic', 'Peter_Camejo', 'Peter_Care', 'Peter_Caruana', 'Peter_Chan', 'Peter_Costello', 'Peter_Fisher', 'Peter_Fitzgerald', 'Peter_Fonda', 'Peter_Gabriel', 'Peter_Gilmour', 'Peter_Goldmark', 'Peter_Greenaway', 'Peter_Greenspun', 'Peter_Harrison', 'Peter_Hartz', 'Peter_Harvey', 'Peter_Hillary', 'Peter_Hollingworth', 'Peter_Holmberg', 'Peter_Hunt', 'Peter_Lundgren', 'Peter_Mackay', 'Peter_Mansbridge', 'Peter_Max', 'Peter_Medgyessy', 'Peter_Mugyeni', 'Peter_Mullan', 'Peter_OToole', 'Peter_Rasch', 'Peter_Rasmussen', 'Peter_Schultz', 'Peter_Sejna', 'Peter_Shaw', 'Peter_Struck', 'Peter_Ueberroth', 'Petria_Thomas', 'Petro_Symonenko', 'Pham_Sy_Chien', 'Pham_Thi_Mai_Phuong', 'Phan_Van_Khai', 'Pharrell_Williams', 'Phil_Bennett', 'Phil_Bredesen', 'Phil_Cline', 'Phil_Cullen', 'Phil_Donahue', 'Phil_Gramm', 'Phil_Jackson', 'Phil_Johnson', 'Phil_McGraw', 'Phil_Mickelson', 'Phil_Morris', 'Phil_Vassar', 'Philip_Cummings', 'Philip_Murtaugh', 'Philip_Zalewski', 'Philippe_Gagnon', 'Philippe_Noiret', 'Phillip_Fulmer', 'Phillip_Seymor_Hoffmann', 'Phillipe_Comtois', 'Phillips_Idowu', 'Phoenix_Chang', 'Picabo_Street', 'Pier_Ferdinando_Casini', 'Pierce_Brosnan', 'Pierre_Boulanger', 'Pierre_Gagnon', 'Pierre_Lacroix', 'Pierre_Pettigrew', 'Pierre_Png', 'Pierre_Van_Hooijdonk', 'Piers_Sellers', 'Pieter_Bouw', 'Pilar_Montenegro', 'Pinar_del_Rio', 'Pio_Laghi', 'Piotr_Anderszewski', 'Placido_Domingo', 'Platon_Lebedev', 'Poala_Suarez', 'Polona_Bas', 'Porter_Goss', 'Portia_de_Rossi', 'Prakash_Hinduja', 'Prem_Kumar_Nair', 'Prince_Charles', 'Prince_Claus', 'Prince_Edward', 'Prince_Felipe', 'Prince_Harry', 'Prince_Naruhito', 'Prince_Philippe', 'Prince_Rainier_III', 'Prince_Willem-Alexander', 'Prince_William', 'Princess_Aiko', 'Princess_Anne', 'Princess_Caroline', 'Princess_Diana', 'Princess_Elisabeth', 'Princess_Hisako', 'Princess_Masako', 'Princess_Maxima', 'Princess_Stephanie', 'Princess_Victoria', 'Pringe_Ernst_August', 'Priscilla_Owen', 'Priscilla_Presley', 'Priyanka_Chopra', 'Prospero_Pichay', 'Pupi_Avati', 'Pyar_Jung_Thapa', 'Qais_al-Kazali', 'Qazi_Afzal', 'Qazi_Hussain_Ahmed', 'Qian_Qichen', 'Queen_Beatrix', 'Queen_Elizabeth_II', 'Queen_Latifah', 'Queen_Noor', 'Queen_Rania', 'Queen_Silvia', 'Queen_Sofia', 'Quin_Snyder', 'Quincy_Jones', 'Qusai_Hussein', 'Raaf_Schefter', 'Raag_Singhal', 'Rachel_Corrie', 'Rachel_Griffiths', 'Rachel_Hunter', 'Rachel_Kempson', 'Rachel_Leigh_Cook', 'Rachel_Roy', 'Rachel_Wadsworth', 'Rachel_Wheatley', 'Radovan_Karadzic', 'Raf_Vallone', 'Rafael_Bielsa', 'Rafael_Ramirez', 'Rafael_Vinoly', 'Rafeeuddin_Ahmed', 'Rafidah_Aziz', 'Rafiq_Hariri', 'Raghad_Saddam_Hussein', 'Rahul_Dravid', 'Rainer_Geulen', 'Rainer_Gut', 'Rainer_Schuettler', 'Raja_Ibrahim', 'Raja_Qureshi', 'Raja_Ramani', 'Raja_Zafar-ul-Haq', 'Ralf_Schumacher', 'Ralph_Fiennes', 'Ralph_Firman', 'Ralph_Friedgen', 'Ralph_Goodale', 'Ralph_Klein', 'Ralph_Lauren', 'Ralph_Nader', 'Ralph_Sampson', 'Ramiro_Goben_Reducindo', 'Ramon_Cardenas', 'Ramon_Delgado', 'Ramon_Ponce_de_Leon', 'Ramon_Santana', 'Ramona_Rispton', 'Rand_Beers', 'Rand_Miller', 'Randall_Terry', 'Randall_Tobias', 'Randy_Brown', 'Randy_Dryer', 'Randy_Ferbey', 'Randy_Jackson', 'Randy_Johnson', 'Randy_Travis', 'Rani_Mukherjee', 'Ranil_Wickremasinghe', 'Raoul_Ruiz', 'Raquel_Welch', 'Rashid_Qureshi', 'Ratna_Sari_Dewi_Sukarno', 'Raul_Castaneda', 'Raul_Chacon', 'Raul_Cubas', 'Raul_Gonzalez', 'Raul_Ibanez', 'Raul_Mondesi', 'Raul_Rivero', 'Ravan_AG_Farhadi', 'Ray_Allen', 'Ray_Bradbury', 'Ray_Evernham', 'Ray_Halbritter', 'Ray_Lewis', 'Ray_Liotta', 'Ray_Lucas', 'Ray_Morrough', 'Ray_Nagin', 'Ray_Price', 'Ray_Romano', 'Ray_Sherman', 'Ray_Wasden', 'Ray_Young', 'Raymond_Arthurs', 'Raymond_Odierno', 'Raza_Rabbani', 'Razali_Ismail', 'Rebecca_Romijn-Stamos', 'Rebekah_Chantay_Revels', 'Recep_Tayyip_Erdogan', 'Red_Auerbach', 'Reese_Witherspoon', 'Reggie_Lewis', 'Reggie_Miller', 'Reggie_Sanders', 'Regina_Ip', 'Reginald_Hudlin', 'Reina_Hayes', 'Reinhard_Buetikofer', 'Ren_Qingjin', 'Rena_Sofer', 'Renato_Soru', 'Rene_Antonio_Leon_Rodriguez', 'Rene_Portland', 'Renee_Zellweger', 'Retief_Goosen', 'Rey_Sanchez', 'Reyyan_Uzuner', 'Rhett_Warrener', 'Rhina_Villatoro', 'Ricardo_Lagos', 'Ricardo_Lopez_Murphy', 'Ricardo_Maduro', 'Ricardo_Mayorga', 'Ricardo_Monasterio', 'Ricardo_Sanchez', 'Riccardo_Muti', 'Rich_Brooks', 'Rich_Gannon', 'Richard_Armitage', 'Richard_Barry', 'Richard_Branson', 'Richard_Butler', 'Richard_Carl', 'Richard_Chamberlain', 'Richard_Cohen', 'Richard_Crenna', 'Richard_Daley', 'Richard_Dreyfuss', 'Richard_Fine', 'Richard_Gephardt', 'Richard_Gere', 'Richard_Greenberg', 'Richard_Haass', 'Richard_Hamilton', 'Richard_Harris', 'Richard_Hellfant', 'Richard_Jefferson', 'Richard_Jewell', 'Richard_Krajicek', 'Richard_Langille', 'Richard_Lennon', 'Richard_Levin', 'Richard_Lugar', 'Richard_Myers', 'Richard_Naughton', 'Richard_Norton-Taylor', 'Richard_Palmer', 'Richard_Parsons', 'Richard_Paul_Evans', 'Richard_Penniman', 'Richard_Pennington', 'Richard_Perle', 'Richard_Regenhard', 'Richard_Reid', 'Richard_Rodriguez', 'Richard_Sambrook', 'Richard_Shelby', 'Richard_Sterner', 'Richard_Tubb', 'Richard_Virenque', 'Richard_Ward', 'Richie_Adubato', 'Rick_Barnes', 'Rick_Bland', 'Rick_Bragg', 'Rick_Carlisle', 'Rick_Caruso', 'Rick_Dinse', 'Rick_Husband', 'Rick_Lu', 'Rick_Perry', 'Rick_Pitino', 'Rick_Reed', 'Rick_Rickert', 'Rick_Romley', 'Rick_Santorum', 'Rick_Stansbury', 'Rick_Wagoner', 'Ricky_Barnes', 'Ricky_Cottrill', 'Ricky_Martin', 'Ricky_Ponting', 'Ricky_Quick', 'Ricky_Ray', 'Ridley_Scott', 'Riek_Blanjaar', 'Rien_Long', 'Rina_Lazo', 'Ringo_Starr', 'Rio_Ferdinand', 'Rita_Grande', 'Rita_Moreno', 'Rita_Wilson', 'Rob_Lowe', 'Rob_Marshall', 'Rob_Moore', 'Rob_Morrow', 'Rob_Niedermayer', 'Rob_Ramsay', 'Rob_Schneider', 'Robbie_Coltrane', 'Robbie_Fowler', 'Robbie_Mc_Ewen', 'Robbie_Naish', 'Robbie_Williams', 'Robby_Ginepri', 'Robert_Altman', 'Robert_Beck', 'Robert_Blackwill', 'Robert_Blake', 'Robert_Bonner', 'Robert_Bullock', 'Robert_DeFraites', 'Robert_De_Niro', 'Robert_Douglas', 'Robert_Downey_Jr', 'Robert_Durst', 'Robert_Duvall', 'Robert_Ehrlich', 'Robert_Evans', 'Robert_F_Kennedy_Jr', 'Robert_Fico', 'Robert_Flodquist', 'Robert_Gallo', 'Robert_Gordon_Card', 'Robert_Hanssen', 'Robert_Horan', 'Robert_Hyatt', 'Robert_Kipkoech_Cheruiyot', 'Robert_Kocharian', 'Robert_Korzeniowski', 'Robert_Lange', 'Robert_Lee_Yates_Jr', 'Robert_Marshall', 'Robert_McKee', 'Robert_Morvillo', 'Robert_Mueller', 'Robert_Mugabe', 'Robert_Nardelli', 'Robert_Nillson', 'Robert_Pollack', 'Robert_Redford', 'Robert_Schuller', 'Robert_Stack', 'Robert_Torricelli', 'Robert_Towne', 'Robert_Tyrrell', 'Robert_Vowler', 'Robert_Wagner', 'Robert_Weitzel', 'Robert_Wiener', 'Robert_Witt', 'Robert_Woody_Johnson', 'Robert_Zoellick', 'Roberta_Combs', 'Roberto_Arguelles', 'Roberto_Benigni', 'Roberto_Canessa', 'Roberto_Carlos', 'Roberto_Cavalli', 'Roberto_Cercelletta', 'Roberto_Guaterroma', 'Roberto_Laratro', 'Roberto_Lavagna', 'Roberto_Marinho', 'Roberto_Robaina', 'Roberto_Tovar', 'Robin_Cook', 'Robin_Johansen', 'Robin_McGraw', 'Robin_McLaurin_Williams', 'Robin_Tunney', 'Robin_Wagner', 'Robin_Williams', 'Robin_Wright_Penn', 'Robinson_Stevenin', 'Rocco_Buttiglione', 'Rod_Blagojevich', 'Rod_Bryden', 'Rod_Jong-il', 'Rod_Paige', 'Rod_Stewart', 'Rod_Thorn', 'Rodney_Dangerfield', 'Rodney_Rempt', 'Rodolfo_Abalos', 'Rodrigo_Borja', 'Rodrigo_Rato', 'Rodrigo_de_la_Cerna', 'Roel_Campos', 'Rogelio_Montemayor', 'Rogelio_Ramos', 'Roger_Clemens', 'Roger_Cook', 'Roger_Corbett', 'Roger_Daltrey', 'Roger_Etchegaray', 'Roger_Federer', 'Roger_Grimes', 'Roger_King', 'Roger_Lyons', 'Roger_Machado', 'Roger_Mahony', 'Roger_Moore', 'Roger_Penske', 'Roger_Staubach', 'Roger_Suarez', 'Roger_Toussaint', 'Roger_Winter', 'Rogerio_Romero', 'Roh_Moo-hyun', 'Rohinton_Mistry', 'Rohman_al-Ghozi', 'Roland_Koch', 'Rolandas_Paksas', 'Rolf_Eckrodt', 'Rolf_Zimmermann', 'Rollie_Massimino', 'Romain_Duris', 'Roman_Abramovich', 'Roman_Coppola', 'Roman_Polanski', 'Roman_Tam', 'Romano_Prodi', 'Romario_Farias', 'Romeo_Gigli', 'Ron_Dittemore', 'Ron_Gonzales', 'Ron_Howard', 'Ron_Kirk', 'Ron_Lantz', 'Ron_Zook', 'Ronald_Brower', 'Ronald_Harwood', 'Ronald_Ito', 'Ronald_Kadish', 'Ronald_Kessler', 'Ronald_Perelman', 'Ronald_Post', 'Ronald_Reagan', 'Ronald_White', 'Ronald_Young_Jr', 'Ronaldo_Luis_Nazario_de_Lima', 'Ronde_Barber', 'Ronnie_Jagday', 'Ronnie_Musgrove', 'Rosa_Haywa_de_Condori', 'Rosalie_Perkov', 'Rosalyn_Carter', 'Rosario_Dawson', 'Rose_Linkins', 'Rose_Marie', 'Roseanne_Barr', 'Rosemarie_Stack', 'Rosie_Perez', 'Rosny_Desroches', 'Ross_Verba', 'Rowan_Williams', 'Roy_Blunt', 'Roy_Chaderton', 'Roy_Halladay', 'Roy_Jones_Jr', 'Roy_Moore', 'Roy_Rogers', 'Roy_Romanow', 'Roy_Williams', 'Ruano_Pascual', 'Ruben_Sierra', 'Ruben_Studdard', 'Ruben_Wolkowyski', 'Rubens_Barrichello', 'Rudi_Voeller', 'Rudolf_Schuster', 'Rudolph_Giuliani', 'Rudolph_Holton', 'Rudy_Tomjanovich', 'Rulon_Gardner', 'Rupert_Grint', 'Rupert_Murdoch', 'Russ_Ortiz', 'Russell_Coutts', 'Russell_Crowe', 'Russell_Simmons', 'Rustu_Recber', 'Ruth_Bader_Ginsburg', 'Ruth_Christofferson', 'Ruth_Dreifuss', 'Ruth_Harlow', 'Ruth_Pearce', 'Ruth_Stubbs', 'Ryan_Drese', 'Ryan_Goodman', 'Ryan_Leaf', 'Ryan_Newman', 'Ryan_Nyquist', 'SJ_Twu', 'S_Jayakumar', 'Saadi_Gadhafi', 'Sabah_Al-Ahmad_Al-Jaber_Al-Sabah', 'Saburo_Kawabuchi', 'Sachiko_Yamada', 'Sachin_Tendulkar', 'Sada_Jacobson', 'Sadam_Hassan', 'Saddam_Hussein', 'Sadie_Frost', 'Saeb_Erekat', 'Saeed_Anwar', 'Saeed_Mortazavi', 'Sahim_Alwan', 'Saied_Hadi_al_Mudarissi', 'Sally_Clark', 'Sally_Field', 'Sally_Kirkland', 'Sally_Ride', 'Salma_Hayek', 'Salman_Khan', 'Salman_Rushdie', 'Sam_Bith', 'Sam_Brownback', 'Sam_Gerald', 'Sam_Mendes', 'Sam_Rockwell', 'Sam_Torrance', 'Saman_Shali', 'Samantha_Daniels', 'Samantha_Ledster', 'Sami_Al-Arian', 'Samira_Makhmalbaf', 'Sammy_Knight', 'Sammy_Sosa', 'Samuel_Waksal', 'San_Lan', 'Sananda_Maitreya', 'Sandra_Banning', 'Sandra_Bullock', 'Sandra_Ceccarelli', 'Sandra_Day_OConner', 'Sandra_Milo', 'Sandra_Shamas', 'Sandy_Smith', 'Sandy_Wise', 'Sanja_Papic', 'Sanjay_Chawla', 'Sanjay_Gupta', 'Santiago_Botero', 'Saoud_Al_Faisal', 'Saparmurat_Niyazov', 'Sara_Elisabeth_Ahmad', 'Sara_Silverman', 'Sarah_Canale', 'Sarah_Hughes', 'Sarah_Jessica_Parker', 'Sarah_Michelle_Gellar', 'Sarah_Price', 'Sarah_Weddington', 'Sarah_Wynter', 'Sargis_Sargsian', 'Sasha_Alexander', 'Sasha_Cohen', 'Satnarine_Sharma', 'Scott_Blum', 'Scott_Dalton', 'Scott_Dickson', 'Scott_Fawell', 'Scott_Gorelick', 'Scott_Hamilton', 'Scott_Hoch', 'Scott_Hubbard', 'Scott_McClellan', 'Scott_McNealy', 'Scott_OGrady', 'Scott_Peterson', 'Scott_Ritter', 'Scott_Rolen', 'Scott_Rudin', 'Scott_Sullivan', 'Scott_Verplank', 'Scott_Wallach', 'Scott_Weiland', 'Scott_Wittman', 'Scott_Wolf', 'Scott_Yates', 'Se_Hyuk_Joo', 'Sean_Astin', 'Sean_Combs', 'Sean_Hayes', 'Sean_OKeefe', 'Sean_Patrick_OMalley', 'Sean_Patrick_Thomas', 'Sean_Penn', 'Sean_Townsend', 'Sebastian_Cuattrin', 'Sebastian_Porto', 'Sebastian_Saja', 'Sebastien_Grosjean', 'Sedigh_Barmak', 'Selma_Phoenix', 'Sepp_Blatter', 'Serena_Karlan', 'Serena_Williams', 'Sereyvuth_Kem', 'Serge_Klarsfeld', 'Serge_Melac', 'Serge_Tchuruk', 'Sergei_Alexandrovitch_Ordzhonikidze', 'Sergei_Ivanov', 'Sergei_Yastrzhembsky', 'Sergei_Yushenkov', 'Sergey_Lavrov', 'Sergio_Castellitto', 'Sergio_Garcia', 'Sergio_Vieira_De_Mello', 'Seth_Gorney', 'Severino_Antinori', 'Seydou_Diarra', 'Seymour_Cassell', 'Shae-Lynn_Bourne', 'Shafal_Mosed', 'Shamai_Leibowitz', 'Shane_Hmiel', 'Shane_Loux', 'Shane_Mosley', 'Shane_Phillips', 'Shane_Reynolds', 'Shane_Warne', 'Shania_Twain', 'Shanna_Zolman', 'Shannon_OBrien', 'Shannyn_Sossamon', 'Sharess_Harrell', 'Sharon_Davis', 'Sharon_Frey', 'Sharon_Osbourne', 'Sharon_Robinson', 'Sharon_Stone', 'Shaukat_Aziz', 'Shaul_Mofaz', 'Shaun_Pollock', 'Shaun_Rusling', 'Shavon_Earp', 'Shawn_Bradley', 'Shawn_Kemp', 'Shawn_Marion', 'Sheikh_Ahmed_Yassin', 'Sheila_Copps', 'Sheila_Fraser', 'Sheila_Taormina', 'Sheila_Wellstone', 'Sheldon_Silver', 'Sherri_Coale', 'Sherry_Fisher', 'Sherry_Irving', 'Sheryl_Crow', 'Shi_Guangsheng', 'Shia_LaBeouf', 'Shigeo_Nagashima', 'Shigeru_Ishiba', 'Shimon_Peres', 'Shingo_Katayama', 'Shingo_Suetsugu', 'Shinya_Taniguchi', 'Shinzo_Abe', 'Shireen_Amir_Begum', 'Shirley_Jones', 'Shobha_De', 'Shoshana_Johnson', 'Shoshannah_Stern', 'Sid_Caesar', 'Sidney_Kimmel', 'Sidney_Poitier', 'Sigourney_Weaver', 'Sila_Calderon', 'Silvan_Shalom', 'Silvia_Farina_Elia', 'Silvie_Cabero', 'Silvio_Berlusconi', 'Silvio_Fernandez', 'Sim_Yong', 'Simon_Chalk', 'Simon_Cowell', 'Simon_Larose', 'Simon_Yam', 'Simona_Hradil', 'Sinead_OConnor', 'Sivan_Klein', 'Skip_Prosser', 'Slobodan_Milosevic', 'Soenarno', 'Sofia_Milos', 'Sofyan_Dawood', 'Sohail_Abbas', 'Sok_An', 'Solomon_Passy', 'Sonia_Gandhi', 'Sonia_Lopez', 'Sonja_Kesselschlager', 'Sonya_Walger', 'Soon_Yi', 'Sophia_Loren', 'Sophie', 'Sourav_Ganguly', 'Spencer_Abraham', 'Spike_Helmick', 'Spike_Jonze', 'Spike_Lee', 'Stacey_Dales-Schuman', 'Stacey_Jones', 'Stacey_Yamaguchi', 'Stacy_Dragila', 'Stacy_Nelson', 'Stan_Heath', 'Stan_Kasten', 'Stan_Kroenke', 'Stanislas_Wawrinka', 'Stanley_Ho', 'Stanley_McChrystal', 'Stanley_Nelson', 'Stanley_Tong', 'Stefaan_Declerk', 'Stefan_Holm', 'Stefan_Koubek', 'Stefan_Tafrov', 'Stefanie_De_Roux', 'Stefano_Accorsi', 'Stefano_Basalini', 'Stefano_Gabbana', 'Steffeny_Holtz', 'Steffi_Graf', 'Stella_Keitel', 'Stella_McCartney', 'Stella_Tennant', 'Stellan_Skarsgard', 'Steny_Hoyer', 'Stepan_Demirchian', 'Stephan_Eberharter', 'Stephane_Delajoux', 'Stephane_Rochon', 'Stephane_Rousseau', 'Stephanie_Cohen_Aloro', 'Stephanie_Moore', 'Stephanie_Zimbalist', 'Stephen_Ambrose', 'Stephen_Arigbabu', 'Stephen_Cooper', 'Stephen_Covey', 'Stephen_Crampton', 'Stephen_Daldry', 'Stephen_Ebberharter', 'Stephen_Frears', 'Stephen_Friedman', 'Stephen_Funk', 'Stephen_Glassroth', 'Stephen_Joseph', 'Stephen_Keener', 'Stephen_Oake', 'Stephen_Push', 'Stephen_Silas', 'Stephen_Swindal', 'Stephen_Thompson', 'Stephen_Webster', 'Sterling_Hitchcock', 'Steve-O', 'Steve_Alford', 'Steve_Allan', 'Steve_Allee', 'Steve_Austin', 'Steve_Avery', 'Steve_Backley', 'Steve_Ballmer', 'Steve_Blake', 'Steve_Blankenship', 'Steve_Case', 'Steve_Coogan', 'Steve_Coterill', 'Steve_Cox', 'Steve_Cutler', 'Steve_Fehr', 'Steve_Karsay', 'Steve_Kerr', 'Steve_Largent', 'Steve_Lavin', 'Steve_Lenard', 'Steve_Mariucci', 'Steve_McManaman', 'Steve_Nash', 'Steve_Nesbitt', 'Steve_Pagliuca', 'Steve_Park', 'Steve_Patterson', 'Steve_Peace', 'Steve_Phillips', 'Steve_Redgrave', 'Steve_Rush', 'Steve_Shiver', 'Steve_Spurrier', 'Steve_Stirling', 'Steve_Valentine', 'Steve_Wariner', 'Steve_Waugh', 'Steve_Zahn', 'Steven_Briggs', 'Steven_Craig', 'Steven_Curtis_Chapman', 'Steven_Feldman', 'Steven_Hatfill', 'Steven_Kinlock', 'Steven_Seagal', 'Steven_Spielberg', 'Steven_Tyler', 'Steven_Van_Zandt', 'Stipe_Mesic', 'Stockard_Channing', 'Strom_Thurmond', 'Stuart_Knoll', 'Stuart_Townsend', 'Stuart_Whitman', 'Sue_Grafton', 'Sue_Guevara', 'Sue_Johnston', 'Sue_Slavec', 'Sue_Wicks', 'Suh_Chung-won', 'Suh_Young-hoon', 'Suk_Chung_Hong', 'Sultan_Qaboos', 'Sun_Myung_Moon', 'Sung_Hong_Choi', 'Supachai_Panitchpakdi', 'Surakait_Sathirathai', 'Sureyya_Ayhan', 'Surya_Bahadur_Thapa', 'Susan_Collins', 'Susan_Sarandon', 'Susan_Walvius', 'Susan_Whelan', 'Sushma_Swaraj', 'Susie_Castillo', 'Susilo_Bambang_Yudhoyono', 'Suzanne_Fox', 'Suzanne_Gaudet', 'Suzanne_Haik_Terrell', 'Suzanne_Mubarak', 'Suzanne_Somers', 'Suzanne_Torrance', 'Suzie_McConnell_Serio', 'Sven_Goran_Eriksson', 'Sven_Ottke', 'Svend_Aage_Jensby', 'Svend_Robinson', 'Svetislav_Pesic', 'Svetlana_Belousova', 'Svetlana_Koroleva', 'Svetoslav_Todorov', 'Sybille_Schmid', 'Syed_Abdul_Rahman_Geelani', 'Syed_Ibrahim', 'Sylvester_Stallone', 'Sylvia_Plachy', 'Sylvie_Guillem', 'Szu_Yu_Chen', 'TA_McLendon', 'TJ_Ford', 'T_Boone_Pickens', 'Tab_Baldwin', 'Tab_Turner', 'Tabare_Vazquez', 'Taha_Yassin_Ramadan', 'Taia_Balk', 'Takahiro_Mori', 'Takaloo', 'Takashi_Sorimachi', 'Takashi_Yamamoto', 'Takenori_Kanzaki', 'Takeo_Fukui', 'Takeo_Hiranuma', 'Takeshi_Kitano', 'Taku_Yamasaki', 'Takuma_Sato', 'Talal_Keenaan', 'Tali_Imani', 'Talisa_Bratt', 'Talisa_Soto', 'Tamara_Brooks', 'Tamara_Mowry', 'Tamara_Stokes', 'Tamika_Catchings', 'Tammy_Helm', 'Tammy_Lynn_Michaels', 'Tang_Jiaxuan', 'Tangra_Riggle', 'Tanya_Holyk', 'Tanya_Lindenmuth', 'Taoufik_Mathlouthi', 'Tara_Dawn_Christensen', 'Tara_Kirk', 'Tara_Reid', 'Tara_VanDerveer', 'Tariq_Aziz', 'Tassos_Papadopoulos', 'Tatiana_Gratcheva', 'Tatiana_Kennedy_Schlossberg', 'Tatiana_Panova', 'Tatiana_Paus', 'Tatiana_Shchegoleva', 'Tatjana_Gsell', 'Tatsuya_Fuji', 'Tatyana_Tomashova', 'Taufik_Hidayat', 'Taufik_Kiemas', 'Tavis_Smiley', 'Taylor_Twellman', 'Taylyn_Solomon', 'Tayshaun_Prince', 'Tayyeb_Abdel_Rahim', 'Ted_Christopher', 'Ted_Costa', 'Ted_Maher', 'Ted_Nolan', 'Ted_Turner', 'Ted_Washington', 'Ted_Williams', 'Teddy_Kollek', 'Terence_Newman', 'Teresa_Graves', 'Teresa_Heinz_Kerry', 'Teresa_Williams', 'Teresa_Worbis', 'Teri_Files', 'Teri_Garr', 'Teri_ORourke', 'Terje_Roed-Larsen', 'Terrell_Suggs', 'Terrence_Kiel', 'Terrence_Trammell', 'Terri_Clark', 'Terry_Bradshaw', 'Terry_Gilliam', 'Terry_Hoeppner', 'Terry_Lynn_Barton', 'Terry_McAuliffe', 'Terry_Semel', 'Terry_Stotts', 'Teruaki_Masumoto', 'Terunobu_Maeda', 'Tessa_Jowell', 'Tex_Ritter', 'Thabo_Mbeki', 'Thad_Matta', 'Thaksin_Shinawatra', 'Thalia', 'Thanongsak_Tuvinan', 'Theo_Angelopoulos', 'Theo_Epstein', 'Theodore_Tweed_Roosevelt', 'Theresa_Gattung', 'Theresa_May', 'Thierry_Falise', 'Thierry_Mariani', 'Thomas_Birmingham', 'Thomas_Bjorn', 'Thomas_Cloyd', 'Thomas_Daily', 'Thomas_Day', 'Thomas_Enqvist', 'Thomas_Fargo', 'Thomas_Ferguson', 'Thomas_Franklin', 'Thomas_Gottschalk', 'Thomas_Haeggstroem', 'Thomas_Kelly', 'Thomas_Klestil', 'Thomas_Malchow', 'Thomas_Manger', 'Thomas_Mesereau_Jr', 'Thomas_OBrien', 'Thomas_Rupprath', 'Thomas_Scavone', 'Thomas_Stewart', 'Thomas_Ulrich', 'Thomas_Van_Essen', 'Thomas_Watjen', 'Thomas_Weston', 'Thomas_Wilkens', 'Thomas_Wyman', 'Thor_Pedersen', 'Tia_Mowry', 'Tiago_Splitter', 'Tian_Liang', 'Tian_Zhuang_Zhuang', 'Tiffany_Limos', 'Tiger_Woods', 'Tim_Allen', 'Tim_Blake_Nelson', 'Tim_Chapman', 'Tim_Conway', 'Tim_Curley', 'Tim_Curry', 'Tim_Duncan', 'Tim_Floyd', 'Tim_Henman', 'Tim_Howard', 'Tim_Jones', 'Tim_Lobinger', 'Tim_Lopes', 'Tim_Matheson', 'Tim_Norbeck', 'Tim_Pawlenty', 'Tim_Robbins', 'Tim_Salmon', 'Tim_Welsh', 'Timbul_Silaen', 'Timothy_Coughlin', 'Timothy_Goebel', 'Timothy_McVeigh', 'Timothy_Rigas', 'Timothy_Wirth', 'Tina_Andrews', 'Tina_Brown', 'Tina_Conner', 'Tina_Fey', 'Tina_Pisnik', 'Tina_Sinatra', 'Tino_Martinez', 'Tippi_Hedren', 'Tirunesh_Dibaba', 'Toby_Keith', 'Tocker_Pudwill', 'Todd_Haynes', 'Todd_MacCulloch', 'Todd_Parrott', 'Todd_Petit', 'Todd_Reid', 'Todd_Robbins', 'Todd_Wike', 'Tom_Amstutz', 'Tom_Brady', 'Tom_Brennan', 'Tom_Christerson', 'Tom_Coughlin', 'Tom_Coverdale', 'Tom_Craddick', 'Tom_Crean', 'Tom_Cruise', 'Tom_Curley', 'Tom_Daschle', 'Tom_DeLay', 'Tom_Foy', 'Tom_Gamboa', 'Tom_Glavine', 'Tom_Hanks', 'Tom_Hanusik', 'Tom_Harkin', 'Tom_Izzo', 'Tom_Jones', 'Tom_Kelly', 'Tom_Koenigs', 'Tom_Lantos', 'Tom_McClintock', 'Tom_Miller', 'Tom_Moss', 'Tom_OBrien', 'Tom_Osborne', 'Tom_Poston', 'Tom_Reilly', 'Tom_Ridge', 'Tom_Rouen', 'Tom_Schnackenberg', 'Tom_Scully', 'Tom_Sizemore', 'Tom_Smothers', 'Tom_Tunney', 'Tom_Vilsack', 'Tom_Watson', 'Tom_Welch', 'Tomas_Enge', 'Tomas_Malik', 'Tommy_Amaker', 'Tommy_Franks', 'Tommy_Haas', 'Tommy_Lasorda', 'Tommy_Lewis', 'Tommy_Maddox', 'Tommy_Robredo', 'Tommy_Shane_Steiner', 'Tommy_Thompson', 'Tommy_Tubberville', 'Tomoko_Hagiwara', 'Tomomi_Morita', 'Tonga', 'Toni_Braxton', 'Toni_Jennings', 'Tonino_Guerra', 'Tono_Suratman', 'Tony_Bennett', 'Tony_Blair', 'Tony_Clement', 'Tony_Cummo', 'Tony_Curtis', 'Tony_Elias', 'Tony_Fernandes', 'Tony_LaRussa', 'Tony_Parker', 'Tony_Shalhoub', 'Tony_Stewart', 'Tonya_Payne', 'Tora_Takagi', 'Tori_Amos', 'Torri_Edwards', 'Toshi_Izawa', 'Toshihiko_Fukui', 'Toshimitsu_Motegi', 'Toutai_Kefu', 'Tracee_Ellis_Ross', 'Tracee_Treadwell', 'Tracy_McGrady', 'Tracy_Wyle', 'Travis_Rudolph', 'Trent_Lott', 'Trevor_McDonald', 'Trevor_Watson', 'Trisha_Meili', 'Trista_Rehn', 'Tristan_Gretzky', 'Troy_Aikman', 'Troy_Garity', 'Troy_Hudson', 'Troy_Jenkins', 'Troy_Polamalu', 'Trudi_Lacey', 'Tsutomu_Takebe', 'Tubby_Smith', 'Tuncay_Sanli', 'Tung_Chee-hwa', 'Turner_Gill', 'Turner_Stevenson', 'Ty_Votaw', 'Tyler_Grillo', 'Tyler_Hamilton', 'Tyra_Banks', 'Tyron_Garner', 'Tyrone_Medley', 'Tzipora_Obziler', 'Uday_Hussein', 'Ulrich_Kueperkoch', 'Uma_Thurman', 'Uri_Lopolianski', 'Urmila_Matondkar', 'Uthai_Pimchaichon', 'Uzi_Even', 'Uzi_Landau', 'Vaclav_Havel', 'Vaclav_Klaus', 'Vadim_Devyatovskiy', 'Vadim_Strogalev', 'Vagit_Alekperov', 'Val_Ackerman', 'Valdas_Adamkus', 'Valentina_Cervi', 'Valentina_Tereshkova', 'Valentino_Rossi', 'Valeri_Bure', 'Valerie_Harper', 'Valerie_Thwaites', 'Valery_Giscard_dEstaing', 'Valorie_Brabazon', 'Van_Hilley', 'Vanessa_Incontrada', 'Vanessa_Laine', 'Vanessa_Redgrave', 'Vanessa_Williams', 'Vassilis_Xiros', 'Vecdi_Gonul', 'Venus_Williams', 'Vernon_Forrest', 'Veronica_Lake', 'Viara_Vike-Freiberga', 'Vicente_Fernandez', 'Vicente_Fox', 'Vicente_Fox_de_la_Concha', 'Vicki_Zhao_Wei', 'Victor_Garber', 'Victor_Hanescu', 'Victor_Kraatz', 'Victoria_Beckham', 'Victoria_Clarke', 'Vidar_Helgesen', 'Vijay_Nambiar', 'Viktor_Yushchenko', 'Vin_Diesel', 'Vince_Carter', 'Vince_Dooley', 'Vince_Gill', 'Vince_Vaughan', 'Vincent_Brooks', 'Vincent_Cianci_Jr', 'Vincent_Gallo', 'Vincent_Sombrotto', 'Vincent_Spadea', 'Vinnie_Jones', 'Viola_Davis', 'Virgina_Ruano_Pascal', 'Vitali_Klitschko', 'Vivica_Fox', 'Vladimir_Golovlyov', 'Vladimir_Meciar', 'Vladimir_Putin', 'Vladimir_Spidla', 'Vladimir_Ustinov', 'Vladimir_Voltchkov', 'Vladimiro_Montesinos', 'Vojislav_Kostunica', 'Vojislav_Seselj', 'Vyacheslav_Fetisov', 'Vytas_Danelius', 'Walid_Al-Awadi', 'Wallace_Capel', 'Wally_Szczerbiak', 'Walt_Harris', 'Walter_Annenberg', 'Walter_Mondale', 'Walter_Woods', 'Wan_Yanhai', 'Wanda_Ilene_Barzee', 'Wanda_de_la_Jesus', 'Wang_Fei', 'Wang_Hailan', 'Wang_Nan', 'Wang_Yi', 'Wang_Yingfan', 'Ward_Cuff', 'Warren_Beatty', 'Warren_Buffett', 'Warren_Granados', 'Warren_Truss', 'Wayne_Allard', 'Wayne_Brady', 'Wayne_Ferreira', 'Wayne_Gretzky', 'Wayne_Newton', 'Wei_Wu', 'Wen_Ho_Lee', 'Wen_Jiabao', 'Wendell_Bryant', 'Wendy_Kennedy', 'Wendy_Selig', 'Werner_Schlager', 'Wes_Craven', 'Wesley_Clark', 'Whoopi_Goldberg', 'Wilbert_Elki_Meza_Majino', 'Wilbert_Foy', 'Wilfredo_Moreno', 'Will_Ferrell', 'Will_Ofenheusle', 'Will_Self', 'Will_Smith', 'Will_Young', 'William_Bratton', 'William_Bulger', 'William_Burns', 'William_Cocksedge', 'William_Delahunt', 'William_Donaldson', 'William_Ford_Jr', 'William_Genego', 'William_Harrison', 'William_Hochul', 'William_Hurt', 'William_Hyde', 'William_Jackson', 'William_Joppy', 'William_Macy', 'William_Martin', 'William_McDonough', 'William_Morrow', 'William_Murabito', 'William_Nessen', 'William_Overlin', 'William_Perry', 'William_Pryor_Jr', 'William_Ragland', 'William_Rehnquist', 'William_Rosenberg', 'William_Shatner', 'William_Swor', 'William_Umbach', 'William_Webster', 'Willie_Nelson', 'Willie_Wilson', 'Willis_Roberts', 'Wilma_McNabb', 'Wilson_Alvarez', 'Wilton_Gregory', 'Wim_Duisenberg', 'Win_Aung', 'Winona_Ryder', 'Winston_Churchill', 'Wolfgang_Becker', 'Wolfgang_Clement', 'Wolfgang_Schneiderhan', 'Wolfgang_Schuessel', 'Wolfgang_Schwarz', 'Woodrow_Stanley', 'Woody_Allen', 'Wu_Peng', 'Wu_Yi', 'Wycliffe_Grousbeck', 'Xanana_Gusmao', 'Xavier_Malisse', 'Xiang_Huaicheng', 'Xiang_Liu', 'Xiang_Xu', 'Ximena_Bohorquez', 'Yale_Kamisar', 'Yana_Klochkova', 'Yang_Hee_Kim', 'Yang_Jianli', 'Yang_Pao-yu', 'Yann_Martel', 'Yannos_Papantoniou', 'Yao_Ming', 'Yasar_Yakis', 'Yasein_Taher', 'Yashwant_Sinha', 'Yasser_Arafat', 'Yasushi_Akashi', 'Yasushi_Chimura', 'Yekaterina_Guseva', 'Yevgeny_Kafelnikov', 'Yingfan_Wang', 'Yishan_Zhang', 'Yoelbi_Quesada', 'Yogi_Berra', 'Yoko_Ono', 'Yolanda_King', 'Yoo_Jay-Kun', 'Yoon_Jeong_Cho', 'Yoon_Jin-Sik', 'Yoon_Won-Sik', 'Yoon_Young-kwan', 'Yoriko_Kawaguchi', 'Yory_Boy_Campas', 'Yoshiyuki_Kamei', 'Yossi_Beilin', 'Young_Kim', 'Yu_Shyi-kun', 'Yukiko_Okudo', 'Yukio_Hatoyama', 'Yuri_Fedotov', 'Yuri_Luzhkov', 'Yuri_Malenchenko', 'Yusaku_Miyazato', 'Yusuf_Misbac', 'Yuvraj_Singh', 'Yves_Brodeur', 'Zach_Parise', 'Zach_Pillar', 'Zach_Safrin', 'Zafarullah_Khan_Jamali', 'Zahir_Shah', 'Zaini_Abdullah', 'Zakia_Hakki', 'Zalmay_Khalilzad', 'Zara_Akhmadova', 'Zarai_Toledo', 'Zavad_Zarif', 'Zdravko_Mucic', 'Zeljko_Rebraca', 'Zelma_Novelo', 'Zeng_Qinghong', 'Zhang_Wenkang', 'Zhang_Yimou', 'Zhang_Ziyi', 'Zhong_Nanshan', 'Zhu_Rongji', 'Zico', 'Zinedine_Zidane', 'Ziwang_Xu', 'Zoe_Ball', 'Zoran_Djindjic', 'Zorica_Radovic', 'Zulfiqar_Ahmed', 'Zumrati_Juma', 'Zurab_Tsereteli', 'Zydrunas_Ilgauskas']\n"
     ]
    }
   ],
   "source": [
    "print(dataset2.classes)"
   ]
  },
  {
   "cell_type": "markdown",
   "id": "fd65ccf8",
   "metadata": {},
   "source": [
    "### Step 1b) Visualize the dataset"
   ]
  },
  {
   "cell_type": "code",
   "execution_count": 14,
   "id": "a2348d51",
   "metadata": {},
   "outputs": [],
   "source": [
    "# img, label = dataset1[1500]\n",
    "# print(img.shape, label)"
   ]
  },
  {
   "cell_type": "code",
   "execution_count": 15,
   "id": "01af4c96",
   "metadata": {},
   "outputs": [],
   "source": [
    "# img, label = dataset1[1500]\n",
    "# img = torch.reshape(img, (size1, size1, 3))\n",
    "\n",
    "# plt.imshow(img)\n",
    "# plt.title('label = ' + str(label))"
   ]
  },
  {
   "cell_type": "code",
   "execution_count": 16,
   "id": "e9b61b0d",
   "metadata": {},
   "outputs": [
    {
     "name": "stderr",
     "output_type": "stream",
     "text": [
      "Clipping input data to the valid range for imshow with RGB data ([0..1] for floats or [0..255] for integers).\n"
     ]
    },
    {
     "data": {
      "text/plain": [
       "Text(0.5, 1.0, 'label = 667')"
      ]
     },
     "execution_count": 16,
     "metadata": {},
     "output_type": "execute_result"
    },
    {
     "data": {
      "image/png": "[encoded data removed]",
      "text/plain": [
       "<Figure size 432x288 with 1 Axes>"
      ]
     },
     "metadata": {
      "needs_background": "light"
     },
     "output_type": "display_data"
    }
   ],
   "source": [
    "img, label = dataset2[1500]\n",
    "img = torch.reshape(img, (size2, size2, 3))\n",
    "\n",
    "plt.imshow(img)\n",
    "plt.title('label = ' + str(label))"
   ]
  },
  {
   "cell_type": "code",
   "execution_count": 17,
   "id": "9e1776f0",
   "metadata": {},
   "outputs": [],
   "source": [
    "# img, label = dataset1[0]\n",
    "# img = torch.reshape(img, (size1, size1, 3))\n",
    "\n",
    "# plt.imshow(img)\n",
    "# plt.title('label = ' + str(label))"
   ]
  },
  {
   "cell_type": "code",
   "execution_count": 18,
   "id": "b52e9390",
   "metadata": {},
   "outputs": [
    {
     "name": "stderr",
     "output_type": "stream",
     "text": [
      "Clipping input data to the valid range for imshow with RGB data ([0..1] for floats or [0..255] for integers).\n"
     ]
    },
    {
     "data": {
      "text/plain": [
       "Text(0.5, 1.0, 'label = 0')"
      ]
     },
     "execution_count": 18,
     "metadata": {},
     "output_type": "execute_result"
    },
    {
     "data": {
      "image/png": "[encoded data removed]",
      "text/plain": [
       "<Figure size 432x288 with 1 Axes>"
      ]
     },
     "metadata": {
      "needs_background": "light"
     },
     "output_type": "display_data"
    }
   ],
   "source": [
    "img, label = dataset2[0]\n",
    "img = torch.reshape(img, (size2, size2, 3))\n",
    "\n",
    "plt.imshow(img)\n",
    "plt.title('label = ' + str(label))"
   ]
  },
  {
   "cell_type": "markdown",
   "id": "90c7a8ac",
   "metadata": {},
   "source": [
    "### Step 1c) Split the dataset into training, validation, and testing"
   ]
  },
  {
   "cell_type": "code",
   "execution_count": 19,
   "id": "4c1d7ef3",
   "metadata": {},
   "outputs": [],
   "source": [
    "test_factor = 0.15\n",
    "test_size = int(test_factor * len(dataset2))\n",
    "train_size = len(dataset2) - test_size\n",
    "train_ds, test_ds = random_split(dataset2, [train_size, test_size])\n",
    "\n",
    "val_factor = 0.15\n",
    "val_size = int(val_factor * len(dataset2))\n",
    "train_size = len(train_ds) - val_size\n",
    "train_ds, val_ds = random_split(train_ds, [train_size, val_size])"
   ]
  },
  {
   "cell_type": "code",
   "execution_count": 20,
   "id": "a518ed16",
   "metadata": {},
   "outputs": [
    {
     "data": {
      "text/plain": [
       "(9265, 1984, 1984)"
      ]
     },
     "execution_count": 20,
     "metadata": {},
     "output_type": "execute_result"
    }
   ],
   "source": [
    "len(train_ds), len(val_ds), len(test_ds)"
   ]
  },
  {
   "cell_type": "code",
   "execution_count": 21,
   "id": "e917aec0",
   "metadata": {},
   "outputs": [],
   "source": [
    "batch_size=128"
   ]
  },
  {
   "cell_type": "code",
   "execution_count": 22,
   "id": "3e3133cc",
   "metadata": {},
   "outputs": [],
   "source": [
    "train_dl = DataLoader(train_ds, batch_size, shuffle=True, num_workers=2, pin_memory=True)\n",
    "val_dl = DataLoader(val_ds, batch_size, num_workers=2, pin_memory=True)\n",
    "test_dl = DataLoader(test_ds, batch_size, num_workers=2, pin_memory=True)"
   ]
  },
  {
   "cell_type": "code",
   "execution_count": 23,
   "id": "b5ff975c",
   "metadata": {},
   "outputs": [],
   "source": [
    "train_dl = DeviceDataLoader(train_dl, device)\n",
    "val_dl = DeviceDataLoader(val_dl, device)\n",
    "test_dl = DeviceDataLoader(test_dl, device)"
   ]
  },
  {
   "cell_type": "code",
   "execution_count": 24,
   "id": "be6cea8e",
   "metadata": {},
   "outputs": [
    {
     "data": {
      "text/plain": [
       "(73, 16, 16)"
      ]
     },
     "execution_count": 24,
     "metadata": {},
     "output_type": "execute_result"
    }
   ],
   "source": [
    "len(train_dl), len(val_dl), len(test_dl)"
   ]
  },
  {
   "cell_type": "markdown",
   "id": "5b517875",
   "metadata": {},
   "source": [
    "### Step 2a) Model Architecture - Network"
   ]
  },
  {
   "cell_type": "code",
   "execution_count": 25,
   "id": "2952ec9c",
   "metadata": {},
   "outputs": [],
   "source": [
    "def conv_2d(ni, nf, ks, stride=1):\n",
    "    return nn.Conv2d(in_channels=ni, out_channels=nf, kernel_size=ks, stride=stride, padding=ks//2, bias=False)\n",
    "\n",
    "def bn_relu_conv(ni, nf, ks):\n",
    "    return nn.Sequential(nn.BatchNorm2d(ni), \n",
    "                       nn.ReLU(inplace=True),\n",
    "                       conv_2d(ni, nf, ks))"
   ]
  },
  {
   "cell_type": "code",
   "execution_count": 26,
   "id": "258eefc5",
   "metadata": {},
   "outputs": [],
   "source": [
    "class ResBlock(nn.Module):\n",
    "    def __init__(self, ni, nf, stride=1):\n",
    "        super().__init__()\n",
    "        if ni > 100:\n",
    "            temp = ni * 2\n",
    "        else:\n",
    "            temp = ni\n",
    "        self.bn = nn.BatchNorm2d(temp)\n",
    "        self.conv1 = conv_2d(temp, ni, 1, stride)\n",
    "        self.conv2 = bn_relu_conv(ni, ni, ks=3)\n",
    "        self.conv3 = bn_relu_conv(ni, nf, ks=1)\n",
    "        self.shortcut = lambda x: x\n",
    "        if ni != nf:\n",
    "            self.shortcut = conv_2d(temp, nf, 1, stride)\n",
    "\n",
    "    def forward(self, x):\n",
    "        #print(\"Inside Res Block1\")\n",
    "        #print(x.shape)\n",
    "        x = F.relu(self.bn(x), inplace=True)\n",
    "        #print(x.shape)\n",
    "        r1 = self.shortcut(x)\n",
    "        #print(r1.shape)\n",
    "        x = self.conv1(x)\n",
    "        x = self.conv2(x)\n",
    "        x = self.conv3(x) * 0.2\n",
    "        #print(x.shape)\n",
    "        return x.add_(r1)"
   ]
  },
  {
   "cell_type": "code",
   "execution_count": 27,
   "id": "a58f0cd0",
   "metadata": {},
   "outputs": [],
   "source": [
    "class ResBlock2(nn.Module):\n",
    "    def __init__(self, ni, nf, stride=1):\n",
    "        super().__init__()\n",
    "        self.bn = nn.BatchNorm2d(ni)\n",
    "        self.conv1 = conv_2d(ni, nf, 1, stride)\n",
    "        self.conv2 = bn_relu_conv(nf, nf, ks=3)\n",
    "        self.conv3 = bn_relu_conv(nf, ni, ks=1)\n",
    "        self.shortcut = lambda x: x\n",
    "#        if ni != nf:\n",
    "#            self.shortcut = conv_2d(ni, nf, 1, 1)\n",
    "\n",
    "    def forward(self, x):\n",
    "        #print(\"Inside Res Block2\")\n",
    "        #print(x.shape)\n",
    "        x = F.relu(self.bn(x), inplace=True)\n",
    "        #print(x.shape)\n",
    "        r = self.shortcut(x)\n",
    "        #print(r.shape)\n",
    "        x = self.conv1(x)\n",
    "        x = self.conv2(x)\n",
    "        x = self.conv3(x) * 0.2\n",
    "        return x.add_(r)"
   ]
  },
  {
   "cell_type": "code",
   "execution_count": 28,
   "id": "41cc9472",
   "metadata": {},
   "outputs": [],
   "source": [
    "def make_group(N, ni, nf, stride):\n",
    "    start = ResBlock(ni, nf, stride)\n",
    "    rest = [ResBlock2(nf, ni) for j in range(1, N)]\n",
    "    return [start] + rest"
   ]
  },
  {
   "cell_type": "code",
   "execution_count": 29,
   "id": "2aae77fd",
   "metadata": {},
   "outputs": [],
   "source": [
    "class Flatten(nn.Module):\n",
    "    def __init__(self):\n",
    "        super().__init__()\n",
    "    \n",
    "    def forward(self, x):\n",
    "        return x.view(x.size(0), -1)"
   ]
  },
  {
   "cell_type": "code",
   "execution_count": 30,
   "id": "d1a48f36",
   "metadata": {},
   "outputs": [],
   "source": [
    "class MyResNet(nn.Module):\n",
    "    def __init__(self, n_groups, N, n_classes, k=1, n_start=64):\n",
    "        super().__init__()\n",
    "        #Increase channels\n",
    "        self.layers = [conv_2d(3, 64, ks=7, stride=2)]\n",
    "        self.layers += [nn.MaxPool2d(kernel_size=3, stride=2, padding=1)]\n",
    "        n_channels = [n_start]\n",
    "\n",
    "        #Add groups\n",
    "        for i in range(n_groups):\n",
    "            n_channels.append(n_start*(2**i)*k)\n",
    "            stride = 2 if i>0 else 1\n",
    "            self.layers += make_group(N[i], n_channels[i], n_channels[i]*4, stride)\n",
    "\n",
    "        #Pool, Flatten, and add linear layer for classification  \n",
    "        self.layers += [nn.BatchNorm2d(n_channels[n_groups]*2),\n",
    "                   nn.ReLU(inplace=True),\n",
    "                   nn.AdaptiveAvgPool2d(1),\n",
    "                   #nn.AvgPool2d(kernel_size=2, stride=2), \n",
    "                   Flatten()]\n",
    "        #self.fc = nn.Linear(n_channels[n_groups]*2, n_classes)\n",
    "    \n",
    "        self.features = nn.Sequential(*self.layers)\n",
    "        \n",
    "    def forward(self, x):\n",
    "        #a = self.features(x)\n",
    "        #print(a.shape)\n",
    "        temp = self.features(x)\n",
    "        return temp #self.fc(temp)"
   ]
  },
  {
   "cell_type": "code",
   "execution_count": 31,
   "id": "ff732aeb",
   "metadata": {},
   "outputs": [],
   "source": [
    "#Number of blocks at various groups\n",
    "N_50 = [3, 4, 6, 3]\n",
    "N_101 = [3, 4, 23, 3]\n",
    "N_152 = [3, 8, 36, 3]\n",
    "\n",
    "def ResNet50(n_classes):\n",
    "    return MyResNet(4, N_50, n_classes, k=2)\n",
    "\n",
    "def ResNet101(n_classes):\n",
    "    return MyResNet(4, N_101, n_classes, k=2)\n",
    "\n",
    "def ResNet152(n_classes):\n",
    "    return MyResNet(4, N_152, n_classes, k=2)"
   ]
  },
  {
   "cell_type": "code",
   "execution_count": 34,
   "id": "e721fd45",
   "metadata": {},
   "outputs": [],
   "source": [
    "loaded_model = ResNet50(85742)\n",
    "to_device(loaded_model, device)"
   ]
  },
  {
   "cell_type": "code",
   "execution_count": 35,
   "id": "0afae1c1",
   "metadata": {},
   "outputs": [],
   "source": [
    "#loaded_model.load_state_dict(torch.load(\"training/el_2epoch_70acc.pth\"))\n",
    "loaded_model.load_state_dict(torch.load(\"training/el_22epoch_95acc_cosface.pth\"))"
   ]
  },
  {
   "cell_type": "code",
   "execution_count": 36,
   "id": "1653f2cf",
   "metadata": {},
   "outputs": [
    {
     "name": "stdout",
     "output_type": "stream",
     "text": [
      "----------------------------------------------------------------\n",
      "        Layer (type)               Output Shape         Param #\n",
      "================================================================\n",
      "            Conv2d-1         [-1, 64, 125, 125]           9,408\n",
      "         MaxPool2d-2           [-1, 64, 63, 63]               0\n",
      "       BatchNorm2d-3           [-1, 64, 63, 63]             128\n",
      "            Conv2d-4          [-1, 256, 63, 63]          16,384\n",
      "            Conv2d-5           [-1, 64, 63, 63]           4,096\n",
      "       BatchNorm2d-6           [-1, 64, 63, 63]             128\n",
      "              ReLU-7           [-1, 64, 63, 63]               0\n",
      "            Conv2d-8           [-1, 64, 63, 63]          36,864\n",
      "       BatchNorm2d-9           [-1, 64, 63, 63]             128\n",
      "             ReLU-10           [-1, 64, 63, 63]               0\n",
      "           Conv2d-11          [-1, 256, 63, 63]          16,384\n",
      "         ResBlock-12          [-1, 256, 63, 63]               0\n",
      "      BatchNorm2d-13          [-1, 256, 63, 63]             512\n",
      "           Conv2d-14           [-1, 64, 63, 63]          16,384\n",
      "      BatchNorm2d-15           [-1, 64, 63, 63]             128\n",
      "             ReLU-16           [-1, 64, 63, 63]               0\n",
      "           Conv2d-17           [-1, 64, 63, 63]          36,864\n",
      "      BatchNorm2d-18           [-1, 64, 63, 63]             128\n",
      "             ReLU-19           [-1, 64, 63, 63]               0\n",
      "           Conv2d-20          [-1, 256, 63, 63]          16,384\n",
      "        ResBlock2-21          [-1, 256, 63, 63]               0\n",
      "      BatchNorm2d-22          [-1, 256, 63, 63]             512\n",
      "           Conv2d-23           [-1, 64, 63, 63]          16,384\n",
      "      BatchNorm2d-24           [-1, 64, 63, 63]             128\n",
      "             ReLU-25           [-1, 64, 63, 63]               0\n",
      "           Conv2d-26           [-1, 64, 63, 63]          36,864\n",
      "      BatchNorm2d-27           [-1, 64, 63, 63]             128\n",
      "             ReLU-28           [-1, 64, 63, 63]               0\n",
      "           Conv2d-29          [-1, 256, 63, 63]          16,384\n",
      "        ResBlock2-30          [-1, 256, 63, 63]               0\n",
      "      BatchNorm2d-31          [-1, 256, 63, 63]             512\n",
      "           Conv2d-32          [-1, 512, 32, 32]         131,072\n",
      "           Conv2d-33          [-1, 128, 32, 32]          32,768\n",
      "      BatchNorm2d-34          [-1, 128, 32, 32]             256\n",
      "             ReLU-35          [-1, 128, 32, 32]               0\n",
      "           Conv2d-36          [-1, 128, 32, 32]         147,456\n",
      "      BatchNorm2d-37          [-1, 128, 32, 32]             256\n",
      "             ReLU-38          [-1, 128, 32, 32]               0\n",
      "           Conv2d-39          [-1, 512, 32, 32]          65,536\n",
      "         ResBlock-40          [-1, 512, 32, 32]               0\n",
      "      BatchNorm2d-41          [-1, 512, 32, 32]           1,024\n",
      "           Conv2d-42          [-1, 128, 32, 32]          65,536\n",
      "      BatchNorm2d-43          [-1, 128, 32, 32]             256\n",
      "             ReLU-44          [-1, 128, 32, 32]               0\n",
      "           Conv2d-45          [-1, 128, 32, 32]         147,456\n",
      "      BatchNorm2d-46          [-1, 128, 32, 32]             256\n",
      "             ReLU-47          [-1, 128, 32, 32]               0\n",
      "           Conv2d-48          [-1, 512, 32, 32]          65,536\n",
      "        ResBlock2-49          [-1, 512, 32, 32]               0\n",
      "      BatchNorm2d-50          [-1, 512, 32, 32]           1,024\n",
      "           Conv2d-51          [-1, 128, 32, 32]          65,536\n",
      "      BatchNorm2d-52          [-1, 128, 32, 32]             256\n",
      "             ReLU-53          [-1, 128, 32, 32]               0\n",
      "           Conv2d-54          [-1, 128, 32, 32]         147,456\n",
      "      BatchNorm2d-55          [-1, 128, 32, 32]             256\n",
      "             ReLU-56          [-1, 128, 32, 32]               0\n",
      "           Conv2d-57          [-1, 512, 32, 32]          65,536\n",
      "        ResBlock2-58          [-1, 512, 32, 32]               0\n",
      "      BatchNorm2d-59          [-1, 512, 32, 32]           1,024\n",
      "           Conv2d-60          [-1, 128, 32, 32]          65,536\n",
      "      BatchNorm2d-61          [-1, 128, 32, 32]             256\n",
      "             ReLU-62          [-1, 128, 32, 32]               0\n",
      "           Conv2d-63          [-1, 128, 32, 32]         147,456\n",
      "      BatchNorm2d-64          [-1, 128, 32, 32]             256\n",
      "             ReLU-65          [-1, 128, 32, 32]               0\n",
      "           Conv2d-66          [-1, 512, 32, 32]          65,536\n",
      "        ResBlock2-67          [-1, 512, 32, 32]               0\n",
      "      BatchNorm2d-68          [-1, 512, 32, 32]           1,024\n",
      "           Conv2d-69         [-1, 1024, 16, 16]         524,288\n",
      "           Conv2d-70          [-1, 256, 16, 16]         131,072\n",
      "      BatchNorm2d-71          [-1, 256, 16, 16]             512\n",
      "             ReLU-72          [-1, 256, 16, 16]               0\n",
      "           Conv2d-73          [-1, 256, 16, 16]         589,824\n",
      "      BatchNorm2d-74          [-1, 256, 16, 16]             512\n",
      "             ReLU-75          [-1, 256, 16, 16]               0\n",
      "           Conv2d-76         [-1, 1024, 16, 16]         262,144\n",
      "         ResBlock-77         [-1, 1024, 16, 16]               0\n",
      "      BatchNorm2d-78         [-1, 1024, 16, 16]           2,048\n",
      "           Conv2d-79          [-1, 256, 16, 16]         262,144\n",
      "      BatchNorm2d-80          [-1, 256, 16, 16]             512\n",
      "             ReLU-81          [-1, 256, 16, 16]               0\n",
      "           Conv2d-82          [-1, 256, 16, 16]         589,824\n",
      "      BatchNorm2d-83          [-1, 256, 16, 16]             512\n",
      "             ReLU-84          [-1, 256, 16, 16]               0\n",
      "           Conv2d-85         [-1, 1024, 16, 16]         262,144\n",
      "        ResBlock2-86         [-1, 1024, 16, 16]               0\n",
      "      BatchNorm2d-87         [-1, 1024, 16, 16]           2,048\n",
      "           Conv2d-88          [-1, 256, 16, 16]         262,144\n",
      "      BatchNorm2d-89          [-1, 256, 16, 16]             512\n",
      "             ReLU-90          [-1, 256, 16, 16]               0\n",
      "           Conv2d-91          [-1, 256, 16, 16]         589,824\n",
      "      BatchNorm2d-92          [-1, 256, 16, 16]             512\n",
      "             ReLU-93          [-1, 256, 16, 16]               0\n",
      "           Conv2d-94         [-1, 1024, 16, 16]         262,144\n",
      "        ResBlock2-95         [-1, 1024, 16, 16]               0\n",
      "      BatchNorm2d-96         [-1, 1024, 16, 16]           2,048\n",
      "           Conv2d-97          [-1, 256, 16, 16]         262,144\n",
      "      BatchNorm2d-98          [-1, 256, 16, 16]             512\n",
      "             ReLU-99          [-1, 256, 16, 16]               0\n",
      "          Conv2d-100          [-1, 256, 16, 16]         589,824\n",
      "     BatchNorm2d-101          [-1, 256, 16, 16]             512\n",
      "            ReLU-102          [-1, 256, 16, 16]               0\n",
      "          Conv2d-103         [-1, 1024, 16, 16]         262,144\n",
      "       ResBlock2-104         [-1, 1024, 16, 16]               0\n",
      "     BatchNorm2d-105         [-1, 1024, 16, 16]           2,048\n",
      "          Conv2d-106          [-1, 256, 16, 16]         262,144\n",
      "     BatchNorm2d-107          [-1, 256, 16, 16]             512\n",
      "            ReLU-108          [-1, 256, 16, 16]               0\n",
      "          Conv2d-109          [-1, 256, 16, 16]         589,824\n",
      "     BatchNorm2d-110          [-1, 256, 16, 16]             512\n",
      "            ReLU-111          [-1, 256, 16, 16]               0\n",
      "          Conv2d-112         [-1, 1024, 16, 16]         262,144\n",
      "       ResBlock2-113         [-1, 1024, 16, 16]               0\n",
      "     BatchNorm2d-114         [-1, 1024, 16, 16]           2,048\n",
      "          Conv2d-115          [-1, 256, 16, 16]         262,144\n",
      "     BatchNorm2d-116          [-1, 256, 16, 16]             512\n",
      "            ReLU-117          [-1, 256, 16, 16]               0\n",
      "          Conv2d-118          [-1, 256, 16, 16]         589,824\n",
      "     BatchNorm2d-119          [-1, 256, 16, 16]             512\n",
      "            ReLU-120          [-1, 256, 16, 16]               0\n",
      "          Conv2d-121         [-1, 1024, 16, 16]         262,144\n",
      "       ResBlock2-122         [-1, 1024, 16, 16]               0\n",
      "     BatchNorm2d-123         [-1, 1024, 16, 16]           2,048\n",
      "          Conv2d-124           [-1, 2048, 8, 8]       2,097,152\n",
      "          Conv2d-125            [-1, 512, 8, 8]         524,288\n",
      "     BatchNorm2d-126            [-1, 512, 8, 8]           1,024\n",
      "            ReLU-127            [-1, 512, 8, 8]               0\n",
      "          Conv2d-128            [-1, 512, 8, 8]       2,359,296\n",
      "     BatchNorm2d-129            [-1, 512, 8, 8]           1,024\n",
      "            ReLU-130            [-1, 512, 8, 8]               0\n",
      "          Conv2d-131           [-1, 2048, 8, 8]       1,048,576\n",
      "        ResBlock-132           [-1, 2048, 8, 8]               0\n",
      "     BatchNorm2d-133           [-1, 2048, 8, 8]           4,096\n",
      "          Conv2d-134            [-1, 512, 8, 8]       1,048,576\n",
      "     BatchNorm2d-135            [-1, 512, 8, 8]           1,024\n",
      "            ReLU-136            [-1, 512, 8, 8]               0\n",
      "          Conv2d-137            [-1, 512, 8, 8]       2,359,296\n",
      "     BatchNorm2d-138            [-1, 512, 8, 8]           1,024\n",
      "            ReLU-139            [-1, 512, 8, 8]               0\n",
      "          Conv2d-140           [-1, 2048, 8, 8]       1,048,576\n",
      "       ResBlock2-141           [-1, 2048, 8, 8]               0\n",
      "     BatchNorm2d-142           [-1, 2048, 8, 8]           4,096\n",
      "          Conv2d-143            [-1, 512, 8, 8]       1,048,576\n",
      "     BatchNorm2d-144            [-1, 512, 8, 8]           1,024\n",
      "            ReLU-145            [-1, 512, 8, 8]               0\n",
      "          Conv2d-146            [-1, 512, 8, 8]       2,359,296\n",
      "     BatchNorm2d-147            [-1, 512, 8, 8]           1,024\n",
      "            ReLU-148            [-1, 512, 8, 8]               0\n",
      "          Conv2d-149           [-1, 2048, 8, 8]       1,048,576\n",
      "       ResBlock2-150           [-1, 2048, 8, 8]               0\n",
      "     BatchNorm2d-151           [-1, 2048, 8, 8]           4,096\n",
      "            ReLU-152           [-1, 2048, 8, 8]               0\n",
      "AdaptiveAvgPool2d-153           [-1, 2048, 1, 1]               0\n",
      "         Flatten-154                 [-1, 2048]               0\n",
      "================================================================\n",
      "Total params: 23,500,352\n",
      "Trainable params: 23,500,352\n",
      "Non-trainable params: 0\n",
      "----------------------------------------------------------------\n",
      "Input size (MB): 0.72\n",
      "Forward/backward pass size (MB): 271.44\n",
      "Params size (MB): 89.65\n",
      "Estimated Total Size (MB): 361.80\n",
      "----------------------------------------------------------------\n"
     ]
    }
   ],
   "source": [
    "summary(loaded_model, input_size = (3, 250, 250), batch_size = -1)"
   ]
  },
  {
   "cell_type": "code",
   "execution_count": 37,
   "id": "d9697a46",
   "metadata": {},
   "outputs": [],
   "source": [
    "#model.layers"
   ]
  },
  {
   "cell_type": "code",
   "execution_count": 38,
   "id": "ef542d81",
   "metadata": {},
   "outputs": [],
   "source": [
    "# #model = ResNet50(85742)\n",
    "\n",
    "# for param in loaded_model.parameters():\n",
    "#     param.requires_grad = False\n",
    "#     #print(param.shape)\n",
    "#     #print('----------------------------')\n",
    "#     #model.fc = nn.Linear(5749, 8)\n",
    "#     #print(\"After addition: \", param.shape)"
   ]
  },
  {
   "cell_type": "code",
   "execution_count": 39,
   "id": "a5bad2e0",
   "metadata": {},
   "outputs": [
    {
     "data": {
      "text/plain": [
       "MyResNet(\n",
       "  (features): Sequential(\n",
       "    (0): Conv2d(3, 64, kernel_size=(7, 7), stride=(2, 2), padding=(3, 3), bias=False)\n",
       "    (1): MaxPool2d(kernel_size=3, stride=2, padding=1, dilation=1, ceil_mode=False)\n",
       "    (2): ResBlock(\n",
       "      (bn): BatchNorm2d(64, eps=1e-05, momentum=0.1, affine=True, track_running_stats=True)\n",
       "      (conv1): Conv2d(64, 64, kernel_size=(1, 1), stride=(1, 1), bias=False)\n",
       "      (conv2): Sequential(\n",
       "        (0): BatchNorm2d(64, eps=1e-05, momentum=0.1, affine=True, track_running_stats=True)\n",
       "        (1): ReLU(inplace=True)\n",
       "        (2): Conv2d(64, 64, kernel_size=(3, 3), stride=(1, 1), padding=(1, 1), bias=False)\n",
       "      )\n",
       "      (conv3): Sequential(\n",
       "        (0): BatchNorm2d(64, eps=1e-05, momentum=0.1, affine=True, track_running_stats=True)\n",
       "        (1): ReLU(inplace=True)\n",
       "        (2): Conv2d(64, 256, kernel_size=(1, 1), stride=(1, 1), bias=False)\n",
       "      )\n",
       "      (shortcut): Conv2d(64, 256, kernel_size=(1, 1), stride=(1, 1), bias=False)\n",
       "    )\n",
       "    (3): ResBlock2(\n",
       "      (bn): BatchNorm2d(256, eps=1e-05, momentum=0.1, affine=True, track_running_stats=True)\n",
       "      (conv1): Conv2d(256, 64, kernel_size=(1, 1), stride=(1, 1), bias=False)\n",
       "      (conv2): Sequential(\n",
       "        (0): BatchNorm2d(64, eps=1e-05, momentum=0.1, affine=True, track_running_stats=True)\n",
       "        (1): ReLU(inplace=True)\n",
       "        (2): Conv2d(64, 64, kernel_size=(3, 3), stride=(1, 1), padding=(1, 1), bias=False)\n",
       "      )\n",
       "      (conv3): Sequential(\n",
       "        (0): BatchNorm2d(64, eps=1e-05, momentum=0.1, affine=True, track_running_stats=True)\n",
       "        (1): ReLU(inplace=True)\n",
       "        (2): Conv2d(64, 256, kernel_size=(1, 1), stride=(1, 1), bias=False)\n",
       "      )\n",
       "    )\n",
       "    (4): ResBlock2(\n",
       "      (bn): BatchNorm2d(256, eps=1e-05, momentum=0.1, affine=True, track_running_stats=True)\n",
       "      (conv1): Conv2d(256, 64, kernel_size=(1, 1), stride=(1, 1), bias=False)\n",
       "      (conv2): Sequential(\n",
       "        (0): BatchNorm2d(64, eps=1e-05, momentum=0.1, affine=True, track_running_stats=True)\n",
       "        (1): ReLU(inplace=True)\n",
       "        (2): Conv2d(64, 64, kernel_size=(3, 3), stride=(1, 1), padding=(1, 1), bias=False)\n",
       "      )\n",
       "      (conv3): Sequential(\n",
       "        (0): BatchNorm2d(64, eps=1e-05, momentum=0.1, affine=True, track_running_stats=True)\n",
       "        (1): ReLU(inplace=True)\n",
       "        (2): Conv2d(64, 256, kernel_size=(1, 1), stride=(1, 1), bias=False)\n",
       "      )\n",
       "    )\n",
       "    (5): ResBlock(\n",
       "      (bn): BatchNorm2d(256, eps=1e-05, momentum=0.1, affine=True, track_running_stats=True)\n",
       "      (conv1): Conv2d(256, 128, kernel_size=(1, 1), stride=(2, 2), bias=False)\n",
       "      (conv2): Sequential(\n",
       "        (0): BatchNorm2d(128, eps=1e-05, momentum=0.1, affine=True, track_running_stats=True)\n",
       "        (1): ReLU(inplace=True)\n",
       "        (2): Conv2d(128, 128, kernel_size=(3, 3), stride=(1, 1), padding=(1, 1), bias=False)\n",
       "      )\n",
       "      (conv3): Sequential(\n",
       "        (0): BatchNorm2d(128, eps=1e-05, momentum=0.1, affine=True, track_running_stats=True)\n",
       "        (1): ReLU(inplace=True)\n",
       "        (2): Conv2d(128, 512, kernel_size=(1, 1), stride=(1, 1), bias=False)\n",
       "      )\n",
       "      (shortcut): Conv2d(256, 512, kernel_size=(1, 1), stride=(2, 2), bias=False)\n",
       "    )\n",
       "    (6): ResBlock2(\n",
       "      (bn): BatchNorm2d(512, eps=1e-05, momentum=0.1, affine=True, track_running_stats=True)\n",
       "      (conv1): Conv2d(512, 128, kernel_size=(1, 1), stride=(1, 1), bias=False)\n",
       "      (conv2): Sequential(\n",
       "        (0): BatchNorm2d(128, eps=1e-05, momentum=0.1, affine=True, track_running_stats=True)\n",
       "        (1): ReLU(inplace=True)\n",
       "        (2): Conv2d(128, 128, kernel_size=(3, 3), stride=(1, 1), padding=(1, 1), bias=False)\n",
       "      )\n",
       "      (conv3): Sequential(\n",
       "        (0): BatchNorm2d(128, eps=1e-05, momentum=0.1, affine=True, track_running_stats=True)\n",
       "        (1): ReLU(inplace=True)\n",
       "        (2): Conv2d(128, 512, kernel_size=(1, 1), stride=(1, 1), bias=False)\n",
       "      )\n",
       "    )\n",
       "    (7): ResBlock2(\n",
       "      (bn): BatchNorm2d(512, eps=1e-05, momentum=0.1, affine=True, track_running_stats=True)\n",
       "      (conv1): Conv2d(512, 128, kernel_size=(1, 1), stride=(1, 1), bias=False)\n",
       "      (conv2): Sequential(\n",
       "        (0): BatchNorm2d(128, eps=1e-05, momentum=0.1, affine=True, track_running_stats=True)\n",
       "        (1): ReLU(inplace=True)\n",
       "        (2): Conv2d(128, 128, kernel_size=(3, 3), stride=(1, 1), padding=(1, 1), bias=False)\n",
       "      )\n",
       "      (conv3): Sequential(\n",
       "        (0): BatchNorm2d(128, eps=1e-05, momentum=0.1, affine=True, track_running_stats=True)\n",
       "        (1): ReLU(inplace=True)\n",
       "        (2): Conv2d(128, 512, kernel_size=(1, 1), stride=(1, 1), bias=False)\n",
       "      )\n",
       "    )\n",
       "    (8): ResBlock2(\n",
       "      (bn): BatchNorm2d(512, eps=1e-05, momentum=0.1, affine=True, track_running_stats=True)\n",
       "      (conv1): Conv2d(512, 128, kernel_size=(1, 1), stride=(1, 1), bias=False)\n",
       "      (conv2): Sequential(\n",
       "        (0): BatchNorm2d(128, eps=1e-05, momentum=0.1, affine=True, track_running_stats=True)\n",
       "        (1): ReLU(inplace=True)\n",
       "        (2): Conv2d(128, 128, kernel_size=(3, 3), stride=(1, 1), padding=(1, 1), bias=False)\n",
       "      )\n",
       "      (conv3): Sequential(\n",
       "        (0): BatchNorm2d(128, eps=1e-05, momentum=0.1, affine=True, track_running_stats=True)\n",
       "        (1): ReLU(inplace=True)\n",
       "        (2): Conv2d(128, 512, kernel_size=(1, 1), stride=(1, 1), bias=False)\n",
       "      )\n",
       "    )\n",
       "    (9): ResBlock(\n",
       "      (bn): BatchNorm2d(512, eps=1e-05, momentum=0.1, affine=True, track_running_stats=True)\n",
       "      (conv1): Conv2d(512, 256, kernel_size=(1, 1), stride=(2, 2), bias=False)\n",
       "      (conv2): Sequential(\n",
       "        (0): BatchNorm2d(256, eps=1e-05, momentum=0.1, affine=True, track_running_stats=True)\n",
       "        (1): ReLU(inplace=True)\n",
       "        (2): Conv2d(256, 256, kernel_size=(3, 3), stride=(1, 1), padding=(1, 1), bias=False)\n",
       "      )\n",
       "      (conv3): Sequential(\n",
       "        (0): BatchNorm2d(256, eps=1e-05, momentum=0.1, affine=True, track_running_stats=True)\n",
       "        (1): ReLU(inplace=True)\n",
       "        (2): Conv2d(256, 1024, kernel_size=(1, 1), stride=(1, 1), bias=False)\n",
       "      )\n",
       "      (shortcut): Conv2d(512, 1024, kernel_size=(1, 1), stride=(2, 2), bias=False)\n",
       "    )\n",
       "    (10): ResBlock2(\n",
       "      (bn): BatchNorm2d(1024, eps=1e-05, momentum=0.1, affine=True, track_running_stats=True)\n",
       "      (conv1): Conv2d(1024, 256, kernel_size=(1, 1), stride=(1, 1), bias=False)\n",
       "      (conv2): Sequential(\n",
       "        (0): BatchNorm2d(256, eps=1e-05, momentum=0.1, affine=True, track_running_stats=True)\n",
       "        (1): ReLU(inplace=True)\n",
       "        (2): Conv2d(256, 256, kernel_size=(3, 3), stride=(1, 1), padding=(1, 1), bias=False)\n",
       "      )\n",
       "      (conv3): Sequential(\n",
       "        (0): BatchNorm2d(256, eps=1e-05, momentum=0.1, affine=True, track_running_stats=True)\n",
       "        (1): ReLU(inplace=True)\n",
       "        (2): Conv2d(256, 1024, kernel_size=(1, 1), stride=(1, 1), bias=False)\n",
       "      )\n",
       "    )\n",
       "    (11): ResBlock2(\n",
       "      (bn): BatchNorm2d(1024, eps=1e-05, momentum=0.1, affine=True, track_running_stats=True)\n",
       "      (conv1): Conv2d(1024, 256, kernel_size=(1, 1), stride=(1, 1), bias=False)\n",
       "      (conv2): Sequential(\n",
       "        (0): BatchNorm2d(256, eps=1e-05, momentum=0.1, affine=True, track_running_stats=True)\n",
       "        (1): ReLU(inplace=True)\n",
       "        (2): Conv2d(256, 256, kernel_size=(3, 3), stride=(1, 1), padding=(1, 1), bias=False)\n",
       "      )\n",
       "      (conv3): Sequential(\n",
       "        (0): BatchNorm2d(256, eps=1e-05, momentum=0.1, affine=True, track_running_stats=True)\n",
       "        (1): ReLU(inplace=True)\n",
       "        (2): Conv2d(256, 1024, kernel_size=(1, 1), stride=(1, 1), bias=False)\n",
       "      )\n",
       "    )\n",
       "    (12): ResBlock2(\n",
       "      (bn): BatchNorm2d(1024, eps=1e-05, momentum=0.1, affine=True, track_running_stats=True)\n",
       "      (conv1): Conv2d(1024, 256, kernel_size=(1, 1), stride=(1, 1), bias=False)\n",
       "      (conv2): Sequential(\n",
       "        (0): BatchNorm2d(256, eps=1e-05, momentum=0.1, affine=True, track_running_stats=True)\n",
       "        (1): ReLU(inplace=True)\n",
       "        (2): Conv2d(256, 256, kernel_size=(3, 3), stride=(1, 1), padding=(1, 1), bias=False)\n",
       "      )\n",
       "      (conv3): Sequential(\n",
       "        (0): BatchNorm2d(256, eps=1e-05, momentum=0.1, affine=True, track_running_stats=True)\n",
       "        (1): ReLU(inplace=True)\n",
       "        (2): Conv2d(256, 1024, kernel_size=(1, 1), stride=(1, 1), bias=False)\n",
       "      )\n",
       "    )\n",
       "    (13): ResBlock2(\n",
       "      (bn): BatchNorm2d(1024, eps=1e-05, momentum=0.1, affine=True, track_running_stats=True)\n",
       "      (conv1): Conv2d(1024, 256, kernel_size=(1, 1), stride=(1, 1), bias=False)\n",
       "      (conv2): Sequential(\n",
       "        (0): BatchNorm2d(256, eps=1e-05, momentum=0.1, affine=True, track_running_stats=True)\n",
       "        (1): ReLU(inplace=True)\n",
       "        (2): Conv2d(256, 256, kernel_size=(3, 3), stride=(1, 1), padding=(1, 1), bias=False)\n",
       "      )\n",
       "      (conv3): Sequential(\n",
       "        (0): BatchNorm2d(256, eps=1e-05, momentum=0.1, affine=True, track_running_stats=True)\n",
       "        (1): ReLU(inplace=True)\n",
       "        (2): Conv2d(256, 1024, kernel_size=(1, 1), stride=(1, 1), bias=False)\n",
       "      )\n",
       "    )\n",
       "    (14): ResBlock2(\n",
       "      (bn): BatchNorm2d(1024, eps=1e-05, momentum=0.1, affine=True, track_running_stats=True)\n",
       "      (conv1): Conv2d(1024, 256, kernel_size=(1, 1), stride=(1, 1), bias=False)\n",
       "      (conv2): Sequential(\n",
       "        (0): BatchNorm2d(256, eps=1e-05, momentum=0.1, affine=True, track_running_stats=True)\n",
       "        (1): ReLU(inplace=True)\n",
       "        (2): Conv2d(256, 256, kernel_size=(3, 3), stride=(1, 1), padding=(1, 1), bias=False)\n",
       "      )\n",
       "      (conv3): Sequential(\n",
       "        (0): BatchNorm2d(256, eps=1e-05, momentum=0.1, affine=True, track_running_stats=True)\n",
       "        (1): ReLU(inplace=True)\n",
       "        (2): Conv2d(256, 1024, kernel_size=(1, 1), stride=(1, 1), bias=False)\n",
       "      )\n",
       "    )\n",
       "    (15): ResBlock(\n",
       "      (bn): BatchNorm2d(1024, eps=1e-05, momentum=0.1, affine=True, track_running_stats=True)\n",
       "      (conv1): Conv2d(1024, 512, kernel_size=(1, 1), stride=(2, 2), bias=False)\n",
       "      (conv2): Sequential(\n",
       "        (0): BatchNorm2d(512, eps=1e-05, momentum=0.1, affine=True, track_running_stats=True)\n",
       "        (1): ReLU(inplace=True)\n",
       "        (2): Conv2d(512, 512, kernel_size=(3, 3), stride=(1, 1), padding=(1, 1), bias=False)\n",
       "      )\n",
       "      (conv3): Sequential(\n",
       "        (0): BatchNorm2d(512, eps=1e-05, momentum=0.1, affine=True, track_running_stats=True)\n",
       "        (1): ReLU(inplace=True)\n",
       "        (2): Conv2d(512, 2048, kernel_size=(1, 1), stride=(1, 1), bias=False)\n",
       "      )\n",
       "      (shortcut): Conv2d(1024, 2048, kernel_size=(1, 1), stride=(2, 2), bias=False)\n",
       "    )\n",
       "    (16): ResBlock2(\n",
       "      (bn): BatchNorm2d(2048, eps=1e-05, momentum=0.1, affine=True, track_running_stats=True)\n",
       "      (conv1): Conv2d(2048, 512, kernel_size=(1, 1), stride=(1, 1), bias=False)\n",
       "      (conv2): Sequential(\n",
       "        (0): BatchNorm2d(512, eps=1e-05, momentum=0.1, affine=True, track_running_stats=True)\n",
       "        (1): ReLU(inplace=True)\n",
       "        (2): Conv2d(512, 512, kernel_size=(3, 3), stride=(1, 1), padding=(1, 1), bias=False)\n",
       "      )\n",
       "      (conv3): Sequential(\n",
       "        (0): BatchNorm2d(512, eps=1e-05, momentum=0.1, affine=True, track_running_stats=True)\n",
       "        (1): ReLU(inplace=True)\n",
       "        (2): Conv2d(512, 2048, kernel_size=(1, 1), stride=(1, 1), bias=False)\n",
       "      )\n",
       "    )\n",
       "    (17): ResBlock2(\n",
       "      (bn): BatchNorm2d(2048, eps=1e-05, momentum=0.1, affine=True, track_running_stats=True)\n",
       "      (conv1): Conv2d(2048, 512, kernel_size=(1, 1), stride=(1, 1), bias=False)\n",
       "      (conv2): Sequential(\n",
       "        (0): BatchNorm2d(512, eps=1e-05, momentum=0.1, affine=True, track_running_stats=True)\n",
       "        (1): ReLU(inplace=True)\n",
       "        (2): Conv2d(512, 512, kernel_size=(3, 3), stride=(1, 1), padding=(1, 1), bias=False)\n",
       "      )\n",
       "      (conv3): Sequential(\n",
       "        (0): BatchNorm2d(512, eps=1e-05, momentum=0.1, affine=True, track_running_stats=True)\n",
       "        (1): ReLU(inplace=True)\n",
       "        (2): Conv2d(512, 2048, kernel_size=(1, 1), stride=(1, 1), bias=False)\n",
       "      )\n",
       "    )\n",
       "    (18): BatchNorm2d(2048, eps=1e-05, momentum=0.1, affine=True, track_running_stats=True)\n",
       "    (19): ReLU(inplace=True)\n",
       "    (20): AdaptiveAvgPool2d(output_size=1)\n",
       "    (21): Flatten()\n",
       "  )\n",
       ")"
      ]
     },
     "execution_count": 39,
     "metadata": {},
     "output_type": "execute_result"
    }
   ],
   "source": [
    "to_device(loaded_model, device)"
   ]
  },
  {
   "cell_type": "code",
   "execution_count": null,
   "id": "b0c41a24",
   "metadata": {},
   "outputs": [],
   "source": [
    "summary(loaded_model, input_size = (3, 250, 250), batch_size = -1)"
   ]
  },
  {
   "cell_type": "markdown",
   "id": "5329086f",
   "metadata": {},
   "source": [
    "### Step 2b) Loss Function"
   ]
  },
  {
   "cell_type": "code",
   "execution_count": 40,
   "id": "24ae2e38",
   "metadata": {},
   "outputs": [],
   "source": [
    "class CosFace(nn.Module):\n",
    "    def __init__(self, in_features=2048, out_features=5749, s=64.0, m=0.35):\n",
    "        super(CosFace, self).__init__()\n",
    "        self.in_features = in_features\n",
    "        self.out_features = out_features\n",
    "        self.s = s\n",
    "        self.m = m\n",
    "        self.kernel = nn.Parameter(torch.FloatTensor(in_features, out_features))\n",
    "        nn.init.normal_(self.kernel, std=0.01)\n",
    "\n",
    "    def forward(self, logits, labels):\n",
    "        logits = F.normalize(logits, p=2.0, dim=1) #l2_norm(logits, axis=1)\n",
    "        kernel_norm = F.normalize(self.kernel, p=2.0, dim=0) #l2_norm(self.kernel, axis=0)\n",
    "        cos_theta = torch.mm(logits, kernel_norm)\n",
    "        cos_theta = cos_theta.clamp(-1, 1)  # for numerical stability\n",
    "        index = torch.where(labels != -1)[0]\n",
    "        m_hot = torch.zeros(index.size()[0], cos_theta.size()[1]).to(device)\n",
    "        m_hot.scatter_(1, labels[index, None], self.m).to(device)\n",
    "        cos_theta[index] -= m_hot\n",
    "        ret = cos_theta * self.s\n",
    "        return ret"
   ]
  },
  {
   "cell_type": "code",
   "execution_count": 41,
   "id": "5f60cfce",
   "metadata": {},
   "outputs": [],
   "source": [
    "new_logits = CosFace()"
   ]
  },
  {
   "cell_type": "code",
   "execution_count": 42,
   "id": "da44b0be",
   "metadata": {},
   "outputs": [
    {
     "data": {
      "text/plain": [
       "CosFace()"
      ]
     },
     "execution_count": 42,
     "metadata": {},
     "output_type": "execute_result"
    }
   ],
   "source": [
    "to_device(new_logits, device)\n",
    "#new_logits.to(device)"
   ]
  },
  {
   "cell_type": "code",
   "execution_count": 43,
   "id": "e2774a99",
   "metadata": {},
   "outputs": [],
   "source": [
    "loss_Function = nn.CrossEntropyLoss() #F.cross_entropy"
   ]
  },
  {
   "cell_type": "markdown",
   "id": "075f3d34",
   "metadata": {},
   "source": [
    "### Step 3) Training the model"
   ]
  },
  {
   "cell_type": "code",
   "execution_count": 44,
   "id": "8b00664d",
   "metadata": {},
   "outputs": [],
   "source": [
    "def loss_batch(model, loss_func, xb, yb, opt=None, opt_out=None, metric=None):\n",
    "    #Generate predictions\n",
    "    features = F.normalize(model(xb))\n",
    "    preds = new_logits(features, yb)\n",
    "    \n",
    "    #Generate probabilities\n",
    "    #preds = F.softmax(preds, dim=1)\n",
    "    \n",
    "    #Calculate loss\n",
    "    loss = loss_func(preds, yb)\n",
    "    \n",
    "    if opt is not None:\n",
    "        #Compute gradients\n",
    "        loss.backward()\n",
    "        \n",
    "        #Gradient Clipping\n",
    "        nn.utils.clip_grad_norm_(model.parameters(), max_norm=5, norm_type=2)\n",
    "        \n",
    "        #update parameters\n",
    "        opt.step()\n",
    "        opt_out.step()\n",
    "        \n",
    "        #Reset Gradients\n",
    "        opt.zero_grad()\n",
    "        opt_out.zero_grad()\n",
    "\n",
    "    metric_result = None\n",
    "    if metric is not None:\n",
    "        #compute the metric\n",
    "        metric_result = metric(preds, yb)\n",
    "    \n",
    "    #print(loss.is_cuda)\n",
    "    #print(xb.is_cuda)\n",
    "    #print(metric_result.is_cuda)\n",
    "        \n",
    "    return loss.item(), len(xb), metric_result"
   ]
  },
  {
   "cell_type": "code",
   "execution_count": 45,
   "id": "7d24d69c",
   "metadata": {},
   "outputs": [],
   "source": [
    "def evaluate(model, loss_fn, valid_dl, metric=None):\n",
    "    with torch.no_grad():\n",
    "        #pass each batch through the model\n",
    "        results = [loss_batch(model, loss_fn, xb, yb, metric=metric) for xb, yb in valid_dl]\n",
    "        #separate losses, counts and metrics\n",
    "        losses, nums, metrics = zip(*results)\n",
    "        #Total size of the dataset\n",
    "        total = np.sum(nums)\n",
    "        #Avg. loss across batches\n",
    "        avg_loss = np.sum(np.multiply(losses, nums))/total\n",
    "        avg_metric = None\n",
    "        \n",
    "        if metric is not None:\n",
    "            #Avg of metric across batches\n",
    "            avg_metric = np.sum(np.multiply(metrics, nums)) / total\n",
    "\n",
    "    return avg_loss, total, avg_metric"
   ]
  },
  {
   "cell_type": "code",
   "execution_count": 46,
   "id": "7b6c4026",
   "metadata": {},
   "outputs": [],
   "source": [
    "def fit(epochs, model, loss_fn, train_dl, valid_dl, lr=None, lr_func=None, metric=None, opt_fn=None):\n",
    "    \n",
    "    train_losses, train_metrics, val_losses, val_metrics = [], [], [], []\n",
    "    \n",
    "    #instantiate the optimizer\n",
    "    if opt_fn is None: opt_fn = torch.optim.SGD\n",
    "    opt = opt_fn(model.parameters(), lr=lr, momentum=0.9, weight_decay=5e-6)\n",
    "    opt_out = opt_fn(new_logits.parameters(), lr=lr, momentum=0.9, weight_decay=5e-6)\n",
    "    \n",
    "    scheduler_network = torch.optim.lr_scheduler.LambdaLR(optimizer=opt, lr_lambda=lr_func)\n",
    "    scheduler_out = torch.optim.lr_scheduler.LambdaLR(optimizer=opt_out, lr_lambda=lr_func)\n",
    "    \n",
    "    for epoch in range(epochs):\n",
    "        start = time.time()\n",
    "        ep_train_losses, train_len, ep_train_metrics = [], [], []\n",
    "        \n",
    "        #Training\n",
    "        model.train()\n",
    "        for xb, yb in train_dl:\n",
    "            train_loss, len_xb, train_metric = loss_batch(model, loss_fn, xb, yb, \n",
    "                                                          opt, opt_out, metric)\n",
    "            ep_train_losses.append(train_loss)\n",
    "            train_len.append(len_xb)\n",
    "            ep_train_metrics.append(train_metric)\n",
    "            \n",
    "        scheduler_network.step()\n",
    "        scheduler_out.step()\n",
    "        \n",
    "        total = np.sum(train_len)\n",
    "        avg_train_loss = np.sum(np.multiply(ep_train_losses, train_len)) / total\n",
    "        avg_train_metric = None\n",
    "        if metric is not None:\n",
    "            avg_train_metric = np.sum(np.multiply(ep_train_metrics, train_len)) / total\n",
    "\n",
    "        #Evaluation\n",
    "        model.eval()\n",
    "        result = evaluate(model, loss_fn, valid_dl, metric)\n",
    "        val_loss, total, val_metric = result\n",
    "\n",
    "        #Record the loss and metric\n",
    "        train_losses.append(avg_train_loss)\n",
    "        train_metrics.append(avg_train_metric)\n",
    "        val_losses.append(val_loss)\n",
    "        val_metrics.append(val_metric)\n",
    "        \n",
    "        #Checkpointing the model - saving every 'n' epochs\n",
    "        checkpoint_path = \"Checkpoints/lfw_finetune_model_01_\" +str(epoch)+\".pt\"\n",
    "        \n",
    "        if (epoch%10 == 0):\n",
    "            torch.save({\n",
    "                'epoch': epoch,\n",
    "                'model_state_dict': model.state_dict(),\n",
    "                #'model_optimizer_state_dict': opt.state_dict(),\n",
    "                #'fc_optimizer_state_dict': opt_out.state_dict(),\n",
    "                'new_logits': new_logits,\n",
    "                'train_acc': avg_train_metric,\n",
    "                'val_acc': val_metric,\n",
    "            }, checkpoint_path)\n",
    "        \n",
    "        end = time.time()\n",
    "\n",
    "        #Print progress:\n",
    "        if metric is None:\n",
    "            print('Epoch [{}/{}], Train_loss: {:.4f}, Val_loss: {:.4f}'\n",
    "                  .format(epoch+1, epochs, train_loss, val_loss))\n",
    "            print(str(round((end - start), 2)) + \" secs\")\n",
    "        \n",
    "        else:\n",
    "            print('Epoch [{}/{}], Train_loss: {:.4f}, Val_loss: {:.4f}, Train_{}: {:.4f}, Val_{}: {:.4f}'\n",
    "                  .format(epoch+1, epochs, avg_train_loss, val_loss, metric.__name__,  avg_train_metric, \n",
    "                          metric.__name__, val_metric))\n",
    "            print(str(round((end - start), 2)) + \" secs\")\n",
    "\n",
    "    return train_losses, train_metrics, val_losses, val_metrics"
   ]
  },
  {
   "cell_type": "code",
   "execution_count": 47,
   "id": "9b7a65ba",
   "metadata": {},
   "outputs": [],
   "source": [
    "def accuracy(outputs, labels):\n",
    "    _, preds = torch.max(outputs, dim=1)\n",
    "    return torch.sum(preds == labels).item() / len(preds)"
   ]
  },
  {
   "cell_type": "code",
   "execution_count": 48,
   "id": "dba492d0",
   "metadata": {},
   "outputs": [],
   "source": [
    "val_loss, _, val_acc = evaluate(loaded_model, loss_Function, val_dl, metric=accuracy) #metric=accuracy #metric=None"
   ]
  },
  {
   "cell_type": "code",
   "execution_count": 49,
   "id": "be04f460",
   "metadata": {},
   "outputs": [
    {
     "name": "stdout",
     "output_type": "stream",
     "text": [
      "Loss: 31.9998, Accuracy: 0.0000\n"
     ]
    }
   ],
   "source": [
    "#print('Loss: {:.4f}'.format(val_loss))\n",
    "print('Loss: {:.4f}, Accuracy: {:.4f}'.format(val_loss, val_acc))"
   ]
  },
  {
   "cell_type": "code",
   "execution_count": 50,
   "id": "bb44883b",
   "metadata": {},
   "outputs": [],
   "source": [
    "opt_func = torch.optim.SGD"
   ]
  },
  {
   "cell_type": "code",
   "execution_count": 51,
   "id": "7b1cf86f",
   "metadata": {},
   "outputs": [],
   "source": [
    "def lr_step_func(epoch):\n",
    "    return ((epoch + 1) / (4 + 1)) ** 2 if epoch < -1 else 0.1 ** len(\n",
    "        [m for m in [6,7,15,16] if m-1 <= epoch])"
   ]
  },
  {
   "cell_type": "code",
   "execution_count": 52,
   "id": "3e821a90",
   "metadata": {},
   "outputs": [],
   "source": [
    "#No dynamic updation in LR\n",
    "def unit_lr(epoch):\n",
    "    return 1"
   ]
  },
  {
   "cell_type": "code",
   "execution_count": 83,
   "id": "ff1d3240",
   "metadata": {},
   "outputs": [],
   "source": [
    "num_epochs = 50\n",
    "lr = 0.05"
   ]
  },
  {
   "cell_type": "code",
   "execution_count": 84,
   "id": "a293f9b9",
   "metadata": {},
   "outputs": [
    {
     "name": "stdout",
     "output_type": "stream",
     "text": [
      "Epoch [1/50], Train_loss: 18.3555, Val_loss: 35.1244, Train_accuracy: 0.0597, Val_accuracy: 0.0035\n",
      "11.67 secs\n",
      "Epoch [2/50], Train_loss: 21.1457, Val_loss: 34.0141, Train_accuracy: 0.0288, Val_accuracy: 0.0312\n",
      "11.25 secs\n",
      "Epoch [3/50], Train_loss: 17.4582, Val_loss: 33.9094, Train_accuracy: 0.0458, Val_accuracy: 0.0338\n",
      "9.44 secs\n",
      "Epoch [4/50], Train_loss: 14.6356, Val_loss: 32.9246, Train_accuracy: 0.0637, Val_accuracy: 0.0403\n",
      "11.64 secs\n",
      "Epoch [5/50], Train_loss: 12.3767, Val_loss: 32.7640, Train_accuracy: 0.0911, Val_accuracy: 0.0519\n",
      "10.37 secs\n",
      "Epoch [6/50], Train_loss: 10.4268, Val_loss: 32.4071, Train_accuracy: 0.1383, Val_accuracy: 0.0499\n",
      "10.93 secs\n",
      "Epoch [7/50], Train_loss: 8.7850, Val_loss: 32.4910, Train_accuracy: 0.1982, Val_accuracy: 0.0610\n",
      "10.71 secs\n",
      "Epoch [8/50], Train_loss: 7.5051, Val_loss: 32.0533, Train_accuracy: 0.2691, Val_accuracy: 0.0615\n",
      "10.14 secs\n",
      "Epoch [9/50], Train_loss: 6.3927, Val_loss: 31.7677, Train_accuracy: 0.3339, Val_accuracy: 0.0670\n",
      "9.25 secs\n",
      "Epoch [10/50], Train_loss: 5.4399, Val_loss: 31.7392, Train_accuracy: 0.3843, Val_accuracy: 0.0605\n",
      "10.43 secs\n",
      "Epoch [11/50], Train_loss: 4.7452, Val_loss: 31.5297, Train_accuracy: 0.4383, Val_accuracy: 0.0726\n",
      "10.48 secs\n",
      "Epoch [12/50], Train_loss: 4.1377, Val_loss: 31.3442, Train_accuracy: 0.4800, Val_accuracy: 0.0721\n",
      "10.79 secs\n",
      "Epoch [13/50], Train_loss: 3.6346, Val_loss: 31.0918, Train_accuracy: 0.5228, Val_accuracy: 0.0766\n",
      "11.43 secs\n",
      "Epoch [14/50], Train_loss: 3.0932, Val_loss: 30.8879, Train_accuracy: 0.5601, Val_accuracy: 0.0726\n",
      "10.0 secs\n",
      "Epoch [15/50], Train_loss: 2.4982, Val_loss: 30.8769, Train_accuracy: 0.6248, Val_accuracy: 0.0731\n",
      "10.46 secs\n",
      "Epoch [16/50], Train_loss: 2.2295, Val_loss: 30.5365, Train_accuracy: 0.6475, Val_accuracy: 0.0837\n",
      "10.03 secs\n",
      "Epoch [17/50], Train_loss: 1.8799, Val_loss: 30.3354, Train_accuracy: 0.6919, Val_accuracy: 0.0867\n",
      "10.27 secs\n",
      "Epoch [18/50], Train_loss: 1.5286, Val_loss: 30.3401, Train_accuracy: 0.7320, Val_accuracy: 0.0882\n",
      "10.45 secs\n",
      "Epoch [19/50], Train_loss: 1.0931, Val_loss: 30.0732, Train_accuracy: 0.7957, Val_accuracy: 0.0948\n",
      "10.28 secs\n",
      "Epoch [20/50], Train_loss: 0.7992, Val_loss: 29.9636, Train_accuracy: 0.8406, Val_accuracy: 0.0922\n",
      "9.14 secs\n",
      "Epoch [21/50], Train_loss: 0.7316, Val_loss: 30.1407, Train_accuracy: 0.8674, Val_accuracy: 0.0852\n",
      "10.13 secs\n",
      "Epoch [22/50], Train_loss: 0.7544, Val_loss: 30.1120, Train_accuracy: 0.8580, Val_accuracy: 0.0943\n",
      "10.35 secs\n",
      "Epoch [23/50], Train_loss: 0.4433, Val_loss: 30.0773, Train_accuracy: 0.9106, Val_accuracy: 0.0938\n",
      "10.48 secs\n",
      "Epoch [24/50], Train_loss: 0.3550, Val_loss: 29.9709, Train_accuracy: 0.9396, Val_accuracy: 0.0938\n",
      "10.61 secs\n",
      "Epoch [25/50], Train_loss: 0.3603, Val_loss: 29.9647, Train_accuracy: 0.9393, Val_accuracy: 0.0902\n",
      "10.57 secs\n",
      "Epoch [26/50], Train_loss: 0.2276, Val_loss: 29.7587, Train_accuracy: 0.9589, Val_accuracy: 0.0932\n",
      "10.45 secs\n",
      "Epoch [27/50], Train_loss: 0.1698, Val_loss: 29.7163, Train_accuracy: 0.9706, Val_accuracy: 0.0998\n",
      "10.22 secs\n",
      "Epoch [28/50], Train_loss: 0.1224, Val_loss: 29.7056, Train_accuracy: 0.9790, Val_accuracy: 0.1013\n",
      "10.44 secs\n",
      "Epoch [29/50], Train_loss: 0.1547, Val_loss: 29.9131, Train_accuracy: 0.9807, Val_accuracy: 0.0927\n",
      "10.61 secs\n",
      "Epoch [30/50], Train_loss: 0.1844, Val_loss: 29.8108, Train_accuracy: 0.9736, Val_accuracy: 0.0968\n",
      "10.3 secs\n",
      "Epoch [31/50], Train_loss: 0.1975, Val_loss: 30.2097, Train_accuracy: 0.9722, Val_accuracy: 0.0811\n",
      "12.84 secs\n",
      "Epoch [32/50], Train_loss: 0.2244, Val_loss: 29.7240, Train_accuracy: 0.9690, Val_accuracy: 0.0998\n",
      "10.6 secs\n",
      "Epoch [33/50], Train_loss: 0.1364, Val_loss: 29.8949, Train_accuracy: 0.9775, Val_accuracy: 0.0897\n",
      "11.82 secs\n",
      "Epoch [34/50], Train_loss: 0.1058, Val_loss: 29.6898, Train_accuracy: 0.9863, Val_accuracy: 0.0993\n",
      "10.6 secs\n",
      "Epoch [35/50], Train_loss: 0.0745, Val_loss: 29.5467, Train_accuracy: 0.9928, Val_accuracy: 0.1028\n",
      "10.26 secs\n",
      "Epoch [36/50], Train_loss: 0.0562, Val_loss: 29.7776, Train_accuracy: 0.9922, Val_accuracy: 0.0983\n",
      "10.7 secs\n",
      "Epoch [37/50], Train_loss: 0.0657, Val_loss: 29.6386, Train_accuracy: 0.9909, Val_accuracy: 0.0978\n",
      "10.35 secs\n",
      "Epoch [38/50], Train_loss: 0.0778, Val_loss: 29.6665, Train_accuracy: 0.9911, Val_accuracy: 0.1018\n",
      "10.6 secs\n",
      "Epoch [39/50], Train_loss: 0.1009, Val_loss: 29.6486, Train_accuracy: 0.9872, Val_accuracy: 0.1053\n",
      "10.11 secs\n",
      "Epoch [40/50], Train_loss: 0.0980, Val_loss: 29.4976, Train_accuracy: 0.9886, Val_accuracy: 0.1028\n",
      "10.26 secs\n",
      "Epoch [41/50], Train_loss: 0.0926, Val_loss: 30.0820, Train_accuracy: 0.9864, Val_accuracy: 0.0887\n",
      "11.76 secs\n",
      "Epoch [42/50], Train_loss: 0.1105, Val_loss: 29.8094, Train_accuracy: 0.9817, Val_accuracy: 0.0917\n",
      "10.49 secs\n",
      "Epoch [43/50], Train_loss: 0.1495, Val_loss: 29.7449, Train_accuracy: 0.9813, Val_accuracy: 0.1018\n",
      "10.71 secs\n",
      "Epoch [44/50], Train_loss: 0.0647, Val_loss: 29.7447, Train_accuracy: 0.9913, Val_accuracy: 0.0927\n",
      "10.17 secs\n",
      "Epoch [45/50], Train_loss: 0.1038, Val_loss: 29.4503, Train_accuracy: 0.9866, Val_accuracy: 0.1064\n",
      "10.82 secs\n",
      "Epoch [46/50], Train_loss: 0.0548, Val_loss: 29.7339, Train_accuracy: 0.9956, Val_accuracy: 0.1013\n",
      "9.57 secs\n",
      "Epoch [47/50], Train_loss: 0.0488, Val_loss: 29.6337, Train_accuracy: 0.9947, Val_accuracy: 0.1064\n",
      "11.72 secs\n",
      "Epoch [48/50], Train_loss: 0.0397, Val_loss: 29.4216, Train_accuracy: 0.9951, Val_accuracy: 0.1053\n",
      "10.31 secs\n",
      "Epoch [49/50], Train_loss: 0.0341, Val_loss: 29.6554, Train_accuracy: 0.9963, Val_accuracy: 0.1084\n",
      "10.94 secs\n",
      "Epoch [50/50], Train_loss: 0.0740, Val_loss: 29.6094, Train_accuracy: 0.9905, Val_accuracy: 0.1084\n",
      "10.3 secs\n"
     ]
    }
   ],
   "source": [
    "history = fit(epochs=num_epochs, model=loaded_model, loss_fn=loss_Function, \n",
    "              train_dl=train_dl, valid_dl=val_dl, lr=lr, lr_func=unit_lr, #lr_step_func, \n",
    "              metric=accuracy, opt_fn=opt_func)"
   ]
  },
  {
   "cell_type": "code",
   "execution_count": 85,
   "id": "95429177",
   "metadata": {},
   "outputs": [],
   "source": [
    "train_losses, train_metrics, val_losses, val_metrics = history"
   ]
  },
  {
   "cell_type": "code",
   "execution_count": 91,
   "id": "3e1e6c3f",
   "metadata": {},
   "outputs": [
    {
     "name": "stdout",
     "output_type": "stream",
     "text": [
      "    Unnamed: 0  Train Loss   Val Loss  Train Acc.  Val Acc.\n",
      "0            0   18.355534  35.124387    0.059687  0.003528\n",
      "1            1   21.145736  34.014137    0.028818  0.031250\n",
      "2            2   17.458221  33.909366    0.045764  0.033770\n",
      "3            3   14.635556  32.924601    0.063681  0.040323\n",
      "4            4   12.376733  32.764029    0.091096  0.051915\n",
      "5            5   10.426845  32.407053    0.138262  0.049899\n",
      "6            6    8.785020  32.490996    0.198165  0.060988\n",
      "7            7    7.505074  32.053264    0.269077  0.061492\n",
      "8            8    6.392742  31.767681    0.333945  0.067036\n",
      "9            9    5.439931  31.739189    0.384350  0.060484\n",
      "10          10    4.745245  31.529699    0.438316  0.072581\n",
      "11          11    4.137667  31.344197    0.479978  0.072077\n",
      "12          12    3.634556  31.091782    0.522828  0.076613\n",
      "13          13    3.093170  30.887881    0.560065  0.072581\n",
      "14          14    2.498188  30.876863    0.624825  0.073085\n",
      "15          15    2.229458  30.536514    0.647491  0.083669\n",
      "16          16    1.879924  30.335407    0.691851  0.086694\n",
      "17          17    1.528581  30.340054    0.732002  0.088206\n",
      "18          18    1.093087  30.073222    0.795683  0.094758\n",
      "19          19    0.799201  29.963608    0.840583  0.092238\n",
      "20          20    0.731644  30.140687    0.867350  0.085181\n",
      "21          21    0.754440  30.111953    0.857960  0.094254\n",
      "22          22    0.443277  30.077286    0.910631  0.093750\n",
      "23          23    0.354981  29.970856    0.939557  0.093750\n",
      "24          24    0.360251  29.964739    0.939342  0.090222\n",
      "25          25    0.227555  29.758735    0.958877  0.093246\n",
      "26          26    0.169848  29.716320    0.970642  0.099798\n",
      "27          27    0.122369  29.705623    0.978953  0.101310\n",
      "28          28    0.154726  29.913111    0.980680  0.092742\n",
      "29          29    0.184439  29.810776    0.973556  0.096774\n",
      "30          30    0.197509  30.209717    0.972153  0.081149\n",
      "31          31    0.224392  29.724020    0.969023  0.099798\n",
      "32          32    0.136443  29.894890    0.977550  0.089718\n",
      "33          33    0.105810  29.689774    0.986292  0.099294\n",
      "34          34    0.074506  29.546709    0.992768  0.102823\n",
      "35          35    0.056225  29.777597    0.992229  0.098286\n",
      "36          36    0.065700  29.638587    0.990934  0.097782\n",
      "37          37    0.077838  29.666457    0.991149  0.101815\n",
      "38          38    0.100880  29.648643    0.987156  0.105343\n",
      "39          39    0.098019  29.497606    0.988559  0.102823\n",
      "40          40    0.092551  30.081973    0.986400  0.088710\n",
      "41          41    0.110534  29.809428    0.981651  0.091734\n",
      "42          42    0.149528  29.744919    0.981328  0.101815\n",
      "43          43    0.064700  29.744732    0.991257  0.092742\n",
      "44          44    0.103826  29.450304    0.986616  0.106351\n",
      "45          45    0.054820  29.733904    0.995575  0.101310\n",
      "46          46    0.048813  29.633697    0.994711  0.106351\n",
      "47          47    0.039694  29.421555    0.995143  0.105343\n",
      "48          48    0.034066  29.655439    0.996330  0.108367\n",
      "49          49    0.074015  29.609412    0.990502  0.108367\n"
     ]
    }
   ],
   "source": [
    "# Creating a new data frame\n",
    "newDataframe = pd.DataFrame()\n",
    "filename = \"lfw_model_outputs.xlsx\"\n",
    "sheet_name = \"Sheet FT CosFacev2 01Mar\"\n",
    "\n",
    "newDataframe['Train Loss'] = train_losses\n",
    "newDataframe['Val Loss'] = val_losses\n",
    "newDataframe['Train Acc.'] = train_metrics\n",
    "newDataframe['Val Acc.'] = val_metrics\n",
    "\n",
    "# Converting the data frame to an excel file\n",
    "# newDataframe.to_excel('lfw_model_outputs.xlsx', sheet_name=\"Sheet 2\", index = False)\n",
    "\n",
    "with pd.ExcelWriter(filename, mode=\"a\", engine=\"openpyxl\") as writer:\n",
    "    newDataframe.to_excel(writer, sheet_name=sheet_name)\n",
    "\n",
    "# Reading the data from the outputExcelFile\n",
    "excelData = pd.read_excel(filename, sheet_name=sheet_name)\n",
    "\n",
    "#Printing the data frame\n",
    "print(excelData)"
   ]
  },
  {
   "cell_type": "markdown",
   "id": "c224f443",
   "metadata": {},
   "source": [
    "### Step 4) Evaluate the model and Plotting of curves"
   ]
  },
  {
   "cell_type": "code",
   "execution_count": 86,
   "id": "8c5fa828",
   "metadata": {},
   "outputs": [],
   "source": [
    "def plot_accuracies(epoch, train_metrics, val_metrics):\n",
    "    #accuracies = [x['val_metrics'] for x in history]\n",
    "    x = np.arange(1, epoch+1, 1)\n",
    "    plt.plot(x, train_metrics, '-bx')\n",
    "    plt.plot(x, val_metrics, '-rx')\n",
    "    \n",
    "    plt.tick_params(labelcolor='g')\n",
    "    plt.xticks(np.linspace(1, epoch, int(epoch/5)))\n",
    "    \n",
    "    plt.xlabel('epoch')\n",
    "    plt.ylabel('accuracy')\n",
    "    plt.legend(['Training', 'Validation'])\n",
    "    plt.title('Accuracy vs. No. of epochs')"
   ]
  },
  {
   "cell_type": "code",
   "execution_count": 87,
   "id": "9552de34",
   "metadata": {},
   "outputs": [
    {
     "data": {
      "image/png": "[encoded data removed]",
      "text/plain": [
       "<Figure size 432x288 with 1 Axes>"
      ]
     },
     "metadata": {
      "needs_background": "light"
     },
     "output_type": "display_data"
    }
   ],
   "source": [
    "plot_accuracies(num_epochs, train_metrics, val_metrics)"
   ]
  },
  {
   "cell_type": "code",
   "execution_count": 88,
   "id": "c2cf5a08",
   "metadata": {},
   "outputs": [],
   "source": [
    "def plot_losses(epoch, train_losses, val_losses):\n",
    "    #train_losses = [x.get('train_losses') for x in history]\n",
    "    #val_losses = [x['val_losses'] for x in history]\n",
    "    x = np.arange(1, epoch+1, 1)\n",
    "    \n",
    "    plt.plot(x, train_losses, '-bx')\n",
    "    plt.plot(x, val_losses, '-rx')\n",
    "    \n",
    "    plt.tick_params(labelcolor='g')\n",
    "    plt.xticks(np.linspace(1, epoch, 5))\n",
    "    \n",
    "    plt.xlabel('epoch')\n",
    "    plt.ylabel('loss')\n",
    "    plt.legend(['Training', 'Validation'])\n",
    "    plt.title('Loss vs. No. of epochs')"
   ]
  },
  {
   "cell_type": "code",
   "execution_count": 89,
   "id": "876c539d",
   "metadata": {},
   "outputs": [
    {
     "data": {
      "image/png": "[encoded data removed]",
      "text/plain": [
       "<Figure size 432x288 with 1 Axes>"
      ]
     },
     "metadata": {
      "needs_background": "light"
     },
     "output_type": "display_data"
    }
   ],
   "source": [
    "plot_losses(num_epochs, train_losses, val_losses)"
   ]
  },
  {
   "cell_type": "code",
   "execution_count": 90,
   "id": "5a6ac8ea",
   "metadata": {},
   "outputs": [
    {
     "data": {
      "text/plain": [
       "(29.28152121267011, 1984, 0.10383064516129033)"
      ]
     },
     "execution_count": 90,
     "metadata": {},
     "output_type": "execute_result"
    }
   ],
   "source": [
    "result = evaluate(loaded_model, loss_Function, test_dl, accuracy)\n",
    "result"
   ]
  },
  {
   "cell_type": "code",
   "execution_count": null,
   "id": "6e29eab1",
   "metadata": {},
   "outputs": [],
   "source": [
    "torch.save(loaded_model.state_dict(), 'el_lfw_fineTune_cosface_01Mar.pth')"
   ]
  },
  {
   "cell_type": "code",
   "execution_count": null,
   "id": "74214a2b",
   "metadata": {},
   "outputs": [],
   "source": [
    "torch.save(new_logits, 'kernel_weights_lfw_fineTune_cosface_01Mar.pt')"
   ]
  },
  {
   "cell_type": "code",
   "execution_count": null,
   "id": "385e0fed",
   "metadata": {},
   "outputs": [],
   "source": [
    "def prepare_plot(image, origTarget, predTarget, size=5):\n",
    "    plt.rcParams[\"figure.figsize\"] = (15*size/25, 15*size/5)\n",
    "    rand = np.random.randint(0, 128, size)\n",
    "    \n",
    "    for i in range(size):\n",
    "        plt.subplot(size, 3, 3*i+1)\n",
    "        plt.imshow(image[rand[i]])\n",
    "        plt.axis('off')\n",
    "        \n",
    "        plt.subplot(size, 3, 3*i+2)\n",
    "        plt.axis('off')\n",
    "        plt.title('Actual id: ' + str(origTarget[rand[i]]) + '\\n Predicted id: ' + str(predTarget[rand[i]]))\n",
    "        \n",
    "        plt.subplot(size, 3, 3*i+3)\n",
    "        plt.axis('off')\n",
    "        if(origTarget[rand[i]] == predTarget[rand[i]]):\n",
    "            plt.title('\\n\\n MATCHED!', fontsize = 12, color='g')\n",
    "        else:\n",
    "            plt.title('\\n\\n MIS-MATCHED!', fontsize = 15, color='r')\n",
    "    \n",
    "    plt.show()"
   ]
  },
  {
   "cell_type": "code",
   "execution_count": null,
   "id": "44266c7e",
   "metadata": {},
   "outputs": [],
   "source": [
    "def make_predictions(model, dataLoader, size):\n",
    "    with torch.no_grad():\n",
    "        #set the model in evaluation mode\n",
    "        model.eval()\n",
    "        \n",
    "        for xb, yb in dataLoader:\n",
    "            features = F.normalize(model(xb))\n",
    "            pred = new_logits(features, yb)\n",
    "            \n",
    "            softmax = F.softmax(pred, dim=1)\n",
    "            #print(softmax)\n",
    "            sum_check = torch.sum(softmax, dim=1)\n",
    "            #print(sum_check)\n",
    "            max_value = torch.max(softmax, dim=1)[1]\n",
    "            #print(\"Predicted labels: \", max_value)\n",
    "            #print(\"Actual labels: \", yb)\n",
    "            \n",
    "            matches = max_value == yb\n",
    "            #print(matches)\n",
    "\n",
    "            invTransform = transforms.Compose(\n",
    "                [transforms.Normalize(mean=[0., 0., 0.], std=[1/0.5, 1/0.5, 1/0.5]),\n",
    "                 transforms.Normalize(mean=[-0.5, -0.5, -0.5], std=[1, 1, 1]),\n",
    "                ])\n",
    "            xb = invTransform(xb)\n",
    "    \n",
    "            xb = xb.cpu().numpy() #Convert the tensor input into a numpy object\n",
    "            #print(xb.shape)\n",
    "\n",
    "            xb = np.transpose(xb, (0, 2, 3, 1)) #Shifting the channel into the 3rd dimension       \n",
    "            print(xb.shape)\n",
    "\n",
    "            yb = yb.cpu().numpy() #Convert the tensor input into a numpy object\n",
    "            #print(yb[0])\n",
    "\n",
    "            max_value = max_value.cpu().numpy() #Convert the tensor input into a numpy object\n",
    "            #print(max_value[0])\n",
    "\n",
    "            prepare_plot(xb, yb, max_value, size)\n",
    "            \n",
    "            break"
   ]
  },
  {
   "cell_type": "code",
   "execution_count": null,
   "id": "f00e970e",
   "metadata": {},
   "outputs": [],
   "source": [
    "make_predictions(loaded_model, val_dl, 10)"
   ]
  },
  {
   "cell_type": "code",
   "execution_count": null,
   "id": "018a7e8e",
   "metadata": {},
   "outputs": [],
   "source": [
    "# def train_model(model, criterion, optimizer, scheduler, num_epochs=10):\n",
    "#     since = time.time()\n",
    "\n",
    "#     best_model_wts = copy.deepcopy(model.state_dict())\n",
    "#     best_acc = 0.0\n",
    "\n",
    "#     for epoch in range(num_epochs):\n",
    "#         print(f'Epoch {epoch}/{num_epochs - 1}')\n",
    "#         print('-' * 10)\n",
    "\n",
    "#         # Each epoch has a training and validation phase\n",
    "#         for phase in ['train', 'val']:\n",
    "#             if phase == 'train':\n",
    "#                 model.train()  # Set model to training mode\n",
    "#                 dataloader = train_dl\n",
    "#             else:\n",
    "#                 model.eval()   # Set model to evaluate mode\n",
    "#                 dataloader = val_dl\n",
    "\n",
    "#             len_input = 0\n",
    "#             running_loss = 0.0\n",
    "#             running_corrects = 0\n",
    "\n",
    "#             # Iterate over data.\n",
    "#             for inputs, labels in dataloader:\n",
    "#                 # zero the parameter gradients\n",
    "#                 optimizer.zero_grad()\n",
    "\n",
    "#                 # forward\n",
    "#                 # track history if only in train\n",
    "#                 with torch.set_grad_enabled(phase == 'train'):\n",
    "#                     outputs = model(inputs)\n",
    "#                     _, preds = torch.max(outputs, 1)\n",
    "#                     loss = criterion(outputs, labels)\n",
    "\n",
    "#                     # backward + optimize only if in training phase\n",
    "#                     if phase == 'train':\n",
    "#                         loss.backward()\n",
    "#                         optimizer.step()\n",
    "\n",
    "#                 # statistics\n",
    "#                 len_input += len(inputs)\n",
    "#                 running_loss += loss.item() * len(inputs)\n",
    "#                 running_corrects += torch.sum(preds == labels).item() / len(preds)\n",
    "#             if phase == 'train':\n",
    "#                 scheduler.step()\n",
    "\n",
    "#             epoch_loss = running_loss / len_input\n",
    "#             epoch_acc = running_corrects / len_input\n",
    "\n",
    "#             print(f'{phase} Loss: {epoch_loss:.4f} Acc: {epoch_acc:.4f}')\n",
    "\n",
    "#             # deep copy the model\n",
    "#             if phase == 'val' and epoch_acc > best_acc:\n",
    "#                 best_acc = epoch_acc\n",
    "#                 best_model_wts = copy.deepcopy(model.state_dict())\n",
    "\n",
    "#         print()\n",
    "\n",
    "#     time_elapsed = time.time() - since\n",
    "#     print(f'Training complete in {time_elapsed // 60:.0f}m {time_elapsed % 60:.0f}s')\n",
    "#     print(f'Best val Acc: {best_acc:4f}')\n",
    "\n",
    "#     # load best model weights\n",
    "#     model.load_state_dict(best_model_wts)\n",
    "#     return model"
   ]
  },
  {
   "cell_type": "code",
   "execution_count": null,
   "id": "2b7528ec",
   "metadata": {},
   "outputs": [],
   "source": [
    "# criterion = F.cross_entropy\n",
    "\n",
    "# # Observe that all parameters are being optimized\n",
    "# optimizer_ft = torch.optim.SGD(loaded_model.parameters(), lr=0.001, momentum=0.9)\n",
    "\n",
    "# # Decay LR by a factor of 0.1 every 7 epochs\n",
    "# exp_lr_scheduler = torch.optim.lr_scheduler.StepLR(optimizer_ft, step_size=7, gamma=0.1)"
   ]
  },
  {
   "cell_type": "code",
   "execution_count": null,
   "id": "a00f7aa7",
   "metadata": {},
   "outputs": [],
   "source": [
    "# model_ft = train_model(loaded_model, criterion, optimizer_ft, exp_lr_scheduler,\n",
    "#                        num_epochs=10)"
   ]
  }
 ],
 "metadata": {
  "kernelspec": {
   "display_name": "Python 3 (ipykernel)",
   "language": "python",
   "name": "python3"
  },
  "language_info": {
   "codemirror_mode": {
    "name": "ipython",
    "version": 3
   },
   "file_extension": ".py",
   "mimetype": "text/x-python",
   "name": "python",
   "nbconvert_exporter": "python",
   "pygments_lexer": "ipython3",
   "version": "3.9.7"
  },
  "vscode": {
   "interpreter": {
    "hash": "30e3098e232922ef8af6bcedc394d6daeb7d6c4c3c2a21ed9c9ad4ca5d735aae"
   }
  }
 },
 "nbformat": 4,
 "nbformat_minor": 5
}
