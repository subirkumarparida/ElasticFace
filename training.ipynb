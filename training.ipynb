{
 "cells": [
  {
   "cell_type": "code",
   "execution_count": 1,
   "id": "0c5594d6",
   "metadata": {},
   "outputs": [],
   "source": [
    "import os\n",
    "import cv2\n",
    "import math\n",
    "import time\n",
    "import tarfile\n",
    "import numbers\n",
    "import threading\n",
    "import queue as Queue\n",
    "import numpy as np\n",
    "import pandas as pd\n",
    "import matplotlib\n",
    "import matplotlib.pyplot as plt\n",
    "\n",
    "import torch\n",
    "import torchvision\n",
    "import torch.nn as nn\n",
    "import torch.nn.functional as F\n",
    "from torchvision import transforms\n",
    "from torchvision.transforms import ToTensor\n",
    "from torchvision.datasets import ImageFolder\n",
    "from torchvision.datasets.utils import download_url\n",
    "#from torch.utils.data.dataloader import DataLoader\n",
    "from torch.utils.data import random_split, DataLoader, Dataset\n",
    "from torchsummary import summary"
   ]
  },
  {
   "cell_type": "code",
   "execution_count": 2,
   "id": "e80ad28c",
   "metadata": {},
   "outputs": [],
   "source": [
    "import mxnet as mx\n",
    "from mxnet import recordio"
   ]
  },
  {
   "cell_type": "code",
   "execution_count": 3,
   "id": "f893ecd0",
   "metadata": {},
   "outputs": [],
   "source": [
    "import warnings\n",
    "warnings.filterwarnings(\"ignore\", category=DeprecationWarning)"
   ]
  },
  {
   "cell_type": "code",
   "execution_count": 4,
   "id": "d15069d8",
   "metadata": {},
   "outputs": [],
   "source": [
    "random_seed = 42\n",
    "torch.manual_seed(random_seed);"
   ]
  },
  {
   "cell_type": "code",
   "execution_count": 5,
   "id": "352b4dd3",
   "metadata": {},
   "outputs": [],
   "source": [
    "torch.set_printoptions(edgeitems=5)"
   ]
  },
  {
   "cell_type": "code",
   "execution_count": 6,
   "id": "e99bc61c",
   "metadata": {},
   "outputs": [],
   "source": [
    "def get_default_device():\n",
    "    \"\"\"Pick GPU if available, else CPU\"\"\"\n",
    "    if torch.cuda.is_available():\n",
    "        return torch.device('cuda')\n",
    "    else:\n",
    "        return torch.device('cpu')\n",
    "\n",
    "def to_device(data, device):\n",
    "    \"\"\"Move tensor(s) to chosen device\"\"\"\n",
    "    if isinstance(data, (list,tuple)):\n",
    "        return [to_device(x, device) for x in data]\n",
    "    return data.to(device, non_blocking=True)\n",
    "\n",
    "class DeviceDataLoader():\n",
    "    \"\"\"Wrap a dataloader to move data to a device\"\"\"\n",
    "    def __init__(self, dl, device):\n",
    "        self.dl = dl\n",
    "        self.device = device\n",
    "        \n",
    "    def __iter__(self):\n",
    "        \"\"\"Yield a batch of data after moving it to device\"\"\"\n",
    "        for b in self.dl: \n",
    "            yield to_device(b, self.device)\n",
    "\n",
    "    def __len__(self):\n",
    "        \"\"\"Number of batches\"\"\"\n",
    "        return len(self.dl)"
   ]
  },
  {
   "cell_type": "code",
   "execution_count": 7,
   "id": "c4db4eda",
   "metadata": {},
   "outputs": [],
   "source": [
    "device = get_default_device()"
   ]
  },
  {
   "cell_type": "code",
   "execution_count": 8,
   "id": "34b8383e",
   "metadata": {},
   "outputs": [
    {
     "data": {
      "text/plain": [
       "device(type='cuda')"
      ]
     },
     "execution_count": 8,
     "metadata": {},
     "output_type": "execute_result"
    }
   ],
   "source": [
    "device"
   ]
  },
  {
   "cell_type": "code",
   "execution_count": 9,
   "id": "0d35307c",
   "metadata": {},
   "outputs": [],
   "source": [
    "#os.environ[\"KMP_DUPLICATE_LIB_OK\"]=\"TRUE\""
   ]
  },
  {
   "cell_type": "code",
   "execution_count": null,
   "id": "5b517875",
   "metadata": {},
   "outputs": [],
   "source": []
  },
  {
   "cell_type": "code",
   "execution_count": 10,
   "id": "96037708",
   "metadata": {},
   "outputs": [],
   "source": [
    "def conv_2d(ni, nf, ks, stride=1):\n",
    "    return nn.Conv2d(in_channels=ni, out_channels=nf, kernel_size=ks, stride=stride, padding=ks//2, bias=False)\n",
    "\n",
    "def bn_relu_conv(ni, nf, ks):\n",
    "    return nn.Sequential(nn.BatchNorm2d(ni), \n",
    "                       nn.ReLU(inplace=True),\n",
    "                       conv_2d(ni, nf, ks))"
   ]
  },
  {
   "cell_type": "code",
   "execution_count": 11,
   "id": "c3d08619",
   "metadata": {},
   "outputs": [],
   "source": [
    "class ResBlock(nn.Module):\n",
    "    def __init__(self, ni, nf, stride=1):\n",
    "        super().__init__()\n",
    "        if ni > 100:\n",
    "            temp = ni * 2\n",
    "        else:\n",
    "            temp = ni\n",
    "        self.bn = nn.BatchNorm2d(temp)\n",
    "        self.conv1 = conv_2d(temp, ni, 1, stride)\n",
    "        self.conv2 = bn_relu_conv(ni, ni, ks=3)\n",
    "        self.conv3 = bn_relu_conv(ni, nf, ks=1)\n",
    "        self.shortcut = lambda x: x\n",
    "        if ni != nf:\n",
    "            self.shortcut = conv_2d(temp, nf, 1, stride)\n",
    "\n",
    "    def forward(self, x):\n",
    "        #print(\"Inside Res Block1\")\n",
    "        #print(x.shape)\n",
    "        x = F.relu(self.bn(x), inplace=True)\n",
    "        #print(x.shape)\n",
    "        r1 = self.shortcut(x)\n",
    "        #print(r1.shape)\n",
    "        x = self.conv1(x)\n",
    "        x = self.conv2(x)\n",
    "        x = self.conv3(x) * 0.2\n",
    "        #print(x.shape)\n",
    "        return x.add_(r1)"
   ]
  },
  {
   "cell_type": "code",
   "execution_count": 12,
   "id": "11cee5c5",
   "metadata": {},
   "outputs": [],
   "source": [
    "class ResBlock2(nn.Module):\n",
    "    def __init__(self, ni, nf, stride=1):\n",
    "        super().__init__()\n",
    "        self.bn = nn.BatchNorm2d(ni)\n",
    "        self.conv1 = conv_2d(ni, nf, 1, stride)\n",
    "        self.conv2 = bn_relu_conv(nf, nf, ks=3)\n",
    "        self.conv3 = bn_relu_conv(nf, ni, ks=1)\n",
    "        self.shortcut = lambda x: x\n",
    "#        if ni != nf:\n",
    "#            self.shortcut = conv_2d(ni, nf, 1, 1)\n",
    "\n",
    "    def forward(self, x):\n",
    "        #print(\"Inside Res Block2\")\n",
    "        #print(x.shape)\n",
    "        x = F.relu(self.bn(x), inplace=True)\n",
    "        #print(x.shape)\n",
    "        r = self.shortcut(x)\n",
    "        #print(r.shape)\n",
    "        x = self.conv1(x)\n",
    "        x = self.conv2(x)\n",
    "        x = self.conv3(x) * 0.2\n",
    "        return x.add_(r)"
   ]
  },
  {
   "cell_type": "code",
   "execution_count": 13,
   "id": "f6445597",
   "metadata": {},
   "outputs": [],
   "source": [
    "def make_group(N, ni, nf, stride):\n",
    "    start = ResBlock(ni, nf, stride)\n",
    "    rest = [ResBlock2(nf, ni) for j in range(1, N)]\n",
    "    return [start] + rest"
   ]
  },
  {
   "cell_type": "code",
   "execution_count": 14,
   "id": "acb13429",
   "metadata": {},
   "outputs": [],
   "source": [
    "class Flatten(nn.Module):\n",
    "    def __init__(self):\n",
    "        super().__init__()\n",
    "    \n",
    "    def forward(self, x):\n",
    "        return x.view(x.size(0), -1)"
   ]
  },
  {
   "cell_type": "code",
   "execution_count": 15,
   "id": "af85093e",
   "metadata": {},
   "outputs": [],
   "source": [
    "class MyResNet(nn.Module):\n",
    "    def __init__(self, n_groups, N, n_classes, k=1, n_start=64):\n",
    "        super().__init__()\n",
    "        #Increase channels\n",
    "        layers = [conv_2d(3, 64, ks=7, stride=2)]\n",
    "        layers += [nn.MaxPool2d(kernel_size=3, stride=2, padding=1)]\n",
    "        n_channels = [n_start]\n",
    "\n",
    "        #Add groups\n",
    "        for i in range(n_groups):\n",
    "            n_channels.append(n_start*(2**i)*k)\n",
    "            stride = 2 if i>0 else 1\n",
    "            layers += make_group(N[i], n_channels[i], n_channels[i]*4, stride)\n",
    "\n",
    "        #Pool, Flatten, and add linear layer for classification  \n",
    "        layers += [nn.BatchNorm2d(n_channels[n_groups]*2),\n",
    "                   nn.ReLU(inplace=True),\n",
    "                   nn.AdaptiveAvgPool2d(1),\n",
    "                   #nn.AvgPool2d(kernel_size=2, stride=2), \n",
    "                   Flatten(), \n",
    "                   nn.Linear(n_channels[n_groups]*2, n_classes)]\n",
    "    \n",
    "        self.features = nn.Sequential(*layers)\n",
    "        \n",
    "    def forward(self, x):\n",
    "        #a = self.features(x)\n",
    "        #print(a.shape)\n",
    "        return self.features(x)"
   ]
  },
  {
   "cell_type": "code",
   "execution_count": 16,
   "id": "a1871ccf",
   "metadata": {},
   "outputs": [],
   "source": [
    "#Number of blocks at various groups\n",
    "N_50 = [3, 4, 6, 3]\n",
    "N_101 = [3, 4, 23, 3]\n",
    "N_152 = [3, 8, 36, 3]\n",
    "\n",
    "def ResNet50(n_classes):\n",
    "    return MyResNet(4, N_50, n_classes, k=2)\n",
    "\n",
    "def ResNet101(n_classes):\n",
    "    return MyResNet(4, N_101, n_classes, k=2)\n",
    "\n",
    "def ResNet152(n_classes):\n",
    "    return MyResNet(4, N_152, n_classes, k=2)"
   ]
  },
  {
   "cell_type": "code",
   "execution_count": 17,
   "id": "1cb95a40",
   "metadata": {},
   "outputs": [],
   "source": [
    "test_model = ResNet50(10)"
   ]
  },
  {
   "cell_type": "code",
   "execution_count": 18,
   "id": "f8fbaccc",
   "metadata": {},
   "outputs": [
    {
     "data": {
      "text/plain": [
       "MyResNet(\n",
       "  (features): Sequential(\n",
       "    (0): Conv2d(3, 64, kernel_size=(7, 7), stride=(2, 2), padding=(3, 3), bias=False)\n",
       "    (1): MaxPool2d(kernel_size=3, stride=2, padding=1, dilation=1, ceil_mode=False)\n",
       "    (2): ResBlock(\n",
       "      (bn): BatchNorm2d(64, eps=1e-05, momentum=0.1, affine=True, track_running_stats=True)\n",
       "      (conv1): Conv2d(64, 64, kernel_size=(1, 1), stride=(1, 1), bias=False)\n",
       "      (conv2): Sequential(\n",
       "        (0): BatchNorm2d(64, eps=1e-05, momentum=0.1, affine=True, track_running_stats=True)\n",
       "        (1): ReLU(inplace=True)\n",
       "        (2): Conv2d(64, 64, kernel_size=(3, 3), stride=(1, 1), padding=(1, 1), bias=False)\n",
       "      )\n",
       "      (conv3): Sequential(\n",
       "        (0): BatchNorm2d(64, eps=1e-05, momentum=0.1, affine=True, track_running_stats=True)\n",
       "        (1): ReLU(inplace=True)\n",
       "        (2): Conv2d(64, 256, kernel_size=(1, 1), stride=(1, 1), bias=False)\n",
       "      )\n",
       "      (shortcut): Conv2d(64, 256, kernel_size=(1, 1), stride=(1, 1), bias=False)\n",
       "    )\n",
       "    (3): ResBlock2(\n",
       "      (bn): BatchNorm2d(256, eps=1e-05, momentum=0.1, affine=True, track_running_stats=True)\n",
       "      (conv1): Conv2d(256, 64, kernel_size=(1, 1), stride=(1, 1), bias=False)\n",
       "      (conv2): Sequential(\n",
       "        (0): BatchNorm2d(64, eps=1e-05, momentum=0.1, affine=True, track_running_stats=True)\n",
       "        (1): ReLU(inplace=True)\n",
       "        (2): Conv2d(64, 64, kernel_size=(3, 3), stride=(1, 1), padding=(1, 1), bias=False)\n",
       "      )\n",
       "      (conv3): Sequential(\n",
       "        (0): BatchNorm2d(64, eps=1e-05, momentum=0.1, affine=True, track_running_stats=True)\n",
       "        (1): ReLU(inplace=True)\n",
       "        (2): Conv2d(64, 256, kernel_size=(1, 1), stride=(1, 1), bias=False)\n",
       "      )\n",
       "    )\n",
       "    (4): ResBlock2(\n",
       "      (bn): BatchNorm2d(256, eps=1e-05, momentum=0.1, affine=True, track_running_stats=True)\n",
       "      (conv1): Conv2d(256, 64, kernel_size=(1, 1), stride=(1, 1), bias=False)\n",
       "      (conv2): Sequential(\n",
       "        (0): BatchNorm2d(64, eps=1e-05, momentum=0.1, affine=True, track_running_stats=True)\n",
       "        (1): ReLU(inplace=True)\n",
       "        (2): Conv2d(64, 64, kernel_size=(3, 3), stride=(1, 1), padding=(1, 1), bias=False)\n",
       "      )\n",
       "      (conv3): Sequential(\n",
       "        (0): BatchNorm2d(64, eps=1e-05, momentum=0.1, affine=True, track_running_stats=True)\n",
       "        (1): ReLU(inplace=True)\n",
       "        (2): Conv2d(64, 256, kernel_size=(1, 1), stride=(1, 1), bias=False)\n",
       "      )\n",
       "    )\n",
       "    (5): ResBlock(\n",
       "      (bn): BatchNorm2d(256, eps=1e-05, momentum=0.1, affine=True, track_running_stats=True)\n",
       "      (conv1): Conv2d(256, 128, kernel_size=(1, 1), stride=(2, 2), bias=False)\n",
       "      (conv2): Sequential(\n",
       "        (0): BatchNorm2d(128, eps=1e-05, momentum=0.1, affine=True, track_running_stats=True)\n",
       "        (1): ReLU(inplace=True)\n",
       "        (2): Conv2d(128, 128, kernel_size=(3, 3), stride=(1, 1), padding=(1, 1), bias=False)\n",
       "      )\n",
       "      (conv3): Sequential(\n",
       "        (0): BatchNorm2d(128, eps=1e-05, momentum=0.1, affine=True, track_running_stats=True)\n",
       "        (1): ReLU(inplace=True)\n",
       "        (2): Conv2d(128, 512, kernel_size=(1, 1), stride=(1, 1), bias=False)\n",
       "      )\n",
       "      (shortcut): Conv2d(256, 512, kernel_size=(1, 1), stride=(2, 2), bias=False)\n",
       "    )\n",
       "    (6): ResBlock2(\n",
       "      (bn): BatchNorm2d(512, eps=1e-05, momentum=0.1, affine=True, track_running_stats=True)\n",
       "      (conv1): Conv2d(512, 128, kernel_size=(1, 1), stride=(1, 1), bias=False)\n",
       "      (conv2): Sequential(\n",
       "        (0): BatchNorm2d(128, eps=1e-05, momentum=0.1, affine=True, track_running_stats=True)\n",
       "        (1): ReLU(inplace=True)\n",
       "        (2): Conv2d(128, 128, kernel_size=(3, 3), stride=(1, 1), padding=(1, 1), bias=False)\n",
       "      )\n",
       "      (conv3): Sequential(\n",
       "        (0): BatchNorm2d(128, eps=1e-05, momentum=0.1, affine=True, track_running_stats=True)\n",
       "        (1): ReLU(inplace=True)\n",
       "        (2): Conv2d(128, 512, kernel_size=(1, 1), stride=(1, 1), bias=False)\n",
       "      )\n",
       "    )\n",
       "    (7): ResBlock2(\n",
       "      (bn): BatchNorm2d(512, eps=1e-05, momentum=0.1, affine=True, track_running_stats=True)\n",
       "      (conv1): Conv2d(512, 128, kernel_size=(1, 1), stride=(1, 1), bias=False)\n",
       "      (conv2): Sequential(\n",
       "        (0): BatchNorm2d(128, eps=1e-05, momentum=0.1, affine=True, track_running_stats=True)\n",
       "        (1): ReLU(inplace=True)\n",
       "        (2): Conv2d(128, 128, kernel_size=(3, 3), stride=(1, 1), padding=(1, 1), bias=False)\n",
       "      )\n",
       "      (conv3): Sequential(\n",
       "        (0): BatchNorm2d(128, eps=1e-05, momentum=0.1, affine=True, track_running_stats=True)\n",
       "        (1): ReLU(inplace=True)\n",
       "        (2): Conv2d(128, 512, kernel_size=(1, 1), stride=(1, 1), bias=False)\n",
       "      )\n",
       "    )\n",
       "    (8): ResBlock2(\n",
       "      (bn): BatchNorm2d(512, eps=1e-05, momentum=0.1, affine=True, track_running_stats=True)\n",
       "      (conv1): Conv2d(512, 128, kernel_size=(1, 1), stride=(1, 1), bias=False)\n",
       "      (conv2): Sequential(\n",
       "        (0): BatchNorm2d(128, eps=1e-05, momentum=0.1, affine=True, track_running_stats=True)\n",
       "        (1): ReLU(inplace=True)\n",
       "        (2): Conv2d(128, 128, kernel_size=(3, 3), stride=(1, 1), padding=(1, 1), bias=False)\n",
       "      )\n",
       "      (conv3): Sequential(\n",
       "        (0): BatchNorm2d(128, eps=1e-05, momentum=0.1, affine=True, track_running_stats=True)\n",
       "        (1): ReLU(inplace=True)\n",
       "        (2): Conv2d(128, 512, kernel_size=(1, 1), stride=(1, 1), bias=False)\n",
       "      )\n",
       "    )\n",
       "    (9): ResBlock(\n",
       "      (bn): BatchNorm2d(512, eps=1e-05, momentum=0.1, affine=True, track_running_stats=True)\n",
       "      (conv1): Conv2d(512, 256, kernel_size=(1, 1), stride=(2, 2), bias=False)\n",
       "      (conv2): Sequential(\n",
       "        (0): BatchNorm2d(256, eps=1e-05, momentum=0.1, affine=True, track_running_stats=True)\n",
       "        (1): ReLU(inplace=True)\n",
       "        (2): Conv2d(256, 256, kernel_size=(3, 3), stride=(1, 1), padding=(1, 1), bias=False)\n",
       "      )\n",
       "      (conv3): Sequential(\n",
       "        (0): BatchNorm2d(256, eps=1e-05, momentum=0.1, affine=True, track_running_stats=True)\n",
       "        (1): ReLU(inplace=True)\n",
       "        (2): Conv2d(256, 1024, kernel_size=(1, 1), stride=(1, 1), bias=False)\n",
       "      )\n",
       "      (shortcut): Conv2d(512, 1024, kernel_size=(1, 1), stride=(2, 2), bias=False)\n",
       "    )\n",
       "    (10): ResBlock2(\n",
       "      (bn): BatchNorm2d(1024, eps=1e-05, momentum=0.1, affine=True, track_running_stats=True)\n",
       "      (conv1): Conv2d(1024, 256, kernel_size=(1, 1), stride=(1, 1), bias=False)\n",
       "      (conv2): Sequential(\n",
       "        (0): BatchNorm2d(256, eps=1e-05, momentum=0.1, affine=True, track_running_stats=True)\n",
       "        (1): ReLU(inplace=True)\n",
       "        (2): Conv2d(256, 256, kernel_size=(3, 3), stride=(1, 1), padding=(1, 1), bias=False)\n",
       "      )\n",
       "      (conv3): Sequential(\n",
       "        (0): BatchNorm2d(256, eps=1e-05, momentum=0.1, affine=True, track_running_stats=True)\n",
       "        (1): ReLU(inplace=True)\n",
       "        (2): Conv2d(256, 1024, kernel_size=(1, 1), stride=(1, 1), bias=False)\n",
       "      )\n",
       "    )\n",
       "    (11): ResBlock2(\n",
       "      (bn): BatchNorm2d(1024, eps=1e-05, momentum=0.1, affine=True, track_running_stats=True)\n",
       "      (conv1): Conv2d(1024, 256, kernel_size=(1, 1), stride=(1, 1), bias=False)\n",
       "      (conv2): Sequential(\n",
       "        (0): BatchNorm2d(256, eps=1e-05, momentum=0.1, affine=True, track_running_stats=True)\n",
       "        (1): ReLU(inplace=True)\n",
       "        (2): Conv2d(256, 256, kernel_size=(3, 3), stride=(1, 1), padding=(1, 1), bias=False)\n",
       "      )\n",
       "      (conv3): Sequential(\n",
       "        (0): BatchNorm2d(256, eps=1e-05, momentum=0.1, affine=True, track_running_stats=True)\n",
       "        (1): ReLU(inplace=True)\n",
       "        (2): Conv2d(256, 1024, kernel_size=(1, 1), stride=(1, 1), bias=False)\n",
       "      )\n",
       "    )\n",
       "    (12): ResBlock2(\n",
       "      (bn): BatchNorm2d(1024, eps=1e-05, momentum=0.1, affine=True, track_running_stats=True)\n",
       "      (conv1): Conv2d(1024, 256, kernel_size=(1, 1), stride=(1, 1), bias=False)\n",
       "      (conv2): Sequential(\n",
       "        (0): BatchNorm2d(256, eps=1e-05, momentum=0.1, affine=True, track_running_stats=True)\n",
       "        (1): ReLU(inplace=True)\n",
       "        (2): Conv2d(256, 256, kernel_size=(3, 3), stride=(1, 1), padding=(1, 1), bias=False)\n",
       "      )\n",
       "      (conv3): Sequential(\n",
       "        (0): BatchNorm2d(256, eps=1e-05, momentum=0.1, affine=True, track_running_stats=True)\n",
       "        (1): ReLU(inplace=True)\n",
       "        (2): Conv2d(256, 1024, kernel_size=(1, 1), stride=(1, 1), bias=False)\n",
       "      )\n",
       "    )\n",
       "    (13): ResBlock2(\n",
       "      (bn): BatchNorm2d(1024, eps=1e-05, momentum=0.1, affine=True, track_running_stats=True)\n",
       "      (conv1): Conv2d(1024, 256, kernel_size=(1, 1), stride=(1, 1), bias=False)\n",
       "      (conv2): Sequential(\n",
       "        (0): BatchNorm2d(256, eps=1e-05, momentum=0.1, affine=True, track_running_stats=True)\n",
       "        (1): ReLU(inplace=True)\n",
       "        (2): Conv2d(256, 256, kernel_size=(3, 3), stride=(1, 1), padding=(1, 1), bias=False)\n",
       "      )\n",
       "      (conv3): Sequential(\n",
       "        (0): BatchNorm2d(256, eps=1e-05, momentum=0.1, affine=True, track_running_stats=True)\n",
       "        (1): ReLU(inplace=True)\n",
       "        (2): Conv2d(256, 1024, kernel_size=(1, 1), stride=(1, 1), bias=False)\n",
       "      )\n",
       "    )\n",
       "    (14): ResBlock2(\n",
       "      (bn): BatchNorm2d(1024, eps=1e-05, momentum=0.1, affine=True, track_running_stats=True)\n",
       "      (conv1): Conv2d(1024, 256, kernel_size=(1, 1), stride=(1, 1), bias=False)\n",
       "      (conv2): Sequential(\n",
       "        (0): BatchNorm2d(256, eps=1e-05, momentum=0.1, affine=True, track_running_stats=True)\n",
       "        (1): ReLU(inplace=True)\n",
       "        (2): Conv2d(256, 256, kernel_size=(3, 3), stride=(1, 1), padding=(1, 1), bias=False)\n",
       "      )\n",
       "      (conv3): Sequential(\n",
       "        (0): BatchNorm2d(256, eps=1e-05, momentum=0.1, affine=True, track_running_stats=True)\n",
       "        (1): ReLU(inplace=True)\n",
       "        (2): Conv2d(256, 1024, kernel_size=(1, 1), stride=(1, 1), bias=False)\n",
       "      )\n",
       "    )\n",
       "    (15): ResBlock(\n",
       "      (bn): BatchNorm2d(1024, eps=1e-05, momentum=0.1, affine=True, track_running_stats=True)\n",
       "      (conv1): Conv2d(1024, 512, kernel_size=(1, 1), stride=(2, 2), bias=False)\n",
       "      (conv2): Sequential(\n",
       "        (0): BatchNorm2d(512, eps=1e-05, momentum=0.1, affine=True, track_running_stats=True)\n",
       "        (1): ReLU(inplace=True)\n",
       "        (2): Conv2d(512, 512, kernel_size=(3, 3), stride=(1, 1), padding=(1, 1), bias=False)\n",
       "      )\n",
       "      (conv3): Sequential(\n",
       "        (0): BatchNorm2d(512, eps=1e-05, momentum=0.1, affine=True, track_running_stats=True)\n",
       "        (1): ReLU(inplace=True)\n",
       "        (2): Conv2d(512, 2048, kernel_size=(1, 1), stride=(1, 1), bias=False)\n",
       "      )\n",
       "      (shortcut): Conv2d(1024, 2048, kernel_size=(1, 1), stride=(2, 2), bias=False)\n",
       "    )\n",
       "    (16): ResBlock2(\n",
       "      (bn): BatchNorm2d(2048, eps=1e-05, momentum=0.1, affine=True, track_running_stats=True)\n",
       "      (conv1): Conv2d(2048, 512, kernel_size=(1, 1), stride=(1, 1), bias=False)\n",
       "      (conv2): Sequential(\n",
       "        (0): BatchNorm2d(512, eps=1e-05, momentum=0.1, affine=True, track_running_stats=True)\n",
       "        (1): ReLU(inplace=True)\n",
       "        (2): Conv2d(512, 512, kernel_size=(3, 3), stride=(1, 1), padding=(1, 1), bias=False)\n",
       "      )\n",
       "      (conv3): Sequential(\n",
       "        (0): BatchNorm2d(512, eps=1e-05, momentum=0.1, affine=True, track_running_stats=True)\n",
       "        (1): ReLU(inplace=True)\n",
       "        (2): Conv2d(512, 2048, kernel_size=(1, 1), stride=(1, 1), bias=False)\n",
       "      )\n",
       "    )\n",
       "    (17): ResBlock2(\n",
       "      (bn): BatchNorm2d(2048, eps=1e-05, momentum=0.1, affine=True, track_running_stats=True)\n",
       "      (conv1): Conv2d(2048, 512, kernel_size=(1, 1), stride=(1, 1), bias=False)\n",
       "      (conv2): Sequential(\n",
       "        (0): BatchNorm2d(512, eps=1e-05, momentum=0.1, affine=True, track_running_stats=True)\n",
       "        (1): ReLU(inplace=True)\n",
       "        (2): Conv2d(512, 512, kernel_size=(3, 3), stride=(1, 1), padding=(1, 1), bias=False)\n",
       "      )\n",
       "      (conv3): Sequential(\n",
       "        (0): BatchNorm2d(512, eps=1e-05, momentum=0.1, affine=True, track_running_stats=True)\n",
       "        (1): ReLU(inplace=True)\n",
       "        (2): Conv2d(512, 2048, kernel_size=(1, 1), stride=(1, 1), bias=False)\n",
       "      )\n",
       "    )\n",
       "    (18): BatchNorm2d(2048, eps=1e-05, momentum=0.1, affine=True, track_running_stats=True)\n",
       "    (19): ReLU(inplace=True)\n",
       "    (20): AdaptiveAvgPool2d(output_size=1)\n",
       "    (21): Flatten()\n",
       "    (22): Linear(in_features=2048, out_features=10, bias=True)\n",
       "  )\n",
       ")"
      ]
     },
     "execution_count": 18,
     "metadata": {},
     "output_type": "execute_result"
    }
   ],
   "source": [
    "test_model"
   ]
  },
  {
   "cell_type": "code",
   "execution_count": 45,
   "id": "1156e7fe",
   "metadata": {},
   "outputs": [],
   "source": [
    "def test():\n",
    "    net = ResNet50(10)\n",
    "    x = torch.randn(2, 3, 112, 300)\n",
    "    y = net(x)\n",
    "    yy = F.softmax(y)\n",
    "    print(y)\n",
    "    print(yy)\n",
    "    print(y.shape)"
   ]
  },
  {
   "cell_type": "code",
   "execution_count": 46,
   "id": "32fec585",
   "metadata": {},
   "outputs": [
    {
     "name": "stdout",
     "output_type": "stream",
     "text": [
      "tensor([[-0.3216,  0.0955,  0.1098,  0.0244,  0.0938,  0.0781, -0.0361, -0.1905,\n",
      "         -0.1030,  0.1675],\n",
      "        [-0.1656,  0.1471,  0.0484,  0.0153,  0.0854, -0.0374,  0.0297, -0.1794,\n",
      "         -0.0468,  0.0965]], grad_fn=<AddmmBackward0>)\n",
      "tensor([[0.0723, 0.1098, 0.1114, 0.1023, 0.1096, 0.1079, 0.0963, 0.0825, 0.0900,\n",
      "         0.1180],\n",
      "        [0.0844, 0.1153, 0.1045, 0.1011, 0.1084, 0.0959, 0.1026, 0.0832, 0.0950,\n",
      "         0.1096]], grad_fn=<SoftmaxBackward0>)\n",
      "torch.Size([2, 10])\n"
     ]
    },
    {
     "name": "stderr",
     "output_type": "stream",
     "text": [
      "C:\\Users\\subir\\AppData\\Local\\Temp\\ipykernel_19396\\4214237238.py:5: UserWarning: Implicit dimension choice for softmax has been deprecated. Change the call to include dim=X as an argument.\n",
      "  yy = F.softmax(y)\n"
     ]
    }
   ],
   "source": [
    "test()"
   ]
  },
  {
   "cell_type": "code",
   "execution_count": null,
   "id": "83b63fee",
   "metadata": {},
   "outputs": [],
   "source": []
  },
  {
   "cell_type": "code",
   "execution_count": 21,
   "id": "414a6d2f",
   "metadata": {},
   "outputs": [],
   "source": [
    "# class ResNet_WIP(nn.Module):\n",
    "#     def __init__(self, n_groups, N, n_classes, k=1, n_start=64):\n",
    "#         super().__init__()\n",
    "#         #Increase channels\n",
    "#         self.layers = [conv_2d(3, 64, ks=7, stride=2)]\n",
    "#         self.layers += [nn.MaxPool2d(kernel_size=3, stride=2, padding=1)]\n",
    "#         n_channels = [n_start]\n",
    "\n",
    "#         #Add groups\n",
    "#         for i in range(n_groups):\n",
    "#             n_channels.append(n_start*(2**i)*k)\n",
    "#             stride = 2 if i>0 else 1\n",
    "#             self.layers += self.make_group(N[i], n_channels[i], n_channels[i]*4, stride)\n",
    "\n",
    "#         #Pool, Flatten, and add linear layer for classification  \n",
    "#         self.layers += [nn.BatchNorm2d(n_channels[n_groups]*2),\n",
    "#                    nn.ReLU(inplace=True),\n",
    "#                    nn.AdaptiveAvgPool2d(1),\n",
    "#                    #nn.AvgPool2d(kernel_size=2, stride=2), \n",
    "#                    Flatten(), \n",
    "#                    nn.Linear(n_channels[n_groups]*2, n_classes)]\n",
    "#                    #nn.Softmax(dim=1)]\n",
    "    \n",
    "#         self.features = nn.Sequential(*self.layers)\n",
    "        \n",
    "#     def forward(self, x):\n",
    "#         return self.features(x)\n",
    "\n",
    "#     def make_group(self, N, ni, nf, stride):\n",
    "#         start = ResBlock(ni, nf, stride)\n",
    "#         rest = [ResBlock2(nf, ni) for j in range(1, N)]\n",
    "#         return [start] + rest"
   ]
  },
  {
   "cell_type": "markdown",
   "id": "f343280a",
   "metadata": {},
   "source": [
    "# MS1M-ArcFace dataset"
   ]
  },
  {
   "cell_type": "code",
   "execution_count": 22,
   "id": "dbd63c03",
   "metadata": {},
   "outputs": [],
   "source": [
    "class ArcFaceDataset(Dataset):\n",
    "    def __init__(self, root_dir):\n",
    "        super(ArcFaceDataset, self).__init__()\n",
    "\n",
    "        self.transform = transforms.Compose(\n",
    "            [transforms.ToPILImage(),\n",
    "             transforms.RandomHorizontalFlip(),\n",
    "             transforms.ToTensor(),\n",
    "             transforms.Normalize(mean=[0.5, 0.5, 0.5], std=[0.5, 0.5, 0.5]),\n",
    "             ])\n",
    "        \n",
    "        self.root_dir = root_dir\n",
    "        #root_dir2 = \"D:/Face/faces_emore/\" #\"faces_emore/\"\n",
    "        \n",
    "        path_imgrec = os.path.join(root_dir, 'train.rec')\n",
    "        path_imgidx = os.path.join(root_dir, 'train.idx')\n",
    "        self.imgrec = mx.recordio.MXIndexedRecordIO(path_imgidx, path_imgrec, 'r')\n",
    "        s = self.imgrec.read_idx(0)\n",
    "        header, _ = mx.recordio.unpack(s)\n",
    "        \n",
    "        if header.flag > 0:\n",
    "            self.header0 = (int(header.label[0]), int(header.label[1]))\n",
    "            self.imgidx = np.array(range(1, int(header.label[0])))\n",
    "        else:\n",
    "            self.imgidx = np.array(list(self.imgrec.keys)) #List of numbers 1 .... 5908396\n",
    "\n",
    "    def __getitem__(self, index):\n",
    "        idx = self.imgidx[index]\n",
    "        s = self.imgrec.read_idx(idx)\n",
    "        header, img = mx.recordio.unpack(s)\n",
    "        label = header.label\n",
    "        if not isinstance(label, numbers.Number):\n",
    "            label = label[0]\n",
    "        label = torch.tensor(label, dtype=torch.long)\n",
    "        sample = mx.image.imdecode(img).asnumpy()\n",
    "        if self.transform is not None:\n",
    "            sample = self.transform(sample)\n",
    "        return sample, label\n",
    "\n",
    "    def __len__(self):\n",
    "        return len(self.imgidx)"
   ]
  },
  {
   "cell_type": "code",
   "execution_count": 24,
   "id": "19ca809b",
   "metadata": {},
   "outputs": [],
   "source": [
    "root_dir1 = \"faces_emore/\" #For Ubuntu\n",
    "root_dir2 = \"D:/Face/faces_emore/\" #For Windows\n",
    "\n",
    "dataset = ArcFaceDataset(root_dir2)"
   ]
  },
  {
   "cell_type": "code",
   "execution_count": 25,
   "id": "0380eb93",
   "metadata": {},
   "outputs": [
    {
     "data": {
      "text/plain": [
       "<__main__.ArcFaceDataset at 0x1cc077f4e50>"
      ]
     },
     "execution_count": 25,
     "metadata": {},
     "output_type": "execute_result"
    }
   ],
   "source": [
    "dataset"
   ]
  },
  {
   "cell_type": "code",
   "execution_count": 26,
   "id": "bd5d94cb",
   "metadata": {},
   "outputs": [
    {
     "data": {
      "text/plain": [
       "5822653"
      ]
     },
     "execution_count": 26,
     "metadata": {},
     "output_type": "execute_result"
    }
   ],
   "source": [
    "len(dataset)"
   ]
  },
  {
   "cell_type": "code",
   "execution_count": 27,
   "id": "5c79de9f",
   "metadata": {},
   "outputs": [],
   "source": [
    "# d_test = dataset[5:]"
   ]
  },
  {
   "cell_type": "code",
   "execution_count": 28,
   "id": "76579287",
   "metadata": {},
   "outputs": [
    {
     "name": "stdout",
     "output_type": "stream",
     "text": [
      "torch.Size([3, 112, 112]) tensor(0)\n",
      "torch.Size([112, 112, 3])\n"
     ]
    }
   ],
   "source": [
    "img, label = dataset[0]\n",
    "print(img.shape, label)\n",
    "\n",
    "img = torch.reshape(img, (112, 112, 3))\n",
    "print(img.shape)"
   ]
  },
  {
   "cell_type": "code",
   "execution_count": 29,
   "id": "5a5fc364",
   "metadata": {},
   "outputs": [
    {
     "name": "stderr",
     "output_type": "stream",
     "text": [
      "Clipping input data to the valid range for imshow with RGB data ([0..1] for floats or [0..255] for integers).\n"
     ]
    },
    {
     "data": {
      "text/plain": [
       "Text(0.5, 1.0, 'label = 0')"
      ]
     },
     "execution_count": 29,
     "metadata": {},
     "output_type": "execute_result"
    },
    {
     "data": {
      "image/png": "[encoded data removed]",
      "text/plain": [
       "<Figure size 432x288 with 1 Axes>"
      ]
     },
     "metadata": {
      "needs_background": "light"
     },
     "output_type": "display_data"
    }
   ],
   "source": [
    "plt.imshow(img)\n",
    "plt.title('label = ' + str(label.item()))"
   ]
  },
  {
   "cell_type": "code",
   "execution_count": 30,
   "id": "630207ab",
   "metadata": {},
   "outputs": [
    {
     "name": "stderr",
     "output_type": "stream",
     "text": [
      "Clipping input data to the valid range for imshow with RGB data ([0..1] for floats or [0..255] for integers).\n"
     ]
    },
    {
     "data": {
      "text/plain": [
       "Text(0.5, 1.0, 'label = 85741')"
      ]
     },
     "execution_count": 30,
     "metadata": {},
     "output_type": "execute_result"
    },
    {
     "data": {
      "image/png": "[encoded data removed]",
      "text/plain": [
       "<Figure size 432x288 with 1 Axes>"
      ]
     },
     "metadata": {
      "needs_background": "light"
     },
     "output_type": "display_data"
    }
   ],
   "source": [
    "img, label = dataset[5822652]\n",
    "img = torch.reshape(img, (112, 112, 3))\n",
    "\n",
    "plt.imshow(img)\n",
    "plt.title('label = ' + str(label.item()))"
   ]
  },
  {
   "cell_type": "code",
   "execution_count": 31,
   "id": "bc6077f1",
   "metadata": {},
   "outputs": [],
   "source": [
    "#Limiting the dataset for computation purposes\n",
    "\n",
    "lim_factor = 0.0001 #Set to 1 for using the entire dataset\n",
    "lim_size = int(lim_factor * len(dataset))\n",
    "lim_dataset_size = len(dataset) - lim_size\n",
    "\n",
    "large_ds, lim_ds = random_split(dataset, [lim_dataset_size, lim_size])"
   ]
  },
  {
   "cell_type": "code",
   "execution_count": 32,
   "id": "946ff5e8",
   "metadata": {},
   "outputs": [
    {
     "data": {
      "text/plain": [
       "(5822071, 582)"
      ]
     },
     "execution_count": 32,
     "metadata": {},
     "output_type": "execute_result"
    }
   ],
   "source": [
    "len(large_ds), len(lim_ds)"
   ]
  },
  {
   "cell_type": "code",
   "execution_count": 33,
   "id": "454817f8",
   "metadata": {},
   "outputs": [],
   "source": [
    "test_factor = 0.1\n",
    "test_size = int(test_factor * len(lim_ds))\n",
    "train_size = len(lim_ds) - test_size\n",
    "train_ds, test_ds = random_split(lim_ds, [train_size, test_size])\n",
    "\n",
    "val_factor = 0.1\n",
    "val_size = int(val_factor * len(lim_ds))\n",
    "train_size = len(train_ds) - val_size\n",
    "train_ds, val_ds = random_split(train_ds, [train_size, val_size])"
   ]
  },
  {
   "cell_type": "code",
   "execution_count": 34,
   "id": "cad5566f",
   "metadata": {},
   "outputs": [
    {
     "data": {
      "text/plain": [
       "(466, 58, 58)"
      ]
     },
     "execution_count": 34,
     "metadata": {},
     "output_type": "execute_result"
    }
   ],
   "source": [
    "len(train_ds), len(val_ds), len(test_ds)"
   ]
  },
  {
   "cell_type": "code",
   "execution_count": 35,
   "id": "5fabb2d4",
   "metadata": {},
   "outputs": [],
   "source": [
    "batch_size=256"
   ]
  },
  {
   "cell_type": "code",
   "execution_count": 36,
   "id": "ec36f9d3",
   "metadata": {},
   "outputs": [],
   "source": [
    "train_dl = DataLoader(train_ds, batch_size, shuffle=True, num_workers=3, pin_memory=True)\n",
    "val_dl = DataLoader(val_ds, batch_size, num_workers=3, pin_memory=True)\n",
    "test_dl = DataLoader(test_ds, batch_size, num_workers=3, pin_memory=True)"
   ]
  },
  {
   "cell_type": "code",
   "execution_count": 37,
   "id": "9b7f055f",
   "metadata": {},
   "outputs": [
    {
     "data": {
      "text/plain": [
       "<torch.utils.data.dataloader.DataLoader at 0x1cc2798a730>"
      ]
     },
     "execution_count": 37,
     "metadata": {},
     "output_type": "execute_result"
    }
   ],
   "source": [
    "train_dl"
   ]
  },
  {
   "cell_type": "code",
   "execution_count": 39,
   "id": "df201a7d",
   "metadata": {},
   "outputs": [],
   "source": [
    "train_dl = DeviceDataLoader(train_dl, device)\n",
    "val_dl = DeviceDataLoader(val_dl, device)\n",
    "test_dl = DeviceDataLoader(test_dl, device)"
   ]
  },
  {
   "cell_type": "code",
   "execution_count": 40,
   "id": "48a81482",
   "metadata": {},
   "outputs": [],
   "source": [
    "model = ResNet50(85742)"
   ]
  },
  {
   "cell_type": "code",
   "execution_count": 41,
   "id": "b9f60691",
   "metadata": {},
   "outputs": [
    {
     "data": {
      "text/plain": [
       "MyResNet(\n",
       "  (features): Sequential(\n",
       "    (0): Conv2d(3, 64, kernel_size=(7, 7), stride=(2, 2), padding=(3, 3), bias=False)\n",
       "    (1): MaxPool2d(kernel_size=3, stride=2, padding=1, dilation=1, ceil_mode=False)\n",
       "    (2): ResBlock(\n",
       "      (bn): BatchNorm2d(64, eps=1e-05, momentum=0.1, affine=True, track_running_stats=True)\n",
       "      (conv1): Conv2d(64, 64, kernel_size=(1, 1), stride=(1, 1), bias=False)\n",
       "      (conv2): Sequential(\n",
       "        (0): BatchNorm2d(64, eps=1e-05, momentum=0.1, affine=True, track_running_stats=True)\n",
       "        (1): ReLU(inplace=True)\n",
       "        (2): Conv2d(64, 64, kernel_size=(3, 3), stride=(1, 1), padding=(1, 1), bias=False)\n",
       "      )\n",
       "      (conv3): Sequential(\n",
       "        (0): BatchNorm2d(64, eps=1e-05, momentum=0.1, affine=True, track_running_stats=True)\n",
       "        (1): ReLU(inplace=True)\n",
       "        (2): Conv2d(64, 256, kernel_size=(1, 1), stride=(1, 1), bias=False)\n",
       "      )\n",
       "      (shortcut): Conv2d(64, 256, kernel_size=(1, 1), stride=(1, 1), bias=False)\n",
       "    )\n",
       "    (3): ResBlock2(\n",
       "      (bn): BatchNorm2d(256, eps=1e-05, momentum=0.1, affine=True, track_running_stats=True)\n",
       "      (conv1): Conv2d(256, 64, kernel_size=(1, 1), stride=(1, 1), bias=False)\n",
       "      (conv2): Sequential(\n",
       "        (0): BatchNorm2d(64, eps=1e-05, momentum=0.1, affine=True, track_running_stats=True)\n",
       "        (1): ReLU(inplace=True)\n",
       "        (2): Conv2d(64, 64, kernel_size=(3, 3), stride=(1, 1), padding=(1, 1), bias=False)\n",
       "      )\n",
       "      (conv3): Sequential(\n",
       "        (0): BatchNorm2d(64, eps=1e-05, momentum=0.1, affine=True, track_running_stats=True)\n",
       "        (1): ReLU(inplace=True)\n",
       "        (2): Conv2d(64, 256, kernel_size=(1, 1), stride=(1, 1), bias=False)\n",
       "      )\n",
       "    )\n",
       "    (4): ResBlock2(\n",
       "      (bn): BatchNorm2d(256, eps=1e-05, momentum=0.1, affine=True, track_running_stats=True)\n",
       "      (conv1): Conv2d(256, 64, kernel_size=(1, 1), stride=(1, 1), bias=False)\n",
       "      (conv2): Sequential(\n",
       "        (0): BatchNorm2d(64, eps=1e-05, momentum=0.1, affine=True, track_running_stats=True)\n",
       "        (1): ReLU(inplace=True)\n",
       "        (2): Conv2d(64, 64, kernel_size=(3, 3), stride=(1, 1), padding=(1, 1), bias=False)\n",
       "      )\n",
       "      (conv3): Sequential(\n",
       "        (0): BatchNorm2d(64, eps=1e-05, momentum=0.1, affine=True, track_running_stats=True)\n",
       "        (1): ReLU(inplace=True)\n",
       "        (2): Conv2d(64, 256, kernel_size=(1, 1), stride=(1, 1), bias=False)\n",
       "      )\n",
       "    )\n",
       "    (5): ResBlock(\n",
       "      (bn): BatchNorm2d(256, eps=1e-05, momentum=0.1, affine=True, track_running_stats=True)\n",
       "      (conv1): Conv2d(256, 128, kernel_size=(1, 1), stride=(2, 2), bias=False)\n",
       "      (conv2): Sequential(\n",
       "        (0): BatchNorm2d(128, eps=1e-05, momentum=0.1, affine=True, track_running_stats=True)\n",
       "        (1): ReLU(inplace=True)\n",
       "        (2): Conv2d(128, 128, kernel_size=(3, 3), stride=(1, 1), padding=(1, 1), bias=False)\n",
       "      )\n",
       "      (conv3): Sequential(\n",
       "        (0): BatchNorm2d(128, eps=1e-05, momentum=0.1, affine=True, track_running_stats=True)\n",
       "        (1): ReLU(inplace=True)\n",
       "        (2): Conv2d(128, 512, kernel_size=(1, 1), stride=(1, 1), bias=False)\n",
       "      )\n",
       "      (shortcut): Conv2d(256, 512, kernel_size=(1, 1), stride=(2, 2), bias=False)\n",
       "    )\n",
       "    (6): ResBlock2(\n",
       "      (bn): BatchNorm2d(512, eps=1e-05, momentum=0.1, affine=True, track_running_stats=True)\n",
       "      (conv1): Conv2d(512, 128, kernel_size=(1, 1), stride=(1, 1), bias=False)\n",
       "      (conv2): Sequential(\n",
       "        (0): BatchNorm2d(128, eps=1e-05, momentum=0.1, affine=True, track_running_stats=True)\n",
       "        (1): ReLU(inplace=True)\n",
       "        (2): Conv2d(128, 128, kernel_size=(3, 3), stride=(1, 1), padding=(1, 1), bias=False)\n",
       "      )\n",
       "      (conv3): Sequential(\n",
       "        (0): BatchNorm2d(128, eps=1e-05, momentum=0.1, affine=True, track_running_stats=True)\n",
       "        (1): ReLU(inplace=True)\n",
       "        (2): Conv2d(128, 512, kernel_size=(1, 1), stride=(1, 1), bias=False)\n",
       "      )\n",
       "    )\n",
       "    (7): ResBlock2(\n",
       "      (bn): BatchNorm2d(512, eps=1e-05, momentum=0.1, affine=True, track_running_stats=True)\n",
       "      (conv1): Conv2d(512, 128, kernel_size=(1, 1), stride=(1, 1), bias=False)\n",
       "      (conv2): Sequential(\n",
       "        (0): BatchNorm2d(128, eps=1e-05, momentum=0.1, affine=True, track_running_stats=True)\n",
       "        (1): ReLU(inplace=True)\n",
       "        (2): Conv2d(128, 128, kernel_size=(3, 3), stride=(1, 1), padding=(1, 1), bias=False)\n",
       "      )\n",
       "      (conv3): Sequential(\n",
       "        (0): BatchNorm2d(128, eps=1e-05, momentum=0.1, affine=True, track_running_stats=True)\n",
       "        (1): ReLU(inplace=True)\n",
       "        (2): Conv2d(128, 512, kernel_size=(1, 1), stride=(1, 1), bias=False)\n",
       "      )\n",
       "    )\n",
       "    (8): ResBlock2(\n",
       "      (bn): BatchNorm2d(512, eps=1e-05, momentum=0.1, affine=True, track_running_stats=True)\n",
       "      (conv1): Conv2d(512, 128, kernel_size=(1, 1), stride=(1, 1), bias=False)\n",
       "      (conv2): Sequential(\n",
       "        (0): BatchNorm2d(128, eps=1e-05, momentum=0.1, affine=True, track_running_stats=True)\n",
       "        (1): ReLU(inplace=True)\n",
       "        (2): Conv2d(128, 128, kernel_size=(3, 3), stride=(1, 1), padding=(1, 1), bias=False)\n",
       "      )\n",
       "      (conv3): Sequential(\n",
       "        (0): BatchNorm2d(128, eps=1e-05, momentum=0.1, affine=True, track_running_stats=True)\n",
       "        (1): ReLU(inplace=True)\n",
       "        (2): Conv2d(128, 512, kernel_size=(1, 1), stride=(1, 1), bias=False)\n",
       "      )\n",
       "    )\n",
       "    (9): ResBlock(\n",
       "      (bn): BatchNorm2d(512, eps=1e-05, momentum=0.1, affine=True, track_running_stats=True)\n",
       "      (conv1): Conv2d(512, 256, kernel_size=(1, 1), stride=(2, 2), bias=False)\n",
       "      (conv2): Sequential(\n",
       "        (0): BatchNorm2d(256, eps=1e-05, momentum=0.1, affine=True, track_running_stats=True)\n",
       "        (1): ReLU(inplace=True)\n",
       "        (2): Conv2d(256, 256, kernel_size=(3, 3), stride=(1, 1), padding=(1, 1), bias=False)\n",
       "      )\n",
       "      (conv3): Sequential(\n",
       "        (0): BatchNorm2d(256, eps=1e-05, momentum=0.1, affine=True, track_running_stats=True)\n",
       "        (1): ReLU(inplace=True)\n",
       "        (2): Conv2d(256, 1024, kernel_size=(1, 1), stride=(1, 1), bias=False)\n",
       "      )\n",
       "      (shortcut): Conv2d(512, 1024, kernel_size=(1, 1), stride=(2, 2), bias=False)\n",
       "    )\n",
       "    (10): ResBlock2(\n",
       "      (bn): BatchNorm2d(1024, eps=1e-05, momentum=0.1, affine=True, track_running_stats=True)\n",
       "      (conv1): Conv2d(1024, 256, kernel_size=(1, 1), stride=(1, 1), bias=False)\n",
       "      (conv2): Sequential(\n",
       "        (0): BatchNorm2d(256, eps=1e-05, momentum=0.1, affine=True, track_running_stats=True)\n",
       "        (1): ReLU(inplace=True)\n",
       "        (2): Conv2d(256, 256, kernel_size=(3, 3), stride=(1, 1), padding=(1, 1), bias=False)\n",
       "      )\n",
       "      (conv3): Sequential(\n",
       "        (0): BatchNorm2d(256, eps=1e-05, momentum=0.1, affine=True, track_running_stats=True)\n",
       "        (1): ReLU(inplace=True)\n",
       "        (2): Conv2d(256, 1024, kernel_size=(1, 1), stride=(1, 1), bias=False)\n",
       "      )\n",
       "    )\n",
       "    (11): ResBlock2(\n",
       "      (bn): BatchNorm2d(1024, eps=1e-05, momentum=0.1, affine=True, track_running_stats=True)\n",
       "      (conv1): Conv2d(1024, 256, kernel_size=(1, 1), stride=(1, 1), bias=False)\n",
       "      (conv2): Sequential(\n",
       "        (0): BatchNorm2d(256, eps=1e-05, momentum=0.1, affine=True, track_running_stats=True)\n",
       "        (1): ReLU(inplace=True)\n",
       "        (2): Conv2d(256, 256, kernel_size=(3, 3), stride=(1, 1), padding=(1, 1), bias=False)\n",
       "      )\n",
       "      (conv3): Sequential(\n",
       "        (0): BatchNorm2d(256, eps=1e-05, momentum=0.1, affine=True, track_running_stats=True)\n",
       "        (1): ReLU(inplace=True)\n",
       "        (2): Conv2d(256, 1024, kernel_size=(1, 1), stride=(1, 1), bias=False)\n",
       "      )\n",
       "    )\n",
       "    (12): ResBlock2(\n",
       "      (bn): BatchNorm2d(1024, eps=1e-05, momentum=0.1, affine=True, track_running_stats=True)\n",
       "      (conv1): Conv2d(1024, 256, kernel_size=(1, 1), stride=(1, 1), bias=False)\n",
       "      (conv2): Sequential(\n",
       "        (0): BatchNorm2d(256, eps=1e-05, momentum=0.1, affine=True, track_running_stats=True)\n",
       "        (1): ReLU(inplace=True)\n",
       "        (2): Conv2d(256, 256, kernel_size=(3, 3), stride=(1, 1), padding=(1, 1), bias=False)\n",
       "      )\n",
       "      (conv3): Sequential(\n",
       "        (0): BatchNorm2d(256, eps=1e-05, momentum=0.1, affine=True, track_running_stats=True)\n",
       "        (1): ReLU(inplace=True)\n",
       "        (2): Conv2d(256, 1024, kernel_size=(1, 1), stride=(1, 1), bias=False)\n",
       "      )\n",
       "    )\n",
       "    (13): ResBlock2(\n",
       "      (bn): BatchNorm2d(1024, eps=1e-05, momentum=0.1, affine=True, track_running_stats=True)\n",
       "      (conv1): Conv2d(1024, 256, kernel_size=(1, 1), stride=(1, 1), bias=False)\n",
       "      (conv2): Sequential(\n",
       "        (0): BatchNorm2d(256, eps=1e-05, momentum=0.1, affine=True, track_running_stats=True)\n",
       "        (1): ReLU(inplace=True)\n",
       "        (2): Conv2d(256, 256, kernel_size=(3, 3), stride=(1, 1), padding=(1, 1), bias=False)\n",
       "      )\n",
       "      (conv3): Sequential(\n",
       "        (0): BatchNorm2d(256, eps=1e-05, momentum=0.1, affine=True, track_running_stats=True)\n",
       "        (1): ReLU(inplace=True)\n",
       "        (2): Conv2d(256, 1024, kernel_size=(1, 1), stride=(1, 1), bias=False)\n",
       "      )\n",
       "    )\n",
       "    (14): ResBlock2(\n",
       "      (bn): BatchNorm2d(1024, eps=1e-05, momentum=0.1, affine=True, track_running_stats=True)\n",
       "      (conv1): Conv2d(1024, 256, kernel_size=(1, 1), stride=(1, 1), bias=False)\n",
       "      (conv2): Sequential(\n",
       "        (0): BatchNorm2d(256, eps=1e-05, momentum=0.1, affine=True, track_running_stats=True)\n",
       "        (1): ReLU(inplace=True)\n",
       "        (2): Conv2d(256, 256, kernel_size=(3, 3), stride=(1, 1), padding=(1, 1), bias=False)\n",
       "      )\n",
       "      (conv3): Sequential(\n",
       "        (0): BatchNorm2d(256, eps=1e-05, momentum=0.1, affine=True, track_running_stats=True)\n",
       "        (1): ReLU(inplace=True)\n",
       "        (2): Conv2d(256, 1024, kernel_size=(1, 1), stride=(1, 1), bias=False)\n",
       "      )\n",
       "    )\n",
       "    (15): ResBlock(\n",
       "      (bn): BatchNorm2d(1024, eps=1e-05, momentum=0.1, affine=True, track_running_stats=True)\n",
       "      (conv1): Conv2d(1024, 512, kernel_size=(1, 1), stride=(2, 2), bias=False)\n",
       "      (conv2): Sequential(\n",
       "        (0): BatchNorm2d(512, eps=1e-05, momentum=0.1, affine=True, track_running_stats=True)\n",
       "        (1): ReLU(inplace=True)\n",
       "        (2): Conv2d(512, 512, kernel_size=(3, 3), stride=(1, 1), padding=(1, 1), bias=False)\n",
       "      )\n",
       "      (conv3): Sequential(\n",
       "        (0): BatchNorm2d(512, eps=1e-05, momentum=0.1, affine=True, track_running_stats=True)\n",
       "        (1): ReLU(inplace=True)\n",
       "        (2): Conv2d(512, 2048, kernel_size=(1, 1), stride=(1, 1), bias=False)\n",
       "      )\n",
       "      (shortcut): Conv2d(1024, 2048, kernel_size=(1, 1), stride=(2, 2), bias=False)\n",
       "    )\n",
       "    (16): ResBlock2(\n",
       "      (bn): BatchNorm2d(2048, eps=1e-05, momentum=0.1, affine=True, track_running_stats=True)\n",
       "      (conv1): Conv2d(2048, 512, kernel_size=(1, 1), stride=(1, 1), bias=False)\n",
       "      (conv2): Sequential(\n",
       "        (0): BatchNorm2d(512, eps=1e-05, momentum=0.1, affine=True, track_running_stats=True)\n",
       "        (1): ReLU(inplace=True)\n",
       "        (2): Conv2d(512, 512, kernel_size=(3, 3), stride=(1, 1), padding=(1, 1), bias=False)\n",
       "      )\n",
       "      (conv3): Sequential(\n",
       "        (0): BatchNorm2d(512, eps=1e-05, momentum=0.1, affine=True, track_running_stats=True)\n",
       "        (1): ReLU(inplace=True)\n",
       "        (2): Conv2d(512, 2048, kernel_size=(1, 1), stride=(1, 1), bias=False)\n",
       "      )\n",
       "    )\n",
       "    (17): ResBlock2(\n",
       "      (bn): BatchNorm2d(2048, eps=1e-05, momentum=0.1, affine=True, track_running_stats=True)\n",
       "      (conv1): Conv2d(2048, 512, kernel_size=(1, 1), stride=(1, 1), bias=False)\n",
       "      (conv2): Sequential(\n",
       "        (0): BatchNorm2d(512, eps=1e-05, momentum=0.1, affine=True, track_running_stats=True)\n",
       "        (1): ReLU(inplace=True)\n",
       "        (2): Conv2d(512, 512, kernel_size=(3, 3), stride=(1, 1), padding=(1, 1), bias=False)\n",
       "      )\n",
       "      (conv3): Sequential(\n",
       "        (0): BatchNorm2d(512, eps=1e-05, momentum=0.1, affine=True, track_running_stats=True)\n",
       "        (1): ReLU(inplace=True)\n",
       "        (2): Conv2d(512, 2048, kernel_size=(1, 1), stride=(1, 1), bias=False)\n",
       "      )\n",
       "    )\n",
       "    (18): BatchNorm2d(2048, eps=1e-05, momentum=0.1, affine=True, track_running_stats=True)\n",
       "    (19): ReLU(inplace=True)\n",
       "    (20): AdaptiveAvgPool2d(output_size=1)\n",
       "    (21): Flatten()\n",
       "    (22): Linear(in_features=2048, out_features=85742, bias=True)\n",
       "  )\n",
       ")"
      ]
     },
     "execution_count": 41,
     "metadata": {},
     "output_type": "execute_result"
    }
   ],
   "source": [
    "to_device(model, device)"
   ]
  },
  {
   "cell_type": "code",
   "execution_count": 42,
   "id": "8d8fcd35",
   "metadata": {},
   "outputs": [
    {
     "name": "stdout",
     "output_type": "stream",
     "text": [
      "----------------------------------------------------------------\n",
      "        Layer (type)               Output Shape         Param #\n",
      "================================================================\n",
      "            Conv2d-1           [-1, 64, 56, 56]           9,408\n",
      "         MaxPool2d-2           [-1, 64, 28, 28]               0\n",
      "       BatchNorm2d-3           [-1, 64, 28, 28]             128\n",
      "            Conv2d-4          [-1, 256, 28, 28]          16,384\n",
      "            Conv2d-5           [-1, 64, 28, 28]           4,096\n",
      "       BatchNorm2d-6           [-1, 64, 28, 28]             128\n",
      "              ReLU-7           [-1, 64, 28, 28]               0\n",
      "            Conv2d-8           [-1, 64, 28, 28]          36,864\n",
      "       BatchNorm2d-9           [-1, 64, 28, 28]             128\n",
      "             ReLU-10           [-1, 64, 28, 28]               0\n",
      "           Conv2d-11          [-1, 256, 28, 28]          16,384\n",
      "         ResBlock-12          [-1, 256, 28, 28]               0\n",
      "      BatchNorm2d-13          [-1, 256, 28, 28]             512\n",
      "           Conv2d-14           [-1, 64, 28, 28]          16,384\n",
      "      BatchNorm2d-15           [-1, 64, 28, 28]             128\n",
      "             ReLU-16           [-1, 64, 28, 28]               0\n",
      "           Conv2d-17           [-1, 64, 28, 28]          36,864\n",
      "      BatchNorm2d-18           [-1, 64, 28, 28]             128\n",
      "             ReLU-19           [-1, 64, 28, 28]               0\n",
      "           Conv2d-20          [-1, 256, 28, 28]          16,384\n",
      "        ResBlock2-21          [-1, 256, 28, 28]               0\n",
      "      BatchNorm2d-22          [-1, 256, 28, 28]             512\n",
      "           Conv2d-23           [-1, 64, 28, 28]          16,384\n",
      "      BatchNorm2d-24           [-1, 64, 28, 28]             128\n",
      "             ReLU-25           [-1, 64, 28, 28]               0\n",
      "           Conv2d-26           [-1, 64, 28, 28]          36,864\n",
      "      BatchNorm2d-27           [-1, 64, 28, 28]             128\n",
      "             ReLU-28           [-1, 64, 28, 28]               0\n",
      "           Conv2d-29          [-1, 256, 28, 28]          16,384\n",
      "        ResBlock2-30          [-1, 256, 28, 28]               0\n",
      "      BatchNorm2d-31          [-1, 256, 28, 28]             512\n",
      "           Conv2d-32          [-1, 512, 14, 14]         131,072\n",
      "           Conv2d-33          [-1, 128, 14, 14]          32,768\n",
      "      BatchNorm2d-34          [-1, 128, 14, 14]             256\n",
      "             ReLU-35          [-1, 128, 14, 14]               0\n",
      "           Conv2d-36          [-1, 128, 14, 14]         147,456\n",
      "      BatchNorm2d-37          [-1, 128, 14, 14]             256\n",
      "             ReLU-38          [-1, 128, 14, 14]               0\n",
      "           Conv2d-39          [-1, 512, 14, 14]          65,536\n",
      "         ResBlock-40          [-1, 512, 14, 14]               0\n",
      "      BatchNorm2d-41          [-1, 512, 14, 14]           1,024\n",
      "           Conv2d-42          [-1, 128, 14, 14]          65,536\n",
      "      BatchNorm2d-43          [-1, 128, 14, 14]             256\n",
      "             ReLU-44          [-1, 128, 14, 14]               0\n",
      "           Conv2d-45          [-1, 128, 14, 14]         147,456\n",
      "      BatchNorm2d-46          [-1, 128, 14, 14]             256\n",
      "             ReLU-47          [-1, 128, 14, 14]               0\n",
      "           Conv2d-48          [-1, 512, 14, 14]          65,536\n",
      "        ResBlock2-49          [-1, 512, 14, 14]               0\n",
      "      BatchNorm2d-50          [-1, 512, 14, 14]           1,024\n",
      "           Conv2d-51          [-1, 128, 14, 14]          65,536\n",
      "      BatchNorm2d-52          [-1, 128, 14, 14]             256\n",
      "             ReLU-53          [-1, 128, 14, 14]               0\n",
      "           Conv2d-54          [-1, 128, 14, 14]         147,456\n",
      "      BatchNorm2d-55          [-1, 128, 14, 14]             256\n",
      "             ReLU-56          [-1, 128, 14, 14]               0\n",
      "           Conv2d-57          [-1, 512, 14, 14]          65,536\n",
      "        ResBlock2-58          [-1, 512, 14, 14]               0\n",
      "      BatchNorm2d-59          [-1, 512, 14, 14]           1,024\n",
      "           Conv2d-60          [-1, 128, 14, 14]          65,536\n",
      "      BatchNorm2d-61          [-1, 128, 14, 14]             256\n",
      "             ReLU-62          [-1, 128, 14, 14]               0\n",
      "           Conv2d-63          [-1, 128, 14, 14]         147,456\n",
      "      BatchNorm2d-64          [-1, 128, 14, 14]             256\n",
      "             ReLU-65          [-1, 128, 14, 14]               0\n",
      "           Conv2d-66          [-1, 512, 14, 14]          65,536\n",
      "        ResBlock2-67          [-1, 512, 14, 14]               0\n",
      "      BatchNorm2d-68          [-1, 512, 14, 14]           1,024\n",
      "           Conv2d-69           [-1, 1024, 7, 7]         524,288\n",
      "           Conv2d-70            [-1, 256, 7, 7]         131,072\n",
      "      BatchNorm2d-71            [-1, 256, 7, 7]             512\n",
      "             ReLU-72            [-1, 256, 7, 7]               0\n",
      "           Conv2d-73            [-1, 256, 7, 7]         589,824\n",
      "      BatchNorm2d-74            [-1, 256, 7, 7]             512\n",
      "             ReLU-75            [-1, 256, 7, 7]               0\n",
      "           Conv2d-76           [-1, 1024, 7, 7]         262,144\n",
      "         ResBlock-77           [-1, 1024, 7, 7]               0\n",
      "      BatchNorm2d-78           [-1, 1024, 7, 7]           2,048\n",
      "           Conv2d-79            [-1, 256, 7, 7]         262,144\n",
      "      BatchNorm2d-80            [-1, 256, 7, 7]             512\n",
      "             ReLU-81            [-1, 256, 7, 7]               0\n",
      "           Conv2d-82            [-1, 256, 7, 7]         589,824\n",
      "      BatchNorm2d-83            [-1, 256, 7, 7]             512\n",
      "             ReLU-84            [-1, 256, 7, 7]               0\n",
      "           Conv2d-85           [-1, 1024, 7, 7]         262,144\n",
      "        ResBlock2-86           [-1, 1024, 7, 7]               0\n",
      "      BatchNorm2d-87           [-1, 1024, 7, 7]           2,048\n",
      "           Conv2d-88            [-1, 256, 7, 7]         262,144\n",
      "      BatchNorm2d-89            [-1, 256, 7, 7]             512\n",
      "             ReLU-90            [-1, 256, 7, 7]               0\n",
      "           Conv2d-91            [-1, 256, 7, 7]         589,824\n",
      "      BatchNorm2d-92            [-1, 256, 7, 7]             512\n",
      "             ReLU-93            [-1, 256, 7, 7]               0\n",
      "           Conv2d-94           [-1, 1024, 7, 7]         262,144\n",
      "        ResBlock2-95           [-1, 1024, 7, 7]               0\n",
      "      BatchNorm2d-96           [-1, 1024, 7, 7]           2,048\n",
      "           Conv2d-97            [-1, 256, 7, 7]         262,144\n",
      "      BatchNorm2d-98            [-1, 256, 7, 7]             512\n",
      "             ReLU-99            [-1, 256, 7, 7]               0\n",
      "          Conv2d-100            [-1, 256, 7, 7]         589,824\n",
      "     BatchNorm2d-101            [-1, 256, 7, 7]             512\n",
      "            ReLU-102            [-1, 256, 7, 7]               0\n",
      "          Conv2d-103           [-1, 1024, 7, 7]         262,144\n",
      "       ResBlock2-104           [-1, 1024, 7, 7]               0\n",
      "     BatchNorm2d-105           [-1, 1024, 7, 7]           2,048\n",
      "          Conv2d-106            [-1, 256, 7, 7]         262,144\n",
      "     BatchNorm2d-107            [-1, 256, 7, 7]             512\n",
      "            ReLU-108            [-1, 256, 7, 7]               0\n",
      "          Conv2d-109            [-1, 256, 7, 7]         589,824\n",
      "     BatchNorm2d-110            [-1, 256, 7, 7]             512\n",
      "            ReLU-111            [-1, 256, 7, 7]               0\n",
      "          Conv2d-112           [-1, 1024, 7, 7]         262,144\n",
      "       ResBlock2-113           [-1, 1024, 7, 7]               0\n",
      "     BatchNorm2d-114           [-1, 1024, 7, 7]           2,048\n",
      "          Conv2d-115            [-1, 256, 7, 7]         262,144\n",
      "     BatchNorm2d-116            [-1, 256, 7, 7]             512\n",
      "            ReLU-117            [-1, 256, 7, 7]               0\n",
      "          Conv2d-118            [-1, 256, 7, 7]         589,824\n",
      "     BatchNorm2d-119            [-1, 256, 7, 7]             512\n",
      "            ReLU-120            [-1, 256, 7, 7]               0\n",
      "          Conv2d-121           [-1, 1024, 7, 7]         262,144\n",
      "       ResBlock2-122           [-1, 1024, 7, 7]               0\n",
      "     BatchNorm2d-123           [-1, 1024, 7, 7]           2,048\n",
      "          Conv2d-124           [-1, 2048, 4, 4]       2,097,152\n",
      "          Conv2d-125            [-1, 512, 4, 4]         524,288\n",
      "     BatchNorm2d-126            [-1, 512, 4, 4]           1,024\n",
      "            ReLU-127            [-1, 512, 4, 4]               0\n",
      "          Conv2d-128            [-1, 512, 4, 4]       2,359,296\n",
      "     BatchNorm2d-129            [-1, 512, 4, 4]           1,024\n",
      "            ReLU-130            [-1, 512, 4, 4]               0\n",
      "          Conv2d-131           [-1, 2048, 4, 4]       1,048,576\n",
      "        ResBlock-132           [-1, 2048, 4, 4]               0\n",
      "     BatchNorm2d-133           [-1, 2048, 4, 4]           4,096\n",
      "          Conv2d-134            [-1, 512, 4, 4]       1,048,576\n",
      "     BatchNorm2d-135            [-1, 512, 4, 4]           1,024\n",
      "            ReLU-136            [-1, 512, 4, 4]               0\n",
      "          Conv2d-137            [-1, 512, 4, 4]       2,359,296\n",
      "     BatchNorm2d-138            [-1, 512, 4, 4]           1,024\n",
      "            ReLU-139            [-1, 512, 4, 4]               0\n",
      "          Conv2d-140           [-1, 2048, 4, 4]       1,048,576\n",
      "       ResBlock2-141           [-1, 2048, 4, 4]               0\n",
      "     BatchNorm2d-142           [-1, 2048, 4, 4]           4,096\n",
      "          Conv2d-143            [-1, 512, 4, 4]       1,048,576\n",
      "     BatchNorm2d-144            [-1, 512, 4, 4]           1,024\n",
      "            ReLU-145            [-1, 512, 4, 4]               0\n",
      "          Conv2d-146            [-1, 512, 4, 4]       2,359,296\n",
      "     BatchNorm2d-147            [-1, 512, 4, 4]           1,024\n",
      "            ReLU-148            [-1, 512, 4, 4]               0\n",
      "          Conv2d-149           [-1, 2048, 4, 4]       1,048,576\n",
      "       ResBlock2-150           [-1, 2048, 4, 4]               0\n",
      "     BatchNorm2d-151           [-1, 2048, 4, 4]           4,096\n",
      "            ReLU-152           [-1, 2048, 4, 4]               0\n",
      "AdaptiveAvgPool2d-153           [-1, 2048, 1, 1]               0\n",
      "         Flatten-154                 [-1, 2048]               0\n",
      "          Linear-155                [-1, 85742]     175,685,358\n",
      "================================================================\n",
      "Total params: 199,185,710\n",
      "Trainable params: 199,185,710\n",
      "Non-trainable params: 0\n",
      "----------------------------------------------------------------\n",
      "Input size (MB): 0.14\n",
      "Forward/backward pass size (MB): 54.33\n",
      "Params size (MB): 759.83\n",
      "Estimated Total Size (MB): 814.30\n",
      "----------------------------------------------------------------\n"
     ]
    }
   ],
   "source": [
    "summary(model, input_size = (3, 112, 112), batch_size = -1)"
   ]
  },
  {
   "cell_type": "code",
   "execution_count": null,
   "id": "2439eb00",
   "metadata": {},
   "outputs": [
    {
     "data": {
      "text/plain": [
       "(2, 1, 1)"
      ]
     },
     "execution_count": 41,
     "metadata": {},
     "output_type": "execute_result"
    }
   ],
   "source": [
    "len(train_dl), len(val_dl), len(test_dl)"
   ]
  },
  {
   "cell_type": "code",
   "execution_count": null,
   "id": "3ee26870",
   "metadata": {},
   "outputs": [],
   "source": [
    "# for images, labels in test_dl:\n",
    "#     #print(\"Inside\")\n",
    "#     print('images.shape:', images.shape)\n",
    "#     print('labels.shape:', labels.shape)\n",
    "#     print('labels:', labels)\n",
    "#     out = model(images)\n",
    "#     print('out.shape:', out.shape)\n",
    "#     print('out[0]:', out[0])\n",
    "#     print('out[0].shape:', out[0].shape)\n",
    "    \n",
    "#     pre_sum = torch.sum(out, dim=1) #torch.sum(out[0], dim=0)\n",
    "#     print('sum of out[0]:', pre_sum.shape)\n",
    "    \n",
    "#     F_sum = torch.sum(F.softmax(out, dim=1), dim=1)\n",
    "#     print('softmax of out[0]:', F_sum.shape)\n",
    "#     break"
   ]
  },
  {
   "cell_type": "code",
   "execution_count": null,
   "id": "73440f85",
   "metadata": {},
   "outputs": [],
   "source": [
    "def loss_batch(model, loss_func, xb, yb, opt=None, metric=None):\n",
    "    #Generate predictions\n",
    "    preds = model(xb)\n",
    "    #Generate probabilities\n",
    "    preds = F.softmax(preds, dim=1)\n",
    "    #Calculate loss\n",
    "    loss = loss_func(preds, yb)\n",
    "    \n",
    "    if opt is not None:\n",
    "        #Compute gradients\n",
    "        loss.backward()\n",
    "        #update parameters\n",
    "        opt.step()\n",
    "        #Reset Gradients\n",
    "        opt.zero_grad()\n",
    "\n",
    "    metric_result = None\n",
    "    if metric is not None:\n",
    "        #compute the metric\n",
    "        metric_result = metric(preds, yb)\n",
    "    \n",
    "    print(loss.is_cuda)\n",
    "    print(xb.is_cuda)\n",
    "    #print(metric_result.is_cuda)\n",
    "        \n",
    "    return loss.item(), len(xb), metric_result"
   ]
  },
  {
   "cell_type": "code",
   "execution_count": null,
   "id": "d5a34f4a",
   "metadata": {},
   "outputs": [],
   "source": [
    "def evaluate(model, loss_fn, valid_dl, metric=None):\n",
    "    with torch.no_grad():\n",
    "        #pass each batch through the model\n",
    "        results = [loss_batch(model, loss_fn, xb, yb, metric=metric) for xb, yb in valid_dl]\n",
    "        #separate losses, counts and metrics\n",
    "        losses, nums, metrics = zip(*results)\n",
    "        #Total size of the dataset\n",
    "        total = np.sum(nums)\n",
    "        #Avg. loss across batches\n",
    "        avg_loss = np.sum(np.multiply(losses, nums))/total\n",
    "        avg_metric = None\n",
    "        \n",
    "        if metric is not None:\n",
    "            #Avg of metric across batches\n",
    "            avg_metric = np.sum(np.multiply(metrics, nums)) / total\n",
    "\n",
    "    return avg_loss, total, avg_metric"
   ]
  },
  {
   "cell_type": "code",
   "execution_count": null,
   "id": "9c02ffda",
   "metadata": {},
   "outputs": [],
   "source": [
    "def fit(epochs, model, loss_fn, train_dl, valid_dl, lr=None, metric=None, opt_fn=None):\n",
    "    \n",
    "    train_losses, val_losses, val_metrics = [], [], []\n",
    "    \n",
    "    #instantiate the optimizer\n",
    "    if opt_fn is None: opt_fn = torch.optim.SGD\n",
    "    opt = opt_fn(model.parameters(), lr=lr)\n",
    "    \n",
    "    for epoch in range(epochs):\n",
    "        start = time.time()\n",
    "        #Training\n",
    "        model.train()\n",
    "        for xb, yb in train_dl:\n",
    "            train_loss, _, _ = loss_batch(model, loss_fn, xb, yb, opt)\n",
    "\n",
    "        #Evaluation\n",
    "        model.eval()\n",
    "        result = evaluate(model, loss_fn, valid_dl, metric)\n",
    "        val_loss, total, val_metric = result\n",
    "\n",
    "        #Record the loss and metric\n",
    "        train_losses.append(train_loss)\n",
    "        val_losses.append(val_loss)\n",
    "        val_metrics.append(val_metric)\n",
    "        \n",
    "        end = time.time()\n",
    "\n",
    "        #Print progress:\n",
    "        if metric is None:\n",
    "            print('Epoch [{}/{}], Train_loss: {:.4f}, Val_loss: {:.4f}'.format(epoch+1, epochs, train_loss, val_loss))\n",
    "            print(str(round((end - start), 2)) + \" secs\")\n",
    "        \n",
    "        else:\n",
    "            print('Epoch [{}/{}], Train_loss: {:.4f}, Val_loss: {:.4f}, {}: {:.4f}'.format(epoch+1, epochs, train_loss, val_loss, metric.__name__, val_metric))\n",
    "            print(str(round((end - start), 2)) + \" secs\")\n",
    "\n",
    "    return train_losses, val_losses, val_metrics"
   ]
  },
  {
   "cell_type": "code",
   "execution_count": null,
   "id": "8d6ed71f",
   "metadata": {},
   "outputs": [],
   "source": [
    "class CosFace(nn.Module):\n",
    "    def __init__(self, in_features=85742, out_features=85742, s=64.0, m=0.35):\n",
    "        super(CosFace, self).__init__()\n",
    "        self.in_features = in_features\n",
    "        self.out_features = out_features\n",
    "        self.s = s\n",
    "        self.m = m\n",
    "        self.kernel = nn.Parameter(torch.FloatTensor(in_features, out_features))\n",
    "        nn.init.normal_(self.kernel, std=0.01)\n",
    "\n",
    "    def forward(self, logits, labels):\n",
    "        logits = F.normalize(logits, p=2.0, dim=1) #l2_norm(logits, axis=1)\n",
    "        kernel_norm = F.normalize(self.kernel, p=2.0, dim=0) #l2_norm(self.kernel, axis=0)\n",
    "        logits = logits.to('cpu')\n",
    "        cos_theta = torch.mm(logits, kernel_norm).to('cuda')\n",
    "        cos_theta = cos_theta.clamp(-1, 1)  # for numerical stability\n",
    "        index = torch.where(label != -1)[0]\n",
    "        m_hot = torch.zeros(index.size()[0], cos_theta.size()[1]).to('cuda')\n",
    "        m_hot.scatter_(1, labels[index, None], self.m)\n",
    "        cos_theta[index] -= m_hot\n",
    "        ret = cos_theta * self.s\n",
    "        return ret"
   ]
  },
  {
   "cell_type": "code",
   "execution_count": null,
   "id": "55f86c31",
   "metadata": {},
   "outputs": [],
   "source": [
    "loss_Function = CosFace() #F.cross_entropy #"
   ]
  },
  {
   "cell_type": "code",
   "execution_count": null,
   "id": "860fd116",
   "metadata": {},
   "outputs": [],
   "source": [
    "def accuracy(outputs, labels):\n",
    "    _, preds = torch.max(outputs, dim=1)\n",
    "    return torch.sum(preds == labels).item() / len(preds)"
   ]
  },
  {
   "cell_type": "code",
   "execution_count": null,
   "id": "6cdfc6d9",
   "metadata": {},
   "outputs": [
    {
     "name": "stderr",
     "output_type": "stream",
     "text": [
      "Exception ignored in: <function _MultiProcessingDataLoaderIter.__del__ at 0x7f195eff5e50>\n",
      "Traceback (most recent call last):\n",
      "  File \"/home/barc/.local/lib/python3.9/site-packages/torch/utils/data/dataloader.py\", line 1466, in __del__\n",
      "    self._shutdown_workers()\n",
      "  File \"/home/barc/.local/lib/python3.9/site-packages/torch/utils/data/dataloader.py\", line 1449, in _shutdown_workers\n",
      "    if w.is_alive():\n",
      "  File \"/opt/anaconda3/lib/python3.9/multiprocessing/process.py\", line 160, in is_alive\n",
      "    assert self._parent_pid == os.getpid(), 'can only test a child process'\n",
      "AssertionError: can only test a child process\n",
      "Exception ignored in: <function _MultiProcessingDataLoaderIter.__del__ at 0x7f195eff5e50>\n",
      "Traceback (most recent call last):\n",
      "  File \"/home/barc/.local/lib/python3.9/site-packages/torch/utils/data/dataloader.py\", line 1466, in __del__\n",
      "    self._shutdown_workers()\n",
      "  File \"/home/barc/.local/lib/python3.9/site-packages/torch/utils/data/dataloader.py\", line 1449, in _shutdown_workers\n",
      "    if w.is_alive():\n",
      "  File \"/opt/anaconda3/lib/python3.9/multiprocessing/process.py\", line 160, in is_alive\n",
      "    assert self._parent_pid == os.getpid(), 'can only test a child process'\n",
      "AssertionError: can only test a child process\n",
      "Exception ignored in: <function _MultiProcessingDataLoaderIter.__del__ at 0x7f195eff5e50>\n",
      "Traceback (most recent call last):\n",
      "  File \"/home/barc/.local/lib/python3.9/site-packages/torch/utils/data/dataloader.py\", line 1466, in __del__\n",
      "    self._shutdown_workers()\n",
      "  File \"/home/barc/.local/lib/python3.9/site-packages/torch/utils/data/dataloader.py\", line 1449, in _shutdown_workers\n",
      "    if w.is_alive():\n",
      "  File \"/opt/anaconda3/lib/python3.9/multiprocessing/process.py\", line 160, in is_alive\n",
      "    assert self._parent_pid == os.getpid(), 'can only test a child process'\n",
      "AssertionError: can only test a child process\n",
      "Exception in thread QueueFeederThread:\n",
      "Traceback (most recent call last):\n",
      "  File \"/opt/anaconda3/lib/python3.9/multiprocessing/queues.py\", line 241, in _feed\n",
      "    close()\n",
      "  File \"/opt/anaconda3/lib/python3.9/multiprocessing/connection.py\", line 182, in close\n",
      "    self._close()\n",
      "  File \"/opt/anaconda3/lib/python3.9/multiprocessing/connection.py\", line 366, in _close\n",
      "    _close(self._handle)\n",
      "OSError: [Errno 9] Bad file descriptor\n",
      "\n",
      "During handling of the above exception, another exception occurred:\n",
      "\n",
      "Traceback (most recent call last):\n",
      "  File \"/opt/anaconda3/lib/python3.9/threading.py\", line 973, in _bootstrap_inner\n",
      "    self.run()\n",
      "  File \"/opt/anaconda3/lib/python3.9/threading.py\", line 910, in run\n",
      "    self._target(*self._args, **self._kwargs)\n",
      "  File \"/opt/anaconda3/lib/python3.9/multiprocessing/queues.py\", line 272, in _feed\n",
      "    queue_sem.release()\n",
      "ValueError: semaphore or lock released too many times\n",
      "[W CUDAGuardImpl.h:46] Warning: CUDA warning: initialization error (function uncheckedGetDevice)\n",
      "[W CUDAGuardImpl.h:62] Warning: CUDA warning: invalid device ordinal (function uncheckedSetDevice)\n",
      "[W CUDAGuardImpl.h:46] Warning: CUDA warning: initialization error (function uncheckedGetDevice)\n",
      "[W CUDAGuardImpl.h:62] Warning: CUDA warning: invalid device ordinal (function uncheckedSetDevice)\n",
      "[W CUDAGuardImpl.h:46] Warning: CUDA warning: initialization error (function uncheckedGetDevice)\n",
      "[W CUDAGuardImpl.h:62] Warning: CUDA warning: invalid device ordinal (function uncheckedSetDevice)\n",
      "[W CUDAGuardImpl.h:46] Warning: CUDA warning: initialization error (function uncheckedGetDevice)\n",
      "[W CUDAGuardImpl.h:62] Warning: CUDA warning: invalid device ordinal (function uncheckedSetDevice)\n",
      "[W CUDAGuardImpl.h:46] Warning: CUDA warning: initialization error (function uncheckedGetDevice)\n",
      "[W CUDAGuardImpl.h:62] Warning: CUDA warning: invalid device ordinal (function uncheckedSetDevice)\n",
      "[W CUDAGuardImpl.h:46] Warning: CUDA warning: initialization error (function uncheckedGetDevice)\n",
      "[W CUDAGuardImpl.h:62] Warning: CUDA warning: invalid device ordinal (function uncheckedSetDevice)\n"
     ]
    },
    {
     "name": "stdout",
     "output_type": "stream",
     "text": [
      "True\n",
      "True\n"
     ]
    },
    {
     "ename": "ValueError",
     "evalue": "only one element tensors can be converted to Python scalars",
     "output_type": "error",
     "traceback": [
      "\u001b[0;31m---------------------------------------------------------------------------\u001b[0m",
      "\u001b[0;31mValueError\u001b[0m                                Traceback (most recent call last)",
      "\u001b[0;32m/tmp/ipykernel_136202/2958410662.py\u001b[0m in \u001b[0;36m<module>\u001b[0;34m\u001b[0m\n\u001b[0;32m----> 1\u001b[0;31m \u001b[0mval_loss\u001b[0m\u001b[0;34m,\u001b[0m \u001b[0m_\u001b[0m\u001b[0;34m,\u001b[0m \u001b[0mval_acc\u001b[0m \u001b[0;34m=\u001b[0m \u001b[0mevaluate\u001b[0m\u001b[0;34m(\u001b[0m\u001b[0mmodel\u001b[0m\u001b[0;34m,\u001b[0m \u001b[0mloss_Function\u001b[0m\u001b[0;34m,\u001b[0m \u001b[0mval_dl\u001b[0m\u001b[0;34m,\u001b[0m \u001b[0mmetric\u001b[0m\u001b[0;34m=\u001b[0m\u001b[0;32mNone\u001b[0m\u001b[0;34m)\u001b[0m \u001b[0;31m#metric=accuracy #metric=None\u001b[0m\u001b[0;34m\u001b[0m\u001b[0;34m\u001b[0m\u001b[0m\n\u001b[0m",
      "\u001b[0;32m/tmp/ipykernel_136202/2462054779.py\u001b[0m in \u001b[0;36mevaluate\u001b[0;34m(model, loss_fn, valid_dl, metric)\u001b[0m\n\u001b[1;32m      2\u001b[0m     \u001b[0;32mwith\u001b[0m \u001b[0mtorch\u001b[0m\u001b[0;34m.\u001b[0m\u001b[0mno_grad\u001b[0m\u001b[0;34m(\u001b[0m\u001b[0;34m)\u001b[0m\u001b[0;34m:\u001b[0m\u001b[0;34m\u001b[0m\u001b[0;34m\u001b[0m\u001b[0m\n\u001b[1;32m      3\u001b[0m         \u001b[0;31m#pass each batch through the model\u001b[0m\u001b[0;34m\u001b[0m\u001b[0;34m\u001b[0m\u001b[0m\n\u001b[0;32m----> 4\u001b[0;31m         \u001b[0mresults\u001b[0m \u001b[0;34m=\u001b[0m \u001b[0;34m[\u001b[0m\u001b[0mloss_batch\u001b[0m\u001b[0;34m(\u001b[0m\u001b[0mmodel\u001b[0m\u001b[0;34m,\u001b[0m \u001b[0mloss_fn\u001b[0m\u001b[0;34m,\u001b[0m \u001b[0mxb\u001b[0m\u001b[0;34m,\u001b[0m \u001b[0myb\u001b[0m\u001b[0;34m,\u001b[0m \u001b[0mmetric\u001b[0m\u001b[0;34m=\u001b[0m\u001b[0mmetric\u001b[0m\u001b[0;34m)\u001b[0m \u001b[0;32mfor\u001b[0m \u001b[0mxb\u001b[0m\u001b[0;34m,\u001b[0m \u001b[0myb\u001b[0m \u001b[0;32min\u001b[0m \u001b[0mvalid_dl\u001b[0m\u001b[0;34m]\u001b[0m\u001b[0;34m\u001b[0m\u001b[0;34m\u001b[0m\u001b[0m\n\u001b[0m\u001b[1;32m      5\u001b[0m         \u001b[0;31m#separate losses, counts and metrics\u001b[0m\u001b[0;34m\u001b[0m\u001b[0;34m\u001b[0m\u001b[0m\n\u001b[1;32m      6\u001b[0m         \u001b[0mlosses\u001b[0m\u001b[0;34m,\u001b[0m \u001b[0mnums\u001b[0m\u001b[0;34m,\u001b[0m \u001b[0mmetrics\u001b[0m \u001b[0;34m=\u001b[0m \u001b[0mzip\u001b[0m\u001b[0;34m(\u001b[0m\u001b[0;34m*\u001b[0m\u001b[0mresults\u001b[0m\u001b[0;34m)\u001b[0m\u001b[0;34m\u001b[0m\u001b[0;34m\u001b[0m\u001b[0m\n",
      "\u001b[0;32m/tmp/ipykernel_136202/2462054779.py\u001b[0m in \u001b[0;36m<listcomp>\u001b[0;34m(.0)\u001b[0m\n\u001b[1;32m      2\u001b[0m     \u001b[0;32mwith\u001b[0m \u001b[0mtorch\u001b[0m\u001b[0;34m.\u001b[0m\u001b[0mno_grad\u001b[0m\u001b[0;34m(\u001b[0m\u001b[0;34m)\u001b[0m\u001b[0;34m:\u001b[0m\u001b[0;34m\u001b[0m\u001b[0;34m\u001b[0m\u001b[0m\n\u001b[1;32m      3\u001b[0m         \u001b[0;31m#pass each batch through the model\u001b[0m\u001b[0;34m\u001b[0m\u001b[0;34m\u001b[0m\u001b[0m\n\u001b[0;32m----> 4\u001b[0;31m         \u001b[0mresults\u001b[0m \u001b[0;34m=\u001b[0m \u001b[0;34m[\u001b[0m\u001b[0mloss_batch\u001b[0m\u001b[0;34m(\u001b[0m\u001b[0mmodel\u001b[0m\u001b[0;34m,\u001b[0m \u001b[0mloss_fn\u001b[0m\u001b[0;34m,\u001b[0m \u001b[0mxb\u001b[0m\u001b[0;34m,\u001b[0m \u001b[0myb\u001b[0m\u001b[0;34m,\u001b[0m \u001b[0mmetric\u001b[0m\u001b[0;34m=\u001b[0m\u001b[0mmetric\u001b[0m\u001b[0;34m)\u001b[0m \u001b[0;32mfor\u001b[0m \u001b[0mxb\u001b[0m\u001b[0;34m,\u001b[0m \u001b[0myb\u001b[0m \u001b[0;32min\u001b[0m \u001b[0mvalid_dl\u001b[0m\u001b[0;34m]\u001b[0m\u001b[0;34m\u001b[0m\u001b[0;34m\u001b[0m\u001b[0m\n\u001b[0m\u001b[1;32m      5\u001b[0m         \u001b[0;31m#separate losses, counts and metrics\u001b[0m\u001b[0;34m\u001b[0m\u001b[0;34m\u001b[0m\u001b[0m\n\u001b[1;32m      6\u001b[0m         \u001b[0mlosses\u001b[0m\u001b[0;34m,\u001b[0m \u001b[0mnums\u001b[0m\u001b[0;34m,\u001b[0m \u001b[0mmetrics\u001b[0m \u001b[0;34m=\u001b[0m \u001b[0mzip\u001b[0m\u001b[0;34m(\u001b[0m\u001b[0;34m*\u001b[0m\u001b[0mresults\u001b[0m\u001b[0;34m)\u001b[0m\u001b[0;34m\u001b[0m\u001b[0;34m\u001b[0m\u001b[0m\n",
      "\u001b[0;32m/tmp/ipykernel_136202/1360186611.py\u001b[0m in \u001b[0;36mloss_batch\u001b[0;34m(model, loss_func, xb, yb, opt, metric)\u001b[0m\n\u001b[1;32m     24\u001b[0m     \u001b[0;31m#print(metric_result.is_cuda)\u001b[0m\u001b[0;34m\u001b[0m\u001b[0;34m\u001b[0m\u001b[0m\n\u001b[1;32m     25\u001b[0m \u001b[0;34m\u001b[0m\u001b[0m\n\u001b[0;32m---> 26\u001b[0;31m     \u001b[0;32mreturn\u001b[0m \u001b[0mloss\u001b[0m\u001b[0;34m.\u001b[0m\u001b[0mitem\u001b[0m\u001b[0;34m(\u001b[0m\u001b[0;34m)\u001b[0m\u001b[0;34m,\u001b[0m \u001b[0mlen\u001b[0m\u001b[0;34m(\u001b[0m\u001b[0mxb\u001b[0m\u001b[0;34m)\u001b[0m\u001b[0;34m,\u001b[0m \u001b[0mmetric_result\u001b[0m\u001b[0;34m\u001b[0m\u001b[0;34m\u001b[0m\u001b[0m\n\u001b[0m",
      "\u001b[0;31mValueError\u001b[0m: only one element tensors can be converted to Python scalars"
     ]
    }
   ],
   "source": [
    "val_loss, _, val_acc = evaluate(model, loss_Function, val_dl, metric=None) #metric=accuracy #metric=None"
   ]
  },
  {
   "cell_type": "code",
   "execution_count": null,
   "id": "913a3f2d",
   "metadata": {},
   "outputs": [],
   "source": [
    "print('Loss: {:.4f}, Accuracy: {:.4f}'.format(val_loss, val_acc))\n",
    "#print('Loss: {:.4f}'.format(val_loss))"
   ]
  },
  {
   "cell_type": "code",
   "execution_count": null,
   "id": "1bbdb2c5",
   "metadata": {},
   "outputs": [],
   "source": [
    "num_epochs = 5\n",
    "opt_func = torch.optim.Adam\n",
    "lr = 0.005"
   ]
  },
  {
   "cell_type": "code",
   "execution_count": null,
   "id": "1b4a046a",
   "metadata": {
    "scrolled": true
   },
   "outputs": [
    {
     "name": "stdout",
     "output_type": "stream",
     "text": [
      "Epoch [1/5], Train_loss: 11.3591, Val_loss: 11.3591, accuracy: 0.0000\n",
      "9.55 secs\n",
      "Epoch [2/5], Train_loss: 11.3591, Val_loss: 11.3591, accuracy: 0.0000\n",
      "9.5 secs\n",
      "Epoch [3/5], Train_loss: 11.3542, Val_loss: 11.3591, accuracy: 0.0000\n",
      "9.54 secs\n",
      "Epoch [4/5], Train_loss: 11.3533, Val_loss: 11.3591, accuracy: 0.0000\n",
      "9.62 secs\n",
      "Epoch [5/5], Train_loss: 11.3483, Val_loss: 11.3591, accuracy: 0.0000\n",
      "9.71 secs\n"
     ]
    }
   ],
   "source": [
    "history = fit(num_epochs, model, loss_Function, train_dl, val_dl, lr, accuracy, opt_func)"
   ]
  },
  {
   "cell_type": "code",
   "execution_count": null,
   "id": "49cd8642",
   "metadata": {},
   "outputs": [],
   "source": [
    "train_losses, val_losses, val_metrics = history"
   ]
  },
  {
   "cell_type": "code",
   "execution_count": null,
   "id": "f498dfa3",
   "metadata": {},
   "outputs": [],
   "source": [
    "def plot_accuracies(val_metrics):\n",
    "    #accuracies = [x['val_metrics'] for x in history]\n",
    "    plt.plot(val_metrics, '-x')\n",
    "    plt.xlabel('epoch')\n",
    "    plt.ylabel('accuracy')\n",
    "    plt.title('Accuracy vs. No. of epochs');"
   ]
  },
  {
   "cell_type": "code",
   "execution_count": null,
   "id": "52ec3417",
   "metadata": {},
   "outputs": [
    {
     "data": {
      "image/png": "[encoded data removed]",
      "text/plain": [
       "<Figure size 432x288 with 1 Axes>"
      ]
     },
     "metadata": {
      "needs_background": "light"
     },
     "output_type": "display_data"
    }
   ],
   "source": [
    "plot_accuracies(val_metrics)"
   ]
  },
  {
   "cell_type": "code",
   "execution_count": null,
   "id": "4fb6b127",
   "metadata": {},
   "outputs": [],
   "source": [
    "def plot_losses(train_losses, val_losses):\n",
    "    #train_losses = [x.get('train_losses') for x in history]\n",
    "    #val_losses = [x['val_losses'] for x in history]\n",
    "    plt.plot(train_losses, '-bx')\n",
    "    plt.plot(val_losses, '-rx')\n",
    "    plt.xlabel('epoch')\n",
    "    plt.ylabel('loss')\n",
    "    plt.legend(['Training', 'Validation'])\n",
    "    plt.title('Loss vs. No. of epochs');"
   ]
  },
  {
   "cell_type": "code",
   "execution_count": null,
   "id": "a32e59d3",
   "metadata": {},
   "outputs": [
    {
     "data": {
      "image/png": "[encoded data removed]",
      "text/plain": [
       "<Figure size 432x288 with 1 Axes>"
      ]
     },
     "metadata": {
      "needs_background": "light"
     },
     "output_type": "display_data"
    }
   ],
   "source": [
    "plot_losses(train_losses, val_losses)"
   ]
  },
  {
   "cell_type": "code",
   "execution_count": 38,
   "id": "cc7b1c21",
   "metadata": {},
   "outputs": [
    {
     "ename": "NameError",
     "evalue": "name 'evaluate' is not defined",
     "output_type": "error",
     "traceback": [
      "\u001b[1;31m---------------------------------------------------------------------------\u001b[0m",
      "\u001b[1;31mNameError\u001b[0m                                 Traceback (most recent call last)",
      "\u001b[1;32mc:\\Users\\subir\\Documents\\GitHub\\ElasticFace\\training.ipynb Cell 61\u001b[0m in \u001b[0;36m<cell line: 1>\u001b[1;34m()\u001b[0m\n\u001b[1;32m----> <a href='vscode-notebook-cell:/c%3A/Users/subir/Documents/GitHub/ElasticFace/training.ipynb#Y114sZmlsZQ%3D%3D?line=0'>1</a>\u001b[0m result \u001b[39m=\u001b[39m evaluate(model, loss_Function, test_dl, accuracy)\n\u001b[0;32m      <a href='vscode-notebook-cell:/c%3A/Users/subir/Documents/GitHub/ElasticFace/training.ipynb#Y114sZmlsZQ%3D%3D?line=1'>2</a>\u001b[0m result\n",
      "\u001b[1;31mNameError\u001b[0m: name 'evaluate' is not defined"
     ]
    }
   ],
   "source": [
    "result = evaluate(model, loss_Function, test_dl, accuracy)\n",
    "result"
   ]
  },
  {
   "cell_type": "code",
   "execution_count": null,
   "id": "f2bfa917",
   "metadata": {},
   "outputs": [],
   "source": [
    "torch.save(model.state_dict(), 'el_date.pth')"
   ]
  },
  {
   "cell_type": "code",
   "execution_count": null,
   "id": "f59e0598",
   "metadata": {},
   "outputs": [],
   "source": [
    "def prepare_plot(image, origTarget, predTarget):\n",
    "    figure, ax = plt.subplots(nrows=1, ncols=3, figsize=(15, 15))\n",
    "    plt.grid(False)\n",
    "    \n",
    "    \n",
    "    ax[0].imshow(image[10])\n",
    "    ax[1].imshow(image[17])\n",
    "    ax[2].imshow(image[32])\n",
    "    \n",
    "    ax[0].set_title(\"Actual: \" + str(origTarget[10]) + \", Predicted: \" + str(predTarget[10]))\n",
    "    ax[1].set_title(\"Actual: \" + str(origTarget[17]) + \", Predicted: \" + str(predTarget[17]))\n",
    "    ax[2].set_title(\"Actual: \" + str(origTarget[32]) + \", Predicted: \" + str(predTarget[32]))\n",
    "    \n",
    "    #Turning the axis off\n",
    "    ax[0].axis('off')\n",
    "    ax[1].axis('off')\n",
    "    ax[2].axis('off')\n",
    "    \n",
    "    figure.tight_layout()\n",
    "    figure.show()"
   ]
  },
  {
   "cell_type": "code",
   "execution_count": null,
   "id": "3240faa3",
   "metadata": {},
   "outputs": [],
   "source": [
    "def make_predictions(model, dataLoader):\n",
    "    with torch.no_grad():\n",
    "        #set the model in evaluation mode\n",
    "        model.eval()\n",
    "        \n",
    "        for xb, yb in dataLoader:\n",
    "            pred = model(xb)\n",
    "            \n",
    "            softmax = F.softmax(pred, dim=1)\n",
    "            sum_check = torch.sum(softmax, dim=1)\n",
    "            #print(sum_check)\n",
    "            max_value = torch.max(softmax, dim=1)[1]\n",
    "            print(\"Predicted labels: \", max_value)\n",
    "            print(\"Actual labels: \", yb)\n",
    "            \n",
    "            matches = max_value == yb\n",
    "            print(matches)\n",
    "        \n",
    "#             print(pred.shape)\n",
    "#             print(pred[100].shape)\n",
    "#             print(torch.max(pred[100]))\n",
    "#             softmax = F.softmax(pred[100], dim=0)\n",
    "#             max_value = torch.max(softmax)\n",
    "#             print(max_value)\n",
    "#             print(\"Actual label: \", yb[100].item())\n",
    "#             index = torch.where(softmax == max_value)[0]\n",
    "#             print(\"Predicted label: \", index.item())\n",
    "\n",
    "    \n",
    "            xb = xb.cpu().numpy() #Convert the tensor input into a numpy object\n",
    "            #print(xb.shape)\n",
    "            xb = np.transpose(xb, (0, 2, 3, 1)) #Shifting the channel into the 3rd dimension       \n",
    "            #print(xb.shape)\n",
    "\n",
    "            yb = yb.cpu().numpy() #Convert the tensor input into a numpy object\n",
    "            #print(yb[0])\n",
    "\n",
    "            max_value = max_value.cpu().numpy() #Convert the tensor input into a numpy object\n",
    "            #print(max_value[0])\n",
    "\n",
    "            prepare_plot(xb, yb, max_value)\n",
    "            break"
   ]
  },
  {
   "cell_type": "code",
   "execution_count": null,
   "id": "4dbc4b92",
   "metadata": {},
   "outputs": [
    {
     "name": "stderr",
     "output_type": "stream",
     "text": [
      "Clipping input data to the valid range for imshow with RGB data ([0..1] for floats or [0..255] for integers).\n",
      "Clipping input data to the valid range for imshow with RGB data ([0..1] for floats or [0..255] for integers).\n",
      "Clipping input data to the valid range for imshow with RGB data ([0..1] for floats or [0..255] for integers).\n"
     ]
    },
    {
     "name": "stdout",
     "output_type": "stream",
     "text": [
      "Predicted labels:  tensor([73470, 58647, 58647, 58647, 58647, 73470, 58647, 73470, 58647, 58647,\n",
      "        73470, 73470, 58647, 73470, 73470, 58647, 73470, 73470, 73470, 73470,\n",
      "        58647, 58647, 73470, 58647, 73470, 73470, 73470, 58647, 58647, 58647,\n",
      "        58647, 73470, 58647, 73470, 58647, 58647, 73470, 58647, 58647, 73470,\n",
      "        58647, 58647, 73470, 58647, 73470, 58647, 58647, 73470, 73470, 58647,\n",
      "        58647, 58647, 73470, 73470, 58647, 73470, 58647, 73470],\n",
      "       device='cuda:0')\n",
      "Actual labels:  tensor([22530, 51475, 59902, 68436, 60265, 52058, 70847, 64709, 52053, 79550,\n",
      "        19971,  2081, 37189, 79904, 31167, 64113, 79236, 22888, 64487, 72160,\n",
      "        79204, 34849, 84336, 15621, 68143, 79279, 31868, 31243, 73654, 71472,\n",
      "        70961, 75379, 13566, 27542, 38756,  3792, 73810, 57512, 17299,  5758,\n",
      "         8947, 25799, 67718, 59958, 65447, 73725, 54530, 68493, 68398,  1109,\n",
      "        36858, 15925, 28472, 17781, 57467, 24535, 15642, 45567],\n",
      "       device='cuda:0')\n",
      "tensor([False, False, False, False, False, False, False, False, False, False,\n",
      "        False, False, False, False, False, False, False, False, False, False,\n",
      "        False, False, False, False, False, False, False, False, False, False,\n",
      "        False, False, False, False, False, False, False, False, False, False,\n",
      "        False, False, False, False, False, False, False, False, False, False,\n",
      "        False, False, False, False, False, False, False, False],\n",
      "       device='cuda:0')\n"
     ]
    },
    {
     "name": "stderr",
     "output_type": "stream",
     "text": [
      "/tmp/ipykernel_136202/1569925466.py:20: UserWarning: Matplotlib is currently using module://matplotlib_inline.backend_inline, which is a non-GUI backend, so cannot show the figure.\n",
      "  figure.show()\n"
     ]
    },
    {
     "data": {
      "image/png": "[encoded data removed]",
      "text/plain": [
       "<Figure size 1080x1080 with 3 Axes>"
      ]
     },
     "metadata": {
      "needs_background": "light"
     },
     "output_type": "display_data"
    }
   ],
   "source": [
    "make_predictions(model, test_dl)"
   ]
  },
  {
   "cell_type": "code",
   "execution_count": null,
   "id": "c28aa11c",
   "metadata": {},
   "outputs": [],
   "source": [
    "# Creating a new data frame\n",
    "newDataframe = pd.DataFrame()\n",
    "\n",
    "newDataframe['Train Loss'] = train_losses\n",
    "newDataframe['Val Loss'] = val_losses\n",
    "newDataframe['Val Acc.'] = val_metrics\n",
    "\n",
    "# Converting the data frame to an excel file\n",
    "newDataframe.to_excel('model_outputs.xlsx', index = False)\n",
    "\n",
    "# Reading the data from the outputExcelFile\n",
    "excelData = pd.read_excel('model_outputs.xlsx')\n",
    "\n",
    "#Printing the data frame\n",
    "print(excelData)"
   ]
  },
  {
   "cell_type": "code",
   "execution_count": null,
   "id": "cae31a79",
   "metadata": {},
   "outputs": [],
   "source": []
  },
  {
   "cell_type": "markdown",
   "id": "21e6ac9b",
   "metadata": {},
   "source": [
    "## Dummy code"
   ]
  },
  {
   "cell_type": "code",
   "execution_count": null,
   "id": "78cc6071",
   "metadata": {},
   "outputs": [],
   "source": [
    "stop"
   ]
  },
  {
   "cell_type": "markdown",
   "id": "3df20238",
   "metadata": {},
   "source": [
    "#### Loss Function checking"
   ]
  },
  {
   "cell_type": "code",
   "execution_count": null,
   "id": "b8b172c3",
   "metadata": {},
   "outputs": [],
   "source": [
    "k = nn.Parameter(torch.FloatTensor(3, 5))\n",
    "k"
   ]
  },
  {
   "cell_type": "code",
   "execution_count": null,
   "id": "02b1fec9",
   "metadata": {},
   "outputs": [],
   "source": []
  },
  {
   "cell_type": "code",
   "execution_count": null,
   "id": "3fc9ee2b",
   "metadata": {},
   "outputs": [],
   "source": [
    "a = torch.Tensor([[1, 2, 3], [3, -4, -2]])\n",
    "b = torch.Tensor([[1, 2, 3, 4], [3, 4, 1, 0], [5, 6, 1, 1]])"
   ]
  },
  {
   "cell_type": "code",
   "execution_count": null,
   "id": "17b9183d",
   "metadata": {},
   "outputs": [],
   "source": [
    "a.shape, b.shape"
   ]
  },
  {
   "cell_type": "code",
   "execution_count": null,
   "id": "ef5eb4bc",
   "metadata": {},
   "outputs": [],
   "source": [
    "#a = torch.FloatTensor([2, 3])\n",
    "#a.dtype"
   ]
  },
  {
   "cell_type": "code",
   "execution_count": null,
   "id": "3cefc92d",
   "metadata": {},
   "outputs": [],
   "source": []
  },
  {
   "cell_type": "code",
   "execution_count": null,
   "id": "6a2b0c57",
   "metadata": {},
   "outputs": [],
   "source": [
    "c = torch.mm(a, b)\n",
    "c.shape"
   ]
  },
  {
   "cell_type": "code",
   "execution_count": null,
   "id": "25c390f9",
   "metadata": {},
   "outputs": [],
   "source": [
    "c"
   ]
  },
  {
   "cell_type": "code",
   "execution_count": null,
   "id": "c711eb17",
   "metadata": {},
   "outputs": [],
   "source": [
    "c.size()"
   ]
  },
  {
   "cell_type": "code",
   "execution_count": null,
   "id": "9c3dfcb3",
   "metadata": {},
   "outputs": [],
   "source": [
    "e = c.clamp(-1, 1)"
   ]
  },
  {
   "cell_type": "code",
   "execution_count": null,
   "id": "e859d2c3",
   "metadata": {
    "scrolled": true
   },
   "outputs": [],
   "source": [
    "e"
   ]
  },
  {
   "cell_type": "code",
   "execution_count": null,
   "id": "829af735",
   "metadata": {
    "scrolled": true
   },
   "outputs": [],
   "source": [
    "dirty = e > 0\n",
    "dirty"
   ]
  },
  {
   "cell_type": "code",
   "execution_count": null,
   "id": "20002639",
   "metadata": {},
   "outputs": [],
   "source": [
    "dirty = dirty.float()\n",
    "dirty"
   ]
  },
  {
   "cell_type": "code",
   "execution_count": null,
   "id": "f07b0156",
   "metadata": {},
   "outputs": [],
   "source": []
  },
  {
   "cell_type": "code",
   "execution_count": null,
   "id": "17924308",
   "metadata": {},
   "outputs": [],
   "source": [
    "index = torch.where(c != -1)[0]\n",
    "index"
   ]
  },
  {
   "cell_type": "code",
   "execution_count": null,
   "id": "46f968b9",
   "metadata": {},
   "outputs": [],
   "source": [
    "index.size(0)"
   ]
  },
  {
   "cell_type": "code",
   "execution_count": null,
   "id": "6cf11fab",
   "metadata": {},
   "outputs": [],
   "source": [
    "index.size()[0]"
   ]
  },
  {
   "cell_type": "code",
   "execution_count": null,
   "id": "e039d2ae",
   "metadata": {},
   "outputs": [],
   "source": [
    "torch.zeros(index.size()[0], c.size()[1])"
   ]
  },
  {
   "cell_type": "code",
   "execution_count": null,
   "id": "5ff71b94",
   "metadata": {},
   "outputs": [],
   "source": [
    "def abc(a: int, logits: torch.IntTensor):\n",
    "    print(a)\n",
    "    print(logits)"
   ]
  },
  {
   "cell_type": "code",
   "execution_count": null,
   "id": "5dea79ec",
   "metadata": {},
   "outputs": [],
   "source": [
    "abc(5.2, c)"
   ]
  },
  {
   "cell_type": "code",
   "execution_count": null,
   "id": "a8d6a0a8",
   "metadata": {},
   "outputs": [],
   "source": [
    "k = [[1, 2, 3], [2, 3, 1]]\n",
    "abc(5, k)"
   ]
  },
  {
   "cell_type": "code",
   "execution_count": null,
   "id": "f28dccd7",
   "metadata": {},
   "outputs": [],
   "source": [
    "k = [[1, 2, 3], [2, 3, 1]]\n",
    "abc(5.2, 4)"
   ]
  },
  {
   "cell_type": "code",
   "execution_count": null,
   "id": "6c68b6d8",
   "metadata": {},
   "outputs": [],
   "source": [
    "c.view(-1)"
   ]
  },
  {
   "cell_type": "code",
   "execution_count": null,
   "id": "79bdaa17",
   "metadata": {},
   "outputs": [],
   "source": [
    "#----"
   ]
  },
  {
   "cell_type": "code",
   "execution_count": null,
   "id": "085677c5",
   "metadata": {},
   "outputs": [],
   "source": [
    "logits = torch.Tensor([[1, 0, 0, 0], [0, 1, 1, 0], [0, 0, 0, 1], [0, 0, 0, 1], [1, 0, 0, 0]]) #torch.Tensor([10, 2, 3, 5])\n",
    "labels = torch.Tensor([[1, 0, 0, 0], [0, 1, 1, 0], [0, 1, 0, 1], [0, 0, 0, 1]])\n",
    "\n",
    "index = torch.where(labels != -1)[0]\n",
    "index"
   ]
  },
  {
   "cell_type": "code",
   "execution_count": null,
   "id": "524a5cbe",
   "metadata": {},
   "outputs": [],
   "source": [
    "print(logits.dtype)\n",
    "print(labels.dtype)\n",
    "print(index.dtype)"
   ]
  },
  {
   "cell_type": "code",
   "execution_count": null,
   "id": "49ee7a21",
   "metadata": {},
   "outputs": [],
   "source": [
    "labels[index]"
   ]
  },
  {
   "cell_type": "code",
   "execution_count": null,
   "id": "02f34801",
   "metadata": {},
   "outputs": [],
   "source": [
    "l = labels[index].view(-1)\n",
    "l"
   ]
  },
  {
   "cell_type": "code",
   "execution_count": null,
   "id": "7f8d5991",
   "metadata": {},
   "outputs": [],
   "source": [
    "l = l.int()\n",
    "l"
   ]
  },
  {
   "cell_type": "code",
   "execution_count": null,
   "id": "c7f62e52",
   "metadata": {},
   "outputs": [],
   "source": [
    "t = logits[index, index]"
   ]
  },
  {
   "cell_type": "code",
   "execution_count": null,
   "id": "eec76b10",
   "metadata": {},
   "outputs": [],
   "source": [
    "t"
   ]
  },
  {
   "cell_type": "code",
   "execution_count": null,
   "id": "d8485dee",
   "metadata": {},
   "outputs": [],
   "source": []
  },
  {
   "cell_type": "markdown",
   "id": "7142307f",
   "metadata": {},
   "source": [
    "##### Loss Function 1"
   ]
  },
  {
   "cell_type": "code",
   "execution_count": null,
   "id": "b84d298a",
   "metadata": {},
   "outputs": [],
   "source": [
    "class CosFace(torch.nn.Module):\n",
    "    def __init__(self, s=64.0, m=0.40):\n",
    "        super(CosFace, self).__init__()\n",
    "        self.s = s\n",
    "        self.m = m\n",
    "\n",
    "    def forward(self, logits, labels):\n",
    "        index = torch.where(labels != -1)[0]\n",
    "        target_logit = logits[index, labels[index].view(-1)]\n",
    "        final_target_logit = target_logit - self.m\n",
    "        logits[index, labels[index].view(-1)] = final_target_logit\n",
    "        logits = logits * self.s\n",
    "        return logits"
   ]
  },
  {
   "cell_type": "code",
   "execution_count": null,
   "id": "2121da39",
   "metadata": {},
   "outputs": [],
   "source": [
    "loss = CosFace()"
   ]
  },
  {
   "cell_type": "code",
   "execution_count": null,
   "id": "837dbb2c",
   "metadata": {},
   "outputs": [],
   "source": [
    "logits = torch.randn(3, 5)\n",
    "labels = torch.empty(3, dtype=torch.long).random_(5)"
   ]
  },
  {
   "cell_type": "code",
   "execution_count": null,
   "id": "95d96908",
   "metadata": {},
   "outputs": [],
   "source": [
    "logits.dtype, labels.dtype"
   ]
  },
  {
   "cell_type": "code",
   "execution_count": null,
   "id": "038781b3",
   "metadata": {},
   "outputs": [],
   "source": [
    "output = loss(logits, labels) #input: logits, target: labels"
   ]
  },
  {
   "cell_type": "code",
   "execution_count": null,
   "id": "46890979",
   "metadata": {},
   "outputs": [],
   "source": [
    "print(logits.shape, labels.shape, output.shape)"
   ]
  },
  {
   "cell_type": "code",
   "execution_count": null,
   "id": "e644f812",
   "metadata": {},
   "outputs": [],
   "source": [
    "print('input: ', logits, '\\n target: ', labels, '\\n output: ', output)"
   ]
  },
  {
   "cell_type": "code",
   "execution_count": null,
   "id": "a1f6cc50",
   "metadata": {},
   "outputs": [],
   "source": [
    "index = torch.where(labels != -1)[0]\n",
    "index"
   ]
  },
  {
   "cell_type": "code",
   "execution_count": null,
   "id": "8e2815a9",
   "metadata": {},
   "outputs": [],
   "source": [
    "labels[index].view(-1)"
   ]
  },
  {
   "cell_type": "code",
   "execution_count": null,
   "id": "a8561f4a",
   "metadata": {},
   "outputs": [],
   "source": [
    "target_logit = logits[index, labels[index].view(-1)]\n",
    "target_logit"
   ]
  },
  {
   "cell_type": "code",
   "execution_count": null,
   "id": "ebed13b1",
   "metadata": {},
   "outputs": [],
   "source": [
    "final_target_logit = target_logit - 1\n",
    "final_target_logit"
   ]
  },
  {
   "cell_type": "code",
   "execution_count": null,
   "id": "9024ffc9",
   "metadata": {},
   "outputs": [],
   "source": [
    "logits[index, labels[index].view(-1)] = final_target_logit\n",
    "logits"
   ]
  },
  {
   "cell_type": "code",
   "execution_count": null,
   "id": "b8329f7e",
   "metadata": {},
   "outputs": [],
   "source": [
    "logits = logits * 100\n",
    "logits"
   ]
  },
  {
   "cell_type": "code",
   "execution_count": null,
   "id": "d551695b",
   "metadata": {},
   "outputs": [],
   "source": []
  },
  {
   "cell_type": "markdown",
   "id": "4603decb",
   "metadata": {},
   "source": [
    "##### Loss Function 2"
   ]
  },
  {
   "cell_type": "code",
   "execution_count": null,
   "id": "17d4e52a",
   "metadata": {},
   "outputs": [],
   "source": [
    "class CosFace(nn.Module):\n",
    "    def __init__(self, in_features, out_features, s=64.0, m=0.35):\n",
    "        super(CosFace, self).__init__()\n",
    "        self.in_features = in_features\n",
    "        self.out_features = out_features\n",
    "        self.s = s\n",
    "        self.m = m\n",
    "        \n",
    "        self.kernel = nn.Parameter(torch.FloatTensor(in_features, out_features))\n",
    "        nn.init.normal_(self.kernel, std=0.01)\n",
    "\n",
    "    def forward(self, logits, labels):\n",
    "        #logits = l2_norm(logits, axis=1)\n",
    "        #kernel_norm = l2_norm(self.kernel, axis=0)\n",
    "        cos_theta = torch.mm(logits, kernel)#_norm)\n",
    "        cos_theta = cos_theta.clamp(-1, 1)  # for numerical stability\n",
    "        index = torch.where(labels != -1)[0]\n",
    "        m_hot = torch.zeros(index.size()[0], cos_theta.size()[1])\n",
    "        m_hot.scatter_(1, labels[index, None], self.m)\n",
    "        cos_theta[index] -= m_hot\n",
    "        ret = cos_theta * self.s\n",
    "        return ret"
   ]
  },
  {
   "cell_type": "code",
   "execution_count": null,
   "id": "aae99401",
   "metadata": {},
   "outputs": [],
   "source": []
  },
  {
   "cell_type": "code",
   "execution_count": null,
   "id": "bbdbc0ff",
   "metadata": {},
   "outputs": [],
   "source": [
    "torch.linalg.norm(logits, dim=1, ord = 2, keepdim=True)"
   ]
  },
  {
   "cell_type": "code",
   "execution_count": null,
   "id": "464c412d",
   "metadata": {},
   "outputs": [],
   "source": []
  },
  {
   "cell_type": "code",
   "execution_count": null,
   "id": "853fd90d",
   "metadata": {},
   "outputs": [],
   "source": [
    "logits = torch.randn(4, 5)\n",
    "labels = torch.empty(4, dtype=torch.long).random_(5)"
   ]
  },
  {
   "cell_type": "code",
   "execution_count": null,
   "id": "61cee282",
   "metadata": {},
   "outputs": [],
   "source": [
    "logits.dtype, labels.dtype"
   ]
  },
  {
   "cell_type": "code",
   "execution_count": null,
   "id": "6c37facf",
   "metadata": {},
   "outputs": [],
   "source": [
    "print(logits.shape, labels.shape)#, output.shape)"
   ]
  },
  {
   "cell_type": "code",
   "execution_count": null,
   "id": "df48fafe",
   "metadata": {},
   "outputs": [],
   "source": [
    "print('logits: ', logits, '\\n labels: ', labels)#, '\\n output: ', output)"
   ]
  },
  {
   "cell_type": "code",
   "execution_count": null,
   "id": "b0e54b81",
   "metadata": {},
   "outputs": [],
   "source": [
    "in_features = 5\n",
    "out_features = 5\n",
    "s = 10\n",
    "m = 5\n",
    "        \n",
    "kernel = nn.Parameter(torch.FloatTensor(in_features, out_features))"
   ]
  },
  {
   "cell_type": "code",
   "execution_count": null,
   "id": "70794950",
   "metadata": {},
   "outputs": [],
   "source": [
    "kernel.shape"
   ]
  },
  {
   "cell_type": "code",
   "execution_count": null,
   "id": "b615864a",
   "metadata": {},
   "outputs": [],
   "source": [
    "cos_theta = torch.mm(logits, kernel)\n",
    "cos_theta, cos_theta.shape"
   ]
  },
  {
   "cell_type": "code",
   "execution_count": null,
   "id": "dbf4c550",
   "metadata": {},
   "outputs": [],
   "source": [
    "cos_theta = cos_theta.clamp(-1, 1)  # for numerical stability\n",
    "cos_theta, cos_theta.shape"
   ]
  },
  {
   "cell_type": "code",
   "execution_count": null,
   "id": "b3202973",
   "metadata": {},
   "outputs": [],
   "source": [
    "index = torch.where(labels != -1)[0]\n",
    "index, index.shape"
   ]
  },
  {
   "cell_type": "code",
   "execution_count": null,
   "id": "bbd65cf2",
   "metadata": {},
   "outputs": [],
   "source": [
    "index.shape[0], cos_theta.size()[1]"
   ]
  },
  {
   "cell_type": "code",
   "execution_count": null,
   "id": "2552f486",
   "metadata": {},
   "outputs": [],
   "source": [
    "m_hot = torch.zeros(index.size()[0], cos_theta.size()[1])\n",
    "m_hot.shape, m_hot"
   ]
  },
  {
   "cell_type": "code",
   "execution_count": null,
   "id": "cb8c2c8c",
   "metadata": {},
   "outputs": [],
   "source": [
    "labels[index, None]"
   ]
  },
  {
   "cell_type": "code",
   "execution_count": null,
   "id": "fb77707c",
   "metadata": {},
   "outputs": [],
   "source": [
    "m_hot.scatter_(1, labels[index, None], m)"
   ]
  },
  {
   "cell_type": "code",
   "execution_count": null,
   "id": "ae4c0922",
   "metadata": {},
   "outputs": [],
   "source": [
    "cos_theta[index] -= m_hot\n",
    "cos_theta"
   ]
  },
  {
   "cell_type": "code",
   "execution_count": null,
   "id": "f1c2a3d3",
   "metadata": {},
   "outputs": [],
   "source": [
    "ret = cos_theta * s\n",
    "ret"
   ]
  },
  {
   "cell_type": "code",
   "execution_count": null,
   "id": "cfe4b22e",
   "metadata": {},
   "outputs": [],
   "source": [
    "loss = CosFace(5, 5)"
   ]
  },
  {
   "cell_type": "code",
   "execution_count": null,
   "id": "a0ceab16",
   "metadata": {
    "scrolled": true
   },
   "outputs": [],
   "source": [
    "output = loss(logits, labels) #input: logits, target: labels\n",
    "output.shape, output"
   ]
  },
  {
   "cell_type": "markdown",
   "id": "31095289",
   "metadata": {},
   "source": [
    "#### Dataset preprocessing checking"
   ]
  },
  {
   "cell_type": "markdown",
   "id": "f909448e",
   "metadata": {},
   "source": [
    "##### For Windows system"
   ]
  },
  {
   "cell_type": "code",
   "execution_count": null,
   "id": "c0769542",
   "metadata": {},
   "outputs": [],
   "source": [
    "# path_imgidx = 'D:/Face/faces_emore/train.idx'\n",
    "# path_imgrec = 'D:/Face/faces_emore/train.rec'\n",
    "# imgrec = recordio.MXIndexedRecordIO(path_imgidx, path_imgrec, 'r')\n",
    "\n",
    "# len(imgrec.keys)"
   ]
  },
  {
   "cell_type": "markdown",
   "id": "7a2b7396",
   "metadata": {},
   "source": [
    "##### For Ubuntu system"
   ]
  },
  {
   "cell_type": "code",
   "execution_count": null,
   "id": "1b5bab4a",
   "metadata": {},
   "outputs": [],
   "source": [
    "path_imgidx = 'faces_emore/train.idx'\n",
    "path_imgrec = 'faces_emore/train.rec'\n",
    "imgrec = recordio.MXIndexedRecordIO(path_imgidx, path_imgrec, 'r')\n",
    "\n",
    "len(imgrec.keys)"
   ]
  },
  {
   "cell_type": "code",
   "execution_count": null,
   "id": "295fec2d",
   "metadata": {},
   "outputs": [],
   "source": [
    "imgrec.keys"
   ]
  },
  {
   "cell_type": "code",
   "execution_count": null,
   "id": "6a03c0ef",
   "metadata": {},
   "outputs": [],
   "source": [
    "list(imgrec.keys)"
   ]
  },
  {
   "cell_type": "code",
   "execution_count": null,
   "id": "c3f4bd81",
   "metadata": {},
   "outputs": [],
   "source": [
    "np.array(list(imgrec.keys))"
   ]
  },
  {
   "cell_type": "code",
   "execution_count": null,
   "id": "844bcdb8",
   "metadata": {},
   "outputs": [],
   "source": [
    "len(np.array(list(imgrec.keys)))"
   ]
  },
  {
   "cell_type": "code",
   "execution_count": null,
   "id": "7a2b3731",
   "metadata": {},
   "outputs": [],
   "source": []
  },
  {
   "cell_type": "code",
   "execution_count": null,
   "id": "663aabf2",
   "metadata": {},
   "outputs": [],
   "source": [
    "img_list = []\n",
    "\n",
    "#%% 1 ~ 5908396, or 0~5908395, #85742 identities\n",
    "\n",
    "for i in range(5908395):\n",
    "    header, s = recordio.unpack(imgrec.read_idx(i+1))\n",
    "#     img = mx.image.imdecode(s).asnumpy() \n",
    "#     plt.imshow(img)\n",
    "#     print(img.shape)\n",
    "#     plt.title('id=' + str(i) + ', label=' + str(header.label))\n",
    "#     plt.pause(0.1)\n",
    "    img_list.append(header.label)"
   ]
  },
  {
   "cell_type": "code",
   "execution_count": null,
   "id": "013281e1",
   "metadata": {},
   "outputs": [],
   "source": [
    "len(img_list)"
   ]
  },
  {
   "cell_type": "code",
   "execution_count": null,
   "id": "6cebbf96",
   "metadata": {},
   "outputs": [],
   "source": [
    "# img_list = np.array(img_list)\n",
    "# print(np.unique(img_list))"
   ]
  },
  {
   "cell_type": "code",
   "execution_count": null,
   "id": "1145d4b3",
   "metadata": {},
   "outputs": [],
   "source": [
    "_img_list = img_list[0:5822653]\n",
    "__img_list = np.array(_img_list)\n",
    "print(len(__img_list))\n",
    "print(len(np.unique(__img_list)))"
   ]
  },
  {
   "cell_type": "code",
   "execution_count": null,
   "id": "56802073",
   "metadata": {},
   "outputs": [],
   "source": [
    "# res_list = []\n",
    "\n",
    "# for item in _img_list:\n",
    "#     if item not in res_list:\n",
    "#         res_list.append(item)\n",
    "\n",
    "# print(\"Unique elements of the list using append():\")\n",
    "# print(len(res_list))\n",
    "\n",
    "# #for item in res_list: \n",
    "# #    print(item)"
   ]
  },
  {
   "cell_type": "code",
   "execution_count": null,
   "id": "6d6a95ad",
   "metadata": {},
   "outputs": [],
   "source": [
    "5908395 - 5822653"
   ]
  },
  {
   "cell_type": "code",
   "execution_count": null,
   "id": "54f2ce02",
   "metadata": {},
   "outputs": [],
   "source": [
    "img_list[5822653]"
   ]
  },
  {
   "cell_type": "code",
   "execution_count": null,
   "id": "14576980",
   "metadata": {
    "scrolled": true
   },
   "outputs": [],
   "source": [
    "img_list[5822654]"
   ]
  },
  {
   "cell_type": "code",
   "execution_count": null,
   "id": "a0575b4a",
   "metadata": {},
   "outputs": [],
   "source": [
    "idx1 = 1000 #5908395\n",
    "header1, s1 = recordio.unpack(imgrec.read_idx(idx1))\n",
    "\n",
    "img1 = mx.image.imdecode(s1).asnumpy()\n",
    "plt.imshow(img1)\n",
    "plt.title('id=' + str(idx1) + ', label=' + str(header1.label))"
   ]
  },
  {
   "cell_type": "code",
   "execution_count": null,
   "id": "e6b9479b",
   "metadata": {},
   "outputs": [],
   "source": [
    "idx = 5822656\n",
    "header, s = recordio.unpack(imgrec.read_idx(idx))\n",
    "\n",
    "#img = mx.image.imdecode(s).asnumpy()\n",
    "#plt.imshow(img)\n",
    "plt.title('id=' + str(idx) + ', label=' + str(header.label))"
   ]
  },
  {
   "cell_type": "code",
   "execution_count": null,
   "id": "0ed74576",
   "metadata": {},
   "outputs": [],
   "source": [
    "header.flag"
   ]
  },
  {
   "cell_type": "code",
   "execution_count": null,
   "id": "659565a6",
   "metadata": {},
   "outputs": [],
   "source": [
    "header.label"
   ]
  },
  {
   "cell_type": "code",
   "execution_count": null,
   "id": "c23e24f8",
   "metadata": {},
   "outputs": [],
   "source": [
    "header0 = (int(header.label[0]), int(header.label[1]))\n",
    "header0"
   ]
  },
  {
   "cell_type": "code",
   "execution_count": null,
   "id": "3efe578b",
   "metadata": {},
   "outputs": [],
   "source": [
    "np.array(range(1, int(header.label[0])))"
   ]
  },
  {
   "cell_type": "code",
   "execution_count": null,
   "id": "d2272d32",
   "metadata": {},
   "outputs": [],
   "source": [
    "len(np.array(range(1, int(header.label[0]))))"
   ]
  },
  {
   "cell_type": "code",
   "execution_count": null,
   "id": "55ca21f8",
   "metadata": {},
   "outputs": [],
   "source": [
    "len(np.array(range(1, int(header.label[1]))))"
   ]
  },
  {
   "cell_type": "code",
   "execution_count": null,
   "id": "ae8314e1",
   "metadata": {},
   "outputs": [],
   "source": []
  },
  {
   "cell_type": "code",
   "execution_count": null,
   "id": "7ca1a0ba",
   "metadata": {},
   "outputs": [],
   "source": [
    "class Sub:\n",
    "    def __init__(self, name):\n",
    "        super(Sub, self).__init__() #Another way to fix  this\n",
    "        self.name=name\n",
    "        \n",
    "\n",
    "a = Sub(\"Harry\")\n",
    "a.name"
   ]
  },
  {
   "cell_type": "code",
   "execution_count": null,
   "id": "866e6ac6",
   "metadata": {},
   "outputs": [],
   "source": [
    "isinstance([1, 2], numbers.Number)"
   ]
  },
  {
   "cell_type": "code",
   "execution_count": null,
   "id": "b79e26e0",
   "metadata": {},
   "outputs": [],
   "source": [
    "a = torch.tensor(65.5, dtype=torch.long)\n",
    "a"
   ]
  },
  {
   "cell_type": "code",
   "execution_count": null,
   "id": "3ddf21d1",
   "metadata": {},
   "outputs": [],
   "source": []
  },
  {
   "cell_type": "markdown",
   "id": "325a7bd6",
   "metadata": {},
   "source": [
    "#### Training checking"
   ]
  },
  {
   "cell_type": "code",
   "execution_count": null,
   "id": "aa89be6f",
   "metadata": {},
   "outputs": [],
   "source": [
    "temp = torch.zeros(85742)\n",
    "#temp[idx] = 1\n",
    "#temp"
   ]
  },
  {
   "cell_type": "code",
   "execution_count": null,
   "id": "6863cdef",
   "metadata": {},
   "outputs": [],
   "source": [
    "temp_labels = torch.Tensor([5, 5, 1, 0]) #batchsize=4\n",
    "print(temp_labels)\n",
    "print(temp_labels[0])\n",
    "\n",
    "temp = torch.zeros(4, 6) #no.of classes=6 : [0-5]\n",
    "#temp[int(temp_labels[0])] = 1\n",
    "print(temp.shape)"
   ]
  },
  {
   "cell_type": "code",
   "execution_count": null,
   "id": "5102e2b8",
   "metadata": {},
   "outputs": [],
   "source": [
    "c = 0\n",
    "for i in temp_labels:\n",
    "    #print(i)\n",
    "    #print(c)\n",
    "    temp[c][int(i)] = 1\n",
    "    c+=1"
   ]
  },
  {
   "cell_type": "code",
   "execution_count": null,
   "id": "6f75a4c1",
   "metadata": {},
   "outputs": [],
   "source": [
    "temp"
   ]
  },
  {
   "cell_type": "code",
   "execution_count": null,
   "id": "3b222c28",
   "metadata": {},
   "outputs": [],
   "source": []
  },
  {
   "cell_type": "code",
   "execution_count": null,
   "id": "52fa5b1e",
   "metadata": {},
   "outputs": [
    {
     "data": {
      "text/plain": [
       "(torch.Size([3]),\n",
       " torch.Size([2, 3]),\n",
       " tensor([[1., 0., 2.],\n",
       "         [1., 1., 2.]], device='cuda:0'))"
      ]
     },
     "execution_count": 84,
     "metadata": {},
     "output_type": "execute_result"
    }
   ],
   "source": [
    "a = torch.Tensor([[1, 0, 2], [1, 1, 2]]).to('cuda') #torch.ones(4)\n",
    "a[0].shape, a.shape, a"
   ]
  },
  {
   "cell_type": "code",
   "execution_count": null,
   "id": "2e69e04f",
   "metadata": {},
   "outputs": [
    {
     "data": {
      "text/plain": [
       "False"
      ]
     },
     "execution_count": 89,
     "metadata": {},
     "output_type": "execute_result"
    }
   ],
   "source": [
    "b.is_cpu"
   ]
  },
  {
   "cell_type": "code",
   "execution_count": null,
   "id": "59700f6a",
   "metadata": {},
   "outputs": [
    {
     "data": {
      "text/plain": [
       "tensor(7., device='cuda:0')"
      ]
     },
     "execution_count": 87,
     "metadata": {},
     "output_type": "execute_result"
    }
   ],
   "source": [
    "b = torch.sum(a)\n",
    "b"
   ]
  },
  {
   "cell_type": "code",
   "execution_count": null,
   "id": "1d4b3db4",
   "metadata": {},
   "outputs": [],
   "source": [
    "c = F.softmax(a, dim=0)\n",
    "c"
   ]
  },
  {
   "cell_type": "code",
   "execution_count": null,
   "id": "caa52f0a",
   "metadata": {},
   "outputs": [],
   "source": [
    "# d = F.softmax(d, dim=0)\n",
    "# d"
   ]
  },
  {
   "cell_type": "code",
   "execution_count": null,
   "id": "e8f6fb96",
   "metadata": {},
   "outputs": [],
   "source": [
    "torch.sum(c, dim=0)"
   ]
  },
  {
   "cell_type": "code",
   "execution_count": null,
   "id": "a46ab0bf",
   "metadata": {},
   "outputs": [],
   "source": []
  },
  {
   "cell_type": "code",
   "execution_count": null,
   "id": "d60a5095",
   "metadata": {},
   "outputs": [],
   "source": [
    "actual_labels = torch.zeros(256, 85742)\n",
    "\n",
    "c = 0\n",
    "for i in labels:\n",
    "    actual_labels[c][int(i)] = 1\n",
    "    c+=1"
   ]
  },
  {
   "cell_type": "code",
   "execution_count": null,
   "id": "30356624",
   "metadata": {},
   "outputs": [],
   "source": [
    "actual_labels.shape"
   ]
  },
  {
   "cell_type": "code",
   "execution_count": null,
   "id": "d448697e",
   "metadata": {},
   "outputs": [],
   "source": [
    "actual_labels[5][4966]"
   ]
  },
  {
   "cell_type": "code",
   "execution_count": null,
   "id": "a8e5d0f6",
   "metadata": {},
   "outputs": [],
   "source": [
    "actual_labels[5]"
   ]
  },
  {
   "cell_type": "code",
   "execution_count": null,
   "id": "83717dee",
   "metadata": {},
   "outputs": [],
   "source": [
    "temp_loss_func = F.cross_entropy #F.binary_cross_entropy #nn.CrossEntropyLoss()"
   ]
  },
  {
   "cell_type": "markdown",
   "id": "db8a87a2",
   "metadata": {},
   "source": [
    "#### Check by using various loss functions of the library"
   ]
  },
  {
   "cell_type": "code",
   "execution_count": null,
   "id": "b0545a6b",
   "metadata": {},
   "outputs": [],
   "source": [
    "# for xb, yb in val_dl:\n",
    "#     print(xb.shape, yb.shape)\n",
    "#     temp_preds = model(xb)\n",
    "#     print(temp_preds.shape)\n",
    "#     temp_loss = temp_loss_func(temp_preds, yb)\n",
    "#     print(temp_loss)\n",
    "#     break"
   ]
  },
  {
   "cell_type": "code",
   "execution_count": null,
   "id": "4696d808",
   "metadata": {},
   "outputs": [],
   "source": [
    "# a = torch.Tensor([-0.8, 0.1, -0.1]) #torch.zeros(256, 85742) #\n",
    "# b = torch.Tensor([2]) #torch.zeros(256) #\n",
    "\n",
    "# c = temp_loss_func(a, b)\n",
    "# c"
   ]
  },
  {
   "cell_type": "code",
   "execution_count": null,
   "id": "fceb865c",
   "metadata": {},
   "outputs": [],
   "source": [
    "print(a.shape, b.shape)"
   ]
  },
  {
   "cell_type": "code",
   "execution_count": null,
   "id": "3a264bdb",
   "metadata": {},
   "outputs": [],
   "source": [
    "loss = F.cross_entropy\n",
    "input = torch.randn(3, 5)\n",
    "target = torch.empty(3, dtype=torch.long).random_(2)\n",
    "output = loss(input, target)"
   ]
  },
  {
   "cell_type": "code",
   "execution_count": null,
   "id": "3ca7d646",
   "metadata": {},
   "outputs": [],
   "source": [
    "input.shape, target.shape, output.shape"
   ]
  },
  {
   "cell_type": "code",
   "execution_count": null,
   "id": "88e8ceec",
   "metadata": {},
   "outputs": [],
   "source": [
    "input, target, output"
   ]
  },
  {
   "cell_type": "markdown",
   "id": "31fb1623",
   "metadata": {},
   "source": [
    "#### Training Accuracy checking"
   ]
  },
  {
   "cell_type": "code",
   "execution_count": null,
   "id": "a3e7be70",
   "metadata": {},
   "outputs": [],
   "source": [
    "a = torch.Tensor([[1, 2, 33, -4, -2, 1], [5, 55, 1, -4, 0, 56]])\n",
    "b = torch.Tensor([2, 5])\n",
    "\n",
    "c = accuracy(a, b)\n",
    "print(c)"
   ]
  },
  {
   "cell_type": "code",
   "execution_count": null,
   "id": "fa07f836",
   "metadata": {},
   "outputs": [],
   "source": [
    "_, preds = torch.max(a, dim=1)\n",
    "preds"
   ]
  },
  {
   "cell_type": "code",
   "execution_count": null,
   "id": "6ce61e1b",
   "metadata": {},
   "outputs": [],
   "source": [
    "d = torch.sum(preds == b)\n",
    "d.item()"
   ]
  },
  {
   "cell_type": "code",
   "execution_count": null,
   "id": "ac9444cf",
   "metadata": {},
   "outputs": [],
   "source": []
  }
 ],
 "metadata": {
  "kernelspec": {
   "display_name": "Python 3.9.12 ('base')",
   "language": "python",
   "name": "python3"
  },
  "language_info": {
   "codemirror_mode": {
    "name": "ipython",
    "version": 3
   },
   "file_extension": ".py",
   "mimetype": "text/x-python",
   "name": "python",
   "nbconvert_exporter": "python",
   "pygments_lexer": "ipython3",
   "version": "3.9.12"
  },
  "vscode": {
   "interpreter": {
    "hash": "30e3098e232922ef8af6bcedc394d6daeb7d6c4c3c2a21ed9c9ad4ca5d735aae"
   }
  }
 },
 "nbformat": 4,
 "nbformat_minor": 5
}
